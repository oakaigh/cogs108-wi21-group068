{
  "nbformat": 4,
  "nbformat_minor": 0,
  "metadata": {
    "kernelspec": {
      "display_name": "Python 3",
      "language": "python",
      "name": "python3"
    },
    "language_info": {
      "codemirror_mode": {
        "name": "ipython",
        "version": 3
      },
      "file_extension": ".py",
      "mimetype": "text/x-python",
      "name": "python",
      "nbconvert_exporter": "python",
      "pygments_lexer": "ipython3",
      "version": "3.7.9"
    },
    "colab": {
      "name": "DataCheckpoint_group068.ipynb",
      "provenance": [],
      "toc_visible": true
    }
  },
  "cells": [
    {
      "cell_type": "markdown",
      "metadata": {
        "id": "z-611lQ2qBwg"
      },
      "source": [
        "# COGS 108 - Data Checkpoint"
      ]
    },
    {
      "cell_type": "markdown",
      "metadata": {
        "id": "MVSdElPMqBw6"
      },
      "source": [
        "# Names\n",
        "\n",
        "- Jared (Ruotian) Chen\n",
        "- Jimin Cheon\n",
        "- Kane Gu\n",
        "- Laurence D'Ercole\n",
        "- Nisha Davankar"
      ]
    },
    {
      "cell_type": "markdown",
      "metadata": {
        "id": "DoW5I0HSqBw7"
      },
      "source": [
        "<a id='research_question'></a>\n",
        "# Research Question"
      ]
    },
    {
      "cell_type": "markdown",
      "metadata": {
        "id": "Rb0_0MFJqBw7"
      },
      "source": [
        "## TODO!!!! Social media\n",
        "What attributes of a YouTube video affect its popularity/shareability(likes and/or shares)?"
      ]
    },
    {
      "cell_type": "markdown",
      "metadata": {
        "id": "UZxN8oaVqBw8"
      },
      "source": [
        "# Dataset(s)"
      ]
    },
    {
      "cell_type": "markdown",
      "metadata": {
        "id": "hDKXNIfFqBw8"
      },
      "source": [
        "*Fill in your dataset information here*\n",
        "\n",
        "(Copy this information for each dataset)\n",
        "- Dataset Name:\n",
        "- Link to the dataset:\n",
        "- Number of observations:\n",
        "\n",
        "1-2 sentences describing each dataset. \n",
        "\n",
        "If you plan to use multiple datasets, add 1-2 sentences about how you plan to combine these datasets."
      ]
    },
    {
      "cell_type": "markdown",
      "metadata": {
        "id": "aLsFJWPUqBw8"
      },
      "source": [
        "# Setup"
      ]
    },
    {
      "cell_type": "code",
      "metadata": {
        "id": "9fGdFLL3qBw8"
      },
      "source": [
        "## YOUR CODE HERE"
      ],
      "execution_count": null,
      "outputs": []
    },
    {
      "cell_type": "markdown",
      "metadata": {
        "id": "4UdxEJ3CqBw9"
      },
      "source": [
        "# Data Cleaning"
      ]
    },
    {
      "cell_type": "markdown",
      "metadata": {
        "id": "6OHVwE-5qBw9"
      },
      "source": [
        "Describe your data cleaning steps here."
      ]
    },
    {
      "cell_type": "code",
      "metadata": {
        "id": "V6ydWnw7qBw9"
      },
      "source": [
        "## YOUR CODE HERE\n",
        "## FEEL FREE TO ADD MULTIPLE CELLS PER SECTION"
      ],
      "execution_count": null,
      "outputs": []
    },
    {
      "cell_type": "markdown",
      "metadata": {
        "id": "Nug_B1HVqBw-"
      },
      "source": [
        "# Project Proposal (updated)"
      ]
    },
    {
      "cell_type": "markdown",
      "metadata": {
        "id": "_15kwwyHqBw-"
      },
      "source": [
        "| Meeting Date | Meeting Time    | Completed Before Meeting                | Discuss at Meeting                            |\n",
        "|--------------|-----------------|-----------------------------------------|-----------------------------------------------|\n",
        "| 2/2          | 6:00 PM         | Project Proposal done                   | Roles, data wrangling                         |\n",
        "| 2/9          | 6:00 PM         | Review feedback, Part of data wrangling | EDA ideas                                     |\n",
        "| 2/16         | 6:00 PM         | Data wrangling and Partial EDA          | Discuss analysis and EDA                      |\n",
        "| 3/2          | 6:00 PM         | Outline of Analysis and EDA             | Continue Analysis                             |\n",
        "| 3/9          | 6:00 PM         | Finish Analysis                         | Ethics, Meeting with TA                       |\n",
        "| 3/16         | 6:00 PM         | Draft done                              | Final review                                  |\n",
        "| 3/19         | Before 11:59 PM | N/A                                     | Turn in Final Project & Group Project Surveys |"
      ]
    }
  ]
}