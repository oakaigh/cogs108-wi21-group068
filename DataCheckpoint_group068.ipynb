{
  "nbformat": 4,
  "nbformat_minor": 0,
  "metadata": {
    "kernelspec": {
      "display_name": "Python 3",
      "language": "python",
      "name": "python3"
    },
    "language_info": {
      "codemirror_mode": {
        "name": "ipython",
        "version": 3
      },
      "file_extension": ".py",
      "mimetype": "text/x-python",
      "name": "python",
      "nbconvert_exporter": "python",
      "pygments_lexer": "ipython3",
      "version": "3.6.8-final"
    },
    "colab": {
      "name": "DataCheckpoint_group068.ipynb",
      "provenance": [],
      "toc_visible": true
    }
  },
  "cells": [
    {
      "cell_type": "markdown",
      "metadata": {
        "id": "z-611lQ2qBwg"
      },
      "source": [
        "# COGS 108 - Data Checkpoint"
      ]
    },
    {
      "cell_type": "markdown",
      "metadata": {
        "id": "MVSdElPMqBw6"
      },
      "source": [
        "# Names\n",
        "\n",
        "- Jared (Ruotian) Chen\n",
        "- Jimin Cheon\n",
        "- Kane Gu\n",
        "- Laurence D'Ercole\n",
        "- Nisha Davankar"
      ]
    },
    {
      "cell_type": "markdown",
      "metadata": {
        "id": "DoW5I0HSqBw7"
      },
      "source": [
        "<a id='research_question'></a>\n",
        "# Research Question"
      ]
    },
    {
      "cell_type": "markdown",
      "metadata": {
        "id": "Rb0_0MFJqBw7"
      },
      "source": [
        "## YouTube\n",
        "What attributes of a YouTube video affect its popularity/shareability (likes and/or shares)?"
      ]
    },
    {
      "cell_type": "markdown",
      "metadata": {
        "id": "UZxN8oaVqBw8"
      },
      "source": [
        "# Dataset(s)"
      ]
    },
    {
      "cell_type": "markdown",
      "metadata": {
        "id": "hDKXNIfFqBw8"
      },
      "source": [
        "## Dataset Information\n",
        "\n",
        "- Dataset #1\n",
        "    - Dataset Name: YouTube's [official data API](https://developers.google.com/youtube/v3) (video listing)\n",
        "    - Link to the dataset: https://developers.google.com/youtube/v3/docs/videos/list\n",
        "    - Number of observations: approx. `200 * 30 == 6000`\n",
        "\n",
        "- Dataset #2\n",
        "    - Dataset Name: YouTube's [official data API](https://developers.google.com/youtube/v3) (video searching)\n",
        "    - Link to the dataset: https://developers.google.com/youtube/v3/docs/search/list\n",
        "    - Number of observations: approx. `4000 * 30 == 120000` (subject to change)\n",
        "\n",
        "- Dataset #3\n",
        "    - Dataset Name: YouTube's internal video metadata API (specifically `window.ytInitialPlayerResponse`)\n",
        "    - Link to the dataset: https://www.youtube.com/watch?v=[YOUTUBE_VIDEO_ID]\n",
        "    - Number of observations: depending on the number of existing observations\n",
        "\n",
        "\n",
        "Dataset #1 to #2 are used for retrieving information on likes/views/shares, genre, duration, date/time posted, content creator (i.e. subscription count), number of hashtags (from poster); Dataset #3 is specifically used for getting the number of ads in a video.\n",
        "\n",
        "Duplicates in the datasets can be removed by using videos' unique IDs. Data cleaning and categorization happens in real time. Invalid or irrelevant entries, if any, will be immediately dropped. This design is intentional as we want the datasets to take as little space as possible (in memory and on disk)."
      ]
    },
    {
      "cell_type": "markdown",
      "metadata": {
        "id": "aLsFJWPUqBw8"
      },
      "source": [
        "# Setup"
      ]
    },
    {
      "source": [
        "See the `EDA/` folder of this repo for details."
      ],
      "cell_type": "markdown",
      "metadata": {
        "id": "9fGdFLL3qBw8"
      }
    },
    {
      "cell_type": "markdown",
      "metadata": {
        "id": "4UdxEJ3CqBw9"
      },
      "source": [
        "# Data Cleaning"
      ]
    },
    {
      "cell_type": "markdown",
      "metadata": {
        "id": "6OHVwE-5qBw9"
      },
      "source": [
        "Describe your data cleaning steps here."
      ]
    },
    {
      "source": [
        "Standard API responses typically require no data cleaning. Only basic encoding/decoding is required. See `EDA/{main,webapi,utils/decode}.py` for details. "
      ],
      "cell_type": "markdown",
      "metadata": {
        "id": "V6ydWnw7qBw9"
      }
    },
    {
      "cell_type": "markdown",
      "metadata": {
        "id": "Nug_B1HVqBw-"
      },
      "source": [
        "# Project Proposal (updated)"
      ]
    },
    {
      "cell_type": "markdown",
      "metadata": {
        "id": "_15kwwyHqBw-"
      },
      "source": [
        "| Meeting Date | Meeting Time    | Completed Before Meeting                | Discuss at Meeting                            |\n",
        "|--------------|-----------------|-----------------------------------------|-----------------------------------------------|\n",
        "| 2/2          | 6:00 PM         | Project Proposal done                   | Roles, data wrangling                         |\n",
        "| 2/9          | 6:00 PM         | Review feedback, Part of data wrangling | EDA ideas                                     |\n",
        "| 2/16         | 6:00 PM         | Data wrangling and Partial EDA          | Discuss analysis and EDA                      |\n",
        "| 3/2          | 6:00 PM         | Outline of Analysis and EDA             | Continue Analysis                             |\n",
        "| 3/9          | 6:00 PM         | Finish Analysis                         | Ethics, Meeting with TA                       |\n",
        "| 3/16         | 6:00 PM         | Draft done                              | Final review                                  |\n",
        "| 3/19         | Before 11:59 PM | N/A                                     | Turn in Final Project & Group Project Surveys |"
      ]
    }
  ]
}