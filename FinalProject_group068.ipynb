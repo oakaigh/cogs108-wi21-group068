{
 "cells": [
  {
   "cell_type": "markdown",
   "metadata": {},
   "source": [
    "# COGS 108 - Final Project (change this to your project's title)"
   ]
  },
  {
   "cell_type": "markdown",
   "metadata": {},
   "source": [
    "## Permissions\n",
    "\n",
    "Place an `X` in the appropriate bracket below to specify if you would like your group's project to be made available to the public. (Note that student names will be included (but PIDs will be scraped from any groups who include their PIDs).\n",
    "\n",
    "* [  ] YES - make available\n",
    "* [  ] NO - keep private"
   ]
  },
  {
   "cell_type": "markdown",
   "metadata": {},
   "source": [
    "# Overview"
   ]
  },
  {
   "cell_type": "markdown",
   "metadata": {},
   "source": [
    "*Fill in your overview here*"
   ]
  },
  {
   "cell_type": "markdown",
   "metadata": {},
   "source": [
    "# Names\n",
    "\n",
    "- Jared (Ruotian) Chen\n",
    "- Jimin Cheon\n",
    "- Kane Gu\n",
    "- Laurence D'Ercole\n",
    "- Nisha Davankar"
   ]
  },
  {
   "cell_type": "markdown",
   "metadata": {},
   "source": [
    "<a id='research_question'></a>\n",
    "# Research Question"
   ]
  },
  {
   "cell_type": "markdown",
   "metadata": {},
   "source": [
    "What attributes of a YouTube video affect its popularity in United States?"
   ]
  },
  {
   "cell_type": "markdown",
   "metadata": {},
   "source": [
    "<a id='background'></a>\n",
    "\n",
    "## Background & Prior Work"
   ]
  },
  {
   "cell_type": "markdown",
   "metadata": {},
   "source": [
    "*Fill in your background and prior work here* \n",
    "\n",
    "References (include links):\n",
    "- 1)\n",
    "- 2)"
   ]
  },
  {
   "cell_type": "markdown",
   "metadata": {},
   "source": [
    "# Hypothesis\n"
   ]
  },
  {
   "cell_type": "markdown",
   "metadata": {},
   "source": [
    "Factors that would potentially **affect** a video's popularity:\n",
    "- time created: `time`\n",
    "- duration: `length`\n",
    "- number of tags: `tags`\n",
    "- video category: `category`\n",
    "- video quality: `video.quality`\n",
    "- ad placement: `has_ad\thas_ad_at_beginning`\n",
    "- popularity of youtuber\n",
    "    - time youtuber joined youtube: `creator.time`\n",
    "    - number of followers: `creator.stats.follower`\n",
    "    - total number of views: `creator.stats.view`\n",
    "    - total number of videos: `creator.stats.post`\n",
    "\n",
    "Factors that **determine** a video's long-term popularity:\n",
    "- like/dislike ratio: `stats.like\tstats.dislike`\n",
    "- number of comments: `stats.comment`\n",
    "- number of views: `stats.view`"
   ]
  },
  {
   "cell_type": "markdown",
   "metadata": {},
   "source": [
    "# Dataset(s)"
   ]
  },
  {
   "cell_type": "markdown",
   "metadata": {},
   "source": [
    "*Fill in your dataset information here*\n",
    "\n",
    "(Copy this information for each dataset)\n",
    "- Dataset Name:\n",
    "- Link to the dataset:\n",
    "- Number of observations:\n",
    "\n",
    "1-2 sentences describing each dataset. \n",
    "\n",
    "If you plan to use multiple datasets, add 1-2 sentences about how you plan to combine these datasets."
   ]
  },
  {
   "cell_type": "markdown",
   "metadata": {},
   "source": [
    "# Setup"
   ]
  },
  {
   "cell_type": "code",
   "execution_count": 1,
   "metadata": {},
   "outputs": [
    {
     "name": "stdout",
     "output_type": "stream",
     "text": [
      "\u001b[33m  WARNING: The scripts f2py, f2py3 and f2py3.7 are installed in '/home/r8chen/.local/bin' which is not on PATH.\r\n",
      "  Consider adding this directory to PATH or, if you prefer to suppress this warning, use --no-warn-script-location.\u001b[0m\r\n"
     ]
    }
   ],
   "source": [
    "import sys\n",
    "\n",
    "!{sys.executable} -m pip install --quiet --user --upgrade pandas==1.* numpy matplotlib\n",
    "!{sys.executable} -m pip install --quiet --user --upgrade -r EDA/requirements.txt"
   ]
  },
  {
   "cell_type": "code",
   "execution_count": 2,
   "metadata": {},
   "outputs": [],
   "source": [
    "from EDA.goodies import *"
   ]
  },
  {
   "cell_type": "code",
   "execution_count": 3,
   "metadata": {},
   "outputs": [],
   "source": [
    "from EDA.dcollect import restful\n",
    "from EDA.dcollect import api_youtube as youtube\n",
    "from EDA.dcollect import api_youtubei as youtubei\n",
    "\n",
    "import pandas as pd\n",
    "import numpy as np\n",
    "import matplotlib.pyplot as plt"
   ]
  },
  {
   "cell_type": "markdown",
   "metadata": {},
   "source": [
    "# Data Cleaning"
   ]
  },
  {
   "cell_type": "markdown",
   "metadata": {},
   "source": [
    "Describe your data cleaning steps here."
   ]
  },
  {
   "cell_type": "code",
   "execution_count": 4,
   "metadata": {},
   "outputs": [],
   "source": [
    "dataset_id = ''"
   ]
  },
  {
   "cell_type": "code",
   "execution_count": 5,
   "metadata": {},
   "outputs": [
    {
     "data": {
      "text/markdown": [
       "---"
      ],
      "text/plain": [
       "<IPython.core.display.Markdown object>"
      ]
     },
     "metadata": {},
     "output_type": "display_data"
    },
    {
     "data": {
      "text/markdown": [
       "# Results - Search Results"
      ],
      "text/plain": [
       "<IPython.core.display.Markdown object>"
      ]
     },
     "metadata": {},
     "output_type": "display_data"
    },
    {
     "data": {
      "text/markdown": [
       "## Data Preview"
      ],
      "text/plain": [
       "<IPython.core.display.Markdown object>"
      ]
     },
     "metadata": {},
     "output_type": "display_data"
    },
    {
     "data": {
      "text/html": [
       "<div>\n",
       "<style scoped>\n",
       "    .dataframe tbody tr th:only-of-type {\n",
       "        vertical-align: middle;\n",
       "    }\n",
       "\n",
       "    .dataframe tbody tr th {\n",
       "        vertical-align: top;\n",
       "    }\n",
       "\n",
       "    .dataframe thead th {\n",
       "        text-align: right;\n",
       "    }\n",
       "</style>\n",
       "<table border=\"1\" class=\"dataframe\">\n",
       "  <thead>\n",
       "    <tr style=\"text-align: right;\">\n",
       "      <th></th>\n",
       "      <th></th>\n",
       "      <th>category</th>\n",
       "      <th>creator.description</th>\n",
       "      <th>creator.stats.follower</th>\n",
       "      <th>creator.stats.post</th>\n",
       "      <th>creator.stats.view</th>\n",
       "      <th>creator.time</th>\n",
       "      <th>creator.title</th>\n",
       "      <th>description</th>\n",
       "      <th>has_ad</th>\n",
       "      <th>has_ad_at_beginning</th>\n",
       "      <th>length</th>\n",
       "      <th>stats.comment</th>\n",
       "      <th>stats.dislike</th>\n",
       "      <th>stats.like</th>\n",
       "      <th>stats.view</th>\n",
       "      <th>tags</th>\n",
       "      <th>time</th>\n",
       "      <th>title</th>\n",
       "      <th>video.quality</th>\n",
       "    </tr>\n",
       "    <tr>\n",
       "      <th>id</th>\n",
       "      <th>creator.id</th>\n",
       "      <th></th>\n",
       "      <th></th>\n",
       "      <th></th>\n",
       "      <th></th>\n",
       "      <th></th>\n",
       "      <th></th>\n",
       "      <th></th>\n",
       "      <th></th>\n",
       "      <th></th>\n",
       "      <th></th>\n",
       "      <th></th>\n",
       "      <th></th>\n",
       "      <th></th>\n",
       "      <th></th>\n",
       "      <th></th>\n",
       "      <th></th>\n",
       "      <th></th>\n",
       "      <th></th>\n",
       "      <th></th>\n",
       "    </tr>\n",
       "  </thead>\n",
       "  <tbody>\n",
       "    <tr>\n",
       "      <th>WYdi1bL6s10</th>\n",
       "      <th>UC3XTzVzaHQEd30rQbuvCtTQ</th>\n",
       "      <td>Entertainment</td>\n",
       "      <td>Breaking news on a weekly basis. Sundays at 11...</td>\n",
       "      <td>8610000.0</td>\n",
       "      <td>334.0</td>\n",
       "      <td>2.873416e+09</td>\n",
       "      <td>2014-03-18 17:41:39+00:00</td>\n",
       "      <td>LastWeekTonight</td>\n",
       "      <td>John Oliver explains how raids became a favori...</td>\n",
       "      <td>False</td>\n",
       "      <td>False</td>\n",
       "      <td>0 days 00:25:55</td>\n",
       "      <td>18604.0</td>\n",
       "      <td>3620.0</td>\n",
       "      <td>154640.0</td>\n",
       "      <td>3213279.0</td>\n",
       "      <td>None</td>\n",
       "      <td>2021-03-01 07:45:00+00:00</td>\n",
       "      <td>Raids: Last Week Tonight with John Oliver (HBO)</td>\n",
       "      <td>HD</td>\n",
       "    </tr>\n",
       "    <tr>\n",
       "      <th>rZGurRM6s_o</th>\n",
       "      <th>UCpEhnqL0y41EpW2TvWAHD7Q</th>\n",
       "      <td>Entertainment</td>\n",
       "      <td>Sony Entertainment Television is a 24 hour Hin...</td>\n",
       "      <td>98100000.0</td>\n",
       "      <td>50945.0</td>\n",
       "      <td>8.073925e+10</td>\n",
       "      <td>2006-09-20 22:24:59+00:00</td>\n",
       "      <td>SET India</td>\n",
       "      <td>Click here to Subscribe to SET INDIA Channel: ...</td>\n",
       "      <td>True</td>\n",
       "      <td>True</td>\n",
       "      <td>0 days 00:04:28</td>\n",
       "      <td>1764.0</td>\n",
       "      <td>864.0</td>\n",
       "      <td>61548.0</td>\n",
       "      <td>2036713.0</td>\n",
       "      <td>[indian reality shows, singing talent, indian ...</td>\n",
       "      <td>2021-03-01 15:00:20+00:00</td>\n",
       "      <td>Pawandeep के Performance ने किया Neha को Senti...</td>\n",
       "      <td>HD</td>\n",
       "    </tr>\n",
       "    <tr>\n",
       "      <th>B3lyWZl2zbA</th>\n",
       "      <th>UCpEhnqL0y41EpW2TvWAHD7Q</th>\n",
       "      <td>Entertainment</td>\n",
       "      <td>Sony Entertainment Television is a 24 hour Hin...</td>\n",
       "      <td>98100000.0</td>\n",
       "      <td>50945.0</td>\n",
       "      <td>8.073925e+10</td>\n",
       "      <td>2006-09-20 22:24:59+00:00</td>\n",
       "      <td>SET India</td>\n",
       "      <td>Click here to Subscribe to SET India: https://...</td>\n",
       "      <td>True</td>\n",
       "      <td>True</td>\n",
       "      <td>0 days 00:08:11</td>\n",
       "      <td>140.0</td>\n",
       "      <td>955.0</td>\n",
       "      <td>19374.0</td>\n",
       "      <td>1770151.0</td>\n",
       "      <td>[set india, romance on SET, romantic performan...</td>\n",
       "      <td>2021-03-01 15:00:02+00:00</td>\n",
       "      <td>Tejas का Performance देख के Tiger हुए Shock | ...</td>\n",
       "      <td>HD</td>\n",
       "    </tr>\n",
       "    <tr>\n",
       "      <th>_c4Qh4_T_Ks</th>\n",
       "      <th>UCpEhnqL0y41EpW2TvWAHD7Q</th>\n",
       "      <td>Entertainment</td>\n",
       "      <td>Sony Entertainment Television is a 24 hour Hin...</td>\n",
       "      <td>98100000.0</td>\n",
       "      <td>50945.0</td>\n",
       "      <td>8.073925e+10</td>\n",
       "      <td>2006-09-20 22:24:59+00:00</td>\n",
       "      <td>SET India</td>\n",
       "      <td>Click here to Subscribe to SET India: https://...</td>\n",
       "      <td>True</td>\n",
       "      <td>True</td>\n",
       "      <td>0 days 00:08:02</td>\n",
       "      <td>235.0</td>\n",
       "      <td>579.0</td>\n",
       "      <td>11537.0</td>\n",
       "      <td>851660.0</td>\n",
       "      <td>[set india, romance on SET, romantic performan...</td>\n",
       "      <td>2021-03-01 15:30:03+00:00</td>\n",
       "      <td>Jayshree ने अपने Performance से जीता सबका दिल ...</td>\n",
       "      <td>HD</td>\n",
       "    </tr>\n",
       "    <tr>\n",
       "      <th>v_Ofrk5JmYQ</th>\n",
       "      <th>UC8BzJM6_VbZTdiNLD4R1jxQ</th>\n",
       "      <td>Entertainment</td>\n",
       "      <td>https://www.facebook.com/GMMTVOFFICIAL\\nhttps:...</td>\n",
       "      <td>10600000.0</td>\n",
       "      <td>11872.0</td>\n",
       "      <td>6.831155e+09</td>\n",
       "      <td>2010-09-13 05:07:36+00:00</td>\n",
       "      <td>GMMTV</td>\n",
       "      <td>นาบี ผู้จัดการสาวสวยของ DUBAI CLUB น้องสาวของ ...</td>\n",
       "      <td>True</td>\n",
       "      <td>True</td>\n",
       "      <td>0 days 00:03:27</td>\n",
       "      <td>35.0</td>\n",
       "      <td>101.0</td>\n",
       "      <td>3151.0</td>\n",
       "      <td>439112.0</td>\n",
       "      <td>[GMMTV, GMM-TV, GMM, TV, GMMTV SPOTLIKE, gmmtv...</td>\n",
       "      <td>2021-03-01 13:45:01+00:00</td>\n",
       "      <td>วันนี้คุณนาบีดูแลลูกค้าเองเลยเหรอครับ? | นาบี ...</td>\n",
       "      <td>HD</td>\n",
       "    </tr>\n",
       "  </tbody>\n",
       "</table>\n",
       "</div>"
      ],
      "text/plain": [
       "                                           category  \\\n",
       "id          creator.id                                \n",
       "WYdi1bL6s10 UC3XTzVzaHQEd30rQbuvCtTQ  Entertainment   \n",
       "rZGurRM6s_o UCpEhnqL0y41EpW2TvWAHD7Q  Entertainment   \n",
       "B3lyWZl2zbA UCpEhnqL0y41EpW2TvWAHD7Q  Entertainment   \n",
       "_c4Qh4_T_Ks UCpEhnqL0y41EpW2TvWAHD7Q  Entertainment   \n",
       "v_Ofrk5JmYQ UC8BzJM6_VbZTdiNLD4R1jxQ  Entertainment   \n",
       "\n",
       "                                                                    creator.description  \\\n",
       "id          creator.id                                                                    \n",
       "WYdi1bL6s10 UC3XTzVzaHQEd30rQbuvCtTQ  Breaking news on a weekly basis. Sundays at 11...   \n",
       "rZGurRM6s_o UCpEhnqL0y41EpW2TvWAHD7Q  Sony Entertainment Television is a 24 hour Hin...   \n",
       "B3lyWZl2zbA UCpEhnqL0y41EpW2TvWAHD7Q  Sony Entertainment Television is a 24 hour Hin...   \n",
       "_c4Qh4_T_Ks UCpEhnqL0y41EpW2TvWAHD7Q  Sony Entertainment Television is a 24 hour Hin...   \n",
       "v_Ofrk5JmYQ UC8BzJM6_VbZTdiNLD4R1jxQ  https://www.facebook.com/GMMTVOFFICIAL\\nhttps:...   \n",
       "\n",
       "                                      creator.stats.follower  \\\n",
       "id          creator.id                                         \n",
       "WYdi1bL6s10 UC3XTzVzaHQEd30rQbuvCtTQ               8610000.0   \n",
       "rZGurRM6s_o UCpEhnqL0y41EpW2TvWAHD7Q              98100000.0   \n",
       "B3lyWZl2zbA UCpEhnqL0y41EpW2TvWAHD7Q              98100000.0   \n",
       "_c4Qh4_T_Ks UCpEhnqL0y41EpW2TvWAHD7Q              98100000.0   \n",
       "v_Ofrk5JmYQ UC8BzJM6_VbZTdiNLD4R1jxQ              10600000.0   \n",
       "\n",
       "                                      creator.stats.post  creator.stats.view  \\\n",
       "id          creator.id                                                         \n",
       "WYdi1bL6s10 UC3XTzVzaHQEd30rQbuvCtTQ               334.0        2.873416e+09   \n",
       "rZGurRM6s_o UCpEhnqL0y41EpW2TvWAHD7Q             50945.0        8.073925e+10   \n",
       "B3lyWZl2zbA UCpEhnqL0y41EpW2TvWAHD7Q             50945.0        8.073925e+10   \n",
       "_c4Qh4_T_Ks UCpEhnqL0y41EpW2TvWAHD7Q             50945.0        8.073925e+10   \n",
       "v_Ofrk5JmYQ UC8BzJM6_VbZTdiNLD4R1jxQ             11872.0        6.831155e+09   \n",
       "\n",
       "                                                  creator.time  \\\n",
       "id          creator.id                                           \n",
       "WYdi1bL6s10 UC3XTzVzaHQEd30rQbuvCtTQ 2014-03-18 17:41:39+00:00   \n",
       "rZGurRM6s_o UCpEhnqL0y41EpW2TvWAHD7Q 2006-09-20 22:24:59+00:00   \n",
       "B3lyWZl2zbA UCpEhnqL0y41EpW2TvWAHD7Q 2006-09-20 22:24:59+00:00   \n",
       "_c4Qh4_T_Ks UCpEhnqL0y41EpW2TvWAHD7Q 2006-09-20 22:24:59+00:00   \n",
       "v_Ofrk5JmYQ UC8BzJM6_VbZTdiNLD4R1jxQ 2010-09-13 05:07:36+00:00   \n",
       "\n",
       "                                        creator.title  \\\n",
       "id          creator.id                                  \n",
       "WYdi1bL6s10 UC3XTzVzaHQEd30rQbuvCtTQ  LastWeekTonight   \n",
       "rZGurRM6s_o UCpEhnqL0y41EpW2TvWAHD7Q        SET India   \n",
       "B3lyWZl2zbA UCpEhnqL0y41EpW2TvWAHD7Q        SET India   \n",
       "_c4Qh4_T_Ks UCpEhnqL0y41EpW2TvWAHD7Q        SET India   \n",
       "v_Ofrk5JmYQ UC8BzJM6_VbZTdiNLD4R1jxQ            GMMTV   \n",
       "\n",
       "                                                                            description  \\\n",
       "id          creator.id                                                                    \n",
       "WYdi1bL6s10 UC3XTzVzaHQEd30rQbuvCtTQ  John Oliver explains how raids became a favori...   \n",
       "rZGurRM6s_o UCpEhnqL0y41EpW2TvWAHD7Q  Click here to Subscribe to SET INDIA Channel: ...   \n",
       "B3lyWZl2zbA UCpEhnqL0y41EpW2TvWAHD7Q  Click here to Subscribe to SET India: https://...   \n",
       "_c4Qh4_T_Ks UCpEhnqL0y41EpW2TvWAHD7Q  Click here to Subscribe to SET India: https://...   \n",
       "v_Ofrk5JmYQ UC8BzJM6_VbZTdiNLD4R1jxQ  นาบี ผู้จัดการสาวสวยของ DUBAI CLUB น้องสาวของ ...   \n",
       "\n",
       "                                      has_ad  has_ad_at_beginning  \\\n",
       "id          creator.id                                              \n",
       "WYdi1bL6s10 UC3XTzVzaHQEd30rQbuvCtTQ   False                False   \n",
       "rZGurRM6s_o UCpEhnqL0y41EpW2TvWAHD7Q    True                 True   \n",
       "B3lyWZl2zbA UCpEhnqL0y41EpW2TvWAHD7Q    True                 True   \n",
       "_c4Qh4_T_Ks UCpEhnqL0y41EpW2TvWAHD7Q    True                 True   \n",
       "v_Ofrk5JmYQ UC8BzJM6_VbZTdiNLD4R1jxQ    True                 True   \n",
       "\n",
       "                                              length  stats.comment  \\\n",
       "id          creator.id                                                \n",
       "WYdi1bL6s10 UC3XTzVzaHQEd30rQbuvCtTQ 0 days 00:25:55        18604.0   \n",
       "rZGurRM6s_o UCpEhnqL0y41EpW2TvWAHD7Q 0 days 00:04:28         1764.0   \n",
       "B3lyWZl2zbA UCpEhnqL0y41EpW2TvWAHD7Q 0 days 00:08:11          140.0   \n",
       "_c4Qh4_T_Ks UCpEhnqL0y41EpW2TvWAHD7Q 0 days 00:08:02          235.0   \n",
       "v_Ofrk5JmYQ UC8BzJM6_VbZTdiNLD4R1jxQ 0 days 00:03:27           35.0   \n",
       "\n",
       "                                      stats.dislike  stats.like  stats.view  \\\n",
       "id          creator.id                                                        \n",
       "WYdi1bL6s10 UC3XTzVzaHQEd30rQbuvCtTQ         3620.0    154640.0   3213279.0   \n",
       "rZGurRM6s_o UCpEhnqL0y41EpW2TvWAHD7Q          864.0     61548.0   2036713.0   \n",
       "B3lyWZl2zbA UCpEhnqL0y41EpW2TvWAHD7Q          955.0     19374.0   1770151.0   \n",
       "_c4Qh4_T_Ks UCpEhnqL0y41EpW2TvWAHD7Q          579.0     11537.0    851660.0   \n",
       "v_Ofrk5JmYQ UC8BzJM6_VbZTdiNLD4R1jxQ          101.0      3151.0    439112.0   \n",
       "\n",
       "                                                                                   tags  \\\n",
       "id          creator.id                                                                    \n",
       "WYdi1bL6s10 UC3XTzVzaHQEd30rQbuvCtTQ                                               None   \n",
       "rZGurRM6s_o UCpEhnqL0y41EpW2TvWAHD7Q  [indian reality shows, singing talent, indian ...   \n",
       "B3lyWZl2zbA UCpEhnqL0y41EpW2TvWAHD7Q  [set india, romance on SET, romantic performan...   \n",
       "_c4Qh4_T_Ks UCpEhnqL0y41EpW2TvWAHD7Q  [set india, romance on SET, romantic performan...   \n",
       "v_Ofrk5JmYQ UC8BzJM6_VbZTdiNLD4R1jxQ  [GMMTV, GMM-TV, GMM, TV, GMMTV SPOTLIKE, gmmtv...   \n",
       "\n",
       "                                                          time  \\\n",
       "id          creator.id                                           \n",
       "WYdi1bL6s10 UC3XTzVzaHQEd30rQbuvCtTQ 2021-03-01 07:45:00+00:00   \n",
       "rZGurRM6s_o UCpEhnqL0y41EpW2TvWAHD7Q 2021-03-01 15:00:20+00:00   \n",
       "B3lyWZl2zbA UCpEhnqL0y41EpW2TvWAHD7Q 2021-03-01 15:00:02+00:00   \n",
       "_c4Qh4_T_Ks UCpEhnqL0y41EpW2TvWAHD7Q 2021-03-01 15:30:03+00:00   \n",
       "v_Ofrk5JmYQ UC8BzJM6_VbZTdiNLD4R1jxQ 2021-03-01 13:45:01+00:00   \n",
       "\n",
       "                                                                                  title  \\\n",
       "id          creator.id                                                                    \n",
       "WYdi1bL6s10 UC3XTzVzaHQEd30rQbuvCtTQ    Raids: Last Week Tonight with John Oliver (HBO)   \n",
       "rZGurRM6s_o UCpEhnqL0y41EpW2TvWAHD7Q  Pawandeep के Performance ने किया Neha को Senti...   \n",
       "B3lyWZl2zbA UCpEhnqL0y41EpW2TvWAHD7Q  Tejas का Performance देख के Tiger हुए Shock | ...   \n",
       "_c4Qh4_T_Ks UCpEhnqL0y41EpW2TvWAHD7Q  Jayshree ने अपने Performance से जीता सबका दिल ...   \n",
       "v_Ofrk5JmYQ UC8BzJM6_VbZTdiNLD4R1jxQ  วันนี้คุณนาบีดูแลลูกค้าเองเลยเหรอครับ? | นาบี ...   \n",
       "\n",
       "                                     video.quality  \n",
       "id          creator.id                              \n",
       "WYdi1bL6s10 UC3XTzVzaHQEd30rQbuvCtTQ            HD  \n",
       "rZGurRM6s_o UCpEhnqL0y41EpW2TvWAHD7Q            HD  \n",
       "B3lyWZl2zbA UCpEhnqL0y41EpW2TvWAHD7Q            HD  \n",
       "_c4Qh4_T_Ks UCpEhnqL0y41EpW2TvWAHD7Q            HD  \n",
       "v_Ofrk5JmYQ UC8BzJM6_VbZTdiNLD4R1jxQ            HD  "
      ]
     },
     "metadata": {},
     "output_type": "display_data"
    },
    {
     "data": {
      "text/markdown": [
       "## Stats"
      ],
      "text/plain": [
       "<IPython.core.display.Markdown object>"
      ]
     },
     "metadata": {},
     "output_type": "display_data"
    },
    {
     "data": {
      "text/html": [
       "<div>\n",
       "<style scoped>\n",
       "    .dataframe tbody tr th:only-of-type {\n",
       "        vertical-align: middle;\n",
       "    }\n",
       "\n",
       "    .dataframe tbody tr th {\n",
       "        vertical-align: top;\n",
       "    }\n",
       "\n",
       "    .dataframe thead th {\n",
       "        text-align: right;\n",
       "    }\n",
       "</style>\n",
       "<table border=\"1\" class=\"dataframe\">\n",
       "  <thead>\n",
       "    <tr style=\"text-align: right;\">\n",
       "      <th></th>\n",
       "      <th>creator.stats.follower</th>\n",
       "      <th>creator.stats.post</th>\n",
       "      <th>creator.stats.view</th>\n",
       "      <th>length</th>\n",
       "      <th>stats.comment</th>\n",
       "      <th>stats.dislike</th>\n",
       "      <th>stats.like</th>\n",
       "      <th>stats.view</th>\n",
       "    </tr>\n",
       "  </thead>\n",
       "  <tbody>\n",
       "    <tr>\n",
       "      <th>count</th>\n",
       "      <td>4.100000e+01</td>\n",
       "      <td>46.000000</td>\n",
       "      <td>4.600000e+01</td>\n",
       "      <td>50</td>\n",
       "      <td>45.000000</td>\n",
       "      <td>47.000000</td>\n",
       "      <td>47.000000</td>\n",
       "      <td>4.000000e+01</td>\n",
       "    </tr>\n",
       "    <tr>\n",
       "      <th>mean</th>\n",
       "      <td>1.057570e+07</td>\n",
       "      <td>21702.652174</td>\n",
       "      <td>6.893515e+09</td>\n",
       "      <td>0 days 00:37:45.020000</td>\n",
       "      <td>4456.422222</td>\n",
       "      <td>3694.446809</td>\n",
       "      <td>30438.531915</td>\n",
       "      <td>1.431974e+06</td>\n",
       "    </tr>\n",
       "    <tr>\n",
       "      <th>std</th>\n",
       "      <td>2.521277e+07</td>\n",
       "      <td>33790.176925</td>\n",
       "      <td>1.985972e+10</td>\n",
       "      <td>0 days 00:50:48.263336219</td>\n",
       "      <td>21176.369800</td>\n",
       "      <td>21339.028899</td>\n",
       "      <td>118505.451073</td>\n",
       "      <td>3.195662e+06</td>\n",
       "    </tr>\n",
       "    <tr>\n",
       "      <th>min</th>\n",
       "      <td>9.250000e+02</td>\n",
       "      <td>5.000000</td>\n",
       "      <td>5.011000e+03</td>\n",
       "      <td>0 days 00:00:30</td>\n",
       "      <td>0.000000</td>\n",
       "      <td>0.000000</td>\n",
       "      <td>25.000000</td>\n",
       "      <td>1.121800e+04</td>\n",
       "    </tr>\n",
       "    <tr>\n",
       "      <th>25%</th>\n",
       "      <td>6.280000e+05</td>\n",
       "      <td>456.000000</td>\n",
       "      <td>1.978415e+08</td>\n",
       "      <td>0 days 00:02:57.750000</td>\n",
       "      <td>35.000000</td>\n",
       "      <td>51.500000</td>\n",
       "      <td>518.000000</td>\n",
       "      <td>7.299225e+04</td>\n",
       "    </tr>\n",
       "    <tr>\n",
       "      <th>50%</th>\n",
       "      <td>1.940000e+06</td>\n",
       "      <td>1594.000000</td>\n",
       "      <td>7.111102e+08</td>\n",
       "      <td>0 days 00:07:33.500000</td>\n",
       "      <td>243.000000</td>\n",
       "      <td>222.000000</td>\n",
       "      <td>5048.000000</td>\n",
       "      <td>4.561780e+05</td>\n",
       "    </tr>\n",
       "    <tr>\n",
       "      <th>75%</th>\n",
       "      <td>6.450000e+06</td>\n",
       "      <td>32455.000000</td>\n",
       "      <td>2.831778e+09</td>\n",
       "      <td>0 days 01:24:02.250000</td>\n",
       "      <td>911.000000</td>\n",
       "      <td>871.500000</td>\n",
       "      <td>13177.000000</td>\n",
       "      <td>1.656623e+06</td>\n",
       "    </tr>\n",
       "    <tr>\n",
       "      <th>max</th>\n",
       "      <td>9.810000e+07</td>\n",
       "      <td>145566.000000</td>\n",
       "      <td>8.073925e+10</td>\n",
       "      <td>0 days 02:29:30</td>\n",
       "      <td>141854.000000</td>\n",
       "      <td>146776.000000</td>\n",
       "      <td>806327.000000</td>\n",
       "      <td>1.973650e+07</td>\n",
       "    </tr>\n",
       "  </tbody>\n",
       "</table>\n",
       "</div>"
      ],
      "text/plain": [
       "       creator.stats.follower  creator.stats.post  creator.stats.view  \\\n",
       "count            4.100000e+01           46.000000        4.600000e+01   \n",
       "mean             1.057570e+07        21702.652174        6.893515e+09   \n",
       "std              2.521277e+07        33790.176925        1.985972e+10   \n",
       "min              9.250000e+02            5.000000        5.011000e+03   \n",
       "25%              6.280000e+05          456.000000        1.978415e+08   \n",
       "50%              1.940000e+06         1594.000000        7.111102e+08   \n",
       "75%              6.450000e+06        32455.000000        2.831778e+09   \n",
       "max              9.810000e+07       145566.000000        8.073925e+10   \n",
       "\n",
       "                          length  stats.comment  stats.dislike     stats.like  \\\n",
       "count                         50      45.000000      47.000000      47.000000   \n",
       "mean      0 days 00:37:45.020000    4456.422222    3694.446809   30438.531915   \n",
       "std    0 days 00:50:48.263336219   21176.369800   21339.028899  118505.451073   \n",
       "min              0 days 00:00:30       0.000000       0.000000      25.000000   \n",
       "25%       0 days 00:02:57.750000      35.000000      51.500000     518.000000   \n",
       "50%       0 days 00:07:33.500000     243.000000     222.000000    5048.000000   \n",
       "75%       0 days 01:24:02.250000     911.000000     871.500000   13177.000000   \n",
       "max              0 days 02:29:30  141854.000000  146776.000000  806327.000000   \n",
       "\n",
       "         stats.view  \n",
       "count  4.000000e+01  \n",
       "mean   1.431974e+06  \n",
       "std    3.195662e+06  \n",
       "min    1.121800e+04  \n",
       "25%    7.299225e+04  \n",
       "50%    4.561780e+05  \n",
       "75%    1.656623e+06  \n",
       "max    1.973650e+07  "
      ]
     },
     "metadata": {},
     "output_type": "display_data"
    },
    {
     "data": {
      "text/markdown": [
       "---"
      ],
      "text/plain": [
       "<IPython.core.display.Markdown object>"
      ]
     },
     "metadata": {},
     "output_type": "display_data"
    }
   ],
   "source": [
    "## YOUR CODE HERE\n",
    "## FEEL FREE TO ADD MULTIPLE CELLS PER SECTION\n",
    "df_search_details = pd.read_pickle(f'EDA/dsamples/youtube_search_{as_fname(\"\")}_{dataset_id}.pkl')\n",
    "\n",
    "# optional (extra info about channels in our search result)\n",
    "#df_search_details_channels = pd.read_pickle(f'EDA/dsamples/youtube_search_channels_{md5_encode(\"\")}.pkl')\n",
    "\n",
    "\n",
    "df_report(df_search_details, name = 'Search Results')"
   ]
  },
  {
   "cell_type": "code",
   "execution_count": 6,
   "metadata": {},
   "outputs": [
    {
     "data": {
      "text/plain": [
       "category\n",
       "Comedy                   3.057234e+06\n",
       "Entertainment            1.193278e+06\n",
       "Film & Animation         1.137338e+06\n",
       "Howto & Style            1.529130e+05\n",
       "Movies                            NaN\n",
       "Music                    1.973650e+07\n",
       "News & Politics          5.975000e+05\n",
       "Nonprofits & Activism    1.653603e+06\n",
       "Science & Technology     6.583000e+04\n",
       "Shows                             NaN\n",
       "Sports                   6.535747e+05\n",
       "Name: stats.view, dtype: float64"
      ]
     },
     "execution_count": 6,
     "metadata": {},
     "output_type": "execute_result"
    }
   ],
   "source": [
    "assert(youtube.types.topic(1).__eq__('Film & Animation'))\n",
    "\n",
    "\n",
    "df_search_details_n = df_search_details.copy()\n",
    "df_search_details_n['category'] = df_search_details_n['category'].astype(str)\n",
    "\n",
    "\n",
    "df_search_details_n.groupby(['category'])['stats.view'].mean()\n",
    "\n",
    "\n"
   ]
  },
  {
   "cell_type": "code",
   "execution_count": 7,
   "metadata": {},
   "outputs": [
    {
     "data": {
      "text/markdown": [
       "---"
      ],
      "text/plain": [
       "<IPython.core.display.Markdown object>"
      ]
     },
     "metadata": {},
     "output_type": "display_data"
    },
    {
     "data": {
      "text/markdown": [
       "# Results - Trending"
      ],
      "text/plain": [
       "<IPython.core.display.Markdown object>"
      ]
     },
     "metadata": {},
     "output_type": "display_data"
    },
    {
     "data": {
      "text/markdown": [
       "## Data Preview"
      ],
      "text/plain": [
       "<IPython.core.display.Markdown object>"
      ]
     },
     "metadata": {},
     "output_type": "display_data"
    },
    {
     "data": {
      "text/html": [
       "<div>\n",
       "<style scoped>\n",
       "    .dataframe tbody tr th:only-of-type {\n",
       "        vertical-align: middle;\n",
       "    }\n",
       "\n",
       "    .dataframe tbody tr th {\n",
       "        vertical-align: top;\n",
       "    }\n",
       "\n",
       "    .dataframe thead th {\n",
       "        text-align: right;\n",
       "    }\n",
       "</style>\n",
       "<table border=\"1\" class=\"dataframe\">\n",
       "  <thead>\n",
       "    <tr style=\"text-align: right;\">\n",
       "      <th></th>\n",
       "      <th></th>\n",
       "      <th>title</th>\n",
       "      <th>description</th>\n",
       "      <th>time</th>\n",
       "      <th>length</th>\n",
       "      <th>tags</th>\n",
       "      <th>category</th>\n",
       "      <th>stats.like</th>\n",
       "      <th>stats.dislike</th>\n",
       "      <th>stats.comment</th>\n",
       "      <th>stats.view</th>\n",
       "      <th>video.quality</th>\n",
       "      <th>has_ad</th>\n",
       "      <th>has_ad_at_beginning</th>\n",
       "    </tr>\n",
       "    <tr>\n",
       "      <th>id</th>\n",
       "      <th>creator.id</th>\n",
       "      <th></th>\n",
       "      <th></th>\n",
       "      <th></th>\n",
       "      <th></th>\n",
       "      <th></th>\n",
       "      <th></th>\n",
       "      <th></th>\n",
       "      <th></th>\n",
       "      <th></th>\n",
       "      <th></th>\n",
       "      <th></th>\n",
       "      <th></th>\n",
       "      <th></th>\n",
       "    </tr>\n",
       "  </thead>\n",
       "  <tbody>\n",
       "    <tr>\n",
       "      <th>sG9rX6Ifzhw</th>\n",
       "      <th>UCq18eeL7D9Vd8DhjMcLh9QQ</th>\n",
       "      <td>Piers and Alex Clash Over Prince Harry and Meg...</td>\n",
       "      <td>Following the Duke and Duchess of Sussex’s lan...</td>\n",
       "      <td>2021-03-09 10:58:19+00:00</td>\n",
       "      <td>0 days 00:14:05</td>\n",
       "      <td>[good morning britain, breakfast show, news, m...</td>\n",
       "      <td>Entertainment</td>\n",
       "      <td>46564</td>\n",
       "      <td>7593</td>\n",
       "      <td>NaN</td>\n",
       "      <td>4104853</td>\n",
       "      <td>HD</td>\n",
       "      <td>True</td>\n",
       "      <td>True</td>\n",
       "    </tr>\n",
       "    <tr>\n",
       "      <th>CkTVoLamPio</th>\n",
       "      <th>UC-SJ6nODDmufqBzPBwCvYvQ</th>\n",
       "      <td>Meghan, Duchess of Sussex, opens up about her ...</td>\n",
       "      <td>For the first time Meghan, Duchess of Sussex, ...</td>\n",
       "      <td>2021-03-08 14:01:55+00:00</td>\n",
       "      <td>0 days 00:10:19</td>\n",
       "      <td>[cbs this morning, duchess of sussex, Meghan M...</td>\n",
       "      <td>News &amp; Politics</td>\n",
       "      <td>51154</td>\n",
       "      <td>11013</td>\n",
       "      <td>12374.0</td>\n",
       "      <td>6563052</td>\n",
       "      <td>HD</td>\n",
       "      <td>True</td>\n",
       "      <td>True</td>\n",
       "    </tr>\n",
       "    <tr>\n",
       "      <th>pIQIKIDZJjc</th>\n",
       "      <th>UCi3OE-aN09WOcN9d2stCvPg</th>\n",
       "      <td>David Dobrik &amp; I Bought Markell A Car | Charli...</td>\n",
       "      <td>hi everyone. i wanted to organize this with @D...</td>\n",
       "      <td>2021-03-09 18:00:12+00:00</td>\n",
       "      <td>0 days 00:11:26</td>\n",
       "      <td>[charli, charlie, charli d'amelio, charli dame...</td>\n",
       "      <td>People &amp; Blogs</td>\n",
       "      <td>129936</td>\n",
       "      <td>4750</td>\n",
       "      <td>9649.0</td>\n",
       "      <td>1402406</td>\n",
       "      <td>HD</td>\n",
       "      <td>True</td>\n",
       "      <td>True</td>\n",
       "    </tr>\n",
       "    <tr>\n",
       "      <th>jJdlgKzVsnI</th>\n",
       "      <th>UCpTaAz_BxtkUB1qc8JTU_7g</th>\n",
       "      <td>Doja Cat - Streets (Official Video)</td>\n",
       "      <td>Doja Cat // Streets (Official Video)\\nHot Pink...</td>\n",
       "      <td>2021-03-09 05:00:12+00:00</td>\n",
       "      <td>0 days 00:04:34</td>\n",
       "      <td>[doja cat, streets, doja, doja cat streets, st...</td>\n",
       "      <td>Music</td>\n",
       "      <td>868208</td>\n",
       "      <td>8374</td>\n",
       "      <td>56154.0</td>\n",
       "      <td>7104985</td>\n",
       "      <td>HD</td>\n",
       "      <td>True</td>\n",
       "      <td>True</td>\n",
       "    </tr>\n",
       "    <tr>\n",
       "      <th>qUUloBe5vEo</th>\n",
       "      <th>UCRijo3ddMTht_IHyNSNXpNQ</th>\n",
       "      <td>Longest Dunk Wins</td>\n",
       "      <td>Slippery Stairs and a GIANT catapult!?! Today'...</td>\n",
       "      <td>2021-03-08 23:00:02+00:00</td>\n",
       "      <td>0 days 00:10:19</td>\n",
       "      <td>[dude perfect, dude perfect stereotypes, dude ...</td>\n",
       "      <td>Sports</td>\n",
       "      <td>371535</td>\n",
       "      <td>4270</td>\n",
       "      <td>13894.0</td>\n",
       "      <td>7511648</td>\n",
       "      <td>HD</td>\n",
       "      <td>True</td>\n",
       "      <td>True</td>\n",
       "    </tr>\n",
       "  </tbody>\n",
       "</table>\n",
       "</div>"
      ],
      "text/plain": [
       "                                                                                  title  \\\n",
       "id          creator.id                                                                    \n",
       "sG9rX6Ifzhw UCq18eeL7D9Vd8DhjMcLh9QQ  Piers and Alex Clash Over Prince Harry and Meg...   \n",
       "CkTVoLamPio UC-SJ6nODDmufqBzPBwCvYvQ  Meghan, Duchess of Sussex, opens up about her ...   \n",
       "pIQIKIDZJjc UCi3OE-aN09WOcN9d2stCvPg  David Dobrik & I Bought Markell A Car | Charli...   \n",
       "jJdlgKzVsnI UCpTaAz_BxtkUB1qc8JTU_7g                Doja Cat - Streets (Official Video)   \n",
       "qUUloBe5vEo UCRijo3ddMTht_IHyNSNXpNQ                                  Longest Dunk Wins   \n",
       "\n",
       "                                                                            description  \\\n",
       "id          creator.id                                                                    \n",
       "sG9rX6Ifzhw UCq18eeL7D9Vd8DhjMcLh9QQ  Following the Duke and Duchess of Sussex’s lan...   \n",
       "CkTVoLamPio UC-SJ6nODDmufqBzPBwCvYvQ  For the first time Meghan, Duchess of Sussex, ...   \n",
       "pIQIKIDZJjc UCi3OE-aN09WOcN9d2stCvPg  hi everyone. i wanted to organize this with @D...   \n",
       "jJdlgKzVsnI UCpTaAz_BxtkUB1qc8JTU_7g  Doja Cat // Streets (Official Video)\\nHot Pink...   \n",
       "qUUloBe5vEo UCRijo3ddMTht_IHyNSNXpNQ  Slippery Stairs and a GIANT catapult!?! Today'...   \n",
       "\n",
       "                                                          time  \\\n",
       "id          creator.id                                           \n",
       "sG9rX6Ifzhw UCq18eeL7D9Vd8DhjMcLh9QQ 2021-03-09 10:58:19+00:00   \n",
       "CkTVoLamPio UC-SJ6nODDmufqBzPBwCvYvQ 2021-03-08 14:01:55+00:00   \n",
       "pIQIKIDZJjc UCi3OE-aN09WOcN9d2stCvPg 2021-03-09 18:00:12+00:00   \n",
       "jJdlgKzVsnI UCpTaAz_BxtkUB1qc8JTU_7g 2021-03-09 05:00:12+00:00   \n",
       "qUUloBe5vEo UCRijo3ddMTht_IHyNSNXpNQ 2021-03-08 23:00:02+00:00   \n",
       "\n",
       "                                              length  \\\n",
       "id          creator.id                                 \n",
       "sG9rX6Ifzhw UCq18eeL7D9Vd8DhjMcLh9QQ 0 days 00:14:05   \n",
       "CkTVoLamPio UC-SJ6nODDmufqBzPBwCvYvQ 0 days 00:10:19   \n",
       "pIQIKIDZJjc UCi3OE-aN09WOcN9d2stCvPg 0 days 00:11:26   \n",
       "jJdlgKzVsnI UCpTaAz_BxtkUB1qc8JTU_7g 0 days 00:04:34   \n",
       "qUUloBe5vEo UCRijo3ddMTht_IHyNSNXpNQ 0 days 00:10:19   \n",
       "\n",
       "                                                                                   tags  \\\n",
       "id          creator.id                                                                    \n",
       "sG9rX6Ifzhw UCq18eeL7D9Vd8DhjMcLh9QQ  [good morning britain, breakfast show, news, m...   \n",
       "CkTVoLamPio UC-SJ6nODDmufqBzPBwCvYvQ  [cbs this morning, duchess of sussex, Meghan M...   \n",
       "pIQIKIDZJjc UCi3OE-aN09WOcN9d2stCvPg  [charli, charlie, charli d'amelio, charli dame...   \n",
       "jJdlgKzVsnI UCpTaAz_BxtkUB1qc8JTU_7g  [doja cat, streets, doja, doja cat streets, st...   \n",
       "qUUloBe5vEo UCRijo3ddMTht_IHyNSNXpNQ  [dude perfect, dude perfect stereotypes, dude ...   \n",
       "\n",
       "                                             category  stats.like  \\\n",
       "id          creator.id                                              \n",
       "sG9rX6Ifzhw UCq18eeL7D9Vd8DhjMcLh9QQ    Entertainment       46564   \n",
       "CkTVoLamPio UC-SJ6nODDmufqBzPBwCvYvQ  News & Politics       51154   \n",
       "pIQIKIDZJjc UCi3OE-aN09WOcN9d2stCvPg   People & Blogs      129936   \n",
       "jJdlgKzVsnI UCpTaAz_BxtkUB1qc8JTU_7g            Music      868208   \n",
       "qUUloBe5vEo UCRijo3ddMTht_IHyNSNXpNQ           Sports      371535   \n",
       "\n",
       "                                      stats.dislike  stats.comment  \\\n",
       "id          creator.id                                               \n",
       "sG9rX6Ifzhw UCq18eeL7D9Vd8DhjMcLh9QQ           7593            NaN   \n",
       "CkTVoLamPio UC-SJ6nODDmufqBzPBwCvYvQ          11013        12374.0   \n",
       "pIQIKIDZJjc UCi3OE-aN09WOcN9d2stCvPg           4750         9649.0   \n",
       "jJdlgKzVsnI UCpTaAz_BxtkUB1qc8JTU_7g           8374        56154.0   \n",
       "qUUloBe5vEo UCRijo3ddMTht_IHyNSNXpNQ           4270        13894.0   \n",
       "\n",
       "                                      stats.view video.quality  has_ad  \\\n",
       "id          creator.id                                                   \n",
       "sG9rX6Ifzhw UCq18eeL7D9Vd8DhjMcLh9QQ     4104853            HD    True   \n",
       "CkTVoLamPio UC-SJ6nODDmufqBzPBwCvYvQ     6563052            HD    True   \n",
       "pIQIKIDZJjc UCi3OE-aN09WOcN9d2stCvPg     1402406            HD    True   \n",
       "jJdlgKzVsnI UCpTaAz_BxtkUB1qc8JTU_7g     7104985            HD    True   \n",
       "qUUloBe5vEo UCRijo3ddMTht_IHyNSNXpNQ     7511648            HD    True   \n",
       "\n",
       "                                      has_ad_at_beginning  \n",
       "id          creator.id                                     \n",
       "sG9rX6Ifzhw UCq18eeL7D9Vd8DhjMcLh9QQ                 True  \n",
       "CkTVoLamPio UC-SJ6nODDmufqBzPBwCvYvQ                 True  \n",
       "pIQIKIDZJjc UCi3OE-aN09WOcN9d2stCvPg                 True  \n",
       "jJdlgKzVsnI UCpTaAz_BxtkUB1qc8JTU_7g                 True  \n",
       "qUUloBe5vEo UCRijo3ddMTht_IHyNSNXpNQ                 True  "
      ]
     },
     "metadata": {},
     "output_type": "display_data"
    },
    {
     "data": {
      "text/markdown": [
       "## Stats"
      ],
      "text/plain": [
       "<IPython.core.display.Markdown object>"
      ]
     },
     "metadata": {},
     "output_type": "display_data"
    },
    {
     "data": {
      "text/html": [
       "<div>\n",
       "<style scoped>\n",
       "    .dataframe tbody tr th:only-of-type {\n",
       "        vertical-align: middle;\n",
       "    }\n",
       "\n",
       "    .dataframe tbody tr th {\n",
       "        vertical-align: top;\n",
       "    }\n",
       "\n",
       "    .dataframe thead th {\n",
       "        text-align: right;\n",
       "    }\n",
       "</style>\n",
       "<table border=\"1\" class=\"dataframe\">\n",
       "  <thead>\n",
       "    <tr style=\"text-align: right;\">\n",
       "      <th></th>\n",
       "      <th>length</th>\n",
       "      <th>stats.like</th>\n",
       "      <th>stats.dislike</th>\n",
       "      <th>stats.comment</th>\n",
       "      <th>stats.view</th>\n",
       "    </tr>\n",
       "  </thead>\n",
       "  <tbody>\n",
       "    <tr>\n",
       "      <th>count</th>\n",
       "      <td>200</td>\n",
       "      <td>2.000000e+02</td>\n",
       "      <td>200.000000</td>\n",
       "      <td>194.000000</td>\n",
       "      <td>2.000000e+02</td>\n",
       "    </tr>\n",
       "    <tr>\n",
       "      <th>mean</th>\n",
       "      <td>0 days 00:10:06.850000</td>\n",
       "      <td>1.443801e+05</td>\n",
       "      <td>2369.875000</td>\n",
       "      <td>13491.597938</td>\n",
       "      <td>2.701530e+06</td>\n",
       "    </tr>\n",
       "    <tr>\n",
       "      <th>std</th>\n",
       "      <td>0 days 00:09:27.893274618</td>\n",
       "      <td>2.599041e+05</td>\n",
       "      <td>3424.171361</td>\n",
       "      <td>30678.165708</td>\n",
       "      <td>3.825934e+06</td>\n",
       "    </tr>\n",
       "    <tr>\n",
       "      <th>min</th>\n",
       "      <td>0 days 00:00:12</td>\n",
       "      <td>7.190000e+02</td>\n",
       "      <td>58.000000</td>\n",
       "      <td>103.000000</td>\n",
       "      <td>1.502300e+05</td>\n",
       "    </tr>\n",
       "    <tr>\n",
       "      <th>25%</th>\n",
       "      <td>0 days 00:03:18.250000</td>\n",
       "      <td>2.118125e+04</td>\n",
       "      <td>431.000000</td>\n",
       "      <td>2264.000000</td>\n",
       "      <td>7.192910e+05</td>\n",
       "    </tr>\n",
       "    <tr>\n",
       "      <th>50%</th>\n",
       "      <td>0 days 00:07:32.500000</td>\n",
       "      <td>5.207800e+04</td>\n",
       "      <td>961.500000</td>\n",
       "      <td>4552.500000</td>\n",
       "      <td>1.302339e+06</td>\n",
       "    </tr>\n",
       "    <tr>\n",
       "      <th>75%</th>\n",
       "      <td>0 days 00:13:22</td>\n",
       "      <td>1.267798e+05</td>\n",
       "      <td>2748.250000</td>\n",
       "      <td>12073.750000</td>\n",
       "      <td>2.941422e+06</td>\n",
       "    </tr>\n",
       "    <tr>\n",
       "      <th>max</th>\n",
       "      <td>0 days 00:54:22</td>\n",
       "      <td>1.742752e+06</td>\n",
       "      <td>21790.000000</td>\n",
       "      <td>295330.000000</td>\n",
       "      <td>2.479028e+07</td>\n",
       "    </tr>\n",
       "  </tbody>\n",
       "</table>\n",
       "</div>"
      ],
      "text/plain": [
       "                          length    stats.like  stats.dislike  stats.comment  \\\n",
       "count                        200  2.000000e+02     200.000000     194.000000   \n",
       "mean      0 days 00:10:06.850000  1.443801e+05    2369.875000   13491.597938   \n",
       "std    0 days 00:09:27.893274618  2.599041e+05    3424.171361   30678.165708   \n",
       "min              0 days 00:00:12  7.190000e+02      58.000000     103.000000   \n",
       "25%       0 days 00:03:18.250000  2.118125e+04     431.000000    2264.000000   \n",
       "50%       0 days 00:07:32.500000  5.207800e+04     961.500000    4552.500000   \n",
       "75%              0 days 00:13:22  1.267798e+05    2748.250000   12073.750000   \n",
       "max              0 days 00:54:22  1.742752e+06   21790.000000  295330.000000   \n",
       "\n",
       "         stats.view  \n",
       "count  2.000000e+02  \n",
       "mean   2.701530e+06  \n",
       "std    3.825934e+06  \n",
       "min    1.502300e+05  \n",
       "25%    7.192910e+05  \n",
       "50%    1.302339e+06  \n",
       "75%    2.941422e+06  \n",
       "max    2.479028e+07  "
      ]
     },
     "metadata": {},
     "output_type": "display_data"
    },
    {
     "data": {
      "text/markdown": [
       "---"
      ],
      "text/plain": [
       "<IPython.core.display.Markdown object>"
      ]
     },
     "metadata": {},
     "output_type": "display_data"
    }
   ],
   "source": [
    "df_trending_details = pd.read_pickle('EDA/dsamples/youtube_trending.pkl')\n",
    "\n",
    "# optional (extra info about channels on the chart)\n",
    "df_trending_details_channels = pd.read_pickle(f'EDA/dsamples/youtube_trending_channels.pkl')\n",
    "\n",
    "df_report(df_trending_details, name = 'Trending')"
   ]
  },
  {
   "cell_type": "code",
   "execution_count": 8,
   "metadata": {},
   "outputs": [],
   "source": [
    "#We first reset the index of the dataframe\n",
    "df_trending_details= df_trending_details.reset_index()"
   ]
  },
  {
   "cell_type": "code",
   "execution_count": 9,
   "metadata": {},
   "outputs": [
    {
     "data": {
      "text/plain": [
       "\"\\ndel df_trending_details['id']\\ndel df_trending_details['creator.id']\\ndel df_trending_details['stats.dislike']\\ndel df_trending_details['creator.time']\\ndel df_trending_details['creator.stats.view']\\ndel df_trending_details['creator.stats.post']\\n\""
      ]
     },
     "execution_count": 9,
     "metadata": {},
     "output_type": "execute_result"
    }
   ],
   "source": [
    "#We clean the unecessary information such as dislikes, creator time, creater stats view and creater stats posts\n",
    "\n",
    "'''\n",
    "del df_trending_details['id']\n",
    "del df_trending_details['creator.id']\n",
    "del df_trending_details['stats.dislike']\n",
    "del df_trending_details['creator.time']\n",
    "del df_trending_details['creator.stats.view']\n",
    "del df_trending_details['creator.stats.post']\n",
    "'''"
   ]
  },
  {
   "cell_type": "code",
   "execution_count": 10,
   "metadata": {},
   "outputs": [
    {
     "data": {
      "text/html": [
       "<div>\n",
       "<style scoped>\n",
       "    .dataframe tbody tr th:only-of-type {\n",
       "        vertical-align: middle;\n",
       "    }\n",
       "\n",
       "    .dataframe tbody tr th {\n",
       "        vertical-align: top;\n",
       "    }\n",
       "\n",
       "    .dataframe thead th {\n",
       "        text-align: right;\n",
       "    }\n",
       "</style>\n",
       "<table border=\"1\" class=\"dataframe\">\n",
       "  <thead>\n",
       "    <tr style=\"text-align: right;\">\n",
       "      <th></th>\n",
       "      <th>has_ad_at_beginning</th>\n",
       "      <th>stats.like</th>\n",
       "    </tr>\n",
       "  </thead>\n",
       "  <tbody>\n",
       "    <tr>\n",
       "      <th>0</th>\n",
       "      <td>False</td>\n",
       "      <td>198371.969697</td>\n",
       "    </tr>\n",
       "    <tr>\n",
       "      <th>1</th>\n",
       "      <td>True</td>\n",
       "      <td>133711.071856</td>\n",
       "    </tr>\n",
       "  </tbody>\n",
       "</table>\n",
       "</div>"
      ],
      "text/plain": [
       "   has_ad_at_beginning     stats.like\n",
       "0                False  198371.969697\n",
       "1                 True  133711.071856"
      ]
     },
     "execution_count": 10,
     "metadata": {},
     "output_type": "execute_result"
    },
    {
     "data": {
      "text/html": [
       "<div>\n",
       "<style scoped>\n",
       "    .dataframe tbody tr th:only-of-type {\n",
       "        vertical-align: middle;\n",
       "    }\n",
       "\n",
       "    .dataframe tbody tr th {\n",
       "        vertical-align: top;\n",
       "    }\n",
       "\n",
       "    .dataframe thead th {\n",
       "        text-align: right;\n",
       "    }\n",
       "</style>\n",
       "<table border=\"1\" class=\"dataframe\">\n",
       "  <thead>\n",
       "    <tr style=\"text-align: right;\">\n",
       "      <th></th>\n",
       "      <th>has_ad_at_beginning</th>\n",
       "      <th>stats.comment</th>\n",
       "    </tr>\n",
       "  </thead>\n",
       "  <tbody>\n",
       "    <tr>\n",
       "      <th>0</th>\n",
       "      <td>False</td>\n",
       "      <td>18642.31250</td>\n",
       "    </tr>\n",
       "    <tr>\n",
       "      <th>1</th>\n",
       "      <td>True</td>\n",
       "      <td>12474.17284</td>\n",
       "    </tr>\n",
       "  </tbody>\n",
       "</table>\n",
       "</div>"
      ],
      "text/plain": [
       "   has_ad_at_beginning  stats.comment\n",
       "0                False    18642.31250\n",
       "1                 True    12474.17284"
      ]
     },
     "execution_count": 10,
     "metadata": {},
     "output_type": "execute_result"
    },
    {
     "data": {
      "text/html": [
       "<div>\n",
       "<style scoped>\n",
       "    .dataframe tbody tr th:only-of-type {\n",
       "        vertical-align: middle;\n",
       "    }\n",
       "\n",
       "    .dataframe tbody tr th {\n",
       "        vertical-align: top;\n",
       "    }\n",
       "\n",
       "    .dataframe thead th {\n",
       "        text-align: right;\n",
       "    }\n",
       "</style>\n",
       "<table border=\"1\" class=\"dataframe\">\n",
       "  <thead>\n",
       "    <tr style=\"text-align: right;\">\n",
       "      <th></th>\n",
       "      <th>has_ad_at_beginning</th>\n",
       "      <th>stats.view</th>\n",
       "    </tr>\n",
       "  </thead>\n",
       "  <tbody>\n",
       "    <tr>\n",
       "      <th>0</th>\n",
       "      <td>False</td>\n",
       "      <td>3.200057e+06</td>\n",
       "    </tr>\n",
       "    <tr>\n",
       "      <th>1</th>\n",
       "      <td>True</td>\n",
       "      <td>2.603019e+06</td>\n",
       "    </tr>\n",
       "  </tbody>\n",
       "</table>\n",
       "</div>"
      ],
      "text/plain": [
       "   has_ad_at_beginning    stats.view\n",
       "0                False  3.200057e+06\n",
       "1                 True  2.603019e+06"
      ]
     },
     "execution_count": 10,
     "metadata": {},
     "output_type": "execute_result"
    }
   ],
   "source": [
    "#we group the data by if there are ads in the begining and caluculte the mean value of likes, comments and views\n",
    "has_ad_likes = df_trending_details.groupby(['has_ad_at_beginning'])['stats.like'].mean()\n",
    "has_ad_comments = df_trending_details.groupby(['has_ad_at_beginning'])['stats.comment'].mean()\n",
    "has_ad_views = df_trending_details.groupby(['has_ad_at_beginning'])['stats.view'].mean()\n",
    "\n",
    "has_ad_likes.reset_index()\n",
    "has_ad_comments.reset_index()\n",
    "has_ad_views.reset_index()"
   ]
  },
  {
   "cell_type": "markdown",
   "metadata": {},
   "source": [
    "# Data Analysis & Results"
   ]
  },
  {
   "cell_type": "markdown",
   "metadata": {},
   "source": [
    "Include cells that describe the steps in your data analysis."
   ]
  },
  {
   "cell_type": "code",
   "execution_count": 11,
   "metadata": {},
   "outputs": [
    {
     "data": {
      "text/plain": [
       "Text(0, 0.5, 'Average likes')"
      ]
     },
     "execution_count": 11,
     "metadata": {},
     "output_type": "execute_result"
    },
    {
     "data": {
      "image/png": "[encoded data removed]",
      "text/plain": [
       "<Figure size 432x288 with 1 Axes>"
      ]
     },
     "metadata": {
      "needs_background": "light"
     },
     "output_type": "display_data"
    },
    {
     "data": {
      "text/plain": [
       "Text(0, 0.5, 'Average comments')"
      ]
     },
     "execution_count": 11,
     "metadata": {},
     "output_type": "execute_result"
    },
    {
     "data": {
      "image/png": "[encoded data removed]",
      "text/plain": [
       "<Figure size 432x288 with 1 Axes>"
      ]
     },
     "metadata": {
      "needs_background": "light"
     },
     "output_type": "display_data"
    },
    {
     "data": {
      "text/plain": [
       "Text(0, 0.5, 'Average views')"
      ]
     },
     "execution_count": 11,
     "metadata": {},
     "output_type": "execute_result"
    },
    {
     "data": {
      "image/png": "[encoded data removed]",
      "text/plain": [
       "<Figure size 432x288 with 1 Axes>"
      ]
     },
     "metadata": {
      "needs_background": "light"
     },
     "output_type": "display_data"
    }
   ],
   "source": [
    "## YOUR CODE HERE\n",
    "## FEEL FREE TO ADD MULTIPLE CELLS PER SECTION\n",
    "ax_likes = has_ad_likes.plot.bar(x= 'has_ad_at_beginning', y= 'stats.like', title= \"Average likes based on exsistence of ads\")\n",
    "ax_likes.set_ylabel(\"Average likes\")\n",
    "plt.show()\n",
    "ax_comments= has_ad_comments.plot.bar(x= 'has_ad_at_beginning', y= 'stats.comment',  title= \"Average comments based on exsistence of ads\")\n",
    "ax_comments.set_ylabel(\"Average comments\")\n",
    "plt.show()\n",
    "ax_views= has_ad_views.plot.bar(x= 'has_ad_at_beginning', y= 'stats.view', title= \"Average views based on exsistence of ads\")\n",
    "ax_views.set_ylabel(\"Average views\")\n",
    "plt.show()"
   ]
  },
  {
   "cell_type": "markdown",
   "metadata": {},
   "source": [
    "The plots above compare the vidoes that had an ad at the begining of the vidoe and videos that do not have ads at the begining of a video. The first plot compares has_ad_at_begining to the average likes. The second plot compares has_ad_at_begining to average comments and the final lot compares has_ad_at_begining to average views. We can see that in all three cases, the popularity of the videos is higher when there is an ad attached to the video. We have to take into consideration that the number of videos that have ads are higher than the videos with out ads. This might is affect the data by creating a bias due to the differnce in number of both cactegories. "
   ]
  },
  {
   "cell_type": "markdown",
   "metadata": {},
   "source": [
    "# Ethics & Privacy"
   ]
  },
  {
   "cell_type": "markdown",
   "metadata": {},
   "source": [
    "*Fill in your ethics & privacy discussion here*"
   ]
  },
  {
   "cell_type": "markdown",
   "metadata": {},
   "source": [
    "# Conclusion & Discussion"
   ]
  },
  {
   "cell_type": "markdown",
   "metadata": {},
   "source": [
    "*Fill in your discussion information here*"
   ]
  },
  {
   "cell_type": "markdown",
   "metadata": {},
   "source": [
    "# Team Contributions"
   ]
  },
  {
   "cell_type": "markdown",
   "metadata": {},
   "source": [
    "*Specify who in your group worked on which parts of the project.*"
   ]
  }
 ],
 "metadata": {
  "kernelspec": {
   "display_name": "Python 3",
   "language": "python",
   "name": "python3"
  },
  "language_info": {
   "codemirror_mode": {
    "name": "ipython",
    "version": 3
   },
   "file_extension": ".py",
   "mimetype": "text/x-python",
   "name": "python",
   "nbconvert_exporter": "python",
   "pygments_lexer": "ipython3",
   "version": "3.7.6"
  }
 },
 "nbformat": 4,
 "nbformat_minor": 2
}
