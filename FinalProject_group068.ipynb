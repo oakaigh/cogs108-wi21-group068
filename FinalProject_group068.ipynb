{
 "cells": [
  {
   "cell_type": "markdown",
   "metadata": {},
   "source": [
    "# COGS 108 - Final Project (change this to your project's title)"
   ]
  },
  {
   "cell_type": "markdown",
   "metadata": {},
   "source": [
    "## Permissions\n",
    "\n",
    "Place an `X` in the appropriate bracket below to specify if you would like your group's project to be made available to the public. (Note that student names will be included (but PIDs will be scraped from any groups who include their PIDs).\n",
    "\n",
    "* [  ] YES - make available\n",
    "* [  ] NO - keep private"
   ]
  },
  {
   "cell_type": "markdown",
   "metadata": {},
   "source": [
    "# Overview"
   ]
  },
  {
   "cell_type": "markdown",
   "metadata": {},
   "source": [
    "*Fill in your overview here*"
   ]
  },
  {
   "cell_type": "markdown",
   "metadata": {},
   "source": [
    "# Names\n",
    "\n",
    "- Jared (Ruotian) Chen\n",
    "- Jimin Cheon\n",
    "- Kane Gu\n",
    "- Laurence D'Ercole\n",
    "- Nisha Davankar"
   ]
  },
  {
   "cell_type": "markdown",
   "metadata": {},
   "source": [
    "<a id='research_question'></a>\n",
    "# Research Question"
   ]
  },
  {
   "cell_type": "markdown",
   "metadata": {},
   "source": [
    "What attributes of a YouTube video affect its popularity in United States?"
   ]
  },
  {
   "cell_type": "markdown",
   "metadata": {},
   "source": [
    "<a id='background'></a>\n",
    "\n",
    "## Background & Prior Work"
   ]
  },
  {
   "cell_type": "markdown",
   "metadata": {},
   "source": [
    "*Fill in your background and prior work here* \n",
    "\n",
    "References (include links):\n",
    "- 1)\n",
    "- 2)"
   ]
  },
  {
   "cell_type": "markdown",
   "metadata": {},
   "source": [
    "# Hypothesis\n"
   ]
  },
  {
   "cell_type": "markdown",
   "metadata": {},
   "source": [
    "Factors that would potentially **affect** a video's popularity:\n",
    "- time created: `time`\n",
    "- duration: `length`\n",
    "- number of tags: `tags`\n",
    "- video category: `category`\n",
    "- video quality: `video.quality`\n",
    "- ad placement: `has_ad\thas_ad_at_beginning`\n",
    "- popularity of youtuber\n",
    "    - time youtuber joined youtube: `creator.time`\n",
    "    - number of followers: `creator.stats.follower`\n",
    "    - total number of views: `creator.stats.view`\n",
    "    - total number of videos: `creator.stats.post`\n",
    "\n",
    "Factors that **determine** a video's long-term popularity:\n",
    "- like/dislike ratio: `stats.like\tstats.dislike`\n",
    "- number of comments: `stats.comment`\n",
    "- number of views: `stats.view`"
   ]
  },
  {
   "cell_type": "markdown",
   "metadata": {},
   "source": [
    "# Dataset(s)"
   ]
  },
  {
   "cell_type": "markdown",
   "metadata": {},
   "source": [
    "*Fill in your dataset information here*\n",
    "\n",
    "(Copy this information for each dataset)\n",
    "- Dataset Name:\n",
    "- Link to the dataset:\n",
    "- Number of observations:\n",
    "\n",
    "1-2 sentences describing each dataset. \n",
    "\n",
    "If you plan to use multiple datasets, add 1-2 sentences about how you plan to combine these datasets."
   ]
  },
  {
   "cell_type": "markdown",
   "metadata": {},
   "source": [
    "# Setup"
   ]
  },
  {
   "cell_type": "code",
   "execution_count": 1,
   "metadata": {},
   "outputs": [],
   "source": [
    "import sys\n",
    "\n",
    "!{sys.executable} -m pip install --quiet --user --upgrade pandas==1.* numpy matplotlib\n",
    "!{sys.executable} -m pip install --quiet --user --upgrade -r EDA/requirements.txt"
   ]
  },
  {
   "cell_type": "code",
   "execution_count": 1,
   "metadata": {},
   "outputs": [],
   "source": [
    "from EDA.goodies import *"
   ]
  },
  {
   "cell_type": "code",
   "execution_count": 33,
   "metadata": {},
   "outputs": [],
   "source": [
    "from EDA.dcollect import restful\n",
    "from EDA.dcollect import api_youtube as youtube\n",
    "from EDA.dcollect import api_youtubei as youtubei\n",
    "\n",
    "import pandas as pd\n",
    "import numpy as np\n",
    "import matplotlib.pyplot as plt\n",
    "from matplotlib.ticker import StrMethodFormatter\n",
    "import seaborn as sns\n",
    "import patsy\n",
    "import statsmodels.api as sm"
   ]
  },
  {
   "cell_type": "markdown",
   "metadata": {},
   "source": [
    "# Data Cleaning"
   ]
  },
  {
   "cell_type": "markdown",
   "metadata": {},
   "source": [
    "Describe your data cleaning steps here."
   ]
  },
  {
   "cell_type": "code",
   "execution_count": 3,
   "metadata": {},
   "outputs": [
    {
     "data": {
      "text/plain": [
       "\"\\ndataset_id = 'random'\\n\\nimport string\\nkeyword = '|'.join(string.ascii_letters)\\n\\n\\n\\ndf_search_details = pd.read_pickle(f'EDA/dsamples/youtube_search_{as_fname(keyword)}_{dataset_id}.pkl')\\n\\n# optional (extra info about channels in our search result)\\n#df_search_details_channels = pd.read_pickle(f'EDA/dsamples/youtube_search_channels_{as_fname(keyword)}_{dataset_id}.pkl')\\n\\n\""
      ]
     },
     "execution_count": 3,
     "metadata": {},
     "output_type": "execute_result"
    },
    {
     "data": {
      "text/markdown": [
       "---"
      ],
      "text/plain": [
       "<IPython.core.display.Markdown object>"
      ]
     },
     "metadata": {},
     "output_type": "display_data"
    },
    {
     "data": {
      "text/markdown": [
       "# Results - Search Results"
      ],
      "text/plain": [
       "<IPython.core.display.Markdown object>"
      ]
     },
     "metadata": {},
     "output_type": "display_data"
    },
    {
     "data": {
      "text/markdown": [
       "## Data Preview"
      ],
      "text/plain": [
       "<IPython.core.display.Markdown object>"
      ]
     },
     "metadata": {},
     "output_type": "display_data"
    },
    {
     "data": {
      "text/html": [
       "<div>\n",
       "<style scoped>\n",
       "    .dataframe tbody tr th:only-of-type {\n",
       "        vertical-align: middle;\n",
       "    }\n",
       "\n",
       "    .dataframe tbody tr th {\n",
       "        vertical-align: top;\n",
       "    }\n",
       "\n",
       "    .dataframe thead th {\n",
       "        text-align: right;\n",
       "    }\n",
       "</style>\n",
       "<table border=\"1\" class=\"dataframe\">\n",
       "  <thead>\n",
       "    <tr style=\"text-align: right;\">\n",
       "      <th></th>\n",
       "      <th>title</th>\n",
       "      <th>description</th>\n",
       "      <th>time</th>\n",
       "      <th>length</th>\n",
       "      <th>tags</th>\n",
       "      <th>category</th>\n",
       "      <th>creator.id</th>\n",
       "      <th>stats.like</th>\n",
       "      <th>stats.dislike</th>\n",
       "      <th>stats.comment</th>\n",
       "      <th>stats.view</th>\n",
       "      <th>video.quality</th>\n",
       "      <th>has_ad</th>\n",
       "      <th>has_ad_at_beginning</th>\n",
       "    </tr>\n",
       "    <tr>\n",
       "      <th>id</th>\n",
       "      <th></th>\n",
       "      <th></th>\n",
       "      <th></th>\n",
       "      <th></th>\n",
       "      <th></th>\n",
       "      <th></th>\n",
       "      <th></th>\n",
       "      <th></th>\n",
       "      <th></th>\n",
       "      <th></th>\n",
       "      <th></th>\n",
       "      <th></th>\n",
       "      <th></th>\n",
       "      <th></th>\n",
       "    </tr>\n",
       "  </thead>\n",
       "  <tbody>\n",
       "    <tr>\n",
       "      <th>bsN96zE8FuE</th>\n",
       "      <td>QAnon 101: The Search for Q</td>\n",
       "      <td>To understand what Q is and why it has been so...</td>\n",
       "      <td>2021-01-25 20:00:06+00:00</td>\n",
       "      <td>0 days 00:46:30</td>\n",
       "      <td>[vice_videos:premiere, politics, internet, mov...</td>\n",
       "      <td>Entertainment</td>\n",
       "      <td>UCn8zNIfYAQNdrFRrr8oibKw</td>\n",
       "      <td>29754.0</td>\n",
       "      <td>5197.0</td>\n",
       "      <td>15663.0</td>\n",
       "      <td>1653957</td>\n",
       "      <td>HD</td>\n",
       "      <td>False</td>\n",
       "      <td>False</td>\n",
       "    </tr>\n",
       "    <tr>\n",
       "      <th>u8Gd9MJsnnE</th>\n",
       "      <td>QAnon: The conspiracy theory spreading fake ne...</td>\n",
       "      <td>Twitter has become the first social media outl...</td>\n",
       "      <td>2020-07-23 23:19:01+00:00</td>\n",
       "      <td>0 days 00:08:59</td>\n",
       "      <td>[QAnon, conspiracy theory, Donald trump, what ...</td>\n",
       "      <td>News &amp; Politics</td>\n",
       "      <td>UC6o-wWU-v2ClFMwougmK7dA</td>\n",
       "      <td>9614.0</td>\n",
       "      <td>6911.0</td>\n",
       "      <td>11210.0</td>\n",
       "      <td>927526</td>\n",
       "      <td>HD</td>\n",
       "      <td>True</td>\n",
       "      <td>True</td>\n",
       "    </tr>\n",
       "    <tr>\n",
       "      <th>Rhum_0F4weU</th>\n",
       "      <td>[NU’EST] Ha99y 9th anniversary ‘Q is.spoiler -...</td>\n",
       "      <td>뉴이스트 9주년 기념 아홉 가지 Q&amp;A!\\n9에 진심인 질문과 답변들이 궁금하다면?...</td>\n",
       "      <td>2021-03-10 06:15:00+00:00</td>\n",
       "      <td>0 days 00:01:02</td>\n",
       "      <td>[뉴이스트, 뉴이스트W, NU'EST, NU'EST W, JR, REN, ARON,...</td>\n",
       "      <td>Music</td>\n",
       "      <td>UCUuyrV8JDv5UAMW2StsL-NA</td>\n",
       "      <td>4350.0</td>\n",
       "      <td>26.0</td>\n",
       "      <td>475.0</td>\n",
       "      <td>14761</td>\n",
       "      <td>HD</td>\n",
       "      <td>True</td>\n",
       "      <td>True</td>\n",
       "    </tr>\n",
       "    <tr>\n",
       "      <th>VGrfN3v5JL8</th>\n",
       "      <td>Sitting Down with QAnon Conspiracy Theorists -...</td>\n",
       "      <td>Jim gathers a group of QAnon conspiracy theori...</td>\n",
       "      <td>2018-08-22 01:18:14+00:00</td>\n",
       "      <td>0 days 00:06:21</td>\n",
       "      <td>[The Jim Jefferies Show, Jim Jefferies, Jim Je...</td>\n",
       "      <td>Comedy</td>\n",
       "      <td>UCUsN5ZwHx2kILm84-jPDeXw</td>\n",
       "      <td>24923.0</td>\n",
       "      <td>9415.0</td>\n",
       "      <td>16787.0</td>\n",
       "      <td>2116763</td>\n",
       "      <td>HD</td>\n",
       "      <td>False</td>\n",
       "      <td>False</td>\n",
       "    </tr>\n",
       "    <tr>\n",
       "      <th>w1kebU_p0CA</th>\n",
       "      <td>Julian Assange on Q (AUDIO ONLY)</td>\n",
       "      <td>In a Canadian broadcast exclusive, controversi...</td>\n",
       "      <td>2014-09-29 14:12:57+00:00</td>\n",
       "      <td>0 days 00:35:07</td>\n",
       "      <td>[cbc, jian ghomeshi, interview, QTV, Julian As...</td>\n",
       "      <td>Entertainment</td>\n",
       "      <td>UC1nw_szfrEsDWcwD32wHE_w</td>\n",
       "      <td>435.0</td>\n",
       "      <td>26.0</td>\n",
       "      <td>144.0</td>\n",
       "      <td>28644</td>\n",
       "      <td>HD</td>\n",
       "      <td>True</td>\n",
       "      <td>True</td>\n",
       "    </tr>\n",
       "  </tbody>\n",
       "</table>\n",
       "</div>"
      ],
      "text/plain": [
       "                                                         title  \\\n",
       "id                                                               \n",
       "bsN96zE8FuE                        QAnon 101: The Search for Q   \n",
       "u8Gd9MJsnnE  QAnon: The conspiracy theory spreading fake ne...   \n",
       "Rhum_0F4weU  [NU’EST] Ha99y 9th anniversary ‘Q is.spoiler -...   \n",
       "VGrfN3v5JL8  Sitting Down with QAnon Conspiracy Theorists -...   \n",
       "w1kebU_p0CA                   Julian Assange on Q (AUDIO ONLY)   \n",
       "\n",
       "                                                   description  \\\n",
       "id                                                               \n",
       "bsN96zE8FuE  To understand what Q is and why it has been so...   \n",
       "u8Gd9MJsnnE  Twitter has become the first social media outl...   \n",
       "Rhum_0F4weU  뉴이스트 9주년 기념 아홉 가지 Q&A!\\n9에 진심인 질문과 답변들이 궁금하다면?...   \n",
       "VGrfN3v5JL8  Jim gathers a group of QAnon conspiracy theori...   \n",
       "w1kebU_p0CA  In a Canadian broadcast exclusive, controversi...   \n",
       "\n",
       "                                 time          length  \\\n",
       "id                                                      \n",
       "bsN96zE8FuE 2021-01-25 20:00:06+00:00 0 days 00:46:30   \n",
       "u8Gd9MJsnnE 2020-07-23 23:19:01+00:00 0 days 00:08:59   \n",
       "Rhum_0F4weU 2021-03-10 06:15:00+00:00 0 days 00:01:02   \n",
       "VGrfN3v5JL8 2018-08-22 01:18:14+00:00 0 days 00:06:21   \n",
       "w1kebU_p0CA 2014-09-29 14:12:57+00:00 0 days 00:35:07   \n",
       "\n",
       "                                                          tags  \\\n",
       "id                                                               \n",
       "bsN96zE8FuE  [vice_videos:premiere, politics, internet, mov...   \n",
       "u8Gd9MJsnnE  [QAnon, conspiracy theory, Donald trump, what ...   \n",
       "Rhum_0F4weU  [뉴이스트, 뉴이스트W, NU'EST, NU'EST W, JR, REN, ARON,...   \n",
       "VGrfN3v5JL8  [The Jim Jefferies Show, Jim Jefferies, Jim Je...   \n",
       "w1kebU_p0CA  [cbc, jian ghomeshi, interview, QTV, Julian As...   \n",
       "\n",
       "                    category                creator.id  stats.like  \\\n",
       "id                                                                   \n",
       "bsN96zE8FuE    Entertainment  UCn8zNIfYAQNdrFRrr8oibKw     29754.0   \n",
       "u8Gd9MJsnnE  News & Politics  UC6o-wWU-v2ClFMwougmK7dA      9614.0   \n",
       "Rhum_0F4weU            Music  UCUuyrV8JDv5UAMW2StsL-NA      4350.0   \n",
       "VGrfN3v5JL8           Comedy  UCUsN5ZwHx2kILm84-jPDeXw     24923.0   \n",
       "w1kebU_p0CA    Entertainment  UC1nw_szfrEsDWcwD32wHE_w       435.0   \n",
       "\n",
       "             stats.dislike  stats.comment  stats.view video.quality  has_ad  \\\n",
       "id                                                                            \n",
       "bsN96zE8FuE         5197.0        15663.0     1653957            HD   False   \n",
       "u8Gd9MJsnnE         6911.0        11210.0      927526            HD    True   \n",
       "Rhum_0F4weU           26.0          475.0       14761            HD    True   \n",
       "VGrfN3v5JL8         9415.0        16787.0     2116763            HD   False   \n",
       "w1kebU_p0CA           26.0          144.0       28644            HD    True   \n",
       "\n",
       "             has_ad_at_beginning  \n",
       "id                                \n",
       "bsN96zE8FuE                False  \n",
       "u8Gd9MJsnnE                 True  \n",
       "Rhum_0F4weU                 True  \n",
       "VGrfN3v5JL8                False  \n",
       "w1kebU_p0CA                 True  "
      ]
     },
     "metadata": {},
     "output_type": "display_data"
    },
    {
     "data": {
      "text/markdown": [
       "## Stats"
      ],
      "text/plain": [
       "<IPython.core.display.Markdown object>"
      ]
     },
     "metadata": {},
     "output_type": "display_data"
    },
    {
     "data": {
      "text/html": [
       "<div>\n",
       "<style scoped>\n",
       "    .dataframe tbody tr th:only-of-type {\n",
       "        vertical-align: middle;\n",
       "    }\n",
       "\n",
       "    .dataframe tbody tr th {\n",
       "        vertical-align: top;\n",
       "    }\n",
       "\n",
       "    .dataframe thead th {\n",
       "        text-align: right;\n",
       "    }\n",
       "</style>\n",
       "<table border=\"1\" class=\"dataframe\">\n",
       "  <thead>\n",
       "    <tr style=\"text-align: right;\">\n",
       "      <th></th>\n",
       "      <th>length</th>\n",
       "      <th>stats.like</th>\n",
       "      <th>stats.dislike</th>\n",
       "      <th>stats.comment</th>\n",
       "      <th>stats.view</th>\n",
       "    </tr>\n",
       "  </thead>\n",
       "  <tbody>\n",
       "    <tr>\n",
       "      <th>count</th>\n",
       "      <td>1282</td>\n",
       "      <td>1.262000e+03</td>\n",
       "      <td>1.262000e+03</td>\n",
       "      <td>1.157000e+03</td>\n",
       "      <td>1.282000e+03</td>\n",
       "    </tr>\n",
       "    <tr>\n",
       "      <th>mean</th>\n",
       "      <td>0 days 00:16:22.436037441</td>\n",
       "      <td>3.681238e+05</td>\n",
       "      <td>4.271235e+04</td>\n",
       "      <td>2.272336e+04</td>\n",
       "      <td>5.977500e+07</td>\n",
       "    </tr>\n",
       "    <tr>\n",
       "      <th>std</th>\n",
       "      <td>0 days 00:46:51.925637944</td>\n",
       "      <td>1.437965e+06</td>\n",
       "      <td>2.184774e+05</td>\n",
       "      <td>1.691643e+05</td>\n",
       "      <td>2.973773e+08</td>\n",
       "    </tr>\n",
       "    <tr>\n",
       "      <th>min</th>\n",
       "      <td>0 days 00:00:00</td>\n",
       "      <td>1.000000e+00</td>\n",
       "      <td>0.000000e+00</td>\n",
       "      <td>0.000000e+00</td>\n",
       "      <td>0.000000e+00</td>\n",
       "    </tr>\n",
       "    <tr>\n",
       "      <th>25%</th>\n",
       "      <td>0 days 00:03:35</td>\n",
       "      <td>3.738250e+03</td>\n",
       "      <td>1.070000e+02</td>\n",
       "      <td>1.170000e+02</td>\n",
       "      <td>1.125988e+05</td>\n",
       "    </tr>\n",
       "    <tr>\n",
       "      <th>50%</th>\n",
       "      <td>0 days 00:08:02</td>\n",
       "      <td>1.947850e+04</td>\n",
       "      <td>1.015000e+03</td>\n",
       "      <td>9.500000e+02</td>\n",
       "      <td>1.273258e+06</td>\n",
       "    </tr>\n",
       "    <tr>\n",
       "      <th>75%</th>\n",
       "      <td>0 days 00:15:08.750000</td>\n",
       "      <td>1.262668e+05</td>\n",
       "      <td>8.589250e+03</td>\n",
       "      <td>5.361000e+03</td>\n",
       "      <td>1.472842e+07</td>\n",
       "    </tr>\n",
       "    <tr>\n",
       "      <th>max</th>\n",
       "      <td>0 days 15:13:24</td>\n",
       "      <td>2.110508e+07</td>\n",
       "      <td>4.142134e+06</td>\n",
       "      <td>5.197883e+06</td>\n",
       "      <td>4.417995e+09</td>\n",
       "    </tr>\n",
       "  </tbody>\n",
       "</table>\n",
       "</div>"
      ],
      "text/plain": [
       "                          length    stats.like  stats.dislike  stats.comment  \\\n",
       "count                       1282  1.262000e+03   1.262000e+03   1.157000e+03   \n",
       "mean   0 days 00:16:22.436037441  3.681238e+05   4.271235e+04   2.272336e+04   \n",
       "std    0 days 00:46:51.925637944  1.437965e+06   2.184774e+05   1.691643e+05   \n",
       "min              0 days 00:00:00  1.000000e+00   0.000000e+00   0.000000e+00   \n",
       "25%              0 days 00:03:35  3.738250e+03   1.070000e+02   1.170000e+02   \n",
       "50%              0 days 00:08:02  1.947850e+04   1.015000e+03   9.500000e+02   \n",
       "75%       0 days 00:15:08.750000  1.262668e+05   8.589250e+03   5.361000e+03   \n",
       "max              0 days 15:13:24  2.110508e+07   4.142134e+06   5.197883e+06   \n",
       "\n",
       "         stats.view  \n",
       "count  1.282000e+03  \n",
       "mean   5.977500e+07  \n",
       "std    2.973773e+08  \n",
       "min    0.000000e+00  \n",
       "25%    1.125988e+05  \n",
       "50%    1.273258e+06  \n",
       "75%    1.472842e+07  \n",
       "max    4.417995e+09  "
      ]
     },
     "metadata": {},
     "output_type": "display_data"
    },
    {
     "data": {
      "text/markdown": [
       "---"
      ],
      "text/plain": [
       "<IPython.core.display.Markdown object>"
      ]
     },
     "metadata": {},
     "output_type": "display_data"
    }
   ],
   "source": [
    "## YOUR CODE HERE\n",
    "## FEEL FREE TO ADD MULTIPLE CELLS PER SECTION\n",
    "\n",
    "'''\n",
    "dataset_id = 'random'\n",
    "\n",
    "import string\n",
    "keyword = '|'.join(string.ascii_letters)\n",
    "\n",
    "\n",
    "\n",
    "df_search_details = pd.read_pickle(f'EDA/dsamples/youtube_search_{as_fname(keyword)}_{dataset_id}.pkl')\n",
    "\n",
    "# optional (extra info about channels in our search result)\n",
    "#df_search_details_channels = pd.read_pickle(f'EDA/dsamples/youtube_search_channels_{as_fname(keyword)}_{dataset_id}.pkl')\n",
    "\n",
    "'''\n",
    "\n",
    "\n",
    "df_search_details = pd.read_pickle('EDA/dsamples/youtube_search_random_ascii.pkl')\n",
    "# optional (extra info about channels in our search result)\n",
    "#df_search_details_channels = pd.read_pickle(f'EDA/dsamples/youtube_search_channels_random_ascii.pkl')\n",
    "\n",
    "df_search_details = df_drop_duplicates(df_search_details, level = 'id')\n",
    "df_report(df_search_details, name = 'Search Results')"
   ]
  },
  {
   "cell_type": "code",
   "execution_count": 4,
   "metadata": {},
   "outputs": [],
   "source": [
    "assert(youtube.types.topic(1).__eq__('Film & Animation'))\n",
    "\n",
    "\n",
    "df_search_details_n = df_search_details.copy()\n",
    "df_search_details_n['category'] = df_search_details_n['category'].astype(str)"
   ]
  },
  {
   "cell_type": "code",
   "execution_count": 5,
   "metadata": {},
   "outputs": [],
   "source": [
    "#df_trending_details = pd.read_pickle('EDA/dsamples/youtube_trending.pkl')\n",
    "\n",
    "# optional (extra info about channels on the chart)\n",
    "#df_trending_details_channels = pd.read_pickle(f'EDA/dsamples/youtube_trending_channels.pkl')\n",
    "\n",
    "#df_report(df_trending_details, name = 'Trending')"
   ]
  },
  {
   "cell_type": "code",
   "execution_count": 6,
   "metadata": {},
   "outputs": [],
   "source": [
    "#We first reset the index of the dataframe\n",
    "df_search_details_n= df_search_details_n.reset_index()"
   ]
  },
  {
   "cell_type": "code",
   "execution_count": 7,
   "metadata": {},
   "outputs": [],
   "source": [
    "#We clean the unecessary information such as dislikes, creator time, creater stats view and creater stats posts\n",
    "del df_search_details_n['id']\n",
    "del df_search_details_n['creator.id']\n",
    "del df_search_details_n['description']\n",
    "del df_search_details_n['time']\n",
    "del df_search_details_n['stats.dislike']\n",
    "del df_search_details_n['video.quality']\n",
    "del df_search_details_n['has_ad']"
   ]
  },
  {
   "cell_type": "code",
   "execution_count": 8,
   "metadata": {},
   "outputs": [],
   "source": [
    "#we group the data by if there are ads in the begining and caluculte the mean value of likes, comments and views\n",
    "has_ad_likes = df_search_details_n.groupby(['has_ad_at_beginning'])['stats.like'].mean()\n",
    "has_ad_comments = df_search_details_n.groupby(['has_ad_at_beginning'])['stats.comment'].mean()\n",
    "has_ad_views = df_search_details_n.groupby(['has_ad_at_beginning'])['stats.view'].mean()\n",
    "\n",
    "has_ad_likes = has_ad_likes.reset_index()\n",
    "has_ad_comments= has_ad_comments.reset_index()\n",
    "has_ad_views= has_ad_views.reset_index()"
   ]
  },
  {
   "cell_type": "code",
   "execution_count": 9,
   "metadata": {},
   "outputs": [],
   "source": [
    "#we group the data based on video category and caluculte the mean value of likes, comments and views\n",
    "category_likes = df_search_details_n.groupby(['category'])['stats.like'].mean()\n",
    "category_comments = df_search_details_n.groupby(['category'])['stats.comment'].mean()\n",
    "category_view = df_search_details_n.groupby(['category'])['stats.view'].mean()\n",
    "\n",
    "category_likes= category_likes.reset_index()\n",
    "category_comments= category_comments.reset_index()\n",
    "category_view= category_view.reset_index()"
   ]
  },
  {
   "cell_type": "code",
   "execution_count": 208,
   "metadata": {},
   "outputs": [
    {
     "data": {
      "text/html": [
       "<div>\n",
       "<style scoped>\n",
       "    .dataframe tbody tr th:only-of-type {\n",
       "        vertical-align: middle;\n",
       "    }\n",
       "\n",
       "    .dataframe tbody tr th {\n",
       "        vertical-align: top;\n",
       "    }\n",
       "\n",
       "    .dataframe thead th {\n",
       "        text-align: right;\n",
       "    }\n",
       "</style>\n",
       "<table border=\"1\" class=\"dataframe\">\n",
       "  <thead>\n",
       "    <tr style=\"text-align: right;\">\n",
       "      <th></th>\n",
       "      <th>Tags</th>\n",
       "      <th>Comments</th>\n",
       "    </tr>\n",
       "  </thead>\n",
       "  <tbody>\n",
       "    <tr>\n",
       "      <th>0</th>\n",
       "      <td>0.0</td>\n",
       "      <td>3.739890</td>\n",
       "    </tr>\n",
       "    <tr>\n",
       "      <th>1</th>\n",
       "      <td>1.0</td>\n",
       "      <td>19.780889</td>\n",
       "    </tr>\n",
       "    <tr>\n",
       "      <th>2</th>\n",
       "      <td>2.0</td>\n",
       "      <td>9.161900</td>\n",
       "    </tr>\n",
       "    <tr>\n",
       "      <th>3</th>\n",
       "      <td>3.0</td>\n",
       "      <td>3.127500</td>\n",
       "    </tr>\n",
       "    <tr>\n",
       "      <th>4</th>\n",
       "      <td>4.0</td>\n",
       "      <td>8.402304</td>\n",
       "    </tr>\n",
       "    <tr>\n",
       "      <th>...</th>\n",
       "      <td>...</td>\n",
       "      <td>...</td>\n",
       "    </tr>\n",
       "    <tr>\n",
       "      <th>62</th>\n",
       "      <td>64.0</td>\n",
       "      <td>0.103000</td>\n",
       "    </tr>\n",
       "    <tr>\n",
       "      <th>63</th>\n",
       "      <td>65.0</td>\n",
       "      <td>0.063000</td>\n",
       "    </tr>\n",
       "    <tr>\n",
       "      <th>64</th>\n",
       "      <td>67.0</td>\n",
       "      <td>15.012000</td>\n",
       "    </tr>\n",
       "    <tr>\n",
       "      <th>65</th>\n",
       "      <td>68.0</td>\n",
       "      <td>14.607000</td>\n",
       "    </tr>\n",
       "    <tr>\n",
       "      <th>66</th>\n",
       "      <td>70.0</td>\n",
       "      <td>2.599000</td>\n",
       "    </tr>\n",
       "  </tbody>\n",
       "</table>\n",
       "<p>67 rows × 2 columns</p>\n",
       "</div>"
      ],
      "text/plain": [
       "    Tags   Comments\n",
       "0    0.0   3.739890\n",
       "1    1.0  19.780889\n",
       "2    2.0   9.161900\n",
       "3    3.0   3.127500\n",
       "4    4.0   8.402304\n",
       "..   ...        ...\n",
       "62  64.0   0.103000\n",
       "63  65.0   0.063000\n",
       "64  67.0  15.012000\n",
       "65  68.0  14.607000\n",
       "66  70.0   2.599000\n",
       "\n",
       "[67 rows x 2 columns]"
      ]
     },
     "execution_count": 208,
     "metadata": {},
     "output_type": "execute_result"
    },
    {
     "data": {
      "text/html": [
       "<div>\n",
       "<style scoped>\n",
       "    .dataframe tbody tr th:only-of-type {\n",
       "        vertical-align: middle;\n",
       "    }\n",
       "\n",
       "    .dataframe tbody tr th {\n",
       "        vertical-align: top;\n",
       "    }\n",
       "\n",
       "    .dataframe thead th {\n",
       "        text-align: right;\n",
       "    }\n",
       "</style>\n",
       "<table border=\"1\" class=\"dataframe\">\n",
       "  <thead>\n",
       "    <tr style=\"text-align: right;\">\n",
       "      <th></th>\n",
       "      <th>Tags</th>\n",
       "      <th>Views</th>\n",
       "    </tr>\n",
       "  </thead>\n",
       "  <tbody>\n",
       "    <tr>\n",
       "      <th>0</th>\n",
       "      <td>0.0</td>\n",
       "      <td>6.604550e+06</td>\n",
       "    </tr>\n",
       "    <tr>\n",
       "      <th>1</th>\n",
       "      <td>1.0</td>\n",
       "      <td>8.979970e+06</td>\n",
       "    </tr>\n",
       "    <tr>\n",
       "      <th>2</th>\n",
       "      <td>2.0</td>\n",
       "      <td>1.203471e+08</td>\n",
       "    </tr>\n",
       "    <tr>\n",
       "      <th>3</th>\n",
       "      <td>3.0</td>\n",
       "      <td>5.848732e+06</td>\n",
       "    </tr>\n",
       "    <tr>\n",
       "      <th>4</th>\n",
       "      <td>4.0</td>\n",
       "      <td>3.907994e+07</td>\n",
       "    </tr>\n",
       "    <tr>\n",
       "      <th>...</th>\n",
       "      <td>...</td>\n",
       "      <td>...</td>\n",
       "    </tr>\n",
       "    <tr>\n",
       "      <th>62</th>\n",
       "      <td>64.0</td>\n",
       "      <td>5.746900e+04</td>\n",
       "    </tr>\n",
       "    <tr>\n",
       "      <th>63</th>\n",
       "      <td>65.0</td>\n",
       "      <td>2.540900e+04</td>\n",
       "    </tr>\n",
       "    <tr>\n",
       "      <th>64</th>\n",
       "      <td>67.0</td>\n",
       "      <td>2.493442e+06</td>\n",
       "    </tr>\n",
       "    <tr>\n",
       "      <th>65</th>\n",
       "      <td>68.0</td>\n",
       "      <td>9.826916e+06</td>\n",
       "    </tr>\n",
       "    <tr>\n",
       "      <th>66</th>\n",
       "      <td>70.0</td>\n",
       "      <td>5.244450e+05</td>\n",
       "    </tr>\n",
       "  </tbody>\n",
       "</table>\n",
       "<p>67 rows × 2 columns</p>\n",
       "</div>"
      ],
      "text/plain": [
       "    Tags         Views\n",
       "0    0.0  6.604550e+06\n",
       "1    1.0  8.979970e+06\n",
       "2    2.0  1.203471e+08\n",
       "3    3.0  5.848732e+06\n",
       "4    4.0  3.907994e+07\n",
       "..   ...           ...\n",
       "62  64.0  5.746900e+04\n",
       "63  65.0  2.540900e+04\n",
       "64  67.0  2.493442e+06\n",
       "65  68.0  9.826916e+06\n",
       "66  70.0  5.244450e+05\n",
       "\n",
       "[67 rows x 2 columns]"
      ]
     },
     "execution_count": 208,
     "metadata": {},
     "output_type": "execute_result"
    },
    {
     "data": {
      "text/html": [
       "<div>\n",
       "<style scoped>\n",
       "    .dataframe tbody tr th:only-of-type {\n",
       "        vertical-align: middle;\n",
       "    }\n",
       "\n",
       "    .dataframe tbody tr th {\n",
       "        vertical-align: top;\n",
       "    }\n",
       "\n",
       "    .dataframe thead th {\n",
       "        text-align: right;\n",
       "    }\n",
       "</style>\n",
       "<table border=\"1\" class=\"dataframe\">\n",
       "  <thead>\n",
       "    <tr style=\"text-align: right;\">\n",
       "      <th></th>\n",
       "      <th>Tags</th>\n",
       "      <th>Views</th>\n",
       "    </tr>\n",
       "  </thead>\n",
       "  <tbody>\n",
       "    <tr>\n",
       "      <th>0</th>\n",
       "      <td>0.0</td>\n",
       "      <td>66.045497</td>\n",
       "    </tr>\n",
       "    <tr>\n",
       "      <th>1</th>\n",
       "      <td>1.0</td>\n",
       "      <td>89.799697</td>\n",
       "    </tr>\n",
       "    <tr>\n",
       "      <th>2</th>\n",
       "      <td>2.0</td>\n",
       "      <td>1203.471483</td>\n",
       "    </tr>\n",
       "    <tr>\n",
       "      <th>3</th>\n",
       "      <td>3.0</td>\n",
       "      <td>58.487322</td>\n",
       "    </tr>\n",
       "    <tr>\n",
       "      <th>4</th>\n",
       "      <td>4.0</td>\n",
       "      <td>390.799360</td>\n",
       "    </tr>\n",
       "    <tr>\n",
       "      <th>...</th>\n",
       "      <td>...</td>\n",
       "      <td>...</td>\n",
       "    </tr>\n",
       "    <tr>\n",
       "      <th>62</th>\n",
       "      <td>64.0</td>\n",
       "      <td>0.574690</td>\n",
       "    </tr>\n",
       "    <tr>\n",
       "      <th>63</th>\n",
       "      <td>65.0</td>\n",
       "      <td>0.254090</td>\n",
       "    </tr>\n",
       "    <tr>\n",
       "      <th>64</th>\n",
       "      <td>67.0</td>\n",
       "      <td>24.934420</td>\n",
       "    </tr>\n",
       "    <tr>\n",
       "      <th>65</th>\n",
       "      <td>68.0</td>\n",
       "      <td>98.269160</td>\n",
       "    </tr>\n",
       "    <tr>\n",
       "      <th>66</th>\n",
       "      <td>70.0</td>\n",
       "      <td>5.244450</td>\n",
       "    </tr>\n",
       "  </tbody>\n",
       "</table>\n",
       "<p>67 rows × 2 columns</p>\n",
       "</div>"
      ],
      "text/plain": [
       "    Tags        Views\n",
       "0    0.0    66.045497\n",
       "1    1.0    89.799697\n",
       "2    2.0  1203.471483\n",
       "3    3.0    58.487322\n",
       "4    4.0   390.799360\n",
       "..   ...          ...\n",
       "62  64.0     0.574690\n",
       "63  65.0     0.254090\n",
       "64  67.0    24.934420\n",
       "65  68.0    98.269160\n",
       "66  70.0     5.244450\n",
       "\n",
       "[67 rows x 2 columns]"
      ]
     },
     "execution_count": 208,
     "metadata": {},
     "output_type": "execute_result"
    }
   ],
   "source": [
    "#we group the data based on tags and calculate the mean value of likes, comments and views\n",
    "#Replace rows with Nan with 0 tags, and count number of tags in each cell\n",
    "numTags = df_search_details_n['tags'].str.len()\n",
    "numTags = numTags.fillna(0)\n",
    "\n",
    "#For likes\n",
    "tags_likes = pd.DataFrame({'Tags': numTags, 'Likes': df_search_details_n['stats.like']})\n",
    "tags_likes = tags_likes.groupby(['Tags']).mean()\n",
    "tags_likes = tags_likes.reset_index()\n",
    "\n",
    "#Divide by 1000 to make graph less cluttered\n",
    "tags_likes['Likes'] = tags_likes['Likes'].div(1000)\n",
    "\n",
    "#For comments\n",
    "tags_comments = pd.DataFrame({'Tags': numTags, 'Comments': df_search_details_n['stats.comment']})\n",
    "tags_comments = tags_comments.groupby(['Tags']).mean()\n",
    "tags_comments = tags_comments.reset_index()\n",
    "\n",
    "#Divide by 1000 to make graph less cluttered\n",
    "tags_comments['Comments'] = tags_comments['Comments'].div(1000)\n",
    "tags_comments\n",
    "\n",
    "#For views\n",
    "tags_views = pd.DataFrame({'Tags': numTags, 'Views': df_search_details_n['stats.view']})\n",
    "tags_views = tags_views.groupby(['Tags']).mean()\n",
    "tags_views = tags_views.reset_index()\n",
    "tags_views\n",
    "\n",
    "#Divide by 100000 to make graph less cluttered\n",
    "tags_views['Views'] = tags_views['Views'].div(100000)\n",
    "tags_views"
   ]
  },
  {
   "cell_type": "markdown",
   "metadata": {},
   "source": [
    "# Data Analysis & Results"
   ]
  },
  {
   "cell_type": "markdown",
   "metadata": {},
   "source": [
    "Include cells that describe the steps in your data analysis."
   ]
  },
  {
   "cell_type": "code",
   "execution_count": 11,
   "metadata": {},
   "outputs": [
    {
     "data": {
      "text/plain": [
       "Text(0, 0.5, 'Average likes')"
      ]
     },
     "execution_count": 11,
     "metadata": {},
     "output_type": "execute_result"
    },
    {
     "data": {
      "image/png": "[encoded data removed]",
      "text/plain": [
       "<Figure size 432x288 with 1 Axes>"
      ]
     },
     "metadata": {
      "needs_background": "light"
     },
     "output_type": "display_data"
    },
    {
     "data": {
      "text/plain": [
       "Text(0, 0.5, 'Average comments')"
      ]
     },
     "execution_count": 11,
     "metadata": {},
     "output_type": "execute_result"
    },
    {
     "data": {
      "image/png": "[encoded data removed]",
      "text/plain": [
       "<Figure size 432x288 with 1 Axes>"
      ]
     },
     "metadata": {
      "needs_background": "light"
     },
     "output_type": "display_data"
    },
    {
     "data": {
      "text/plain": [
       "Text(0, 0.5, 'Average views')"
      ]
     },
     "execution_count": 11,
     "metadata": {},
     "output_type": "execute_result"
    },
    {
     "data": {
      "image/png": "[encoded data removed]",
      "text/plain": [
       "<Figure size 432x288 with 1 Axes>"
      ]
     },
     "metadata": {
      "needs_background": "light"
     },
     "output_type": "display_data"
    }
   ],
   "source": [
    "#We plot the averagepopularity (likes, comments, views) compared to the exsistence of ads\n",
    "ax_likes = has_ad_likes.plot.bar(x= 'has_ad_at_beginning', y= 'stats.like', title= \"Average likes based on exsistence of ads\")\n",
    "ax_likes.set_ylabel(\"Average likes\")\n",
    "plt.show()\n",
    "ax_comments= has_ad_comments.plot.bar(x= 'has_ad_at_beginning', y= 'stats.comment',  title= \"Average comments based on exsistence of ads\")\n",
    "ax_comments.set_ylabel(\"Average comments\")\n",
    "plt.show()\n",
    "ax_views= has_ad_views.plot.bar(x= 'has_ad_at_beginning', y= 'stats.view', title= \"Average views based on exsistence of ads\")\n",
    "ax_views.set_ylabel(\"Average views\")\n",
    "plt.show()"
   ]
  },
  {
   "cell_type": "markdown",
   "metadata": {},
   "source": [
    "The plots above compare the vidoes that had an ad at the begining of the vidoe and videos that do not have ads at the begining of a video. The first plot compares has_ad_at_begining to the average likes. The second plot compares has_ad_at_begining to average comments and the final lot compares has_ad_at_begining to average views. We can see that in all three cases, the popularity of the videos is higher when there is an ad attached to the video. "
   ]
  },
  {
   "cell_type": "code",
   "execution_count": 12,
   "metadata": {},
   "outputs": [
    {
     "data": {
      "text/plain": [
       "Text(0, 0.5, 'Average likes')"
      ]
     },
     "execution_count": 12,
     "metadata": {},
     "output_type": "execute_result"
    },
    {
     "data": {
      "image/png": "[encoded data removed]",
      "text/plain": [
       "<Figure size 432x288 with 1 Axes>"
      ]
     },
     "metadata": {
      "needs_background": "light"
     },
     "output_type": "display_data"
    },
    {
     "data": {
      "text/plain": [
       "Text(0, 0.5, 'Average comments')"
      ]
     },
     "execution_count": 12,
     "metadata": {},
     "output_type": "execute_result"
    },
    {
     "data": {
      "image/png": "[encoded data removed]",
      "text/plain": [
       "<Figure size 432x288 with 1 Axes>"
      ]
     },
     "metadata": {
      "needs_background": "light"
     },
     "output_type": "display_data"
    },
    {
     "data": {
      "text/plain": [
       "Text(0, 0.5, 'Average views')"
      ]
     },
     "execution_count": 12,
     "metadata": {},
     "output_type": "execute_result"
    },
    {
     "data": {
      "image/png": "[encoded data removed]",
      "text/plain": [
       "<Figure size 432x288 with 1 Axes>"
      ]
     },
     "metadata": {
      "needs_background": "light"
     },
     "output_type": "display_data"
    }
   ],
   "source": [
    "#We plot the averagepopularity (likes, comments, views) compared to the category of the videos\n",
    "ax_category_likes = category_likes.plot.bar(x= 'category', y= 'stats.like', title= \"Average likes based on category of video\")\n",
    "ax_category_likes.set_ylabel(\"Average likes\")\n",
    "plt.show()\n",
    "ax_category_comments = category_comments.plot.bar(x= 'category', y= 'stats.comment', title= \"Average comments based on category of video\")\n",
    "ax_category_comments.set_ylabel(\"Average comments\")\n",
    "plt.show()\n",
    "ax_category_views = category_view.plot.bar(x= 'category', y= 'stats.view', title= \"Average views based on category of video\")\n",
    "ax_category_views.set_ylabel(\"Average views\")\n",
    "plt.show()"
   ]
  },
  {
   "cell_type": "markdown",
   "metadata": {},
   "source": [
    "The plots above compare the the category of the videos and to the popularity of videos The first plot compares category to the average likes. The second plot compares category to average comments and the final lot compares category to average views. We can see that in all three cases, that the music category has high popularity is comparison to the other categories. We also notice that within popularity, views are high in the pets and animals category."
   ]
  },
  {
   "cell_type": "code",
   "execution_count": 218,
   "metadata": {},
   "outputs": [
    {
     "data": {
      "text/plain": [
       "<AxesSubplot:xlabel='bin', ylabel='Likes'>"
      ]
     },
     "execution_count": 218,
     "metadata": {},
     "output_type": "execute_result"
    },
    {
     "data": {
      "text/plain": [
       "Text(0.5, 1.0, 'Likes vs Tags')"
      ]
     },
     "execution_count": 218,
     "metadata": {},
     "output_type": "execute_result"
    },
    {
     "data": {
      "text/plain": [
       "Text(0.5, 0, 'Number of Tags (Count)')"
      ]
     },
     "execution_count": 218,
     "metadata": {},
     "output_type": "execute_result"
    },
    {
     "data": {
      "text/plain": [
       "Text(0, 0.5, 'Number of Likes (Thousands)')"
      ]
     },
     "execution_count": 218,
     "metadata": {},
     "output_type": "execute_result"
    },
    {
     "data": {
      "image/png": "[encoded data removed]",
      "text/plain": [
       "<Figure size 432x288 with 1 Axes>"
      ]
     },
     "metadata": {
      "needs_background": "light"
     },
     "output_type": "display_data"
    }
   ],
   "source": [
    "# Compare the number of likes to number of tags\n",
    "\n",
    "#Fixes the issue where 0 tages was not being binned into first bin\n",
    "tags_likes.at[0,'Tags'] = 1\n",
    "tags_likes['bin'] = pd.cut(tags_likes['Tags'], bins=range(0,71,10), labels=[f'{l}-{l+10}' for l in range(0,61,10)])\n",
    "\n",
    "sns.barplot(x='bin', y='Likes', color=\"#87bf89\", data=tags_likes, ci=None)\n",
    "plt.title(\"Likes vs Tags\")\n",
    "plt.xlabel(\"Number of Tags (Count)\")\n",
    "plt.ylabel(\"Number of Likes (Thousands)\")"
   ]
  },
  {
   "cell_type": "code",
   "execution_count": 219,
   "metadata": {},
   "outputs": [
    {
     "data": {
      "text/plain": [
       "[Text(0.5, 0, 'Number of Tags'), Text(0, 0.5, 'Number of Likes')]"
      ]
     },
     "execution_count": 219,
     "metadata": {},
     "output_type": "execute_result"
    },
    {
     "data": {
      "image/png": "[encoded data removed]",
      "text/plain": [
       "<Figure size 432x288 with 1 Axes>"
      ]
     },
     "metadata": {
      "needs_background": "light"
     },
     "output_type": "display_data"
    }
   ],
   "source": [
    "ax3 = sns.regplot(x=\"Tags\", y= \"Likes\", color= \"#87bf89\", data=tags_likes)\n",
    "ax3.set(xlabel='Number of Tags', ylabel='Number of Likes')"
   ]
  },
  {
   "cell_type": "code",
   "execution_count": 220,
   "metadata": {},
   "outputs": [
    {
     "data": {
      "text/plain": [
       "<AxesSubplot:xlabel='bin', ylabel='Comments'>"
      ]
     },
     "execution_count": 220,
     "metadata": {},
     "output_type": "execute_result"
    },
    {
     "data": {
      "text/plain": [
       "Text(0.5, 1.0, 'Comments vs Tags')"
      ]
     },
     "execution_count": 220,
     "metadata": {},
     "output_type": "execute_result"
    },
    {
     "data": {
      "text/plain": [
       "Text(0.5, 0, 'Number of Tags (Count)')"
      ]
     },
     "execution_count": 220,
     "metadata": {},
     "output_type": "execute_result"
    },
    {
     "data": {
      "text/plain": [
       "Text(0, 0.5, 'Number of Comments (Thousands)')"
      ]
     },
     "execution_count": 220,
     "metadata": {},
     "output_type": "execute_result"
    },
    {
     "data": {
      "image/png": "[encoded data removed]",
      "text/plain": [
       "<Figure size 432x288 with 1 Axes>"
      ]
     },
     "metadata": {
      "needs_background": "light"
     },
     "output_type": "display_data"
    }
   ],
   "source": [
    "# Compare the number of comments to number of tags\n",
    "\n",
    "#Fixes the issue where 0 tages was not being binned into first bin\n",
    "tags_comments.at[0,'Tags'] = 1\n",
    "tags_comments['bin'] = pd.cut(tags_likes['Tags'], bins=range(0,71,10), labels=[f'{l}-{l+10}' for l in range(0,61,10)])\n",
    "\n",
    "sns.barplot(x='bin', y='Comments', color=\"#87bf89\", data=tags_comments, ci=None)\n",
    "plt.title(\"Comments vs Tags\")\n",
    "plt.xlabel(\"Number of Tags (Count)\")\n",
    "plt.ylabel(\"Number of Comments (Thousands)\")"
   ]
  },
  {
   "cell_type": "code",
   "execution_count": 221,
   "metadata": {},
   "outputs": [
    {
     "data": {
      "text/plain": [
       "<AxesSubplot:xlabel='bin', ylabel='Views'>"
      ]
     },
     "execution_count": 221,
     "metadata": {},
     "output_type": "execute_result"
    },
    {
     "data": {
      "text/plain": [
       "Text(0.5, 1.0, 'Views vs Tags')"
      ]
     },
     "execution_count": 221,
     "metadata": {},
     "output_type": "execute_result"
    },
    {
     "data": {
      "text/plain": [
       "Text(0.5, 0, 'Number of Tags (Count)')"
      ]
     },
     "execution_count": 221,
     "metadata": {},
     "output_type": "execute_result"
    },
    {
     "data": {
      "text/plain": [
       "Text(0, 0.5, 'Number of Views (Hundred Thousands)')"
      ]
     },
     "execution_count": 221,
     "metadata": {},
     "output_type": "execute_result"
    },
    {
     "data": {
      "image/png": "[encoded data removed]",
      "text/plain": [
       "<Figure size 432x288 with 1 Axes>"
      ]
     },
     "metadata": {
      "needs_background": "light"
     },
     "output_type": "display_data"
    }
   ],
   "source": [
    "# Compare the number of views to number of tags\n",
    "\n",
    "#Fixes the issue where 0 tags was not being binned into first bin\n",
    "tags_views.at[0,'Tags'] = 1\n",
    "tags_views['bin'] = pd.cut(tags_likes['Tags'], bins=range(0,71,10), labels=[f'{l}-{l+10}' for l in range(0,61,10)])\n",
    "\n",
    "sns.barplot(x='bin', y='Views', color=\"#87bf89\", data=tags_views, ci=None)\n",
    "plt.title(\"Views vs Tags\")\n",
    "plt.xlabel(\"Number of Tags (Count)\")\n",
    "plt.ylabel(\"Number of Views (Hundred Thousands)\")"
   ]
  },
  {
   "cell_type": "markdown",
   "metadata": {},
   "source": [
    "-The above three plots compare the number of tags to likes, comments, and views. When observing all three graphs, 40-50 tags consistently seem to perform relatively well in each metric. This is apparent in Likes vs Tags and Views vs Tags distribution, but less so in Comments vs Tags plot due to it being a bimodal distribution. "
   ]
  },
  {
   "cell_type": "markdown",
   "metadata": {},
   "source": [
    "# Ethics & Privacy"
   ]
  },
  {
   "cell_type": "code",
   "execution_count": null,
   "metadata": {},
   "outputs": [],
   "source": []
  },
  {
   "cell_type": "markdown",
   "metadata": {},
   "source": [
    "*Fill in your ethics & privacy discussion here*"
   ]
  },
  {
   "cell_type": "markdown",
   "metadata": {},
   "source": [
    "# Conclusion & Discussion"
   ]
  },
  {
   "cell_type": "markdown",
   "metadata": {},
   "source": [
    "*Fill in your discussion information here*"
   ]
  },
  {
   "cell_type": "markdown",
   "metadata": {},
   "source": [
    "# Team Contributions"
   ]
  },
  {
   "cell_type": "markdown",
   "metadata": {},
   "source": [
    "*Specify who in your group worked on which parts of the project.*"
   ]
  }
 ],
 "metadata": {
  "kernelspec": {
   "display_name": "Python 3",
   "language": "python",
   "name": "python3"
  },
  "language_info": {
   "codemirror_mode": {
    "name": "ipython",
    "version": 3
   },
   "file_extension": ".py",
   "mimetype": "text/x-python",
   "name": "python",
   "nbconvert_exporter": "python",
   "pygments_lexer": "ipython3",
   "version": "3.8.5"
  }
 },
 "nbformat": 4,
 "nbformat_minor": 4
}
