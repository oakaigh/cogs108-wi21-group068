{
 "cells": [
  {
   "cell_type": "markdown",
   "metadata": {},
   "source": [
    "# COGS 108 - Final Project (change this to your project's title)"
   ]
  },
  {
   "cell_type": "markdown",
   "metadata": {},
   "source": [
    "## Permissions\n",
    "\n",
    "Place an `X` in the appropriate bracket below to specify if you would like your group's project to be made available to the public. (Note that student names will be included (but PIDs will be scraped from any groups who include their PIDs).\n",
    "\n",
    "* [  ] YES - make available\n",
    "* [  ] NO - keep private"
   ]
  },
  {
   "cell_type": "markdown",
   "metadata": {},
   "source": [
    "# Overview"
   ]
  },
  {
   "cell_type": "markdown",
   "metadata": {},
   "source": [
    "*Fill in your overview here*"
   ]
  },
  {
   "cell_type": "markdown",
   "metadata": {},
   "source": [
    "# Names\n",
    "\n",
    "- Jared (Ruotian) Chen\n",
    "- Jimin Cheon\n",
    "- Kane Gu\n",
    "- Laurence D'Ercole\n",
    "- Nisha Davankar"
   ]
  },
  {
   "cell_type": "markdown",
   "metadata": {},
   "source": [
    "<a id='research_question'></a>\n",
    "# Research Question"
   ]
  },
  {
   "cell_type": "markdown",
   "metadata": {},
   "source": [
    "What attributes of a YouTube video affect its popularity in United States?"
   ]
  },
  {
   "cell_type": "markdown",
   "metadata": {},
   "source": [
    "<a id='background'></a>\n",
    "\n",
    "## Background & Prior Work"
   ]
  },
  {
   "cell_type": "markdown",
   "metadata": {},
   "source": [
    "*Fill in your background and prior work here* \n",
    "\n",
    "References (include links):\n",
    "- 1)\n",
    "- 2)"
   ]
  },
  {
   "cell_type": "markdown",
   "metadata": {},
   "source": [
    "# Hypothesis\n"
   ]
  },
  {
   "cell_type": "markdown",
   "metadata": {},
   "source": [
    "Factors that would potentially **affect** a video's popularity:\n",
    "- time created: `time`\n",
    "- duration: `length`\n",
    "- number of tags: `tags`\n",
    "- video category: `category`\n",
    "- video quality: `video.quality`\n",
    "- ad placement: `has_ad\thas_ad_at_beginning`\n",
    "- popularity of youtuber\n",
    "    - time youtuber joined youtube: `creator.time`\n",
    "    - number of followers: `creator.stats.follower`\n",
    "    - total number of views: `creator.stats.view`\n",
    "    - total number of videos: `creator.stats.post`\n",
    "\n",
    "Factors that **determine** a video's long-term popularity:\n",
    "- like/dislike ratio: `stats.like\tstats.dislike`\n",
    "- number of comments: `stats.comment`\n",
    "- number of views: `stats.view`"
   ]
  },
  {
   "cell_type": "markdown",
   "metadata": {},
   "source": [
    "# Dataset(s)"
   ]
  },
  {
   "cell_type": "markdown",
   "metadata": {},
   "source": [
    "*Fill in your dataset information here*\n",
    "\n",
    "(Copy this information for each dataset)\n",
    "- Dataset Name:\n",
    "- Link to the dataset:\n",
    "- Number of observations:\n",
    "\n",
    "1-2 sentences describing each dataset. \n",
    "\n",
    "If you plan to use multiple datasets, add 1-2 sentences about how you plan to combine these datasets."
   ]
  },
  {
   "cell_type": "markdown",
   "metadata": {},
   "source": [
    "# Setup"
   ]
  },
  {
   "cell_type": "code",
   "execution_count": 27,
   "metadata": {},
   "outputs": [],
   "source": [
    "import sys\n",
    "\n",
    "!{sys.executable} -m pip install --quiet --user --upgrade pandas==1.*\n",
    "!{sys.executable} -m pip install --quiet --user --upgrade -r EDA/requirements.txt"
   ]
  },
  {
   "cell_type": "code",
   "execution_count": 28,
   "metadata": {},
   "outputs": [],
   "source": [
    "import IPython\n",
    "import IPython.display as disp\n",
    "\n",
    "IPython.core.interactiveshell.\\\n",
    "    InteractiveShell.ast_node_interactivity = \"all\"\n",
    "\n",
    "def clear():\n",
    "    disp.clear_output(wait = True)\n",
    "\n",
    "def output(disp_os):\n",
    "    for d in disp_os:\n",
    "        disp.display(d)\n",
    "\n",
    "def results_report(disp_os, name = ''):\n",
    "    output([\n",
    "            disp.Markdown('---'), \n",
    "            disp.Markdown(f'# Results - {name}')\n",
    "        ] + disp_os + \n",
    "        [disp.Markdown('---')]\n",
    "    )"
   ]
  },
  {
   "cell_type": "code",
   "execution_count": 29,
   "metadata": {},
   "outputs": [],
   "source": [
    "from dcollect import restful\n",
    "from dcollect import api_youtube as youtube\n",
    "from dcollect import api_youtubei as youtubei\n",
    "\n",
    "import pandas as pd\n",
    "\n",
    "\n",
    "def df_report(dfs, full = False, *args, **kwargs):\n",
    "    dfs = [dfs] if not isinstance(dfs, list) else dfs\n",
    "    for df in dfs:\n",
    "        results_report([\n",
    "            disp.Markdown('## Data Preview'),\n",
    "            df.head() if not full else df,\n",
    "            disp.Markdown('## Stats'),\n",
    "            df.describe()\n",
    "        ], *args, **kwargs)"
   ]
  },
  {
   "cell_type": "markdown",
   "metadata": {},
   "source": [
    "# Data Cleaning"
   ]
  },
  {
   "cell_type": "markdown",
   "metadata": {},
   "source": [
    "Describe your data cleaning steps here."
   ]
  },
  {
   "cell_type": "code",
   "execution_count": 30,
   "metadata": {},
   "outputs": [],
   "source": [
    "## YOUR CODE HERE\n",
    "## FEEL FREE TO ADD MULTIPLE CELLS PER SECTION"
   ]
  },
  {
   "cell_type": "markdown",
   "metadata": {},
   "source": [
    "# Data Analysis & Results"
   ]
  },
  {
   "cell_type": "markdown",
   "metadata": {},
   "source": [
    "Include cells that describe the steps in your data analysis."
   ]
  },
  {
   "cell_type": "code",
   "execution_count": 31,
   "metadata": {},
   "outputs": [
    {
     "output_type": "display_data",
     "data": {
      "text/plain": "<IPython.core.display.Markdown object>",
      "text/markdown": "---"
     },
     "metadata": {}
    },
    {
     "output_type": "display_data",
     "data": {
      "text/plain": "<IPython.core.display.Markdown object>",
      "text/markdown": "# Results - Search Results"
     },
     "metadata": {}
    },
    {
     "output_type": "display_data",
     "data": {
      "text/plain": "<IPython.core.display.Markdown object>",
      "text/markdown": "## Data Preview"
     },
     "metadata": {}
    },
    {
     "output_type": "display_data",
     "data": {
      "text/plain": "                                                                                  title  \\\nid          creator.id                                                                    \n94JBhbeTiMI UC56D-IHcUvLVFTX_8NpQMXg     I GOT MARRIED TO MY BEST FRIEND FOR 24 HOURS!!   \ndKJh3_OnPZ8 UCBJeMCIeLQos7wacox4hmLQ  Roma 1-2 Milan | Milan keep the pressure on In...   \nw1B-NvBVtrw UC9-OpMMVoNP5o10_Iyq7Ndw  Giannis Antetokounmpo Throws Down Monster Slam...   \neYO7Ccj1Iok UCDkl5M0WVaddTWE4rr2cSeA  DES MEILLEURES AMIES ECHANGENT LEURS VIES PEND...   \n\n                                                                            description  \\\nid          creator.id                                                                    \n94JBhbeTiMI UC56D-IHcUvLVFTX_8NpQMXg  IF WE GET 400K LIKES, ME AND PIERSON WILL BE P...   \ndKJh3_OnPZ8 UCBJeMCIeLQos7wacox4hmLQ  Rebic scored the winner for Milan, as they kee...   \nw1B-NvBVtrw UC9-OpMMVoNP5o10_Iyq7Ndw  GREEK FREAK CALLED GAME. \\n\\r\\nSubscribe: http...   \neYO7Ccj1Iok UCDkl5M0WVaddTWE4rr2cSeA  Je connais ma meilleure amie Solene depuis 22 ...   \n\n                                                          time  \\\nid          creator.id                                           \n94JBhbeTiMI UC56D-IHcUvLVFTX_8NpQMXg 2021-02-28 01:30:01+00:00   \ndKJh3_OnPZ8 UCBJeMCIeLQos7wacox4hmLQ 2021-02-28 22:43:51+00:00   \nw1B-NvBVtrw UC9-OpMMVoNP5o10_Iyq7Ndw 2021-02-28 23:11:18+00:00   \neYO7Ccj1Iok UCDkl5M0WVaddTWE4rr2cSeA 2021-02-28 20:13:20+00:00   \n\n                                              length  \\\nid          creator.id                                 \n94JBhbeTiMI UC56D-IHcUvLVFTX_8NpQMXg 0 days 00:09:06   \ndKJh3_OnPZ8 UCBJeMCIeLQos7wacox4hmLQ 0 days 00:04:14   \nw1B-NvBVtrw UC9-OpMMVoNP5o10_Iyq7Ndw 0 days 00:00:52   \neYO7Ccj1Iok UCDkl5M0WVaddTWE4rr2cSeA 0 days 00:23:29   \n\n                                                                                   tags  \\\nid          creator.id                                                                    \n94JBhbeTiMI UC56D-IHcUvLVFTX_8NpQMXg                                               None   \ndKJh3_OnPZ8 UCBJeMCIeLQos7wacox4hmLQ  [Ronaldo, Serie A, Dybala, highlights, Juventu...   \nw1B-NvBVtrw UC9-OpMMVoNP5o10_Iyq7Ndw  [bleacher report, br, nba, giannis antetokounm...   \neYO7Ccj1Iok UCDkl5M0WVaddTWE4rr2cSeA  [lena situations, lena, lena situation, situat...   \n\n                                            category  stats.like  \\\nid          creator.id                                             \n94JBhbeTiMI UC56D-IHcUvLVFTX_8NpQMXg   Entertainment      611225   \ndKJh3_OnPZ8 UCBJeMCIeLQos7wacox4hmLQ          Sports       35505   \nw1B-NvBVtrw UC9-OpMMVoNP5o10_Iyq7Ndw          Sports        4951   \neYO7Ccj1Iok UCDkl5M0WVaddTWE4rr2cSeA  People & Blogs      112570   \n\n                                      stats.dislike  stats.comment  \\\nid          creator.id                                               \n94JBhbeTiMI UC56D-IHcUvLVFTX_8NpQMXg           4408          37227   \ndKJh3_OnPZ8 UCBJeMCIeLQos7wacox4hmLQ            908           1793   \nw1B-NvBVtrw UC9-OpMMVoNP5o10_Iyq7Ndw             93           1583   \neYO7Ccj1Iok UCDkl5M0WVaddTWE4rr2cSeA            516           2075   \n\n                                      stats.view video.quality  \\\nid          creator.id                                           \n94JBhbeTiMI UC56D-IHcUvLVFTX_8NpQMXg     6998750            HD   \ndKJh3_OnPZ8 UCBJeMCIeLQos7wacox4hmLQ     2271470            HD   \nw1B-NvBVtrw UC9-OpMMVoNP5o10_Iyq7Ndw      437484            HD   \neYO7Ccj1Iok UCDkl5M0WVaddTWE4rr2cSeA     1389281            HD   \n\n                                        creator.title  \\\nid          creator.id                                  \n94JBhbeTiMI UC56D-IHcUvLVFTX_8NpQMXg     Brent Rivera   \ndKJh3_OnPZ8 UCBJeMCIeLQos7wacox4hmLQ          Serie A   \nw1B-NvBVtrw UC9-OpMMVoNP5o10_Iyq7Ndw  Bleacher Report   \neYO7Ccj1Iok UCDkl5M0WVaddTWE4rr2cSeA  Léna Situations   \n\n                                                                    creator.description  \\\nid          creator.id                                                                    \n94JBhbeTiMI UC56D-IHcUvLVFTX_8NpQMXg  Hey Guys, \\n\\nHope you guys enjoy my YouTube v...   \ndKJh3_OnPZ8 UCBJeMCIeLQos7wacox4hmLQ  Welcome to the Official Serie A channel. Over ...   \nw1B-NvBVtrw UC9-OpMMVoNP5o10_Iyq7Ndw  The official YouTube page of Bleacher Report. ...   \neYO7Ccj1Iok UCDkl5M0WVaddTWE4rr2cSeA        désolée je suis nulle pour les descriptions   \n\n                                                  creator.time  \\\nid          creator.id                                           \n94JBhbeTiMI UC56D-IHcUvLVFTX_8NpQMXg 2009-08-01 22:25:08+00:00   \ndKJh3_OnPZ8 UCBJeMCIeLQos7wacox4hmLQ 2012-10-30 13:54:30+00:00   \nw1B-NvBVtrw UC9-OpMMVoNP5o10_Iyq7Ndw 2007-09-14 18:23:54+00:00   \neYO7Ccj1Iok UCDkl5M0WVaddTWE4rr2cSeA 2013-01-14 17:22:41+00:00   \n\n                                      creator.stats.follower  \\\nid          creator.id                                         \n94JBhbeTiMI UC56D-IHcUvLVFTX_8NpQMXg                15400000   \ndKJh3_OnPZ8 UCBJeMCIeLQos7wacox4hmLQ                 6540000   \nw1B-NvBVtrw UC9-OpMMVoNP5o10_Iyq7Ndw                 2170000   \neYO7Ccj1Iok UCDkl5M0WVaddTWE4rr2cSeA                 1810000   \n\n                                      creator.stats.view  creator.stats.post  \\\nid          creator.id                                                         \n94JBhbeTiMI UC56D-IHcUvLVFTX_8NpQMXg          3065585577                 392   \ndKJh3_OnPZ8 UCBJeMCIeLQos7wacox4hmLQ          2175901252               20042   \nw1B-NvBVtrw UC9-OpMMVoNP5o10_Iyq7Ndw          1056524145                4622   \neYO7Ccj1Iok UCDkl5M0WVaddTWE4rr2cSeA           263268098                 296   \n\n                                      has_ad  has_ad_at_beginning  \nid          creator.id                                             \n94JBhbeTiMI UC56D-IHcUvLVFTX_8NpQMXg    True                 True  \ndKJh3_OnPZ8 UCBJeMCIeLQos7wacox4hmLQ    True                 True  \nw1B-NvBVtrw UC9-OpMMVoNP5o10_Iyq7Ndw    True                 True  \neYO7Ccj1Iok UCDkl5M0WVaddTWE4rr2cSeA    True                 True  ",
      "text/html": "<div>\n<style scoped>\n    .dataframe tbody tr th:only-of-type {\n        vertical-align: middle;\n    }\n\n    .dataframe tbody tr th {\n        vertical-align: top;\n    }\n\n    .dataframe thead th {\n        text-align: right;\n    }\n</style>\n<table border=\"1\" class=\"dataframe\">\n  <thead>\n    <tr style=\"text-align: right;\">\n      <th></th>\n      <th></th>\n      <th>title</th>\n      <th>description</th>\n      <th>time</th>\n      <th>length</th>\n      <th>tags</th>\n      <th>category</th>\n      <th>stats.like</th>\n      <th>stats.dislike</th>\n      <th>stats.comment</th>\n      <th>stats.view</th>\n      <th>video.quality</th>\n      <th>creator.title</th>\n      <th>creator.description</th>\n      <th>creator.time</th>\n      <th>creator.stats.follower</th>\n      <th>creator.stats.view</th>\n      <th>creator.stats.post</th>\n      <th>has_ad</th>\n      <th>has_ad_at_beginning</th>\n    </tr>\n    <tr>\n      <th>id</th>\n      <th>creator.id</th>\n      <th></th>\n      <th></th>\n      <th></th>\n      <th></th>\n      <th></th>\n      <th></th>\n      <th></th>\n      <th></th>\n      <th></th>\n      <th></th>\n      <th></th>\n      <th></th>\n      <th></th>\n      <th></th>\n      <th></th>\n      <th></th>\n      <th></th>\n      <th></th>\n      <th></th>\n    </tr>\n  </thead>\n  <tbody>\n    <tr>\n      <th>94JBhbeTiMI</th>\n      <th>UC56D-IHcUvLVFTX_8NpQMXg</th>\n      <td>I GOT MARRIED TO MY BEST FRIEND FOR 24 HOURS!!</td>\n      <td>IF WE GET 400K LIKES, ME AND PIERSON WILL BE P...</td>\n      <td>2021-02-28 01:30:01+00:00</td>\n      <td>0 days 00:09:06</td>\n      <td>None</td>\n      <td>Entertainment</td>\n      <td>611225</td>\n      <td>4408</td>\n      <td>37227</td>\n      <td>6998750</td>\n      <td>HD</td>\n      <td>Brent Rivera</td>\n      <td>Hey Guys, \\n\\nHope you guys enjoy my YouTube v...</td>\n      <td>2009-08-01 22:25:08+00:00</td>\n      <td>15400000</td>\n      <td>3065585577</td>\n      <td>392</td>\n      <td>True</td>\n      <td>True</td>\n    </tr>\n    <tr>\n      <th>dKJh3_OnPZ8</th>\n      <th>UCBJeMCIeLQos7wacox4hmLQ</th>\n      <td>Roma 1-2 Milan | Milan keep the pressure on In...</td>\n      <td>Rebic scored the winner for Milan, as they kee...</td>\n      <td>2021-02-28 22:43:51+00:00</td>\n      <td>0 days 00:04:14</td>\n      <td>[Ronaldo, Serie A, Dybala, highlights, Juventu...</td>\n      <td>Sports</td>\n      <td>35505</td>\n      <td>908</td>\n      <td>1793</td>\n      <td>2271470</td>\n      <td>HD</td>\n      <td>Serie A</td>\n      <td>Welcome to the Official Serie A channel. Over ...</td>\n      <td>2012-10-30 13:54:30+00:00</td>\n      <td>6540000</td>\n      <td>2175901252</td>\n      <td>20042</td>\n      <td>True</td>\n      <td>True</td>\n    </tr>\n    <tr>\n      <th>w1B-NvBVtrw</th>\n      <th>UC9-OpMMVoNP5o10_Iyq7Ndw</th>\n      <td>Giannis Antetokounmpo Throws Down Monster Slam...</td>\n      <td>GREEK FREAK CALLED GAME. \\n\\r\\nSubscribe: http...</td>\n      <td>2021-02-28 23:11:18+00:00</td>\n      <td>0 days 00:00:52</td>\n      <td>[bleacher report, br, nba, giannis antetokounm...</td>\n      <td>Sports</td>\n      <td>4951</td>\n      <td>93</td>\n      <td>1583</td>\n      <td>437484</td>\n      <td>HD</td>\n      <td>Bleacher Report</td>\n      <td>The official YouTube page of Bleacher Report. ...</td>\n      <td>2007-09-14 18:23:54+00:00</td>\n      <td>2170000</td>\n      <td>1056524145</td>\n      <td>4622</td>\n      <td>True</td>\n      <td>True</td>\n    </tr>\n    <tr>\n      <th>eYO7Ccj1Iok</th>\n      <th>UCDkl5M0WVaddTWE4rr2cSeA</th>\n      <td>DES MEILLEURES AMIES ECHANGENT LEURS VIES PEND...</td>\n      <td>Je connais ma meilleure amie Solene depuis 22 ...</td>\n      <td>2021-02-28 20:13:20+00:00</td>\n      <td>0 days 00:23:29</td>\n      <td>[lena situations, lena, lena situation, situat...</td>\n      <td>People &amp; Blogs</td>\n      <td>112570</td>\n      <td>516</td>\n      <td>2075</td>\n      <td>1389281</td>\n      <td>HD</td>\n      <td>Léna Situations</td>\n      <td>désolée je suis nulle pour les descriptions</td>\n      <td>2013-01-14 17:22:41+00:00</td>\n      <td>1810000</td>\n      <td>263268098</td>\n      <td>296</td>\n      <td>True</td>\n      <td>True</td>\n    </tr>\n  </tbody>\n</table>\n</div>"
     },
     "metadata": {}
    },
    {
     "output_type": "display_data",
     "data": {
      "text/plain": "<IPython.core.display.Markdown object>",
      "text/markdown": "## Stats"
     },
     "metadata": {}
    },
    {
     "output_type": "display_data",
     "data": {
      "text/plain": "                          length     stats.like  stats.dislike  stats.comment  \\\ncount                          4       4.000000       4.000000       4.000000   \nmean      0 days 00:09:25.250000  191062.750000    1481.250000   10669.500000   \nstd    0 days 00:09:57.937217997  283744.735752    1979.345578   17706.147435   \nmin              0 days 00:00:52    4951.000000      93.000000    1583.000000   \n25%       0 days 00:03:23.500000   27866.500000     410.250000    1740.500000   \n50%              0 days 00:06:40   74037.500000     712.000000    1934.000000   \n75%       0 days 00:12:41.750000  237233.750000    1783.000000   10863.000000   \nmax              0 days 00:23:29  611225.000000    4408.000000   37227.000000   \n\n         stats.view  creator.stats.follower  creator.stats.view  \\\ncount  4.000000e+00            4.000000e+00        4.000000e+00   \nmean   2.774246e+06            6.480000e+06        1.640320e+09   \nstd    2.914207e+06            6.323369e+06        1.232250e+09   \nmin    4.374840e+05            1.810000e+06        2.632681e+08   \n25%    1.151332e+06            2.080000e+06        8.582101e+08   \n50%    1.830376e+06            4.355000e+06        1.616213e+09   \n75%    3.453290e+06            8.755000e+06        2.398322e+09   \nmax    6.998750e+06            1.540000e+07        3.065586e+09   \n\n       creator.stats.post  \ncount            4.000000  \nmean          6338.000000  \nstd           9356.013254  \nmin            296.000000  \n25%            368.000000  \n50%           2507.000000  \n75%           8477.000000  \nmax          20042.000000  ",
      "text/html": "<div>\n<style scoped>\n    .dataframe tbody tr th:only-of-type {\n        vertical-align: middle;\n    }\n\n    .dataframe tbody tr th {\n        vertical-align: top;\n    }\n\n    .dataframe thead th {\n        text-align: right;\n    }\n</style>\n<table border=\"1\" class=\"dataframe\">\n  <thead>\n    <tr style=\"text-align: right;\">\n      <th></th>\n      <th>length</th>\n      <th>stats.like</th>\n      <th>stats.dislike</th>\n      <th>stats.comment</th>\n      <th>stats.view</th>\n      <th>creator.stats.follower</th>\n      <th>creator.stats.view</th>\n      <th>creator.stats.post</th>\n    </tr>\n  </thead>\n  <tbody>\n    <tr>\n      <th>count</th>\n      <td>4</td>\n      <td>4.000000</td>\n      <td>4.000000</td>\n      <td>4.000000</td>\n      <td>4.000000e+00</td>\n      <td>4.000000e+00</td>\n      <td>4.000000e+00</td>\n      <td>4.000000</td>\n    </tr>\n    <tr>\n      <th>mean</th>\n      <td>0 days 00:09:25.250000</td>\n      <td>191062.750000</td>\n      <td>1481.250000</td>\n      <td>10669.500000</td>\n      <td>2.774246e+06</td>\n      <td>6.480000e+06</td>\n      <td>1.640320e+09</td>\n      <td>6338.000000</td>\n    </tr>\n    <tr>\n      <th>std</th>\n      <td>0 days 00:09:57.937217997</td>\n      <td>283744.735752</td>\n      <td>1979.345578</td>\n      <td>17706.147435</td>\n      <td>2.914207e+06</td>\n      <td>6.323369e+06</td>\n      <td>1.232250e+09</td>\n      <td>9356.013254</td>\n    </tr>\n    <tr>\n      <th>min</th>\n      <td>0 days 00:00:52</td>\n      <td>4951.000000</td>\n      <td>93.000000</td>\n      <td>1583.000000</td>\n      <td>4.374840e+05</td>\n      <td>1.810000e+06</td>\n      <td>2.632681e+08</td>\n      <td>296.000000</td>\n    </tr>\n    <tr>\n      <th>25%</th>\n      <td>0 days 00:03:23.500000</td>\n      <td>27866.500000</td>\n      <td>410.250000</td>\n      <td>1740.500000</td>\n      <td>1.151332e+06</td>\n      <td>2.080000e+06</td>\n      <td>8.582101e+08</td>\n      <td>368.000000</td>\n    </tr>\n    <tr>\n      <th>50%</th>\n      <td>0 days 00:06:40</td>\n      <td>74037.500000</td>\n      <td>712.000000</td>\n      <td>1934.000000</td>\n      <td>1.830376e+06</td>\n      <td>4.355000e+06</td>\n      <td>1.616213e+09</td>\n      <td>2507.000000</td>\n    </tr>\n    <tr>\n      <th>75%</th>\n      <td>0 days 00:12:41.750000</td>\n      <td>237233.750000</td>\n      <td>1783.000000</td>\n      <td>10863.000000</td>\n      <td>3.453290e+06</td>\n      <td>8.755000e+06</td>\n      <td>2.398322e+09</td>\n      <td>8477.000000</td>\n    </tr>\n    <tr>\n      <th>max</th>\n      <td>0 days 00:23:29</td>\n      <td>611225.000000</td>\n      <td>4408.000000</td>\n      <td>37227.000000</td>\n      <td>6.998750e+06</td>\n      <td>1.540000e+07</td>\n      <td>3.065586e+09</td>\n      <td>20042.000000</td>\n    </tr>\n  </tbody>\n</table>\n</div>"
     },
     "metadata": {}
    },
    {
     "output_type": "display_data",
     "data": {
      "text/plain": "<IPython.core.display.Markdown object>",
      "text/markdown": "---"
     },
     "metadata": {}
    }
   ],
   "source": [
    "## YOUR CODE HERE\n",
    "## FEEL FREE TO ADD MULTIPLE CELLS PER SECTION\n",
    "df_search_details = pd.read_pickle('EDA/dsamples/youtube_search.pkl')\n",
    "df_report(df_search_details, name = 'Search Results')\n"
   ]
  },
  {
   "cell_type": "code",
   "execution_count": 33,
   "metadata": {},
   "outputs": [
    {
     "output_type": "execute_result",
     "data": {
      "text/plain": [
       "{'1': 'Film & Animation',\n",
       " '2': 'Autos & Vehicles',\n",
       " '10': 'Music',\n",
       " '15': 'Pets & Animals',\n",
       " '17': 'Sports',\n",
       " '18': 'Short Movies',\n",
       " '19': 'Travel & Events',\n",
       " '20': 'Gaming',\n",
       " '21': 'Videoblogging',\n",
       " '22': 'People & Blogs',\n",
       " '23': 'Comedy',\n",
       " '24': 'Entertainment',\n",
       " '25': 'News & Politics',\n",
       " '26': 'Howto & Style',\n",
       " '27': 'Education',\n",
       " '28': 'Science & Technology',\n",
       " '29': 'Nonprofits & Activism',\n",
       " '30': 'Movies',\n",
       " '31': 'Anime/Animation',\n",
       " '32': 'Action/Adventure',\n",
       " '33': 'Classics',\n",
       " '34': 'Comedy',\n",
       " '35': 'Documentary',\n",
       " '36': 'Drama',\n",
       " '37': 'Family',\n",
       " '38': 'Foreign',\n",
       " '39': 'Horror',\n",
       " '40': 'Sci-Fi/Fantasy',\n",
       " '41': 'Thriller',\n",
       " '42': 'Shorts',\n",
       " '43': 'Shows',\n",
       " '44': 'Trailers'}"
      ]
     },
     "metadata": {},
     "execution_count": 33
    }
   ],
   "source": [
    "youtube.types.topic.all[restful.types.region.US]\n",
    "assert(youtube.types.topic(1).__eq__('Film & Animation'))\n"
   ]
  },
  {
   "cell_type": "markdown",
   "metadata": {},
   "source": [
    "# Ethics & Privacy"
   ]
  },
  {
   "cell_type": "markdown",
   "metadata": {},
   "source": [
    "*Fill in your ethics & privacy discussion here*"
   ]
  },
  {
   "cell_type": "markdown",
   "metadata": {},
   "source": [
    "# Conclusion & Discussion"
   ]
  },
  {
   "cell_type": "markdown",
   "metadata": {},
   "source": [
    "*Fill in your discussion information here*"
   ]
  },
  {
   "cell_type": "markdown",
   "metadata": {},
   "source": [
    "# Team Contributions"
   ]
  },
  {
   "cell_type": "markdown",
   "metadata": {},
   "source": [
    "*Specify who in your group worked on which parts of the project.*"
   ]
  }
 ],
 "metadata": {
  "kernelspec": {
   "display_name": "Python 3",
   "language": "python",
   "name": "python3"
  },
  "language_info": {
   "codemirror_mode": {
    "name": "ipython",
    "version": 3
   },
   "file_extension": ".py",
   "mimetype": "text/x-python",
   "name": "python",
   "nbconvert_exporter": "python",
   "pygments_lexer": "ipython3",
   "version": "3.6.8-final"
  }
 },
 "nbformat": 4,
 "nbformat_minor": 2
}