{
 "cells": [
  {
   "cell_type": "markdown",
   "metadata": {},
   "source": [
    "# COGS 108 - Final Project (change this to your project's title)"
   ]
  },
  {
   "cell_type": "markdown",
   "metadata": {},
   "source": [
    "## Permissions\n",
    "\n",
    "Place an `X` in the appropriate bracket below to specify if you would like your group's project to be made available to the public. (Note that student names will be included (but PIDs will be scraped from any groups who include their PIDs).\n",
    "\n",
    "* [  ] YES - make available\n",
    "* [  ] NO - keep private"
   ]
  },
  {
   "cell_type": "markdown",
   "metadata": {},
   "source": [
    "# Overview"
   ]
  },
  {
   "cell_type": "markdown",
   "metadata": {},
   "source": [
    "*Fill in your overview here*"
   ]
  },
  {
   "cell_type": "markdown",
   "metadata": {},
   "source": [
    "# Names\n",
    "\n",
    "- Jared (Ruotian) Chen\n",
    "- Jimin Cheon\n",
    "- Kane Gu\n",
    "- Laurence D'Ercole\n",
    "- Nisha Davankar"
   ]
  },
  {
   "cell_type": "markdown",
   "metadata": {},
   "source": [
    "<a id='research_question'></a>\n",
    "# Research Question"
   ]
  },
  {
   "cell_type": "markdown",
   "metadata": {},
   "source": [
    "What attributes of a YouTube video affect its popularity in United States?"
   ]
  },
  {
   "cell_type": "markdown",
   "metadata": {},
   "source": [
    "<a id='background'></a>\n",
    "\n",
    "## Background & Prior Work"
   ]
  },
  {
   "cell_type": "markdown",
   "metadata": {},
   "source": [
    "*Fill in your background and prior work here* \n",
    "\n",
    "References (include links):\n",
    "- 1)\n",
    "- 2)"
   ]
  },
  {
   "cell_type": "markdown",
   "metadata": {},
   "source": [
    "# Hypothesis\n"
   ]
  },
  {
   "cell_type": "markdown",
   "metadata": {},
   "source": [
    "Factors that would potentially **affect** a video's popularity:\n",
    "- time created: `time`\n",
    "- duration: `length`\n",
    "- number of tags: `tags`\n",
    "- video category: `category`\n",
    "- video quality: `video.quality`\n",
    "- ad placement: `has_ad\thas_ad_at_beginning`\n",
    "- popularity of youtuber\n",
    "    - time youtuber joined youtube: `creator.time`\n",
    "    - number of followers: `creator.stats.follower`\n",
    "    - total number of views: `creator.stats.view`\n",
    "    - total number of videos: `creator.stats.post`\n",
    "\n",
    "Factors that **determine** a video's long-term popularity:\n",
    "- like/dislike ratio: `stats.like\tstats.dislike`\n",
    "- number of comments: `stats.comment`\n",
    "- number of views: `stats.view`"
   ]
  },
  {
   "cell_type": "markdown",
   "metadata": {},
   "source": [
    "# Dataset(s)"
   ]
  },
  {
   "cell_type": "markdown",
   "metadata": {},
   "source": [
    "*Fill in your dataset information here*\n",
    "\n",
    "(Copy this information for each dataset)\n",
    "- Dataset Name:\n",
    "- Link to the dataset:\n",
    "- Number of observations:\n",
    "\n",
    "1-2 sentences describing each dataset. \n",
    "\n",
    "If you plan to use multiple datasets, add 1-2 sentences about how you plan to combine these datasets."
   ]
  },
  {
   "cell_type": "markdown",
   "metadata": {},
   "source": [
    "# Setup"
   ]
  },
  {
   "cell_type": "code",
   "execution_count": 1,
   "metadata": {},
   "outputs": [],
   "source": [
    "import sys\n",
    "\n",
    "!{sys.executable} -m pip install --quiet --user --upgrade pandas==1.*\n",
    "!{sys.executable} -m pip install --quiet --user --upgrade -r EDA/requirements.txt"
   ]
  },
  {
   "cell_type": "code",
   "execution_count": 6,
   "metadata": {},
   "outputs": [],
   "source": [
    "from EDA.goodies import *"
   ]
  },
  {
   "cell_type": "code",
   "execution_count": 7,
   "metadata": {},
   "outputs": [],
   "source": [
    "from EDA.dcollect import restful\n",
    "from EDA.dcollect import api_youtube as youtube\n",
    "from EDA.dcollect import api_youtubei as youtubei\n",
    "\n",
    "import pandas as pd"
   ]
  },
  {
   "cell_type": "markdown",
   "metadata": {},
   "source": [
    "# Data Cleaning"
   ]
  },
  {
   "cell_type": "markdown",
   "metadata": {},
   "source": [
    "Describe your data cleaning steps here."
   ]
  },
  {
   "cell_type": "code",
   "execution_count": 8,
   "metadata": {},
   "outputs": [],
   "source": [
    "## YOUR CODE HERE\n",
    "## FEEL FREE TO ADD MULTIPLE CELLS PER SECTION"
   ]
  },
  {
   "cell_type": "markdown",
   "metadata": {},
   "source": [
    "# Data Analysis & Results"
   ]
  },
  {
   "cell_type": "markdown",
   "metadata": {},
   "source": [
    "Include cells that describe the steps in your data analysis."
   ]
  },
  {
   "cell_type": "code",
   "execution_count": 9,
   "metadata": {},
   "outputs": [
    {
     "output_type": "display_data",
     "data": {
      "text/plain": "<IPython.core.display.Markdown object>",
      "text/markdown": "---"
     },
     "metadata": {}
    },
    {
     "output_type": "display_data",
     "data": {
      "text/plain": "<IPython.core.display.Markdown object>",
      "text/markdown": "# Results - Search Results"
     },
     "metadata": {}
    },
    {
     "output_type": "display_data",
     "data": {
      "text/plain": "<IPython.core.display.Markdown object>",
      "text/markdown": "## Data Preview"
     },
     "metadata": {}
    },
    {
     "output_type": "display_data",
     "data": {
      "text/plain": "                                                                                  title  \\\nid          creator.id                                                                    \n6bGpGQ08gQs UCF4Wxdo3inmxP-Y59wXDsFw    피로 물든 미얀마…무차별 발포에 30명 사망 (2021.03.01/뉴스데스크/MBC)   \nHs-mgG2uEjA UCNAf1k0yIjyGu3k9BwAg3lg  Keane and Redknapp get HEATED over \"average\" S...   \ndKJh3_OnPZ8 UCBJeMCIeLQos7wacox4hmLQ  Roma 1-2 Milan | Milan keep the pressure on In...   \nw1B-NvBVtrw UC9-OpMMVoNP5o10_Iyq7Ndw  Giannis Antetokounmpo Throws Down Monster Slam...   \neYO7Ccj1Iok UCDkl5M0WVaddTWE4rr2cSeA  DES MEILLEURES AMIES ECHANGENT LEURS VIES PEND...   \n\n                                                                            description  \\\nid          creator.id                                                                    \n6bGpGQ08gQs UCF4Wxdo3inmxP-Y59wXDsFw  미얀마 군부가 쿠데타를 일으킨지 한 달 째, 미얀마에선 '피의 일요일'이 반복되고 ...   \nHs-mgG2uEjA UCNAf1k0yIjyGu3k9BwAg3lg  SUBSCRIBE ► http://bit.ly/SSFootballSub\\nPREMI...   \ndKJh3_OnPZ8 UCBJeMCIeLQos7wacox4hmLQ  Rebic scored the winner for Milan, as they kee...   \nw1B-NvBVtrw UC9-OpMMVoNP5o10_Iyq7Ndw  GREEK FREAK CALLED GAME. \\n\\r\\nSubscribe: http...   \neYO7Ccj1Iok UCDkl5M0WVaddTWE4rr2cSeA  Je connais ma meilleure amie Solene depuis 22 ...   \n\n                                                          time  \\\nid          creator.id                                           \n6bGpGQ08gQs UCF4Wxdo3inmxP-Y59wXDsFw 2021-03-01 11:24:24+00:00   \nHs-mgG2uEjA UCNAf1k0yIjyGu3k9BwAg3lg 2021-02-28 14:07:11+00:00   \ndKJh3_OnPZ8 UCBJeMCIeLQos7wacox4hmLQ 2021-02-28 22:43:51+00:00   \nw1B-NvBVtrw UC9-OpMMVoNP5o10_Iyq7Ndw 2021-02-28 23:11:18+00:00   \neYO7Ccj1Iok UCDkl5M0WVaddTWE4rr2cSeA 2021-02-28 20:13:20+00:00   \n\n                                              length  \\\nid          creator.id                                 \n6bGpGQ08gQs UCF4Wxdo3inmxP-Y59wXDsFw 0 days 00:02:31   \nHs-mgG2uEjA UCNAf1k0yIjyGu3k9BwAg3lg 0 days 00:07:15   \ndKJh3_OnPZ8 UCBJeMCIeLQos7wacox4hmLQ 0 days 00:04:14   \nw1B-NvBVtrw UC9-OpMMVoNP5o10_Iyq7Ndw 0 days 00:00:52   \neYO7Ccj1Iok UCDkl5M0WVaddTWE4rr2cSeA 0 days 00:23:29   \n\n                                                                                   tags  \\\nid          creator.id                                                                    \n6bGpGQ08gQs UCF4Wxdo3inmxP-Y59wXDsFw  [MBC, MBC뉴스, 뉴스데스크, newsdesk, 뉴스투데이, newstoday...   \nHs-mgG2uEjA UCNAf1k0yIjyGu3k9BwAg3lg  [sky sports, sky sports football, premier leag...   \ndKJh3_OnPZ8 UCBJeMCIeLQos7wacox4hmLQ  [Ronaldo, Serie A, Dybala, highlights, Juventu...   \nw1B-NvBVtrw UC9-OpMMVoNP5o10_Iyq7Ndw  [bleacher report, br, nba, giannis antetokounm...   \neYO7Ccj1Iok UCDkl5M0WVaddTWE4rr2cSeA  [lena situations, lena, lena situation, situat...   \n\n                                             category  stats.like  \\\nid          creator.id                                              \n6bGpGQ08gQs UCF4Wxdo3inmxP-Y59wXDsFw  News & Politics        4210   \nHs-mgG2uEjA UCNAf1k0yIjyGu3k9BwAg3lg           Sports       24995   \ndKJh3_OnPZ8 UCBJeMCIeLQos7wacox4hmLQ           Sports       35514   \nw1B-NvBVtrw UC9-OpMMVoNP5o10_Iyq7Ndw           Sports        4951   \neYO7Ccj1Iok UCDkl5M0WVaddTWE4rr2cSeA   People & Blogs      112683   \n\n                                      stats.dislike  stats.comment  \\\nid          creator.id                                               \n6bGpGQ08gQs UCF4Wxdo3inmxP-Y59wXDsFw            123         4224.0   \nHs-mgG2uEjA UCNAf1k0yIjyGu3k9BwAg3lg            388         6973.0   \ndKJh3_OnPZ8 UCBJeMCIeLQos7wacox4hmLQ            908         1794.0   \nw1B-NvBVtrw UC9-OpMMVoNP5o10_Iyq7Ndw             93         1582.0   \neYO7Ccj1Iok UCDkl5M0WVaddTWE4rr2cSeA            518         2077.0   \n\n                                      stats.view video.quality  \\\nid          creator.id                                           \n6bGpGQ08gQs UCF4Wxdo3inmxP-Y59wXDsFw      553619            HD   \nHs-mgG2uEjA UCNAf1k0yIjyGu3k9BwAg3lg     1377277            HD   \ndKJh3_OnPZ8 UCBJeMCIeLQos7wacox4hmLQ     2272038            HD   \nw1B-NvBVtrw UC9-OpMMVoNP5o10_Iyq7Ndw      437520            HD   \neYO7Ccj1Iok UCDkl5M0WVaddTWE4rr2cSeA     1391601            HD   \n\n                                            creator.title  \\\nid          creator.id                                      \n6bGpGQ08gQs UCF4Wxdo3inmxP-Y59wXDsFw              MBCNEWS   \nHs-mgG2uEjA UCNAf1k0yIjyGu3k9BwAg3lg  Sky Sports Football   \ndKJh3_OnPZ8 UCBJeMCIeLQos7wacox4hmLQ              Serie A   \nw1B-NvBVtrw UC9-OpMMVoNP5o10_Iyq7Ndw      Bleacher Report   \neYO7Ccj1Iok UCDkl5M0WVaddTWE4rr2cSeA      Léna Situations   \n\n                                                                    creator.description  \\\nid          creator.id                                                                    \n6bGpGQ08gQs UCF4Wxdo3inmxP-Y59wXDsFw  MBC 뉴스 공식 유튜브 채널입니다. 시청자 여러분의 의견과 제보를 항상 기다립니다...   \nHs-mgG2uEjA UCNAf1k0yIjyGu3k9BwAg3lg  Sky Sports Football is the home of Sky Sports'...   \ndKJh3_OnPZ8 UCBJeMCIeLQos7wacox4hmLQ  Welcome to the Official Serie A channel. Over ...   \nw1B-NvBVtrw UC9-OpMMVoNP5o10_Iyq7Ndw  The official YouTube page of Bleacher Report. ...   \neYO7Ccj1Iok UCDkl5M0WVaddTWE4rr2cSeA        désolée je suis nulle pour les descriptions   \n\n                                                  creator.time  \\\nid          creator.id                                           \n6bGpGQ08gQs UCF4Wxdo3inmxP-Y59wXDsFw 2006-11-05 21:58:51+00:00   \nHs-mgG2uEjA UCNAf1k0yIjyGu3k9BwAg3lg 2015-07-06 11:11:54+00:00   \ndKJh3_OnPZ8 UCBJeMCIeLQos7wacox4hmLQ 2012-10-30 13:54:30+00:00   \nw1B-NvBVtrw UC9-OpMMVoNP5o10_Iyq7Ndw 2007-09-14 18:23:54+00:00   \neYO7Ccj1Iok UCDkl5M0WVaddTWE4rr2cSeA 2013-01-14 17:22:41+00:00   \n\n                                      creator.stats.follower  \\\nid          creator.id                                         \n6bGpGQ08gQs UCF4Wxdo3inmxP-Y59wXDsFw                 1140000   \nHs-mgG2uEjA UCNAf1k0yIjyGu3k9BwAg3lg                 2780000   \ndKJh3_OnPZ8 UCBJeMCIeLQos7wacox4hmLQ                 6540000   \nw1B-NvBVtrw UC9-OpMMVoNP5o10_Iyq7Ndw                 2180000   \neYO7Ccj1Iok UCDkl5M0WVaddTWE4rr2cSeA                 1810000   \n\n                                      creator.stats.view  creator.stats.post  \\\nid          creator.id                                                         \n6bGpGQ08gQs UCF4Wxdo3inmxP-Y59wXDsFw          2169439928              101323   \nHs-mgG2uEjA UCNAf1k0yIjyGu3k9BwAg3lg          1654548702                4818   \ndKJh3_OnPZ8 UCBJeMCIeLQos7wacox4hmLQ          2175901252               20042   \nw1B-NvBVtrw UC9-OpMMVoNP5o10_Iyq7Ndw          1056524145                4622   \neYO7Ccj1Iok UCDkl5M0WVaddTWE4rr2cSeA           263268098                 296   \n\n                                      has_ad  has_ad_at_beginning  \nid          creator.id                                             \n6bGpGQ08gQs UCF4Wxdo3inmxP-Y59wXDsFw    True                 True  \nHs-mgG2uEjA UCNAf1k0yIjyGu3k9BwAg3lg    True                 True  \ndKJh3_OnPZ8 UCBJeMCIeLQos7wacox4hmLQ    True                 True  \nw1B-NvBVtrw UC9-OpMMVoNP5o10_Iyq7Ndw    True                 True  \neYO7Ccj1Iok UCDkl5M0WVaddTWE4rr2cSeA    True                 True  ",
      "text/html": "<div>\n<style scoped>\n    .dataframe tbody tr th:only-of-type {\n        vertical-align: middle;\n    }\n\n    .dataframe tbody tr th {\n        vertical-align: top;\n    }\n\n    .dataframe thead th {\n        text-align: right;\n    }\n</style>\n<table border=\"1\" class=\"dataframe\">\n  <thead>\n    <tr style=\"text-align: right;\">\n      <th></th>\n      <th></th>\n      <th>title</th>\n      <th>description</th>\n      <th>time</th>\n      <th>length</th>\n      <th>tags</th>\n      <th>category</th>\n      <th>stats.like</th>\n      <th>stats.dislike</th>\n      <th>stats.comment</th>\n      <th>stats.view</th>\n      <th>video.quality</th>\n      <th>creator.title</th>\n      <th>creator.description</th>\n      <th>creator.time</th>\n      <th>creator.stats.follower</th>\n      <th>creator.stats.view</th>\n      <th>creator.stats.post</th>\n      <th>has_ad</th>\n      <th>has_ad_at_beginning</th>\n    </tr>\n    <tr>\n      <th>id</th>\n      <th>creator.id</th>\n      <th></th>\n      <th></th>\n      <th></th>\n      <th></th>\n      <th></th>\n      <th></th>\n      <th></th>\n      <th></th>\n      <th></th>\n      <th></th>\n      <th></th>\n      <th></th>\n      <th></th>\n      <th></th>\n      <th></th>\n      <th></th>\n      <th></th>\n      <th></th>\n      <th></th>\n    </tr>\n  </thead>\n  <tbody>\n    <tr>\n      <th>6bGpGQ08gQs</th>\n      <th>UCF4Wxdo3inmxP-Y59wXDsFw</th>\n      <td>피로 물든 미얀마…무차별 발포에 30명 사망 (2021.03.01/뉴스데스크/MBC)</td>\n      <td>미얀마 군부가 쿠데타를 일으킨지 한 달 째, 미얀마에선 '피의 일요일'이 반복되고 ...</td>\n      <td>2021-03-01 11:24:24+00:00</td>\n      <td>0 days 00:02:31</td>\n      <td>[MBC, MBC뉴스, 뉴스데스크, newsdesk, 뉴스투데이, newstoday...</td>\n      <td>News &amp; Politics</td>\n      <td>4210</td>\n      <td>123</td>\n      <td>4224.0</td>\n      <td>553619</td>\n      <td>HD</td>\n      <td>MBCNEWS</td>\n      <td>MBC 뉴스 공식 유튜브 채널입니다. 시청자 여러분의 의견과 제보를 항상 기다립니다...</td>\n      <td>2006-11-05 21:58:51+00:00</td>\n      <td>1140000</td>\n      <td>2169439928</td>\n      <td>101323</td>\n      <td>True</td>\n      <td>True</td>\n    </tr>\n    <tr>\n      <th>Hs-mgG2uEjA</th>\n      <th>UCNAf1k0yIjyGu3k9BwAg3lg</th>\n      <td>Keane and Redknapp get HEATED over \"average\" S...</td>\n      <td>SUBSCRIBE ► http://bit.ly/SSFootballSub\\nPREMI...</td>\n      <td>2021-02-28 14:07:11+00:00</td>\n      <td>0 days 00:07:15</td>\n      <td>[sky sports, sky sports football, premier leag...</td>\n      <td>Sports</td>\n      <td>24995</td>\n      <td>388</td>\n      <td>6973.0</td>\n      <td>1377277</td>\n      <td>HD</td>\n      <td>Sky Sports Football</td>\n      <td>Sky Sports Football is the home of Sky Sports'...</td>\n      <td>2015-07-06 11:11:54+00:00</td>\n      <td>2780000</td>\n      <td>1654548702</td>\n      <td>4818</td>\n      <td>True</td>\n      <td>True</td>\n    </tr>\n    <tr>\n      <th>dKJh3_OnPZ8</th>\n      <th>UCBJeMCIeLQos7wacox4hmLQ</th>\n      <td>Roma 1-2 Milan | Milan keep the pressure on In...</td>\n      <td>Rebic scored the winner for Milan, as they kee...</td>\n      <td>2021-02-28 22:43:51+00:00</td>\n      <td>0 days 00:04:14</td>\n      <td>[Ronaldo, Serie A, Dybala, highlights, Juventu...</td>\n      <td>Sports</td>\n      <td>35514</td>\n      <td>908</td>\n      <td>1794.0</td>\n      <td>2272038</td>\n      <td>HD</td>\n      <td>Serie A</td>\n      <td>Welcome to the Official Serie A channel. Over ...</td>\n      <td>2012-10-30 13:54:30+00:00</td>\n      <td>6540000</td>\n      <td>2175901252</td>\n      <td>20042</td>\n      <td>True</td>\n      <td>True</td>\n    </tr>\n    <tr>\n      <th>w1B-NvBVtrw</th>\n      <th>UC9-OpMMVoNP5o10_Iyq7Ndw</th>\n      <td>Giannis Antetokounmpo Throws Down Monster Slam...</td>\n      <td>GREEK FREAK CALLED GAME. \\n\\r\\nSubscribe: http...</td>\n      <td>2021-02-28 23:11:18+00:00</td>\n      <td>0 days 00:00:52</td>\n      <td>[bleacher report, br, nba, giannis antetokounm...</td>\n      <td>Sports</td>\n      <td>4951</td>\n      <td>93</td>\n      <td>1582.0</td>\n      <td>437520</td>\n      <td>HD</td>\n      <td>Bleacher Report</td>\n      <td>The official YouTube page of Bleacher Report. ...</td>\n      <td>2007-09-14 18:23:54+00:00</td>\n      <td>2180000</td>\n      <td>1056524145</td>\n      <td>4622</td>\n      <td>True</td>\n      <td>True</td>\n    </tr>\n    <tr>\n      <th>eYO7Ccj1Iok</th>\n      <th>UCDkl5M0WVaddTWE4rr2cSeA</th>\n      <td>DES MEILLEURES AMIES ECHANGENT LEURS VIES PEND...</td>\n      <td>Je connais ma meilleure amie Solene depuis 22 ...</td>\n      <td>2021-02-28 20:13:20+00:00</td>\n      <td>0 days 00:23:29</td>\n      <td>[lena situations, lena, lena situation, situat...</td>\n      <td>People &amp; Blogs</td>\n      <td>112683</td>\n      <td>518</td>\n      <td>2077.0</td>\n      <td>1391601</td>\n      <td>HD</td>\n      <td>Léna Situations</td>\n      <td>désolée je suis nulle pour les descriptions</td>\n      <td>2013-01-14 17:22:41+00:00</td>\n      <td>1810000</td>\n      <td>263268098</td>\n      <td>296</td>\n      <td>True</td>\n      <td>True</td>\n    </tr>\n  </tbody>\n</table>\n</div>"
     },
     "metadata": {}
    },
    {
     "output_type": "display_data",
     "data": {
      "text/plain": "<IPython.core.display.Markdown object>",
      "text/markdown": "## Stats"
     },
     "metadata": {}
    },
    {
     "output_type": "display_data",
     "data": {
      "text/plain": "                          length     stats.like  stats.dislike  stats.comment  \\\ncount                         20      20.000000      20.000000      19.000000   \nmean      0 days 00:09:17.850000   21240.450000     545.850000    1642.631579   \nstd    0 days 00:11:17.421758931   25947.217241     678.091228    1912.237003   \nmin              0 days 00:00:52    2347.000000      66.000000      65.000000   \n25%       0 days 00:03:10.750000    5027.500000     194.750000     324.500000   \n50%       0 days 00:05:08.500000    9690.000000     349.000000     756.000000   \n75%       0 days 00:08:49.750000   27624.750000     607.750000    1935.500000   \nmax              0 days 00:46:59  112683.000000    3154.000000    6973.000000   \n\n         stats.view  creator.stats.follower  creator.stats.view  \\\ncount  2.000000e+01            2.000000e+01        2.000000e+01   \nmean   9.858279e+05            1.421800e+07        1.158647e+10   \nstd    7.453541e+05            2.396714e+07        2.105210e+10   \nmin    9.464400e+04            4.670000e+05        1.308057e+08   \n25%    4.593428e+05            1.642500e+06        8.310468e+08   \n50%    6.929960e+05            3.045000e+06        1.931002e+09   \n75%    1.380858e+06            1.510000e+07        8.150189e+09   \nmax    2.820763e+06            9.800000e+07        8.064688e+10   \n\n       creator.stats.post  \ncount            20.00000  \nmean          30655.10000  \nstd           35430.73451  \nmin             177.00000  \n25%            1071.75000  \n50%           20513.50000  \n75%           51529.50000  \nmax          105638.00000  ",
      "text/html": "<div>\n<style scoped>\n    .dataframe tbody tr th:only-of-type {\n        vertical-align: middle;\n    }\n\n    .dataframe tbody tr th {\n        vertical-align: top;\n    }\n\n    .dataframe thead th {\n        text-align: right;\n    }\n</style>\n<table border=\"1\" class=\"dataframe\">\n  <thead>\n    <tr style=\"text-align: right;\">\n      <th></th>\n      <th>length</th>\n      <th>stats.like</th>\n      <th>stats.dislike</th>\n      <th>stats.comment</th>\n      <th>stats.view</th>\n      <th>creator.stats.follower</th>\n      <th>creator.stats.view</th>\n      <th>creator.stats.post</th>\n    </tr>\n  </thead>\n  <tbody>\n    <tr>\n      <th>count</th>\n      <td>20</td>\n      <td>20.000000</td>\n      <td>20.000000</td>\n      <td>19.000000</td>\n      <td>2.000000e+01</td>\n      <td>2.000000e+01</td>\n      <td>2.000000e+01</td>\n      <td>20.00000</td>\n    </tr>\n    <tr>\n      <th>mean</th>\n      <td>0 days 00:09:17.850000</td>\n      <td>21240.450000</td>\n      <td>545.850000</td>\n      <td>1642.631579</td>\n      <td>9.858279e+05</td>\n      <td>1.421800e+07</td>\n      <td>1.158647e+10</td>\n      <td>30655.10000</td>\n    </tr>\n    <tr>\n      <th>std</th>\n      <td>0 days 00:11:17.421758931</td>\n      <td>25947.217241</td>\n      <td>678.091228</td>\n      <td>1912.237003</td>\n      <td>7.453541e+05</td>\n      <td>2.396714e+07</td>\n      <td>2.105210e+10</td>\n      <td>35430.73451</td>\n    </tr>\n    <tr>\n      <th>min</th>\n      <td>0 days 00:00:52</td>\n      <td>2347.000000</td>\n      <td>66.000000</td>\n      <td>65.000000</td>\n      <td>9.464400e+04</td>\n      <td>4.670000e+05</td>\n      <td>1.308057e+08</td>\n      <td>177.00000</td>\n    </tr>\n    <tr>\n      <th>25%</th>\n      <td>0 days 00:03:10.750000</td>\n      <td>5027.500000</td>\n      <td>194.750000</td>\n      <td>324.500000</td>\n      <td>4.593428e+05</td>\n      <td>1.642500e+06</td>\n      <td>8.310468e+08</td>\n      <td>1071.75000</td>\n    </tr>\n    <tr>\n      <th>50%</th>\n      <td>0 days 00:05:08.500000</td>\n      <td>9690.000000</td>\n      <td>349.000000</td>\n      <td>756.000000</td>\n      <td>6.929960e+05</td>\n      <td>3.045000e+06</td>\n      <td>1.931002e+09</td>\n      <td>20513.50000</td>\n    </tr>\n    <tr>\n      <th>75%</th>\n      <td>0 days 00:08:49.750000</td>\n      <td>27624.750000</td>\n      <td>607.750000</td>\n      <td>1935.500000</td>\n      <td>1.380858e+06</td>\n      <td>1.510000e+07</td>\n      <td>8.150189e+09</td>\n      <td>51529.50000</td>\n    </tr>\n    <tr>\n      <th>max</th>\n      <td>0 days 00:46:59</td>\n      <td>112683.000000</td>\n      <td>3154.000000</td>\n      <td>6973.000000</td>\n      <td>2.820763e+06</td>\n      <td>9.800000e+07</td>\n      <td>8.064688e+10</td>\n      <td>105638.00000</td>\n    </tr>\n  </tbody>\n</table>\n</div>"
     },
     "metadata": {}
    },
    {
     "output_type": "display_data",
     "data": {
      "text/plain": "<IPython.core.display.Markdown object>",
      "text/markdown": "---"
     },
     "metadata": {}
    }
   ],
   "source": [
    "## YOUR CODE HERE\n",
    "## FEEL FREE TO ADD MULTIPLE CELLS PER SECTION\n",
    "df_search_details = pd.read_pickle('EDA/dsamples/youtube_search.pkl')\n",
    "df_report(df_search_details, name = 'Search Results')\n"
   ]
  },
  {
   "cell_type": "code",
   "execution_count": 10,
   "metadata": {},
   "outputs": [],
   "source": [
    "#youtube.types.topic.all[restful.types.region.US]\n",
    "assert(youtube.types.topic(1).__eq__('Film & Animation'))\n",
    "\n"
   ]
  },
  {
   "cell_type": "code",
   "execution_count": 11,
   "metadata": {},
   "outputs": [
    {
     "output_type": "display_data",
     "data": {
      "text/plain": "<IPython.core.display.Markdown object>",
      "text/markdown": "---"
     },
     "metadata": {}
    },
    {
     "output_type": "display_data",
     "data": {
      "text/plain": "<IPython.core.display.Markdown object>",
      "text/markdown": "# Results - Trending"
     },
     "metadata": {}
    },
    {
     "output_type": "display_data",
     "data": {
      "text/plain": "<IPython.core.display.Markdown object>",
      "text/markdown": "## Data Preview"
     },
     "metadata": {}
    },
    {
     "output_type": "display_data",
     "data": {
      "text/plain": "                                                                                  title  \\\nid          creator.id                                                                    \nCkTVoLamPio UC-SJ6nODDmufqBzPBwCvYvQ  Meghan, Duchess of Sussex, opens up about her ...   \nauOrYTASVqQ UC-SJ6nODDmufqBzPBwCvYvQ  Oprah Winfrey on her bombshell Harry and Megha...   \nTl9KT9RwiGc UC-SJ6nODDmufqBzPBwCvYvQ  Harry and Meghan on how race factored into the...   \nWx4Vpm1KzSY UCKjU3KzdbJE1EFcHVqXC3_g  Prince Harry, Meghan reveal struggles behind r...   \nmbwMspaiUVg UCiWLfSweyRNmLpgEHekhoAg     First Take reacts to Blake Griffin to the Nets   \n\n                                                                            description  \\\nid          creator.id                                                                    \nCkTVoLamPio UC-SJ6nODDmufqBzPBwCvYvQ  For the first time Meghan, Duchess of Sussex, ...   \nauOrYTASVqQ UC-SJ6nODDmufqBzPBwCvYvQ  Oprah Winfrey joined \"CBS This Morning\" the da...   \nTl9KT9RwiGc UC-SJ6nODDmufqBzPBwCvYvQ  Prince Harry and Meghan, Duchess of Sussex, co...   \nWx4Vpm1KzSY UCKjU3KzdbJE1EFcHVqXC3_g  Prince Harry and Meghan Markle's revealing int...   \nmbwMspaiUVg UCiWLfSweyRNmLpgEHekhoAg  First Take reacts to Blake Griffin to the Nets...   \n\n                                                          time  \\\nid          creator.id                                           \nCkTVoLamPio UC-SJ6nODDmufqBzPBwCvYvQ 2021-03-08 14:01:55+00:00   \nauOrYTASVqQ UC-SJ6nODDmufqBzPBwCvYvQ 2021-03-08 14:04:06+00:00   \nTl9KT9RwiGc UC-SJ6nODDmufqBzPBwCvYvQ 2021-03-08 14:00:03+00:00   \nWx4Vpm1KzSY UCKjU3KzdbJE1EFcHVqXC3_g 2021-03-08 05:18:20+00:00   \nmbwMspaiUVg UCiWLfSweyRNmLpgEHekhoAg 2021-03-08 17:07:45+00:00   \n\n                                              length  \\\nid          creator.id                                 \nCkTVoLamPio UC-SJ6nODDmufqBzPBwCvYvQ 0 days 00:10:19   \nauOrYTASVqQ UC-SJ6nODDmufqBzPBwCvYvQ 0 days 00:05:39   \nTl9KT9RwiGc UC-SJ6nODDmufqBzPBwCvYvQ 0 days 00:08:33   \nWx4Vpm1KzSY UCKjU3KzdbJE1EFcHVqXC3_g 0 days 00:04:46   \nmbwMspaiUVg UCiWLfSweyRNmLpgEHekhoAg 0 days 00:07:08   \n\n                                                                                   tags  \\\nid          creator.id                                                                    \nCkTVoLamPio UC-SJ6nODDmufqBzPBwCvYvQ  [cbs this morning, duchess of sussex, Meghan M...   \nauOrYTASVqQ UC-SJ6nODDmufqBzPBwCvYvQ  [Oprah Winfrey, CBS This Morning, prince harry...   \nTl9KT9RwiGc UC-SJ6nODDmufqBzPBwCvYvQ  [prince harry, Meghan Markle, duchess of susse...   \nWx4Vpm1KzSY UCKjU3KzdbJE1EFcHVqXC3_g  [harry and meghan, prince harry and meghan mar...   \nmbwMspaiUVg UCiWLfSweyRNmLpgEHekhoAg  [espn, first take, blake griffin, nba, nba on ...   \n\n                                             category  stats.like  \\\nid          creator.id                                              \nCkTVoLamPio UC-SJ6nODDmufqBzPBwCvYvQ  News & Politics       32015   \nauOrYTASVqQ UC-SJ6nODDmufqBzPBwCvYvQ  News & Politics       14725   \nTl9KT9RwiGc UC-SJ6nODDmufqBzPBwCvYvQ  News & Politics       12080   \nWx4Vpm1KzSY UCKjU3KzdbJE1EFcHVqXC3_g  News & Politics       32428   \nmbwMspaiUVg UCiWLfSweyRNmLpgEHekhoAg           Sports       16410   \n\n                                      stats.dislike  stats.comment  \\\nid          creator.id                                               \nCkTVoLamPio UC-SJ6nODDmufqBzPBwCvYvQ           5461         7184.0   \nauOrYTASVqQ UC-SJ6nODDmufqBzPBwCvYvQ           3387         4883.0   \nTl9KT9RwiGc UC-SJ6nODDmufqBzPBwCvYvQ           2825         4935.0   \nWx4Vpm1KzSY UCKjU3KzdbJE1EFcHVqXC3_g          10771            NaN   \nmbwMspaiUVg UCiWLfSweyRNmLpgEHekhoAg            424         3321.0   \n\n                                      stats.view video.quality  \\\nid          creator.id                                           \nCkTVoLamPio UC-SJ6nODDmufqBzPBwCvYvQ     3461395            HD   \nauOrYTASVqQ UC-SJ6nODDmufqBzPBwCvYvQ     1834547            HD   \nTl9KT9RwiGc UC-SJ6nODDmufqBzPBwCvYvQ     1276809            HD   \nWx4Vpm1KzSY UCKjU3KzdbJE1EFcHVqXC3_g     4112536            HD   \nmbwMspaiUVg UCiWLfSweyRNmLpgEHekhoAg     1104602            HD   \n\n                                               creator.title  \\\nid          creator.id                                         \nCkTVoLamPio UC-SJ6nODDmufqBzPBwCvYvQ        CBS This Morning   \nauOrYTASVqQ UC-SJ6nODDmufqBzPBwCvYvQ        CBS This Morning   \nTl9KT9RwiGc UC-SJ6nODDmufqBzPBwCvYvQ        CBS This Morning   \nWx4Vpm1KzSY UCKjU3KzdbJE1EFcHVqXC3_g  CBC News: The National   \nmbwMspaiUVg UCiWLfSweyRNmLpgEHekhoAg                    ESPN   \n\n                                                                    creator.description  \\\nid          creator.id                                                                    \nCkTVoLamPio UC-SJ6nODDmufqBzPBwCvYvQ  Each weekday morning, Gayle King, Anthony Maso...   \nauOrYTASVqQ UC-SJ6nODDmufqBzPBwCvYvQ  Each weekday morning, Gayle King, Anthony Maso...   \nTl9KT9RwiGc UC-SJ6nODDmufqBzPBwCvYvQ  Each weekday morning, Gayle King, Anthony Maso...   \nWx4Vpm1KzSY UCKjU3KzdbJE1EFcHVqXC3_g  The National is the flagship news and current ...   \nmbwMspaiUVg UCiWLfSweyRNmLpgEHekhoAg  ESPN on YouTube features up-to-the-minute spor...   \n\n                                                  creator.time  \\\nid          creator.id                                           \nCkTVoLamPio UC-SJ6nODDmufqBzPBwCvYvQ 2013-05-23 10:59:52+00:00   \nauOrYTASVqQ UC-SJ6nODDmufqBzPBwCvYvQ 2013-05-23 10:59:52+00:00   \nTl9KT9RwiGc UC-SJ6nODDmufqBzPBwCvYvQ 2013-05-23 10:59:52+00:00   \nWx4Vpm1KzSY UCKjU3KzdbJE1EFcHVqXC3_g 2007-10-17 21:34:25+00:00   \nmbwMspaiUVg UCiWLfSweyRNmLpgEHekhoAg 2005-10-31 23:34:22+00:00   \n\n                                      creator.stats.follower  \\\nid          creator.id                                         \nCkTVoLamPio UC-SJ6nODDmufqBzPBwCvYvQ                 1880000   \nauOrYTASVqQ UC-SJ6nODDmufqBzPBwCvYvQ                 1880000   \nTl9KT9RwiGc UC-SJ6nODDmufqBzPBwCvYvQ                 1880000   \nWx4Vpm1KzSY UCKjU3KzdbJE1EFcHVqXC3_g                  996000   \nmbwMspaiUVg UCiWLfSweyRNmLpgEHekhoAg                 7730000   \n\n                                      creator.stats.view  creator.stats.post  \\\nid          creator.id                                                         \nCkTVoLamPio UC-SJ6nODDmufqBzPBwCvYvQ          1455944229               29384   \nauOrYTASVqQ UC-SJ6nODDmufqBzPBwCvYvQ          1455944229               29384   \nTl9KT9RwiGc UC-SJ6nODDmufqBzPBwCvYvQ          1455944229               29384   \nWx4Vpm1KzSY UCKjU3KzdbJE1EFcHVqXC3_g           531856230               17987   \nmbwMspaiUVg UCiWLfSweyRNmLpgEHekhoAg          7099162935               37990   \n\n                                      has_ad  has_ad_at_beginning  \nid          creator.id                                             \nCkTVoLamPio UC-SJ6nODDmufqBzPBwCvYvQ    True                 True  \nauOrYTASVqQ UC-SJ6nODDmufqBzPBwCvYvQ    True                 True  \nTl9KT9RwiGc UC-SJ6nODDmufqBzPBwCvYvQ    True                 True  \nWx4Vpm1KzSY UCKjU3KzdbJE1EFcHVqXC3_g    True                 True  \nmbwMspaiUVg UCiWLfSweyRNmLpgEHekhoAg    True                 True  ",
      "text/html": "<div>\n<style scoped>\n    .dataframe tbody tr th:only-of-type {\n        vertical-align: middle;\n    }\n\n    .dataframe tbody tr th {\n        vertical-align: top;\n    }\n\n    .dataframe thead th {\n        text-align: right;\n    }\n</style>\n<table border=\"1\" class=\"dataframe\">\n  <thead>\n    <tr style=\"text-align: right;\">\n      <th></th>\n      <th></th>\n      <th>title</th>\n      <th>description</th>\n      <th>time</th>\n      <th>length</th>\n      <th>tags</th>\n      <th>category</th>\n      <th>stats.like</th>\n      <th>stats.dislike</th>\n      <th>stats.comment</th>\n      <th>stats.view</th>\n      <th>video.quality</th>\n      <th>creator.title</th>\n      <th>creator.description</th>\n      <th>creator.time</th>\n      <th>creator.stats.follower</th>\n      <th>creator.stats.view</th>\n      <th>creator.stats.post</th>\n      <th>has_ad</th>\n      <th>has_ad_at_beginning</th>\n    </tr>\n    <tr>\n      <th>id</th>\n      <th>creator.id</th>\n      <th></th>\n      <th></th>\n      <th></th>\n      <th></th>\n      <th></th>\n      <th></th>\n      <th></th>\n      <th></th>\n      <th></th>\n      <th></th>\n      <th></th>\n      <th></th>\n      <th></th>\n      <th></th>\n      <th></th>\n      <th></th>\n      <th></th>\n      <th></th>\n      <th></th>\n    </tr>\n  </thead>\n  <tbody>\n    <tr>\n      <th>CkTVoLamPio</th>\n      <th>UC-SJ6nODDmufqBzPBwCvYvQ</th>\n      <td>Meghan, Duchess of Sussex, opens up about her ...</td>\n      <td>For the first time Meghan, Duchess of Sussex, ...</td>\n      <td>2021-03-08 14:01:55+00:00</td>\n      <td>0 days 00:10:19</td>\n      <td>[cbs this morning, duchess of sussex, Meghan M...</td>\n      <td>News &amp; Politics</td>\n      <td>32015</td>\n      <td>5461</td>\n      <td>7184.0</td>\n      <td>3461395</td>\n      <td>HD</td>\n      <td>CBS This Morning</td>\n      <td>Each weekday morning, Gayle King, Anthony Maso...</td>\n      <td>2013-05-23 10:59:52+00:00</td>\n      <td>1880000</td>\n      <td>1455944229</td>\n      <td>29384</td>\n      <td>True</td>\n      <td>True</td>\n    </tr>\n    <tr>\n      <th>auOrYTASVqQ</th>\n      <th>UC-SJ6nODDmufqBzPBwCvYvQ</th>\n      <td>Oprah Winfrey on her bombshell Harry and Megha...</td>\n      <td>Oprah Winfrey joined \"CBS This Morning\" the da...</td>\n      <td>2021-03-08 14:04:06+00:00</td>\n      <td>0 days 00:05:39</td>\n      <td>[Oprah Winfrey, CBS This Morning, prince harry...</td>\n      <td>News &amp; Politics</td>\n      <td>14725</td>\n      <td>3387</td>\n      <td>4883.0</td>\n      <td>1834547</td>\n      <td>HD</td>\n      <td>CBS This Morning</td>\n      <td>Each weekday morning, Gayle King, Anthony Maso...</td>\n      <td>2013-05-23 10:59:52+00:00</td>\n      <td>1880000</td>\n      <td>1455944229</td>\n      <td>29384</td>\n      <td>True</td>\n      <td>True</td>\n    </tr>\n    <tr>\n      <th>Tl9KT9RwiGc</th>\n      <th>UC-SJ6nODDmufqBzPBwCvYvQ</th>\n      <td>Harry and Meghan on how race factored into the...</td>\n      <td>Prince Harry and Meghan, Duchess of Sussex, co...</td>\n      <td>2021-03-08 14:00:03+00:00</td>\n      <td>0 days 00:08:33</td>\n      <td>[prince harry, Meghan Markle, duchess of susse...</td>\n      <td>News &amp; Politics</td>\n      <td>12080</td>\n      <td>2825</td>\n      <td>4935.0</td>\n      <td>1276809</td>\n      <td>HD</td>\n      <td>CBS This Morning</td>\n      <td>Each weekday morning, Gayle King, Anthony Maso...</td>\n      <td>2013-05-23 10:59:52+00:00</td>\n      <td>1880000</td>\n      <td>1455944229</td>\n      <td>29384</td>\n      <td>True</td>\n      <td>True</td>\n    </tr>\n    <tr>\n      <th>Wx4Vpm1KzSY</th>\n      <th>UCKjU3KzdbJE1EFcHVqXC3_g</th>\n      <td>Prince Harry, Meghan reveal struggles behind r...</td>\n      <td>Prince Harry and Meghan Markle's revealing int...</td>\n      <td>2021-03-08 05:18:20+00:00</td>\n      <td>0 days 00:04:46</td>\n      <td>[harry and meghan, prince harry and meghan mar...</td>\n      <td>News &amp; Politics</td>\n      <td>32428</td>\n      <td>10771</td>\n      <td>NaN</td>\n      <td>4112536</td>\n      <td>HD</td>\n      <td>CBC News: The National</td>\n      <td>The National is the flagship news and current ...</td>\n      <td>2007-10-17 21:34:25+00:00</td>\n      <td>996000</td>\n      <td>531856230</td>\n      <td>17987</td>\n      <td>True</td>\n      <td>True</td>\n    </tr>\n    <tr>\n      <th>mbwMspaiUVg</th>\n      <th>UCiWLfSweyRNmLpgEHekhoAg</th>\n      <td>First Take reacts to Blake Griffin to the Nets</td>\n      <td>First Take reacts to Blake Griffin to the Nets...</td>\n      <td>2021-03-08 17:07:45+00:00</td>\n      <td>0 days 00:07:08</td>\n      <td>[espn, first take, blake griffin, nba, nba on ...</td>\n      <td>Sports</td>\n      <td>16410</td>\n      <td>424</td>\n      <td>3321.0</td>\n      <td>1104602</td>\n      <td>HD</td>\n      <td>ESPN</td>\n      <td>ESPN on YouTube features up-to-the-minute spor...</td>\n      <td>2005-10-31 23:34:22+00:00</td>\n      <td>7730000</td>\n      <td>7099162935</td>\n      <td>37990</td>\n      <td>True</td>\n      <td>True</td>\n    </tr>\n  </tbody>\n</table>\n</div>"
     },
     "metadata": {}
    },
    {
     "output_type": "display_data",
     "data": {
      "text/plain": "<IPython.core.display.Markdown object>",
      "text/markdown": "## Stats"
     },
     "metadata": {}
    },
    {
     "output_type": "display_data",
     "data": {
      "text/plain": "                          length    stats.like  stats.dislike  stats.comment  \\\ncount                         20  2.000000e+01      20.000000      17.000000   \nmean      0 days 00:07:45.650000  1.438764e+05    3385.800000   12656.529412   \nstd    0 days 00:05:17.720379380  3.391356e+05    2949.909233   20377.321117   \nmin              0 days 00:00:14  6.197000e+03     128.000000     959.000000   \n25%       0 days 00:03:50.500000  1.178975e+04    1405.000000    2807.000000   \n50%       0 days 00:07:50.500000  2.273100e+04    2962.000000    4935.000000   \n75%              0 days 00:10:38  7.679650e+04    4376.500000   13727.000000   \nmax              0 days 00:19:01  1.502568e+06   10771.000000   87329.000000   \n\n         stats.view  creator.stats.follower  creator.stats.view  \\\ncount  2.000000e+01            2.000000e+01        2.000000e+01   \nmean   2.833792e+06            7.305200e+06        2.305155e+09   \nstd    4.457548e+06            1.234074e+07        2.675088e+09   \nmin    3.974400e+05            4.470000e+05        1.973369e+08   \n25%    9.793955e+05            1.362500e+06        6.911655e+08   \n50%    1.338131e+06            1.940000e+06        1.455944e+09   \n75%    2.610660e+06            8.347500e+06        1.775379e+09   \nmax    2.058306e+07            5.470000e+07        9.321449e+09   \n\n       creator.stats.post  \ncount           20.000000  \nmean         11021.950000  \nstd          12526.481686  \nmin             18.000000  \n25%            298.750000  \n50%           7025.000000  \n75%          18962.250000  \nmax          37990.000000  ",
      "text/html": "<div>\n<style scoped>\n    .dataframe tbody tr th:only-of-type {\n        vertical-align: middle;\n    }\n\n    .dataframe tbody tr th {\n        vertical-align: top;\n    }\n\n    .dataframe thead th {\n        text-align: right;\n    }\n</style>\n<table border=\"1\" class=\"dataframe\">\n  <thead>\n    <tr style=\"text-align: right;\">\n      <th></th>\n      <th>length</th>\n      <th>stats.like</th>\n      <th>stats.dislike</th>\n      <th>stats.comment</th>\n      <th>stats.view</th>\n      <th>creator.stats.follower</th>\n      <th>creator.stats.view</th>\n      <th>creator.stats.post</th>\n    </tr>\n  </thead>\n  <tbody>\n    <tr>\n      <th>count</th>\n      <td>20</td>\n      <td>2.000000e+01</td>\n      <td>20.000000</td>\n      <td>17.000000</td>\n      <td>2.000000e+01</td>\n      <td>2.000000e+01</td>\n      <td>2.000000e+01</td>\n      <td>20.000000</td>\n    </tr>\n    <tr>\n      <th>mean</th>\n      <td>0 days 00:07:45.650000</td>\n      <td>1.438764e+05</td>\n      <td>3385.800000</td>\n      <td>12656.529412</td>\n      <td>2.833792e+06</td>\n      <td>7.305200e+06</td>\n      <td>2.305155e+09</td>\n      <td>11021.950000</td>\n    </tr>\n    <tr>\n      <th>std</th>\n      <td>0 days 00:05:17.720379380</td>\n      <td>3.391356e+05</td>\n      <td>2949.909233</td>\n      <td>20377.321117</td>\n      <td>4.457548e+06</td>\n      <td>1.234074e+07</td>\n      <td>2.675088e+09</td>\n      <td>12526.481686</td>\n    </tr>\n    <tr>\n      <th>min</th>\n      <td>0 days 00:00:14</td>\n      <td>6.197000e+03</td>\n      <td>128.000000</td>\n      <td>959.000000</td>\n      <td>3.974400e+05</td>\n      <td>4.470000e+05</td>\n      <td>1.973369e+08</td>\n      <td>18.000000</td>\n    </tr>\n    <tr>\n      <th>25%</th>\n      <td>0 days 00:03:50.500000</td>\n      <td>1.178975e+04</td>\n      <td>1405.000000</td>\n      <td>2807.000000</td>\n      <td>9.793955e+05</td>\n      <td>1.362500e+06</td>\n      <td>6.911655e+08</td>\n      <td>298.750000</td>\n    </tr>\n    <tr>\n      <th>50%</th>\n      <td>0 days 00:07:50.500000</td>\n      <td>2.273100e+04</td>\n      <td>2962.000000</td>\n      <td>4935.000000</td>\n      <td>1.338131e+06</td>\n      <td>1.940000e+06</td>\n      <td>1.455944e+09</td>\n      <td>7025.000000</td>\n    </tr>\n    <tr>\n      <th>75%</th>\n      <td>0 days 00:10:38</td>\n      <td>7.679650e+04</td>\n      <td>4376.500000</td>\n      <td>13727.000000</td>\n      <td>2.610660e+06</td>\n      <td>8.347500e+06</td>\n      <td>1.775379e+09</td>\n      <td>18962.250000</td>\n    </tr>\n    <tr>\n      <th>max</th>\n      <td>0 days 00:19:01</td>\n      <td>1.502568e+06</td>\n      <td>10771.000000</td>\n      <td>87329.000000</td>\n      <td>2.058306e+07</td>\n      <td>5.470000e+07</td>\n      <td>9.321449e+09</td>\n      <td>37990.000000</td>\n    </tr>\n  </tbody>\n</table>\n</div>"
     },
     "metadata": {}
    },
    {
     "output_type": "display_data",
     "data": {
      "text/plain": "<IPython.core.display.Markdown object>",
      "text/markdown": "---"
     },
     "metadata": {}
    }
   ],
   "source": [
    "df_search_details = pd.read_pickle('EDA/dsamples/youtube_trending.pkl')\n",
    "df_report(df_search_details, name = 'Trending')"
   ]
  },
  {
   "cell_type": "markdown",
   "metadata": {},
   "source": [
    "# Ethics & Privacy"
   ]
  },
  {
   "cell_type": "markdown",
   "metadata": {},
   "source": [
    "*Fill in your ethics & privacy discussion here*"
   ]
  },
  {
   "cell_type": "markdown",
   "metadata": {},
   "source": [
    "# Conclusion & Discussion"
   ]
  },
  {
   "cell_type": "markdown",
   "metadata": {},
   "source": [
    "*Fill in your discussion information here*"
   ]
  },
  {
   "cell_type": "markdown",
   "metadata": {},
   "source": [
    "# Team Contributions"
   ]
  },
  {
   "cell_type": "markdown",
   "metadata": {},
   "source": [
    "*Specify who in your group worked on which parts of the project.*"
   ]
  }
 ],
 "metadata": {
  "kernelspec": {
   "display_name": "Python 3",
   "language": "python",
   "name": "python3"
  },
  "language_info": {
   "codemirror_mode": {
    "name": "ipython",
    "version": 3
   },
   "file_extension": ".py",
   "mimetype": "text/x-python",
   "name": "python",
   "nbconvert_exporter": "python",
   "pygments_lexer": "ipython3",
   "version": "3.6.8-final"
  }
 },
 "nbformat": 4,
 "nbformat_minor": 2
}