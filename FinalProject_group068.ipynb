{
 "cells": [
  {
   "cell_type": "markdown",
   "metadata": {},
   "source": [
    "# COGS 108 - Final Project (change this to your project's title)"
   ]
  },
  {
   "cell_type": "markdown",
   "metadata": {},
   "source": [
    "## Permissions\n",
    "\n",
    "Place an `X` in the appropriate bracket below to specify if you would like your group's project to be made available to the public. (Note that student names will be included (but PIDs will be scraped from any groups who include their PIDs).\n",
    "\n",
    "* [  ] YES - make available\n",
    "* [  ] NO - keep private"
   ]
  },
  {
   "cell_type": "markdown",
   "metadata": {},
   "source": [
    "# Overview"
   ]
  },
  {
   "cell_type": "markdown",
   "metadata": {},
   "source": [
    "*Fill in your overview here*\n",
    "\n",
    "---\n",
    "## GROUP MESSAGE BOARD\n",
    "### USE THIS FOR CODE REVIEWS YALL!!\n",
    "\n",
    "1. **DO NOT drop the columns for now since we don't know if any of them would be needed in the future. If you feel the need to drop columns in your data analysis, launch a group vote before doing so.**\n",
    "\n",
    "---\n"
   ]
  },
  {
   "cell_type": "markdown",
   "metadata": {},
   "source": [
    "# Names\n",
    "\n",
    "- Jared (Ruotian) Chen\n",
    "- Jimin Cheon\n",
    "- Kane Gu\n",
    "- Laurence D'Ercole\n",
    "- Nisha Davankar"
   ]
  },
  {
   "cell_type": "markdown",
   "metadata": {},
   "source": [
    "<a id='research_question'></a>\n",
    "# Research Question"
   ]
  },
  {
   "cell_type": "markdown",
   "metadata": {},
   "source": [
    "What attributes of a YouTube video affect its popularity in United States?"
   ]
  },
  {
   "cell_type": "markdown",
   "metadata": {},
   "source": [
    "<a id='background'></a>\n",
    "\n",
    "## Background & Prior Work"
   ]
  },
  {
   "cell_type": "markdown",
   "metadata": {},
   "source": [
    "*Fill in your background and prior work here* \n",
    "\n",
    "References (include links):\n",
    "- 1)\n",
    "- 2)"
   ]
  },
  {
   "cell_type": "markdown",
   "metadata": {},
   "source": [
    "# Hypothesis\n"
   ]
  },
  {
   "cell_type": "markdown",
   "metadata": {},
   "source": [
    "Factors that would potentially **affect** a video's popularity:\n",
    "- time created: `time`\n",
    "- duration: `length`\n",
    "- number of tags: `tags`\n",
    "- video category: `category`\n",
    "- video quality: `video.quality`\n",
    "- ad placement: `has_ad\thas_ad_at_beginning`\n",
    "- popularity of youtuber\n",
    "    - time youtuber joined youtube: `creator.time`\n",
    "    - number of followers: `creator.stats.follower`\n",
    "    - total number of views: `creator.stats.view`\n",
    "    - total number of videos: `creator.stats.post`\n",
    "\n",
    "Factors that **determine** a video's long-term popularity:\n",
    "- like/dislike ratio: `stats.like\tstats.dislike`\n",
    "- number of comments: `stats.comment`\n",
    "- number of views: `stats.view`"
   ]
  },
  {
   "cell_type": "markdown",
   "metadata": {},
   "source": [
    "# Dataset(s)"
   ]
  },
  {
   "cell_type": "markdown",
   "metadata": {},
   "source": [
    "*Fill in your dataset information here*\n",
    "\n",
    "(Copy this information for each dataset)\n",
    "- Dataset Name:\n",
    "- Link to the dataset:\n",
    "- Number of observations:\n",
    "\n",
    "1-2 sentences describing each dataset. \n",
    "\n",
    "If you plan to use multiple datasets, add 1-2 sentences about how you plan to combine these datasets."
   ]
  },
  {
   "cell_type": "markdown",
   "metadata": {},
   "source": [
    "# Setup"
   ]
  },
  {
   "cell_type": "code",
   "execution_count": 42,
   "metadata": {},
   "outputs": [],
   "source": [
    "import sys\n",
    "\n",
    "!{sys.executable} -m pip install --quiet --user --upgrade -r EDA/requirements.txt\n",
    "!{sys.executable} -m pip install --quiet --user --upgrade pandas==1.* numpy matplotlib seaborn patsy statsmodels"
   ]
  },
  {
   "cell_type": "code",
   "execution_count": 43,
   "metadata": {},
   "outputs": [],
   "source": [
    "from EDA.goodies import *"
   ]
  },
  {
   "cell_type": "code",
   "execution_count": 44,
   "metadata": {},
   "outputs": [],
   "source": [
    "from EDA.dcollect import restful\n",
    "from EDA.dcollect import api_youtube as youtube\n",
    "from EDA.dcollect import api_youtubei as youtubei"
   ]
  },
  {
   "cell_type": "code",
   "execution_count": 45,
   "metadata": {},
   "outputs": [],
   "source": [
    "import pandas as pd\n",
    "import numpy as np\n",
    "import seaborn as sns\n",
    "import patsy\n",
    "import statsmodels.api as sm\n",
    "import matplotlib.pyplot as plt\n",
    "from matplotlib.ticker import StrMethodFormatter"
   ]
  },
  {
   "cell_type": "code",
   "execution_count": 46,
   "metadata": {},
   "outputs": [],
   "source": [
    "from EDA import utils\n",
    "\n",
    "dataset_search = utils.EDA.dataset('EDA/dsamples/youtube_search_random_extended_ascii.dataset')\n",
    "df_search_details = dataset_search.load('youtube_search_details.pkl')\n",
    "df_search_channels = dataset_search.load('youtube_search_channels.pkl')\n",
    "\n",
    "dataset_trending = utils.EDA.dataset('EDA/dsamples/youtube_trending.dataset')\n",
    "df_trending_details = dataset_trending.load('youtube_trending_details.pkl')\n",
    "df_trending_channels = dataset_trending.load('youtube_trending_channels.pkl')"
   ]
  },
  {
   "cell_type": "markdown",
   "metadata": {},
   "source": [
    "# Data Cleaning"
   ]
  },
  {
   "cell_type": "markdown",
   "metadata": {},
   "source": [
    "Describe your data cleaning steps here."
   ]
  },
  {
   "cell_type": "code",
   "execution_count": 47,
   "metadata": {},
   "outputs": [
    {
     "data": {
      "text/markdown": [
       "---"
      ],
      "text/plain": [
       "<IPython.core.display.Markdown object>"
      ]
     },
     "metadata": {},
     "output_type": "display_data"
    },
    {
     "data": {
      "text/markdown": [
       "# Results - Search Results"
      ],
      "text/plain": [
       "<IPython.core.display.Markdown object>"
      ]
     },
     "metadata": {},
     "output_type": "display_data"
    },
    {
     "data": {
      "text/markdown": [
       "## Data Preview"
      ],
      "text/plain": [
       "<IPython.core.display.Markdown object>"
      ]
     },
     "metadata": {},
     "output_type": "display_data"
    },
    {
     "data": {
      "text/html": [
       "<div>\n",
       "<style scoped>\n",
       "    .dataframe tbody tr th:only-of-type {\n",
       "        vertical-align: middle;\n",
       "    }\n",
       "\n",
       "    .dataframe tbody tr th {\n",
       "        vertical-align: top;\n",
       "    }\n",
       "\n",
       "    .dataframe thead th {\n",
       "        text-align: right;\n",
       "    }\n",
       "</style>\n",
       "<table border=\"1\" class=\"dataframe\">\n",
       "  <thead>\n",
       "    <tr style=\"text-align: right;\">\n",
       "      <th></th>\n",
       "      <th>title</th>\n",
       "      <th>description</th>\n",
       "      <th>time</th>\n",
       "      <th>length</th>\n",
       "      <th>tags</th>\n",
       "      <th>category</th>\n",
       "      <th>creator.id</th>\n",
       "      <th>stats.like</th>\n",
       "      <th>stats.dislike</th>\n",
       "      <th>stats.comment</th>\n",
       "      <th>stats.view</th>\n",
       "      <th>video.quality</th>\n",
       "      <th>has_ad</th>\n",
       "      <th>has_ad_at_beginning</th>\n",
       "    </tr>\n",
       "    <tr>\n",
       "      <th>id</th>\n",
       "      <th></th>\n",
       "      <th></th>\n",
       "      <th></th>\n",
       "      <th></th>\n",
       "      <th></th>\n",
       "      <th></th>\n",
       "      <th></th>\n",
       "      <th></th>\n",
       "      <th></th>\n",
       "      <th></th>\n",
       "      <th></th>\n",
       "      <th></th>\n",
       "      <th></th>\n",
       "      <th></th>\n",
       "    </tr>\n",
       "  </thead>\n",
       "  <tbody>\n",
       "    <tr>\n",
       "      <th>-1K_yQO8P_0</th>\n",
       "      <td>J / Feel Your Blaze</td>\n",
       "      <td>J LIVE and LET RIDE\\n@SHIBUYA O-EAST 20081231\\...</td>\n",
       "      <td>2017-02-09 15:12:20+00:00</td>\n",
       "      <td>0 days 00:05:46</td>\n",
       "      <td>[LUNA SEA, J LUNA SEA, Jun Onose, wumf, j feel...</td>\n",
       "      <td>Music</td>\n",
       "      <td>UCSJUUn_KQw1T3gff5mRjblg</td>\n",
       "      <td>291.0</td>\n",
       "      <td>3.0</td>\n",
       "      <td>24.0</td>\n",
       "      <td>48009.0</td>\n",
       "      <td>HD</td>\n",
       "      <td>True</td>\n",
       "      <td>True</td>\n",
       "    </tr>\n",
       "    <tr>\n",
       "      <th>-49fGh_Hbhw</th>\n",
       "      <td>My Pet Fish are DYING In My Backyard Pond! Res...</td>\n",
       "      <td>🔹Buy 𝙂𝙊𝙊𝙂𝘼𝙉 𝘽𝘼𝙄𝙏𝙎  -- https://googansquad.com/...</td>\n",
       "      <td>2021-03-09 00:19:41+00:00</td>\n",
       "      <td>0 days 00:24:57</td>\n",
       "      <td>[fishing, survial, camping, outdoors, cooking,...</td>\n",
       "      <td>Howto &amp; Style</td>\n",
       "      <td>UCI6gB6eZS0c3ZrjcJq7xAtA</td>\n",
       "      <td>5187.0</td>\n",
       "      <td>93.0</td>\n",
       "      <td>648.0</td>\n",
       "      <td>132494.0</td>\n",
       "      <td>HD</td>\n",
       "      <td>True</td>\n",
       "      <td>True</td>\n",
       "    </tr>\n",
       "    <tr>\n",
       "      <th>-4z3GvwXCtM</th>\n",
       "      <td>YUMMY FOOD HACKS || Ultimate Snack Hacks You’l...</td>\n",
       "      <td>Whether you’re eating a snack after school or ...</td>\n",
       "      <td>2020-09-11 16:51:36+00:00</td>\n",
       "      <td>0 days 00:10:21</td>\n",
       "      <td>[DIY, hacks, tricks, craft, crafts, prank, pra...</td>\n",
       "      <td>People &amp; Blogs</td>\n",
       "      <td>UCu_ytbeyzLZfIKWr43QSb5A</td>\n",
       "      <td>76075.0</td>\n",
       "      <td>10207.0</td>\n",
       "      <td>2687.0</td>\n",
       "      <td>10212445.0</td>\n",
       "      <td>HD</td>\n",
       "      <td>True</td>\n",
       "      <td>True</td>\n",
       "    </tr>\n",
       "    <tr>\n",
       "      <th>-6-FNvMf56A</th>\n",
       "      <td>Cardi B Meets Cardi E</td>\n",
       "      <td>For Halloween, Ellen transformed into “Cardi E...</td>\n",
       "      <td>2019-10-31 13:00:00+00:00</td>\n",
       "      <td>0 days 00:06:03</td>\n",
       "      <td>[plm, ellen, ellen degeneres, the ellen degene...</td>\n",
       "      <td>Entertainment</td>\n",
       "      <td>UCp0hYYBW6IMayGgR-WeoCvQ</td>\n",
       "      <td>465187.0</td>\n",
       "      <td>19911.0</td>\n",
       "      <td>14175.0</td>\n",
       "      <td>23949467.0</td>\n",
       "      <td>HD</td>\n",
       "      <td>True</td>\n",
       "      <td>True</td>\n",
       "    </tr>\n",
       "    <tr>\n",
       "      <th>-6aXn_zyyiY</th>\n",
       "      <td>26 IDÉES SPLENDIDES À FAIRE QUAND ON S'ENNUIE</td>\n",
       "      <td>ACTIVITÉS GÉNIALES QUE TU DEVRAIS ESSAYER POUR...</td>\n",
       "      <td>2020-05-06 16:00:00+00:00</td>\n",
       "      <td>0 days 00:13:30</td>\n",
       "      <td>[fait-maison, art, savoir-faire, astuces, habi...</td>\n",
       "      <td>Howto &amp; Style</td>\n",
       "      <td>UC9TJezP2M1ADmUYVl8hrQ2A</td>\n",
       "      <td>2800.0</td>\n",
       "      <td>248.0</td>\n",
       "      <td>199.0</td>\n",
       "      <td>202986.0</td>\n",
       "      <td>HD</td>\n",
       "      <td>True</td>\n",
       "      <td>True</td>\n",
       "    </tr>\n",
       "  </tbody>\n",
       "</table>\n",
       "</div>"
      ],
      "text/plain": [
       "                                                         title  \\\n",
       "id                                                               \n",
       "-1K_yQO8P_0                                J / Feel Your Blaze   \n",
       "-49fGh_Hbhw  My Pet Fish are DYING In My Backyard Pond! Res...   \n",
       "-4z3GvwXCtM  YUMMY FOOD HACKS || Ultimate Snack Hacks You’l...   \n",
       "-6-FNvMf56A                              Cardi B Meets Cardi E   \n",
       "-6aXn_zyyiY      26 IDÉES SPLENDIDES À FAIRE QUAND ON S'ENNUIE   \n",
       "\n",
       "                                                   description  \\\n",
       "id                                                               \n",
       "-1K_yQO8P_0  J LIVE and LET RIDE\\n@SHIBUYA O-EAST 20081231\\...   \n",
       "-49fGh_Hbhw  🔹Buy 𝙂𝙊𝙊𝙂𝘼𝙉 𝘽𝘼𝙄𝙏𝙎  -- https://googansquad.com/...   \n",
       "-4z3GvwXCtM  Whether you’re eating a snack after school or ...   \n",
       "-6-FNvMf56A  For Halloween, Ellen transformed into “Cardi E...   \n",
       "-6aXn_zyyiY  ACTIVITÉS GÉNIALES QUE TU DEVRAIS ESSAYER POUR...   \n",
       "\n",
       "                                 time          length  \\\n",
       "id                                                      \n",
       "-1K_yQO8P_0 2017-02-09 15:12:20+00:00 0 days 00:05:46   \n",
       "-49fGh_Hbhw 2021-03-09 00:19:41+00:00 0 days 00:24:57   \n",
       "-4z3GvwXCtM 2020-09-11 16:51:36+00:00 0 days 00:10:21   \n",
       "-6-FNvMf56A 2019-10-31 13:00:00+00:00 0 days 00:06:03   \n",
       "-6aXn_zyyiY 2020-05-06 16:00:00+00:00 0 days 00:13:30   \n",
       "\n",
       "                                                          tags  \\\n",
       "id                                                               \n",
       "-1K_yQO8P_0  [LUNA SEA, J LUNA SEA, Jun Onose, wumf, j feel...   \n",
       "-49fGh_Hbhw  [fishing, survial, camping, outdoors, cooking,...   \n",
       "-4z3GvwXCtM  [DIY, hacks, tricks, craft, crafts, prank, pra...   \n",
       "-6-FNvMf56A  [plm, ellen, ellen degeneres, the ellen degene...   \n",
       "-6aXn_zyyiY  [fait-maison, art, savoir-faire, astuces, habi...   \n",
       "\n",
       "                   category                creator.id  stats.like  \\\n",
       "id                                                                  \n",
       "-1K_yQO8P_0           Music  UCSJUUn_KQw1T3gff5mRjblg       291.0   \n",
       "-49fGh_Hbhw   Howto & Style  UCI6gB6eZS0c3ZrjcJq7xAtA      5187.0   \n",
       "-4z3GvwXCtM  People & Blogs  UCu_ytbeyzLZfIKWr43QSb5A     76075.0   \n",
       "-6-FNvMf56A   Entertainment  UCp0hYYBW6IMayGgR-WeoCvQ    465187.0   \n",
       "-6aXn_zyyiY   Howto & Style  UC9TJezP2M1ADmUYVl8hrQ2A      2800.0   \n",
       "\n",
       "             stats.dislike  stats.comment  stats.view video.quality  has_ad  \\\n",
       "id                                                                            \n",
       "-1K_yQO8P_0            3.0           24.0     48009.0            HD    True   \n",
       "-49fGh_Hbhw           93.0          648.0    132494.0            HD    True   \n",
       "-4z3GvwXCtM        10207.0         2687.0  10212445.0            HD    True   \n",
       "-6-FNvMf56A        19911.0        14175.0  23949467.0            HD    True   \n",
       "-6aXn_zyyiY          248.0          199.0    202986.0            HD    True   \n",
       "\n",
       "             has_ad_at_beginning  \n",
       "id                                \n",
       "-1K_yQO8P_0                 True  \n",
       "-49fGh_Hbhw                 True  \n",
       "-4z3GvwXCtM                 True  \n",
       "-6-FNvMf56A                 True  \n",
       "-6aXn_zyyiY                 True  "
      ]
     },
     "metadata": {},
     "output_type": "display_data"
    },
    {
     "data": {
      "text/markdown": [
       "## Stats"
      ],
      "text/plain": [
       "<IPython.core.display.Markdown object>"
      ]
     },
     "metadata": {},
     "output_type": "display_data"
    },
    {
     "data": {
      "text/html": [
       "<div>\n",
       "<style scoped>\n",
       "    .dataframe tbody tr th:only-of-type {\n",
       "        vertical-align: middle;\n",
       "    }\n",
       "\n",
       "    .dataframe tbody tr th {\n",
       "        vertical-align: top;\n",
       "    }\n",
       "\n",
       "    .dataframe thead th {\n",
       "        text-align: right;\n",
       "    }\n",
       "</style>\n",
       "<table border=\"1\" class=\"dataframe\">\n",
       "  <thead>\n",
       "    <tr style=\"text-align: right;\">\n",
       "      <th></th>\n",
       "      <th>length</th>\n",
       "      <th>stats.like</th>\n",
       "      <th>stats.dislike</th>\n",
       "      <th>stats.comment</th>\n",
       "      <th>stats.view</th>\n",
       "    </tr>\n",
       "  </thead>\n",
       "  <tbody>\n",
       "    <tr>\n",
       "      <th>count</th>\n",
       "      <td>2209</td>\n",
       "      <td>2.176000e+03</td>\n",
       "      <td>2.176000e+03</td>\n",
       "      <td>2.043000e+03</td>\n",
       "      <td>2.208000e+03</td>\n",
       "    </tr>\n",
       "    <tr>\n",
       "      <th>mean</th>\n",
       "      <td>0 days 00:16:01.243549117</td>\n",
       "      <td>3.028353e+05</td>\n",
       "      <td>3.100054e+04</td>\n",
       "      <td>1.812509e+04</td>\n",
       "      <td>4.590095e+07</td>\n",
       "    </tr>\n",
       "    <tr>\n",
       "      <th>std</th>\n",
       "      <td>0 days 00:44:13.204714620</td>\n",
       "      <td>1.173375e+06</td>\n",
       "      <td>1.727713e+05</td>\n",
       "      <td>1.322898e+05</td>\n",
       "      <td>2.369428e+08</td>\n",
       "    </tr>\n",
       "    <tr>\n",
       "      <th>min</th>\n",
       "      <td>0 days 00:00:00</td>\n",
       "      <td>1.000000e+00</td>\n",
       "      <td>0.000000e+00</td>\n",
       "      <td>0.000000e+00</td>\n",
       "      <td>0.000000e+00</td>\n",
       "    </tr>\n",
       "    <tr>\n",
       "      <th>25%</th>\n",
       "      <td>0 days 00:03:33</td>\n",
       "      <td>3.610750e+03</td>\n",
       "      <td>8.975000e+01</td>\n",
       "      <td>1.275000e+02</td>\n",
       "      <td>1.054330e+05</td>\n",
       "    </tr>\n",
       "    <tr>\n",
       "      <th>50%</th>\n",
       "      <td>0 days 00:07:05</td>\n",
       "      <td>2.271350e+04</td>\n",
       "      <td>8.220000e+02</td>\n",
       "      <td>1.042000e+03</td>\n",
       "      <td>1.176212e+06</td>\n",
       "    </tr>\n",
       "    <tr>\n",
       "      <th>75%</th>\n",
       "      <td>0 days 00:14:38</td>\n",
       "      <td>1.217852e+05</td>\n",
       "      <td>6.850000e+03</td>\n",
       "      <td>5.180500e+03</td>\n",
       "      <td>1.150240e+07</td>\n",
       "    </tr>\n",
       "    <tr>\n",
       "      <th>max</th>\n",
       "      <td>0 days 15:13:24</td>\n",
       "      <td>2.111358e+07</td>\n",
       "      <td>4.142776e+06</td>\n",
       "      <td>5.198500e+06</td>\n",
       "      <td>4.418250e+09</td>\n",
       "    </tr>\n",
       "  </tbody>\n",
       "</table>\n",
       "</div>"
      ],
      "text/plain": [
       "                          length    stats.like  stats.dislike  stats.comment  \\\n",
       "count                       2209  2.176000e+03   2.176000e+03   2.043000e+03   \n",
       "mean   0 days 00:16:01.243549117  3.028353e+05   3.100054e+04   1.812509e+04   \n",
       "std    0 days 00:44:13.204714620  1.173375e+06   1.727713e+05   1.322898e+05   \n",
       "min              0 days 00:00:00  1.000000e+00   0.000000e+00   0.000000e+00   \n",
       "25%              0 days 00:03:33  3.610750e+03   8.975000e+01   1.275000e+02   \n",
       "50%              0 days 00:07:05  2.271350e+04   8.220000e+02   1.042000e+03   \n",
       "75%              0 days 00:14:38  1.217852e+05   6.850000e+03   5.180500e+03   \n",
       "max              0 days 15:13:24  2.111358e+07   4.142776e+06   5.198500e+06   \n",
       "\n",
       "         stats.view  \n",
       "count  2.208000e+03  \n",
       "mean   4.590095e+07  \n",
       "std    2.369428e+08  \n",
       "min    0.000000e+00  \n",
       "25%    1.054330e+05  \n",
       "50%    1.176212e+06  \n",
       "75%    1.150240e+07  \n",
       "max    4.418250e+09  "
      ]
     },
     "metadata": {},
     "output_type": "display_data"
    },
    {
     "data": {
      "text/markdown": [
       "---"
      ],
      "text/plain": [
       "<IPython.core.display.Markdown object>"
      ]
     },
     "metadata": {},
     "output_type": "display_data"
    },
    {
     "data": {
      "text/markdown": [
       "---"
      ],
      "text/plain": [
       "<IPython.core.display.Markdown object>"
      ]
     },
     "metadata": {},
     "output_type": "display_data"
    },
    {
     "data": {
      "text/markdown": [
       "# Results - Trending"
      ],
      "text/plain": [
       "<IPython.core.display.Markdown object>"
      ]
     },
     "metadata": {},
     "output_type": "display_data"
    },
    {
     "data": {
      "text/markdown": [
       "## Data Preview"
      ],
      "text/plain": [
       "<IPython.core.display.Markdown object>"
      ]
     },
     "metadata": {},
     "output_type": "display_data"
    },
    {
     "data": {
      "text/html": [
       "<div>\n",
       "<style scoped>\n",
       "    .dataframe tbody tr th:only-of-type {\n",
       "        vertical-align: middle;\n",
       "    }\n",
       "\n",
       "    .dataframe tbody tr th {\n",
       "        vertical-align: top;\n",
       "    }\n",
       "\n",
       "    .dataframe thead th {\n",
       "        text-align: right;\n",
       "    }\n",
       "</style>\n",
       "<table border=\"1\" class=\"dataframe\">\n",
       "  <thead>\n",
       "    <tr style=\"text-align: right;\">\n",
       "      <th></th>\n",
       "      <th>title</th>\n",
       "      <th>description</th>\n",
       "      <th>time</th>\n",
       "      <th>length</th>\n",
       "      <th>tags</th>\n",
       "      <th>category</th>\n",
       "      <th>creator.id</th>\n",
       "      <th>stats.like</th>\n",
       "      <th>stats.dislike</th>\n",
       "      <th>stats.comment</th>\n",
       "      <th>stats.view</th>\n",
       "      <th>video.quality</th>\n",
       "      <th>has_ad</th>\n",
       "      <th>has_ad_at_beginning</th>\n",
       "    </tr>\n",
       "    <tr>\n",
       "      <th>id</th>\n",
       "      <th></th>\n",
       "      <th></th>\n",
       "      <th></th>\n",
       "      <th></th>\n",
       "      <th></th>\n",
       "      <th></th>\n",
       "      <th></th>\n",
       "      <th></th>\n",
       "      <th></th>\n",
       "      <th></th>\n",
       "      <th></th>\n",
       "      <th></th>\n",
       "      <th></th>\n",
       "      <th></th>\n",
       "    </tr>\n",
       "  </thead>\n",
       "  <tbody>\n",
       "    <tr>\n",
       "      <th>-aToDFwlM1Y</th>\n",
       "      <td>CARMEN RUSHED TO THE HOSPITAL BECAUSE OF MISCA...</td>\n",
       "      <td>Carmen rushed to the hospital signs of miscarr...</td>\n",
       "      <td>2021-03-08 22:31:08+00:00</td>\n",
       "      <td>0 days 00:13:20</td>\n",
       "      <td>[Carmen and Corey, Carmen’s pregnant, Pregnanc...</td>\n",
       "      <td>People &amp; Blogs</td>\n",
       "      <td>UC2rWFYjCHFcnjNnWhnGvv7Q</td>\n",
       "      <td>33575.0</td>\n",
       "      <td>451.0</td>\n",
       "      <td>4741.0</td>\n",
       "      <td>424684.0</td>\n",
       "      <td>HD</td>\n",
       "      <td>True</td>\n",
       "      <td>True</td>\n",
       "    </tr>\n",
       "    <tr>\n",
       "      <th>-hAztPfxZEk</th>\n",
       "      <td>FIRST DAY IN OUR NEW HOME! (HECTIC)</td>\n",
       "      <td>LAST VIDEO: \\r\\n\\r\\n*MAKE SURE OUR POST NOTIFI...</td>\n",
       "      <td>2021-03-09 03:38:11+00:00</td>\n",
       "      <td>0 days 00:14:23</td>\n",
       "      <td>[queen Naija, Medicine, Queen, Royalty Squad, ...</td>\n",
       "      <td>Entertainment</td>\n",
       "      <td>UCtj45MepAoKxZoyR_Mnt86Q</td>\n",
       "      <td>29000.0</td>\n",
       "      <td>590.0</td>\n",
       "      <td>1699.0</td>\n",
       "      <td>486158.0</td>\n",
       "      <td>HD</td>\n",
       "      <td>True</td>\n",
       "      <td>True</td>\n",
       "    </tr>\n",
       "    <tr>\n",
       "      <th>0L8kRN_bPXM</th>\n",
       "      <td>Big Sean - Deep Reverence ft. Nipsey Hussle</td>\n",
       "      <td>Stream/Download “Detroit 2 https://bigsean.lnk...</td>\n",
       "      <td>2021-03-05 20:00:12+00:00</td>\n",
       "      <td>0 days 00:04:00</td>\n",
       "      <td>[Big, Sean, Deep, Reverence, Getting, Out, Our...</td>\n",
       "      <td>Music</td>\n",
       "      <td>UC7zOpx9wgvGBCDEjujnAPQA</td>\n",
       "      <td>127902.0</td>\n",
       "      <td>954.0</td>\n",
       "      <td>5635.0</td>\n",
       "      <td>1952919.0</td>\n",
       "      <td>HD</td>\n",
       "      <td>True</td>\n",
       "      <td>True</td>\n",
       "    </tr>\n",
       "    <tr>\n",
       "      <th>0OPKk1Hwk9s</th>\n",
       "      <td>Armor Plates Rule in Rainbow Six Siege (Animat...</td>\n",
       "      <td>You almost did it, Rook... Almost...\\n\\n• Use ...</td>\n",
       "      <td>2021-03-10 15:15:00+00:00</td>\n",
       "      <td>0 days 00:00:34</td>\n",
       "      <td>[rainbow six, siege, r6, rainbow six cartoon, ...</td>\n",
       "      <td>Gaming</td>\n",
       "      <td>UCT4ITc4BhHL4CXHYt4Bs9jg</td>\n",
       "      <td>31937.0</td>\n",
       "      <td>98.0</td>\n",
       "      <td>1194.0</td>\n",
       "      <td>270030.0</td>\n",
       "      <td>HD</td>\n",
       "      <td>True</td>\n",
       "      <td>True</td>\n",
       "    </tr>\n",
       "    <tr>\n",
       "      <th>0PzWnljCpL0</th>\n",
       "      <td>What Is International Women's Day?</td>\n",
       "      <td>International Women’s Day is celebrated every ...</td>\n",
       "      <td>2021-02-09 05:22:52+00:00</td>\n",
       "      <td>0 days 00:06:00</td>\n",
       "      <td>[international women's day, what is internatio...</td>\n",
       "      <td>Education</td>\n",
       "      <td>UCvmofFg-oZc4jvBUIfZbjzg</td>\n",
       "      <td>2147.0</td>\n",
       "      <td>207.0</td>\n",
       "      <td>664.0</td>\n",
       "      <td>168160.0</td>\n",
       "      <td>HD</td>\n",
       "      <td>True</td>\n",
       "      <td>True</td>\n",
       "    </tr>\n",
       "  </tbody>\n",
       "</table>\n",
       "</div>"
      ],
      "text/plain": [
       "                                                         title  \\\n",
       "id                                                               \n",
       "-aToDFwlM1Y  CARMEN RUSHED TO THE HOSPITAL BECAUSE OF MISCA...   \n",
       "-hAztPfxZEk                FIRST DAY IN OUR NEW HOME! (HECTIC)   \n",
       "0L8kRN_bPXM        Big Sean - Deep Reverence ft. Nipsey Hussle   \n",
       "0OPKk1Hwk9s  Armor Plates Rule in Rainbow Six Siege (Animat...   \n",
       "0PzWnljCpL0                 What Is International Women's Day?   \n",
       "\n",
       "                                                   description  \\\n",
       "id                                                               \n",
       "-aToDFwlM1Y  Carmen rushed to the hospital signs of miscarr...   \n",
       "-hAztPfxZEk  LAST VIDEO: \\r\\n\\r\\n*MAKE SURE OUR POST NOTIFI...   \n",
       "0L8kRN_bPXM  Stream/Download “Detroit 2 https://bigsean.lnk...   \n",
       "0OPKk1Hwk9s  You almost did it, Rook... Almost...\\n\\n• Use ...   \n",
       "0PzWnljCpL0  International Women’s Day is celebrated every ...   \n",
       "\n",
       "                                 time          length  \\\n",
       "id                                                      \n",
       "-aToDFwlM1Y 2021-03-08 22:31:08+00:00 0 days 00:13:20   \n",
       "-hAztPfxZEk 2021-03-09 03:38:11+00:00 0 days 00:14:23   \n",
       "0L8kRN_bPXM 2021-03-05 20:00:12+00:00 0 days 00:04:00   \n",
       "0OPKk1Hwk9s 2021-03-10 15:15:00+00:00 0 days 00:00:34   \n",
       "0PzWnljCpL0 2021-02-09 05:22:52+00:00 0 days 00:06:00   \n",
       "\n",
       "                                                          tags  \\\n",
       "id                                                               \n",
       "-aToDFwlM1Y  [Carmen and Corey, Carmen’s pregnant, Pregnanc...   \n",
       "-hAztPfxZEk  [queen Naija, Medicine, Queen, Royalty Squad, ...   \n",
       "0L8kRN_bPXM  [Big, Sean, Deep, Reverence, Getting, Out, Our...   \n",
       "0OPKk1Hwk9s  [rainbow six, siege, r6, rainbow six cartoon, ...   \n",
       "0PzWnljCpL0  [international women's day, what is internatio...   \n",
       "\n",
       "                   category                creator.id  stats.like  \\\n",
       "id                                                                  \n",
       "-aToDFwlM1Y  People & Blogs  UC2rWFYjCHFcnjNnWhnGvv7Q     33575.0   \n",
       "-hAztPfxZEk   Entertainment  UCtj45MepAoKxZoyR_Mnt86Q     29000.0   \n",
       "0L8kRN_bPXM           Music  UC7zOpx9wgvGBCDEjujnAPQA    127902.0   \n",
       "0OPKk1Hwk9s          Gaming  UCT4ITc4BhHL4CXHYt4Bs9jg     31937.0   \n",
       "0PzWnljCpL0       Education  UCvmofFg-oZc4jvBUIfZbjzg      2147.0   \n",
       "\n",
       "             stats.dislike  stats.comment  stats.view video.quality  has_ad  \\\n",
       "id                                                                            \n",
       "-aToDFwlM1Y          451.0         4741.0    424684.0            HD    True   \n",
       "-hAztPfxZEk          590.0         1699.0    486158.0            HD    True   \n",
       "0L8kRN_bPXM          954.0         5635.0   1952919.0            HD    True   \n",
       "0OPKk1Hwk9s           98.0         1194.0    270030.0            HD    True   \n",
       "0PzWnljCpL0          207.0          664.0    168160.0            HD    True   \n",
       "\n",
       "             has_ad_at_beginning  \n",
       "id                                \n",
       "-aToDFwlM1Y                 True  \n",
       "-hAztPfxZEk                 True  \n",
       "0L8kRN_bPXM                 True  \n",
       "0OPKk1Hwk9s                 True  \n",
       "0PzWnljCpL0                 True  "
      ]
     },
     "metadata": {},
     "output_type": "display_data"
    },
    {
     "data": {
      "text/markdown": [
       "## Stats"
      ],
      "text/plain": [
       "<IPython.core.display.Markdown object>"
      ]
     },
     "metadata": {},
     "output_type": "display_data"
    },
    {
     "data": {
      "text/html": [
       "<div>\n",
       "<style scoped>\n",
       "    .dataframe tbody tr th:only-of-type {\n",
       "        vertical-align: middle;\n",
       "    }\n",
       "\n",
       "    .dataframe tbody tr th {\n",
       "        vertical-align: top;\n",
       "    }\n",
       "\n",
       "    .dataframe thead th {\n",
       "        text-align: right;\n",
       "    }\n",
       "</style>\n",
       "<table border=\"1\" class=\"dataframe\">\n",
       "  <thead>\n",
       "    <tr style=\"text-align: right;\">\n",
       "      <th></th>\n",
       "      <th>length</th>\n",
       "      <th>stats.like</th>\n",
       "      <th>stats.dislike</th>\n",
       "      <th>stats.comment</th>\n",
       "      <th>stats.view</th>\n",
       "    </tr>\n",
       "  </thead>\n",
       "  <tbody>\n",
       "    <tr>\n",
       "      <th>count</th>\n",
       "      <td>219</td>\n",
       "      <td>2.190000e+02</td>\n",
       "      <td>219.000000</td>\n",
       "      <td>209.000000</td>\n",
       "      <td>2.190000e+02</td>\n",
       "    </tr>\n",
       "    <tr>\n",
       "      <th>mean</th>\n",
       "      <td>0 days 00:10:22.388127853</td>\n",
       "      <td>1.361335e+05</td>\n",
       "      <td>2339.191781</td>\n",
       "      <td>11710.655502</td>\n",
       "      <td>2.661245e+06</td>\n",
       "    </tr>\n",
       "    <tr>\n",
       "      <th>std</th>\n",
       "      <td>0 days 00:10:36.855607074</td>\n",
       "      <td>2.536608e+05</td>\n",
       "      <td>3615.780104</td>\n",
       "      <td>23349.540607</td>\n",
       "      <td>4.127891e+06</td>\n",
       "    </tr>\n",
       "    <tr>\n",
       "      <th>min</th>\n",
       "      <td>0 days 00:00:12</td>\n",
       "      <td>5.290000e+02</td>\n",
       "      <td>66.000000</td>\n",
       "      <td>106.000000</td>\n",
       "      <td>1.205100e+05</td>\n",
       "    </tr>\n",
       "    <tr>\n",
       "      <th>25%</th>\n",
       "      <td>0 days 00:03:13</td>\n",
       "      <td>1.894400e+04</td>\n",
       "      <td>378.000000</td>\n",
       "      <td>2102.000000</td>\n",
       "      <td>5.857785e+05</td>\n",
       "    </tr>\n",
       "    <tr>\n",
       "      <th>50%</th>\n",
       "      <td>0 days 00:08:08</td>\n",
       "      <td>4.790500e+04</td>\n",
       "      <td>958.000000</td>\n",
       "      <td>4101.000000</td>\n",
       "      <td>1.205509e+06</td>\n",
       "    </tr>\n",
       "    <tr>\n",
       "      <th>75%</th>\n",
       "      <td>0 days 00:14:02.500000</td>\n",
       "      <td>1.211970e+05</td>\n",
       "      <td>2410.500000</td>\n",
       "      <td>10479.000000</td>\n",
       "      <td>2.982000e+06</td>\n",
       "    </tr>\n",
       "    <tr>\n",
       "      <th>max</th>\n",
       "      <td>0 days 01:25:01</td>\n",
       "      <td>1.788405e+06</td>\n",
       "      <td>23309.000000</td>\n",
       "      <td>191504.000000</td>\n",
       "      <td>3.003751e+07</td>\n",
       "    </tr>\n",
       "  </tbody>\n",
       "</table>\n",
       "</div>"
      ],
      "text/plain": [
       "                          length    stats.like  stats.dislike  stats.comment  \\\n",
       "count                        219  2.190000e+02     219.000000     209.000000   \n",
       "mean   0 days 00:10:22.388127853  1.361335e+05    2339.191781   11710.655502   \n",
       "std    0 days 00:10:36.855607074  2.536608e+05    3615.780104   23349.540607   \n",
       "min              0 days 00:00:12  5.290000e+02      66.000000     106.000000   \n",
       "25%              0 days 00:03:13  1.894400e+04     378.000000    2102.000000   \n",
       "50%              0 days 00:08:08  4.790500e+04     958.000000    4101.000000   \n",
       "75%       0 days 00:14:02.500000  1.211970e+05    2410.500000   10479.000000   \n",
       "max              0 days 01:25:01  1.788405e+06   23309.000000  191504.000000   \n",
       "\n",
       "         stats.view  \n",
       "count  2.190000e+02  \n",
       "mean   2.661245e+06  \n",
       "std    4.127891e+06  \n",
       "min    1.205100e+05  \n",
       "25%    5.857785e+05  \n",
       "50%    1.205509e+06  \n",
       "75%    2.982000e+06  \n",
       "max    3.003751e+07  "
      ]
     },
     "metadata": {},
     "output_type": "display_data"
    },
    {
     "data": {
      "text/markdown": [
       "---"
      ],
      "text/plain": [
       "<IPython.core.display.Markdown object>"
      ]
     },
     "metadata": {},
     "output_type": "display_data"
    },
    {
     "data": {
      "text/markdown": [
       "---"
      ],
      "text/plain": [
       "<IPython.core.display.Markdown object>"
      ]
     },
     "metadata": {},
     "output_type": "display_data"
    },
    {
     "data": {
      "text/markdown": [
       "# Results - Search Results (Channel Database)"
      ],
      "text/plain": [
       "<IPython.core.display.Markdown object>"
      ]
     },
     "metadata": {},
     "output_type": "display_data"
    },
    {
     "data": {
      "text/markdown": [
       "## Data Preview"
      ],
      "text/plain": [
       "<IPython.core.display.Markdown object>"
      ]
     },
     "metadata": {},
     "output_type": "display_data"
    },
    {
     "data": {
      "text/html": [
       "<div>\n",
       "<style scoped>\n",
       "    .dataframe tbody tr th:only-of-type {\n",
       "        vertical-align: middle;\n",
       "    }\n",
       "\n",
       "    .dataframe tbody tr th {\n",
       "        vertical-align: top;\n",
       "    }\n",
       "\n",
       "    .dataframe thead th {\n",
       "        text-align: right;\n",
       "    }\n",
       "</style>\n",
       "<table border=\"1\" class=\"dataframe\">\n",
       "  <thead>\n",
       "    <tr style=\"text-align: right;\">\n",
       "      <th></th>\n",
       "      <th>creator.title</th>\n",
       "      <th>creator.description</th>\n",
       "      <th>creator.time</th>\n",
       "      <th>creator.stats.follower</th>\n",
       "      <th>creator.stats.view</th>\n",
       "      <th>creator.stats.post</th>\n",
       "    </tr>\n",
       "    <tr>\n",
       "      <th>creator.id</th>\n",
       "      <th></th>\n",
       "      <th></th>\n",
       "      <th></th>\n",
       "      <th></th>\n",
       "      <th></th>\n",
       "      <th></th>\n",
       "    </tr>\n",
       "  </thead>\n",
       "  <tbody>\n",
       "    <tr>\n",
       "      <th>UCvH6u_Qzn5RQdz9W198umDw</th>\n",
       "      <td>한국고전영화 Korean Classic Film</td>\n",
       "      <td>한국영상자료원 유튜브 채널에 오신 것을 환영합니다. 이 곳에서 무료로 190여편의 ...</td>\n",
       "      <td>2011-09-09 00:34:03+00:00</td>\n",
       "      <td>618000.0</td>\n",
       "      <td>250794475</td>\n",
       "      <td>200</td>\n",
       "    </tr>\n",
       "    <tr>\n",
       "      <th>UCFBzTm13T9xls5nSc8ik5Ag</th>\n",
       "      <td>No Matinho</td>\n",
       "      <td>Eai galerinha, somos Allana e Israel, moramos ...</td>\n",
       "      <td>2016-10-23 21:30:19+00:00</td>\n",
       "      <td>2750000.0</td>\n",
       "      <td>785655381</td>\n",
       "      <td>263</td>\n",
       "    </tr>\n",
       "    <tr>\n",
       "      <th>UCJElRTCNEmLemgirqvsW63Q</th>\n",
       "      <td>A Spor</td>\n",
       "      <td>Galatasaray ,Fenerbahçe, Beşiktaş,Trabzonspor ...</td>\n",
       "      <td>2014-08-22 13:47:54+00:00</td>\n",
       "      <td>289000.0</td>\n",
       "      <td>150993596</td>\n",
       "      <td>13038</td>\n",
       "    </tr>\n",
       "    <tr>\n",
       "      <th>UCqoZcZ5SDuxexeKhCvmqcqg</th>\n",
       "      <td>Ducky Extra</td>\n",
       "      <td>Just Gaming\\n\\nBe sure to subscribe if you are...</td>\n",
       "      <td>2017-06-29 10:34:36+00:00</td>\n",
       "      <td>1360000.0</td>\n",
       "      <td>122554159</td>\n",
       "      <td>132</td>\n",
       "    </tr>\n",
       "    <tr>\n",
       "      <th>UCH2958aySlHIuMzpUE8Xe9A</th>\n",
       "      <td>Tex HS</td>\n",
       "      <td>Olá pessoal, eu sou o Tex HS. \\n\\nEu posto víd...</td>\n",
       "      <td>2016-06-15 12:19:53+00:00</td>\n",
       "      <td>3270000.0</td>\n",
       "      <td>1092270410</td>\n",
       "      <td>1358</td>\n",
       "    </tr>\n",
       "  </tbody>\n",
       "</table>\n",
       "</div>"
      ],
      "text/plain": [
       "                                       creator.title  \\\n",
       "creator.id                                             \n",
       "UCvH6u_Qzn5RQdz9W198umDw  한국고전영화 Korean Classic Film   \n",
       "UCFBzTm13T9xls5nSc8ik5Ag                  No Matinho   \n",
       "UCJElRTCNEmLemgirqvsW63Q                      A Spor   \n",
       "UCqoZcZ5SDuxexeKhCvmqcqg                 Ducky Extra   \n",
       "UCH2958aySlHIuMzpUE8Xe9A                      Tex HS   \n",
       "\n",
       "                                                        creator.description  \\\n",
       "creator.id                                                                    \n",
       "UCvH6u_Qzn5RQdz9W198umDw  한국영상자료원 유튜브 채널에 오신 것을 환영합니다. 이 곳에서 무료로 190여편의 ...   \n",
       "UCFBzTm13T9xls5nSc8ik5Ag  Eai galerinha, somos Allana e Israel, moramos ...   \n",
       "UCJElRTCNEmLemgirqvsW63Q  Galatasaray ,Fenerbahçe, Beşiktaş,Trabzonspor ...   \n",
       "UCqoZcZ5SDuxexeKhCvmqcqg  Just Gaming\\n\\nBe sure to subscribe if you are...   \n",
       "UCH2958aySlHIuMzpUE8Xe9A  Olá pessoal, eu sou o Tex HS. \\n\\nEu posto víd...   \n",
       "\n",
       "                                      creator.time  creator.stats.follower  \\\n",
       "creator.id                                                                   \n",
       "UCvH6u_Qzn5RQdz9W198umDw 2011-09-09 00:34:03+00:00                618000.0   \n",
       "UCFBzTm13T9xls5nSc8ik5Ag 2016-10-23 21:30:19+00:00               2750000.0   \n",
       "UCJElRTCNEmLemgirqvsW63Q 2014-08-22 13:47:54+00:00                289000.0   \n",
       "UCqoZcZ5SDuxexeKhCvmqcqg 2017-06-29 10:34:36+00:00               1360000.0   \n",
       "UCH2958aySlHIuMzpUE8Xe9A 2016-06-15 12:19:53+00:00               3270000.0   \n",
       "\n",
       "                          creator.stats.view  creator.stats.post  \n",
       "creator.id                                                        \n",
       "UCvH6u_Qzn5RQdz9W198umDw           250794475                 200  \n",
       "UCFBzTm13T9xls5nSc8ik5Ag           785655381                 263  \n",
       "UCJElRTCNEmLemgirqvsW63Q           150993596               13038  \n",
       "UCqoZcZ5SDuxexeKhCvmqcqg           122554159                 132  \n",
       "UCH2958aySlHIuMzpUE8Xe9A          1092270410                1358  "
      ]
     },
     "metadata": {},
     "output_type": "display_data"
    },
    {
     "data": {
      "text/markdown": [
       "## Stats"
      ],
      "text/plain": [
       "<IPython.core.display.Markdown object>"
      ]
     },
     "metadata": {},
     "output_type": "display_data"
    },
    {
     "data": {
      "text/html": [
       "<div>\n",
       "<style scoped>\n",
       "    .dataframe tbody tr th:only-of-type {\n",
       "        vertical-align: middle;\n",
       "    }\n",
       "\n",
       "    .dataframe tbody tr th {\n",
       "        vertical-align: top;\n",
       "    }\n",
       "\n",
       "    .dataframe thead th {\n",
       "        text-align: right;\n",
       "    }\n",
       "</style>\n",
       "<table border=\"1\" class=\"dataframe\">\n",
       "  <thead>\n",
       "    <tr style=\"text-align: right;\">\n",
       "      <th></th>\n",
       "      <th>creator.stats.follower</th>\n",
       "      <th>creator.stats.view</th>\n",
       "      <th>creator.stats.post</th>\n",
       "    </tr>\n",
       "  </thead>\n",
       "  <tbody>\n",
       "    <tr>\n",
       "      <th>count</th>\n",
       "      <td>2.374000e+03</td>\n",
       "      <td>2.446000e+03</td>\n",
       "      <td>2446.000000</td>\n",
       "    </tr>\n",
       "    <tr>\n",
       "      <th>mean</th>\n",
       "      <td>4.494347e+06</td>\n",
       "      <td>2.615882e+09</td>\n",
       "      <td>3013.113246</td>\n",
       "    </tr>\n",
       "    <tr>\n",
       "      <th>std</th>\n",
       "      <td>1.133556e+07</td>\n",
       "      <td>8.922100e+09</td>\n",
       "      <td>14558.060302</td>\n",
       "    </tr>\n",
       "    <tr>\n",
       "      <th>min</th>\n",
       "      <td>1.250000e+02</td>\n",
       "      <td>1.019200e+04</td>\n",
       "      <td>1.000000</td>\n",
       "    </tr>\n",
       "    <tr>\n",
       "      <th>25%</th>\n",
       "      <td>1.820000e+05</td>\n",
       "      <td>5.137216e+07</td>\n",
       "      <td>106.000000</td>\n",
       "    </tr>\n",
       "    <tr>\n",
       "      <th>50%</th>\n",
       "      <td>9.950000e+05</td>\n",
       "      <td>2.655347e+08</td>\n",
       "      <td>378.000000</td>\n",
       "    </tr>\n",
       "    <tr>\n",
       "      <th>75%</th>\n",
       "      <td>3.270000e+06</td>\n",
       "      <td>1.363632e+09</td>\n",
       "      <td>1259.000000</td>\n",
       "    </tr>\n",
       "    <tr>\n",
       "      <th>max</th>\n",
       "      <td>1.060000e+08</td>\n",
       "      <td>9.587260e+10</td>\n",
       "      <td>249671.000000</td>\n",
       "    </tr>\n",
       "  </tbody>\n",
       "</table>\n",
       "</div>"
      ],
      "text/plain": [
       "       creator.stats.follower  creator.stats.view  creator.stats.post\n",
       "count            2.374000e+03        2.446000e+03         2446.000000\n",
       "mean             4.494347e+06        2.615882e+09         3013.113246\n",
       "std              1.133556e+07        8.922100e+09        14558.060302\n",
       "min              1.250000e+02        1.019200e+04            1.000000\n",
       "25%              1.820000e+05        5.137216e+07          106.000000\n",
       "50%              9.950000e+05        2.655347e+08          378.000000\n",
       "75%              3.270000e+06        1.363632e+09         1259.000000\n",
       "max              1.060000e+08        9.587260e+10       249671.000000"
      ]
     },
     "metadata": {},
     "output_type": "display_data"
    },
    {
     "data": {
      "text/markdown": [
       "---"
      ],
      "text/plain": [
       "<IPython.core.display.Markdown object>"
      ]
     },
     "metadata": {},
     "output_type": "display_data"
    },
    {
     "data": {
      "text/markdown": [
       "---"
      ],
      "text/plain": [
       "<IPython.core.display.Markdown object>"
      ]
     },
     "metadata": {},
     "output_type": "display_data"
    },
    {
     "data": {
      "text/markdown": [
       "# Results - Trending (Channel Database)"
      ],
      "text/plain": [
       "<IPython.core.display.Markdown object>"
      ]
     },
     "metadata": {},
     "output_type": "display_data"
    },
    {
     "data": {
      "text/markdown": [
       "## Data Preview"
      ],
      "text/plain": [
       "<IPython.core.display.Markdown object>"
      ]
     },
     "metadata": {},
     "output_type": "display_data"
    },
    {
     "data": {
      "text/html": [
       "<div>\n",
       "<style scoped>\n",
       "    .dataframe tbody tr th:only-of-type {\n",
       "        vertical-align: middle;\n",
       "    }\n",
       "\n",
       "    .dataframe tbody tr th {\n",
       "        vertical-align: top;\n",
       "    }\n",
       "\n",
       "    .dataframe thead th {\n",
       "        text-align: right;\n",
       "    }\n",
       "</style>\n",
       "<table border=\"1\" class=\"dataframe\">\n",
       "  <thead>\n",
       "    <tr style=\"text-align: right;\">\n",
       "      <th></th>\n",
       "      <th>creator.title</th>\n",
       "      <th>creator.description</th>\n",
       "      <th>creator.time</th>\n",
       "      <th>creator.stats.follower</th>\n",
       "      <th>creator.stats.view</th>\n",
       "      <th>creator.stats.post</th>\n",
       "    </tr>\n",
       "    <tr>\n",
       "      <th>creator.id</th>\n",
       "      <th></th>\n",
       "      <th></th>\n",
       "      <th></th>\n",
       "      <th></th>\n",
       "      <th></th>\n",
       "      <th></th>\n",
       "    </tr>\n",
       "  </thead>\n",
       "  <tbody>\n",
       "    <tr>\n",
       "      <th>UC-SJ6nODDmufqBzPBwCvYvQ</th>\n",
       "      <td>CBS This Morning</td>\n",
       "      <td>Each weekday morning, Gayle King, Anthony Maso...</td>\n",
       "      <td>2013-05-23 10:59:52+00:00</td>\n",
       "      <td>1900000.0</td>\n",
       "      <td>1.474178e+09</td>\n",
       "      <td>29403.0</td>\n",
       "    </tr>\n",
       "    <tr>\n",
       "      <th>UC-SJ6nODDmufqBzPBwCvYvQ</th>\n",
       "      <td>CBS This Morning</td>\n",
       "      <td>Each weekday morning, Gayle King, Anthony Maso...</td>\n",
       "      <td>2013-05-23 10:59:52+00:00</td>\n",
       "      <td>1900000.0</td>\n",
       "      <td>1.474178e+09</td>\n",
       "      <td>29403.0</td>\n",
       "    </tr>\n",
       "    <tr>\n",
       "      <th>UC-SJ6nODDmufqBzPBwCvYvQ</th>\n",
       "      <td>CBS This Morning</td>\n",
       "      <td>Each weekday morning, Gayle King, Anthony Maso...</td>\n",
       "      <td>2013-05-23 10:59:52+00:00</td>\n",
       "      <td>1900000.0</td>\n",
       "      <td>1.474178e+09</td>\n",
       "      <td>29403.0</td>\n",
       "    </tr>\n",
       "    <tr>\n",
       "      <th>UC-SJ6nODDmufqBzPBwCvYvQ</th>\n",
       "      <td>CBS This Morning</td>\n",
       "      <td>Each weekday morning, Gayle King, Anthony Maso...</td>\n",
       "      <td>2013-05-23 10:59:52+00:00</td>\n",
       "      <td>1900000.0</td>\n",
       "      <td>1.474178e+09</td>\n",
       "      <td>29403.0</td>\n",
       "    </tr>\n",
       "    <tr>\n",
       "      <th>UC-yW8iz7ICKv_bhuxLtcJaw</th>\n",
       "      <td>TateMcRaeVEVO</td>\n",
       "      <td>None</td>\n",
       "      <td>2019-02-05 17:08:22+00:00</td>\n",
       "      <td>8170.0</td>\n",
       "      <td>1.394726e+08</td>\n",
       "      <td>28.0</td>\n",
       "    </tr>\n",
       "  </tbody>\n",
       "</table>\n",
       "</div>"
      ],
      "text/plain": [
       "                             creator.title  \\\n",
       "creator.id                                   \n",
       "UC-SJ6nODDmufqBzPBwCvYvQ  CBS This Morning   \n",
       "UC-SJ6nODDmufqBzPBwCvYvQ  CBS This Morning   \n",
       "UC-SJ6nODDmufqBzPBwCvYvQ  CBS This Morning   \n",
       "UC-SJ6nODDmufqBzPBwCvYvQ  CBS This Morning   \n",
       "UC-yW8iz7ICKv_bhuxLtcJaw     TateMcRaeVEVO   \n",
       "\n",
       "                                                        creator.description  \\\n",
       "creator.id                                                                    \n",
       "UC-SJ6nODDmufqBzPBwCvYvQ  Each weekday morning, Gayle King, Anthony Maso...   \n",
       "UC-SJ6nODDmufqBzPBwCvYvQ  Each weekday morning, Gayle King, Anthony Maso...   \n",
       "UC-SJ6nODDmufqBzPBwCvYvQ  Each weekday morning, Gayle King, Anthony Maso...   \n",
       "UC-SJ6nODDmufqBzPBwCvYvQ  Each weekday morning, Gayle King, Anthony Maso...   \n",
       "UC-yW8iz7ICKv_bhuxLtcJaw                                               None   \n",
       "\n",
       "                                      creator.time  creator.stats.follower  \\\n",
       "creator.id                                                                   \n",
       "UC-SJ6nODDmufqBzPBwCvYvQ 2013-05-23 10:59:52+00:00               1900000.0   \n",
       "UC-SJ6nODDmufqBzPBwCvYvQ 2013-05-23 10:59:52+00:00               1900000.0   \n",
       "UC-SJ6nODDmufqBzPBwCvYvQ 2013-05-23 10:59:52+00:00               1900000.0   \n",
       "UC-SJ6nODDmufqBzPBwCvYvQ 2013-05-23 10:59:52+00:00               1900000.0   \n",
       "UC-yW8iz7ICKv_bhuxLtcJaw 2019-02-05 17:08:22+00:00                  8170.0   \n",
       "\n",
       "                          creator.stats.view  creator.stats.post  \n",
       "creator.id                                                        \n",
       "UC-SJ6nODDmufqBzPBwCvYvQ        1.474178e+09             29403.0  \n",
       "UC-SJ6nODDmufqBzPBwCvYvQ        1.474178e+09             29403.0  \n",
       "UC-SJ6nODDmufqBzPBwCvYvQ        1.474178e+09             29403.0  \n",
       "UC-SJ6nODDmufqBzPBwCvYvQ        1.474178e+09             29403.0  \n",
       "UC-yW8iz7ICKv_bhuxLtcJaw        1.394726e+08                28.0  "
      ]
     },
     "metadata": {},
     "output_type": "display_data"
    },
    {
     "data": {
      "text/markdown": [
       "## Stats"
      ],
      "text/plain": [
       "<IPython.core.display.Markdown object>"
      ]
     },
     "metadata": {},
     "output_type": "display_data"
    },
    {
     "data": {
      "text/html": [
       "<div>\n",
       "<style scoped>\n",
       "    .dataframe tbody tr th:only-of-type {\n",
       "        vertical-align: middle;\n",
       "    }\n",
       "\n",
       "    .dataframe tbody tr th {\n",
       "        vertical-align: top;\n",
       "    }\n",
       "\n",
       "    .dataframe thead th {\n",
       "        text-align: right;\n",
       "    }\n",
       "</style>\n",
       "<table border=\"1\" class=\"dataframe\">\n",
       "  <thead>\n",
       "    <tr style=\"text-align: right;\">\n",
       "      <th></th>\n",
       "      <th>creator.stats.follower</th>\n",
       "      <th>creator.stats.view</th>\n",
       "      <th>creator.stats.post</th>\n",
       "    </tr>\n",
       "  </thead>\n",
       "  <tbody>\n",
       "    <tr>\n",
       "      <th>count</th>\n",
       "      <td>2.760000e+02</td>\n",
       "      <td>2.800000e+02</td>\n",
       "      <td>280.000000</td>\n",
       "    </tr>\n",
       "    <tr>\n",
       "      <th>mean</th>\n",
       "      <td>4.831331e+06</td>\n",
       "      <td>1.424369e+09</td>\n",
       "      <td>5084.042857</td>\n",
       "    </tr>\n",
       "    <tr>\n",
       "      <th>std</th>\n",
       "      <td>8.089439e+06</td>\n",
       "      <td>2.956389e+09</td>\n",
       "      <td>13661.100995</td>\n",
       "    </tr>\n",
       "    <tr>\n",
       "      <th>min</th>\n",
       "      <td>8.170000e+03</td>\n",
       "      <td>7.119183e+06</td>\n",
       "      <td>14.000000</td>\n",
       "    </tr>\n",
       "    <tr>\n",
       "      <th>25%</th>\n",
       "      <td>1.060000e+06</td>\n",
       "      <td>2.035299e+08</td>\n",
       "      <td>99.000000</td>\n",
       "    </tr>\n",
       "    <tr>\n",
       "      <th>50%</th>\n",
       "      <td>2.170000e+06</td>\n",
       "      <td>5.242638e+08</td>\n",
       "      <td>327.000000</td>\n",
       "    </tr>\n",
       "    <tr>\n",
       "      <th>75%</th>\n",
       "      <td>5.170000e+06</td>\n",
       "      <td>1.356193e+09</td>\n",
       "      <td>2031.000000</td>\n",
       "    </tr>\n",
       "    <tr>\n",
       "      <th>max</th>\n",
       "      <td>5.820000e+07</td>\n",
       "      <td>1.780900e+10</td>\n",
       "      <td>90424.000000</td>\n",
       "    </tr>\n",
       "  </tbody>\n",
       "</table>\n",
       "</div>"
      ],
      "text/plain": [
       "       creator.stats.follower  creator.stats.view  creator.stats.post\n",
       "count            2.760000e+02        2.800000e+02          280.000000\n",
       "mean             4.831331e+06        1.424369e+09         5084.042857\n",
       "std              8.089439e+06        2.956389e+09        13661.100995\n",
       "min              8.170000e+03        7.119183e+06           14.000000\n",
       "25%              1.060000e+06        2.035299e+08           99.000000\n",
       "50%              2.170000e+06        5.242638e+08          327.000000\n",
       "75%              5.170000e+06        1.356193e+09         2031.000000\n",
       "max              5.820000e+07        1.780900e+10        90424.000000"
      ]
     },
     "metadata": {},
     "output_type": "display_data"
    },
    {
     "data": {
      "text/markdown": [
       "---"
      ],
      "text/plain": [
       "<IPython.core.display.Markdown object>"
      ]
     },
     "metadata": {},
     "output_type": "display_data"
    }
   ],
   "source": [
    "# - ads (filter)\n",
    "def clean_ads_col(df):\n",
    "    def filter_has_ad(ads):\n",
    "        return type(ads) == list\n",
    "    def filter_has_ad_beginning(ads):\n",
    "        if type(ads) == type(None) or type(ads) != list:\n",
    "            return False\n",
    "            \n",
    "        for ad in ads:\n",
    "            if ad['kind'] == youtubei.resource.ad.kinds.START:\n",
    "                return True\n",
    "        return False\n",
    "\n",
    "    df['has_ad'] = df['ads'].apply(filter_has_ad)\n",
    "    df['has_ad_at_beginning'] = \\\n",
    "            df['ads'].apply(filter_has_ad_beginning)\n",
    "    df.drop('ads', axis = 'columns', inplace = True)\n",
    "\n",
    "    \n",
    "clean_ads_col(df_search_details)\n",
    "clean_ads_col(df_trending_details)\n",
    "\n",
    "df_search_details = df_drop_duplicates(df_search_details, level = 'id')\n",
    "df_trending_details = df_drop_duplicates(df_trending_details, level = 'id')\n",
    "\n",
    "df_search_details['category'] = df_search_details['category'].astype(str)\n",
    "df_trending_details['category'] = df_trending_details['category'].astype(str)\n",
    "\n",
    "\n",
    "df_report(df_search_details, name = 'Search Results')\n",
    "df_report(df_trending_details, name = 'Trending')\n",
    "\n",
    "df_report(df_search_channels, name = 'Search Results (Channel Database)')\n",
    "df_report(df_trending_channels, name = 'Trending (Channel Database)')"
   ]
  },
  {
   "cell_type": "code",
   "execution_count": 48,
   "metadata": {},
   "outputs": [],
   "source": [
    "df_search_details_n = df_search_details.copy()"
   ]
  },
  {
   "cell_type": "code",
   "execution_count": 49,
   "metadata": {},
   "outputs": [],
   "source": [
    "# We first reset the index of the dataframe\n",
    "df_search_details_n= df_search_details_n.reset_index()"
   ]
  },
  {
   "cell_type": "markdown",
   "metadata": {},
   "source": []
  },
  {
   "cell_type": "code",
   "execution_count": 50,
   "metadata": {},
   "outputs": [],
   "source": [
    "# We clean the unecessary information such as dislikes, creator time, creater stats view and creater stats posts\n",
    "del df_search_details_n['id']\n",
    "del df_search_details_n['creator.id']\n",
    "del df_search_details_n['description']\n",
    "del df_search_details_n['time']\n",
    "del df_search_details_n['stats.dislike']\n",
    "del df_search_details_n['video.quality']\n",
    "del df_search_details_n['has_ad']"
   ]
  },
  {
   "cell_type": "code",
   "execution_count": 51,
   "metadata": {},
   "outputs": [],
   "source": [
    "# we group the data by if there are ads in the begining and caluculte the mean value of likes, comments and views\n",
    "has_ad_likes = df_search_details_n.groupby(['has_ad_at_beginning'])['stats.like'].mean()\n",
    "has_ad_comments = df_search_details_n.groupby(['has_ad_at_beginning'])['stats.comment'].mean()\n",
    "has_ad_views = df_search_details_n.groupby(['has_ad_at_beginning'])['stats.view'].mean()\n",
    "\n",
    "has_ad_likes = has_ad_likes.reset_index()\n",
    "has_ad_comments= has_ad_comments.reset_index()\n",
    "has_ad_views= has_ad_views.reset_index()"
   ]
  },
  {
   "cell_type": "code",
   "execution_count": 52,
   "metadata": {},
   "outputs": [],
   "source": [
    "# we group the data based on video category and caluculte the mean value of likes, comments and views\n",
    "category_likes = df_search_details_n.groupby(['category'])['stats.like'].mean()\n",
    "category_comments = df_search_details_n.groupby(['category'])['stats.comment'].mean()\n",
    "category_view = df_search_details_n.groupby(['category'])['stats.view'].mean()\n",
    "\n",
    "category_likes= category_likes.reset_index()\n",
    "category_comments= category_comments.reset_index()\n",
    "category_view= category_view.reset_index()"
   ]
  },
  {
   "cell_type": "code",
   "execution_count": 53,
   "metadata": {},
   "outputs": [
    {
     "data": {
      "text/html": [
       "<div>\n",
       "<style scoped>\n",
       "    .dataframe tbody tr th:only-of-type {\n",
       "        vertical-align: middle;\n",
       "    }\n",
       "\n",
       "    .dataframe tbody tr th {\n",
       "        vertical-align: top;\n",
       "    }\n",
       "\n",
       "    .dataframe thead th {\n",
       "        text-align: right;\n",
       "    }\n",
       "</style>\n",
       "<table border=\"1\" class=\"dataframe\">\n",
       "  <thead>\n",
       "    <tr style=\"text-align: right;\">\n",
       "      <th></th>\n",
       "      <th>Tags</th>\n",
       "      <th>Comments</th>\n",
       "    </tr>\n",
       "  </thead>\n",
       "  <tbody>\n",
       "    <tr>\n",
       "      <th>0</th>\n",
       "      <td>0.0</td>\n",
       "      <td>2.538727</td>\n",
       "    </tr>\n",
       "    <tr>\n",
       "      <th>1</th>\n",
       "      <td>1.0</td>\n",
       "      <td>9.298542</td>\n",
       "    </tr>\n",
       "    <tr>\n",
       "      <th>2</th>\n",
       "      <td>2.0</td>\n",
       "      <td>5.041882</td>\n",
       "    </tr>\n",
       "    <tr>\n",
       "      <th>3</th>\n",
       "      <td>3.0</td>\n",
       "      <td>3.826206</td>\n",
       "    </tr>\n",
       "    <tr>\n",
       "      <th>4</th>\n",
       "      <td>4.0</td>\n",
       "      <td>16.422622</td>\n",
       "    </tr>\n",
       "    <tr>\n",
       "      <th>...</th>\n",
       "      <td>...</td>\n",
       "      <td>...</td>\n",
       "    </tr>\n",
       "    <tr>\n",
       "      <th>68</th>\n",
       "      <td>68.0</td>\n",
       "      <td>17.702500</td>\n",
       "    </tr>\n",
       "    <tr>\n",
       "      <th>69</th>\n",
       "      <td>69.0</td>\n",
       "      <td>2.609000</td>\n",
       "    </tr>\n",
       "    <tr>\n",
       "      <th>70</th>\n",
       "      <td>70.0</td>\n",
       "      <td>2.184500</td>\n",
       "    </tr>\n",
       "    <tr>\n",
       "      <th>71</th>\n",
       "      <td>78.0</td>\n",
       "      <td>0.027000</td>\n",
       "    </tr>\n",
       "    <tr>\n",
       "      <th>72</th>\n",
       "      <td>102.0</td>\n",
       "      <td>0.000000</td>\n",
       "    </tr>\n",
       "  </tbody>\n",
       "</table>\n",
       "<p>73 rows × 2 columns</p>\n",
       "</div>"
      ],
      "text/plain": [
       "     Tags   Comments\n",
       "0     0.0   2.538727\n",
       "1     1.0   9.298542\n",
       "2     2.0   5.041882\n",
       "3     3.0   3.826206\n",
       "4     4.0  16.422622\n",
       "..    ...        ...\n",
       "68   68.0  17.702500\n",
       "69   69.0   2.609000\n",
       "70   70.0   2.184500\n",
       "71   78.0   0.027000\n",
       "72  102.0   0.000000\n",
       "\n",
       "[73 rows x 2 columns]"
      ]
     },
     "execution_count": 53,
     "metadata": {},
     "output_type": "execute_result"
    },
    {
     "data": {
      "text/html": [
       "<div>\n",
       "<style scoped>\n",
       "    .dataframe tbody tr th:only-of-type {\n",
       "        vertical-align: middle;\n",
       "    }\n",
       "\n",
       "    .dataframe tbody tr th {\n",
       "        vertical-align: top;\n",
       "    }\n",
       "\n",
       "    .dataframe thead th {\n",
       "        text-align: right;\n",
       "    }\n",
       "</style>\n",
       "<table border=\"1\" class=\"dataframe\">\n",
       "  <thead>\n",
       "    <tr style=\"text-align: right;\">\n",
       "      <th></th>\n",
       "      <th>Tags</th>\n",
       "      <th>Views</th>\n",
       "    </tr>\n",
       "  </thead>\n",
       "  <tbody>\n",
       "    <tr>\n",
       "      <th>0</th>\n",
       "      <td>0.0</td>\n",
       "      <td>3.995675e+06</td>\n",
       "    </tr>\n",
       "    <tr>\n",
       "      <th>1</th>\n",
       "      <td>1.0</td>\n",
       "      <td>4.651190e+06</td>\n",
       "    </tr>\n",
       "    <tr>\n",
       "      <th>2</th>\n",
       "      <td>2.0</td>\n",
       "      <td>8.758496e+07</td>\n",
       "    </tr>\n",
       "    <tr>\n",
       "      <th>3</th>\n",
       "      <td>3.0</td>\n",
       "      <td>5.100762e+06</td>\n",
       "    </tr>\n",
       "    <tr>\n",
       "      <th>4</th>\n",
       "      <td>4.0</td>\n",
       "      <td>3.410647e+07</td>\n",
       "    </tr>\n",
       "    <tr>\n",
       "      <th>...</th>\n",
       "      <td>...</td>\n",
       "      <td>...</td>\n",
       "    </tr>\n",
       "    <tr>\n",
       "      <th>68</th>\n",
       "      <td>68.0</td>\n",
       "      <td>1.173922e+07</td>\n",
       "    </tr>\n",
       "    <tr>\n",
       "      <th>69</th>\n",
       "      <td>69.0</td>\n",
       "      <td>5.682030e+05</td>\n",
       "    </tr>\n",
       "    <tr>\n",
       "      <th>70</th>\n",
       "      <td>70.0</td>\n",
       "      <td>3.571210e+05</td>\n",
       "    </tr>\n",
       "    <tr>\n",
       "      <th>71</th>\n",
       "      <td>78.0</td>\n",
       "      <td>1.085350e+04</td>\n",
       "    </tr>\n",
       "    <tr>\n",
       "      <th>72</th>\n",
       "      <td>102.0</td>\n",
       "      <td>1.654700e+04</td>\n",
       "    </tr>\n",
       "  </tbody>\n",
       "</table>\n",
       "<p>73 rows × 2 columns</p>\n",
       "</div>"
      ],
      "text/plain": [
       "     Tags         Views\n",
       "0     0.0  3.995675e+06\n",
       "1     1.0  4.651190e+06\n",
       "2     2.0  8.758496e+07\n",
       "3     3.0  5.100762e+06\n",
       "4     4.0  3.410647e+07\n",
       "..    ...           ...\n",
       "68   68.0  1.173922e+07\n",
       "69   69.0  5.682030e+05\n",
       "70   70.0  3.571210e+05\n",
       "71   78.0  1.085350e+04\n",
       "72  102.0  1.654700e+04\n",
       "\n",
       "[73 rows x 2 columns]"
      ]
     },
     "execution_count": 53,
     "metadata": {},
     "output_type": "execute_result"
    },
    {
     "data": {
      "text/html": [
       "<div>\n",
       "<style scoped>\n",
       "    .dataframe tbody tr th:only-of-type {\n",
       "        vertical-align: middle;\n",
       "    }\n",
       "\n",
       "    .dataframe tbody tr th {\n",
       "        vertical-align: top;\n",
       "    }\n",
       "\n",
       "    .dataframe thead th {\n",
       "        text-align: right;\n",
       "    }\n",
       "</style>\n",
       "<table border=\"1\" class=\"dataframe\">\n",
       "  <thead>\n",
       "    <tr style=\"text-align: right;\">\n",
       "      <th></th>\n",
       "      <th>Tags</th>\n",
       "      <th>Views</th>\n",
       "    </tr>\n",
       "  </thead>\n",
       "  <tbody>\n",
       "    <tr>\n",
       "      <th>0</th>\n",
       "      <td>0.0</td>\n",
       "      <td>39.956751</td>\n",
       "    </tr>\n",
       "    <tr>\n",
       "      <th>1</th>\n",
       "      <td>1.0</td>\n",
       "      <td>46.511897</td>\n",
       "    </tr>\n",
       "    <tr>\n",
       "      <th>2</th>\n",
       "      <td>2.0</td>\n",
       "      <td>875.849612</td>\n",
       "    </tr>\n",
       "    <tr>\n",
       "      <th>3</th>\n",
       "      <td>3.0</td>\n",
       "      <td>51.007623</td>\n",
       "    </tr>\n",
       "    <tr>\n",
       "      <th>4</th>\n",
       "      <td>4.0</td>\n",
       "      <td>341.064700</td>\n",
       "    </tr>\n",
       "    <tr>\n",
       "      <th>...</th>\n",
       "      <td>...</td>\n",
       "      <td>...</td>\n",
       "    </tr>\n",
       "    <tr>\n",
       "      <th>68</th>\n",
       "      <td>68.0</td>\n",
       "      <td>117.392165</td>\n",
       "    </tr>\n",
       "    <tr>\n",
       "      <th>69</th>\n",
       "      <td>69.0</td>\n",
       "      <td>5.682030</td>\n",
       "    </tr>\n",
       "    <tr>\n",
       "      <th>70</th>\n",
       "      <td>70.0</td>\n",
       "      <td>3.571210</td>\n",
       "    </tr>\n",
       "    <tr>\n",
       "      <th>71</th>\n",
       "      <td>78.0</td>\n",
       "      <td>0.108535</td>\n",
       "    </tr>\n",
       "    <tr>\n",
       "      <th>72</th>\n",
       "      <td>102.0</td>\n",
       "      <td>0.165470</td>\n",
       "    </tr>\n",
       "  </tbody>\n",
       "</table>\n",
       "<p>73 rows × 2 columns</p>\n",
       "</div>"
      ],
      "text/plain": [
       "     Tags       Views\n",
       "0     0.0   39.956751\n",
       "1     1.0   46.511897\n",
       "2     2.0  875.849612\n",
       "3     3.0   51.007623\n",
       "4     4.0  341.064700\n",
       "..    ...         ...\n",
       "68   68.0  117.392165\n",
       "69   69.0    5.682030\n",
       "70   70.0    3.571210\n",
       "71   78.0    0.108535\n",
       "72  102.0    0.165470\n",
       "\n",
       "[73 rows x 2 columns]"
      ]
     },
     "execution_count": 53,
     "metadata": {},
     "output_type": "execute_result"
    }
   ],
   "source": [
    "# we group the data based on tags and calculate the mean value of likes, comments and views\n",
    "# Replace rows with Nan with 0 tags, and count number of tags in each cell\n",
    "num_tags = df_search_details_n['tags'].str.len()\n",
    "num_tags = num_tags.fillna(0)\n",
    "\n",
    "# For likes\n",
    "tags_likes = pd.DataFrame({'Tags': num_tags, 'Likes': df_search_details_n['stats.like']})\n",
    "tags_likes = tags_likes.groupby(['Tags']).mean()\n",
    "tags_likes = tags_likes.reset_index()\n",
    "\n",
    "# Divide by 1000 to make graph less cluttered\n",
    "tags_likes['Likes'] = tags_likes['Likes'].div(1000)\n",
    "\n",
    "# For comments\n",
    "tags_comments = pd.DataFrame({'Tags': num_tags, 'Comments': df_search_details_n['stats.comment']})\n",
    "tags_comments = tags_comments.groupby(['Tags']).mean()\n",
    "tags_comments = tags_comments.reset_index()\n",
    "\n",
    "# Divide by 1000 to make graph less cluttered\n",
    "tags_comments['Comments'] = tags_comments['Comments'].div(1000)\n",
    "tags_comments\n",
    "\n",
    "# For views\n",
    "tags_views = pd.DataFrame({'Tags': num_tags, 'Views': df_search_details_n['stats.view']})\n",
    "tags_views = tags_views.groupby(['Tags']).mean()\n",
    "tags_views = tags_views.reset_index()\n",
    "tags_views\n",
    "\n",
    "# Divide by 100000 to make graph less cluttered\n",
    "tags_views['Views'] = tags_views['Views'].div(100000)\n",
    "tags_views"
   ]
  },
  {
   "cell_type": "markdown",
   "metadata": {},
   "source": [
    "# Data Analysis & Results"
   ]
  },
  {
   "cell_type": "markdown",
   "metadata": {},
   "source": [
    "Include cells that describe the steps in your data analysis."
   ]
  },
  {
   "cell_type": "code",
   "execution_count": 54,
   "metadata": {},
   "outputs": [
    {
     "data": {
      "text/plain": [
       "Text(0, 0.5, 'Average likes')"
      ]
     },
     "execution_count": 54,
     "metadata": {},
     "output_type": "execute_result"
    },
    {
     "data": {
      "image/png": "[encoded data removed]",
      "text/plain": [
       "<Figure size 432x288 with 1 Axes>"
      ]
     },
     "metadata": {
      "needs_background": "light"
     },
     "output_type": "display_data"
    },
    {
     "data": {
      "text/plain": [
       "Text(0, 0.5, 'Average comments')"
      ]
     },
     "execution_count": 54,
     "metadata": {},
     "output_type": "execute_result"
    },
    {
     "data": {
      "image/png": "[encoded data removed]",
      "text/plain": [
       "<Figure size 432x288 with 1 Axes>"
      ]
     },
     "metadata": {
      "needs_background": "light"
     },
     "output_type": "display_data"
    },
    {
     "data": {
      "text/plain": [
       "Text(0, 0.5, 'Average views')"
      ]
     },
     "execution_count": 54,
     "metadata": {},
     "output_type": "execute_result"
    },
    {
     "data": {
      "image/png": "[encoded data removed]",
      "text/plain": [
       "<Figure size 432x288 with 1 Axes>"
      ]
     },
     "metadata": {
      "needs_background": "light"
     },
     "output_type": "display_data"
    }
   ],
   "source": [
    "# We plot the averagepopularity (likes, comments, views) compared to the exsistence of ads\n",
    "ax_likes = has_ad_likes.plot.bar(x= 'has_ad_at_beginning', y= 'stats.like', title= \"Average likes based on exsistence of ads\")\n",
    "ax_likes.set_ylabel(\"Average likes\")\n",
    "plt.show()\n",
    "ax_comments= has_ad_comments.plot.bar(x= 'has_ad_at_beginning', y= 'stats.comment',  title= \"Average comments based on exsistence of ads\")\n",
    "ax_comments.set_ylabel(\"Average comments\")\n",
    "plt.show()\n",
    "ax_views= has_ad_views.plot.bar(x= 'has_ad_at_beginning', y= 'stats.view', title= \"Average views based on exsistence of ads\")\n",
    "ax_views.set_ylabel(\"Average views\")\n",
    "plt.show()"
   ]
  },
  {
   "cell_type": "markdown",
   "metadata": {},
   "source": [
    "The plots above compare the vidoes that had an ad at the begining of the vidoe and videos that do not have ads at the begining of a video. The first plot compares has_ad_at_begining to the average likes. The second plot compares has_ad_at_begining to average comments and the final lot compares has_ad_at_begining to average views. We can see that in all three cases, the popularity of the videos is higher when there is an ad attached to the video. "
   ]
  },
  {
   "cell_type": "code",
   "execution_count": 55,
   "metadata": {},
   "outputs": [
    {
     "data": {
      "text/plain": [
       "Text(0, 0.5, 'Average likes')"
      ]
     },
     "execution_count": 55,
     "metadata": {},
     "output_type": "execute_result"
    },
    {
     "data": {
      "image/png": "[encoded data removed]",
      "text/plain": [
       "<Figure size 432x288 with 1 Axes>"
      ]
     },
     "metadata": {
      "needs_background": "light"
     },
     "output_type": "display_data"
    },
    {
     "data": {
      "text/plain": [
       "Text(0, 0.5, 'Average comments')"
      ]
     },
     "execution_count": 55,
     "metadata": {},
     "output_type": "execute_result"
    },
    {
     "data": {
      "image/png": "[encoded data removed]",
      "text/plain": [
       "<Figure size 432x288 with 1 Axes>"
      ]
     },
     "metadata": {
      "needs_background": "light"
     },
     "output_type": "display_data"
    },
    {
     "data": {
      "text/plain": [
       "Text(0, 0.5, 'Average views')"
      ]
     },
     "execution_count": 55,
     "metadata": {},
     "output_type": "execute_result"
    },
    {
     "data": {
      "image/png": "[encoded data removed]",
      "text/plain": [
       "<Figure size 432x288 with 1 Axes>"
      ]
     },
     "metadata": {
      "needs_background": "light"
     },
     "output_type": "display_data"
    }
   ],
   "source": [
    "# We plot the averagepopularity (likes, comments, views) compared to the category of the videos\n",
    "ax_category_likes = category_likes.plot.bar(x= 'category', y= 'stats.like', title= \"Average likes based on category of video\")\n",
    "ax_category_likes.set_ylabel(\"Average likes\")\n",
    "plt.show()\n",
    "ax_category_comments = category_comments.plot.bar(x= 'category', y= 'stats.comment', title= \"Average comments based on category of video\")\n",
    "ax_category_comments.set_ylabel(\"Average comments\")\n",
    "plt.show()\n",
    "ax_category_views = category_view.plot.bar(x= 'category', y= 'stats.view', title= \"Average views based on category of video\")\n",
    "ax_category_views.set_ylabel(\"Average views\")\n",
    "plt.show()"
   ]
  },
  {
   "cell_type": "markdown",
   "metadata": {},
   "source": [
    "The plots above compare the the category of the videos and to the popularity of videos The first plot compares category to the average likes. The second plot compares category to average comments and the final lot compares category to average views. We can see that in all three cases, that the music category has high popularity is comparison to the other categories. We also notice that within popularity, views are high in the pets and animals category."
   ]
  },
  {
   "cell_type": "code",
   "execution_count": 56,
   "metadata": {},
   "outputs": [
    {
     "data": {
      "text/plain": [
       "<AxesSubplot:xlabel='bin', ylabel='Likes'>"
      ]
     },
     "execution_count": 56,
     "metadata": {},
     "output_type": "execute_result"
    },
    {
     "data": {
      "text/plain": [
       "Text(0.5, 1.0, 'Likes vs Tags')"
      ]
     },
     "execution_count": 56,
     "metadata": {},
     "output_type": "execute_result"
    },
    {
     "data": {
      "text/plain": [
       "Text(0.5, 0, 'Number of Tags (Count)')"
      ]
     },
     "execution_count": 56,
     "metadata": {},
     "output_type": "execute_result"
    },
    {
     "data": {
      "text/plain": [
       "Text(0, 0.5, 'Number of Likes (Thousands)')"
      ]
     },
     "execution_count": 56,
     "metadata": {},
     "output_type": "execute_result"
    },
    {
     "data": {
      "image/png": "[encoded data removed]",
      "text/plain": [
       "<Figure size 432x288 with 1 Axes>"
      ]
     },
     "metadata": {
      "needs_background": "light"
     },
     "output_type": "display_data"
    }
   ],
   "source": [
    "# Compare the number of likes to number of tags\n",
    "\n",
    "# Fixes the issue where 0 tages was not being binned into first bin\n",
    "tags_likes.at[0,'Tags'] = 1\n",
    "tags_likes['bin'] = pd.cut(tags_likes['Tags'], bins=range(0,71,10), labels=[f'{l}-{l+10}' for l in range(0,61,10)])\n",
    "\n",
    "sns.barplot(x='bin', y='Likes', color=\"#87bf89\", data=tags_likes, ci=None)\n",
    "plt.title(\"Likes vs Tags\")\n",
    "plt.xlabel(\"Number of Tags (Count)\")\n",
    "plt.ylabel(\"Number of Likes (Thousands)\")"
   ]
  },
  {
   "cell_type": "code",
   "execution_count": 57,
   "metadata": {},
   "outputs": [
    {
     "data": {
      "text/plain": [
       "[Text(0.5, 0, 'Number of Tags'), Text(0, 0.5, 'Number of Likes')]"
      ]
     },
     "execution_count": 57,
     "metadata": {},
     "output_type": "execute_result"
    },
    {
     "data": {
      "image/png": "[encoded data removed]",
      "text/plain": [
       "<Figure size 432x288 with 1 Axes>"
      ]
     },
     "metadata": {
      "needs_background": "light"
     },
     "output_type": "display_data"
    }
   ],
   "source": [
    "ax3 = sns.regplot(x=\"Tags\", y= \"Likes\", color= \"#87bf89\", data=tags_likes)\n",
    "ax3.set(xlabel='Number of Tags', ylabel='Number of Likes')"
   ]
  },
  {
   "cell_type": "code",
   "execution_count": 58,
   "metadata": {},
   "outputs": [
    {
     "data": {
      "text/plain": [
       "<AxesSubplot:xlabel='bin', ylabel='Comments'>"
      ]
     },
     "execution_count": 58,
     "metadata": {},
     "output_type": "execute_result"
    },
    {
     "data": {
      "text/plain": [
       "Text(0.5, 1.0, 'Comments vs Tags')"
      ]
     },
     "execution_count": 58,
     "metadata": {},
     "output_type": "execute_result"
    },
    {
     "data": {
      "text/plain": [
       "Text(0.5, 0, 'Number of Tags (Count)')"
      ]
     },
     "execution_count": 58,
     "metadata": {},
     "output_type": "execute_result"
    },
    {
     "data": {
      "text/plain": [
       "Text(0, 0.5, 'Number of Comments (Thousands)')"
      ]
     },
     "execution_count": 58,
     "metadata": {},
     "output_type": "execute_result"
    },
    {
     "data": {
      "image/png": "[encoded data removed]",
      "text/plain": [
       "<Figure size 432x288 with 1 Axes>"
      ]
     },
     "metadata": {
      "needs_background": "light"
     },
     "output_type": "display_data"
    }
   ],
   "source": [
    "# Compare the number of comments to number of tags\n",
    "\n",
    "#Fixes the issue where 0 tages was not being binned into first bin\n",
    "tags_comments.at[0,'Tags'] = 1\n",
    "tags_comments['bin'] = pd.cut(tags_likes['Tags'], bins=range(0,71,10), labels=[f'{l}-{l+10}' for l in range(0,61,10)])\n",
    "\n",
    "sns.barplot(x='bin', y='Comments', color=\"#87bf89\", data=tags_comments, ci=None)\n",
    "plt.title(\"Comments vs Tags\")\n",
    "plt.xlabel(\"Number of Tags (Count)\")\n",
    "plt.ylabel(\"Number of Comments (Thousands)\")"
   ]
  },
  {
   "cell_type": "code",
   "execution_count": 59,
   "metadata": {},
   "outputs": [
    {
     "data": {
      "text/plain": [
       "<AxesSubplot:xlabel='bin', ylabel='Views'>"
      ]
     },
     "execution_count": 59,
     "metadata": {},
     "output_type": "execute_result"
    },
    {
     "data": {
      "text/plain": [
       "Text(0.5, 1.0, 'Views vs Tags')"
      ]
     },
     "execution_count": 59,
     "metadata": {},
     "output_type": "execute_result"
    },
    {
     "data": {
      "text/plain": [
       "Text(0.5, 0, 'Number of Tags (Count)')"
      ]
     },
     "execution_count": 59,
     "metadata": {},
     "output_type": "execute_result"
    },
    {
     "data": {
      "text/plain": [
       "Text(0, 0.5, 'Number of Views (Hundred Thousands)')"
      ]
     },
     "execution_count": 59,
     "metadata": {},
     "output_type": "execute_result"
    },
    {
     "data": {
      "image/png": "[encoded data removed]",
      "text/plain": [
       "<Figure size 432x288 with 1 Axes>"
      ]
     },
     "metadata": {
      "needs_background": "light"
     },
     "output_type": "display_data"
    }
   ],
   "source": [
    "# Compare the number of views to number of tags\n",
    "\n",
    "#Fixes the issue where 0 tags was not being binned into first bin\n",
    "tags_views.at[0,'Tags'] = 1\n",
    "tags_views['bin'] = pd.cut(tags_likes['Tags'], bins=range(0,71,10), labels=[f'{l}-{l+10}' for l in range(0,61,10)])\n",
    "\n",
    "sns.barplot(x='bin', y='Views', color=\"#87bf89\", data=tags_views, ci=None)\n",
    "plt.title(\"Views vs Tags\")\n",
    "plt.xlabel(\"Number of Tags (Count)\")\n",
    "plt.ylabel(\"Number of Views (Hundred Thousands)\")"
   ]
  },
  {
   "cell_type": "markdown",
   "metadata": {},
   "source": [
    "-The above three plots compare the number of tags to likes, comments, and views. When observing all three graphs, 40-50 tags consistently seem to perform relatively well in each metric. This is apparent in Likes vs Tags and Views vs Tags distribution, but less so in Comments vs Tags plot due to it being a bimodal distribution. "
   ]
  },
  {
   "cell_type": "markdown",
   "metadata": {},
   "source": [
    "# Ethics & Privacy"
   ]
  },
  {
   "cell_type": "code",
   "execution_count": null,
   "metadata": {},
   "outputs": [],
   "source": []
  },
  {
   "cell_type": "markdown",
   "metadata": {},
   "source": [
    "*Fill in your ethics & privacy discussion here*"
   ]
  },
  {
   "cell_type": "markdown",
   "metadata": {},
   "source": [
    "# Conclusion & Discussion"
   ]
  },
  {
   "cell_type": "markdown",
   "metadata": {},
   "source": [
    "*Fill in your discussion information here*"
   ]
  },
  {
   "cell_type": "markdown",
   "metadata": {},
   "source": [
    "# Team Contributions"
   ]
  },
  {
   "cell_type": "markdown",
   "metadata": {},
   "source": [
    "*Specify who in your group worked on which parts of the project.*"
   ]
  }
 ],
 "metadata": {
  "kernelspec": {
   "display_name": "Python 3",
   "language": "python",
   "name": "python3"
  },
  "language_info": {
   "codemirror_mode": {
    "name": "ipython",
    "version": 3
   },
   "file_extension": ".py",
   "mimetype": "text/x-python",
   "name": "python",
   "nbconvert_exporter": "python",
   "pygments_lexer": "ipython3",
   "version": "3.7.6"
  }
 },
 "nbformat": 4,
 "nbformat_minor": 4
}
