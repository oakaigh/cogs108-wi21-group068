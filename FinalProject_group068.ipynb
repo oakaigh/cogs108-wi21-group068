{
 "cells": [
  {
   "cell_type": "markdown",
   "metadata": {},
   "source": [
    "# COGS 108 - Final Project (change this to your project's title)"
   ]
  },
  {
   "cell_type": "markdown",
   "metadata": {},
   "source": [
    "## Permissions\n",
    "\n",
    "Place an `X` in the appropriate bracket below to specify if you would like your group's project to be made available to the public. (Note that student names will be included (but PIDs will be scraped from any groups who include their PIDs).\n",
    "\n",
    "* [  ] YES - make available\n",
    "* [  ] NO - keep private"
   ]
  },
  {
   "cell_type": "markdown",
   "metadata": {},
   "source": [
    "# Overview"
   ]
  },
  {
   "cell_type": "markdown",
   "metadata": {},
   "source": [
    "*Fill in your overview here*"
   ]
  },
  {
   "cell_type": "markdown",
   "metadata": {},
   "source": [
    "# Names\n",
    "\n",
    "- Jared (Ruotian) Chen\n",
    "- Jimin Cheon\n",
    "- Kane Gu\n",
    "- Laurence D'Ercole\n",
    "- Nisha Davankar"
   ]
  },
  {
   "cell_type": "markdown",
   "metadata": {},
   "source": [
    "<a id='research_question'></a>\n",
    "# Research Question"
   ]
  },
  {
   "cell_type": "markdown",
   "metadata": {},
   "source": [
    "What attributes of a YouTube video affect its popularity in United States?"
   ]
  },
  {
   "cell_type": "markdown",
   "metadata": {},
   "source": [
    "<a id='background'></a>\n",
    "\n",
    "## Background & Prior Work"
   ]
  },
  {
   "cell_type": "markdown",
   "metadata": {},
   "source": [
    "*Fill in your background and prior work here* \n",
    "\n",
    "References (include links):\n",
    "- 1)\n",
    "- 2)"
   ]
  },
  {
   "cell_type": "markdown",
   "metadata": {},
   "source": [
    "# Hypothesis\n"
   ]
  },
  {
   "cell_type": "markdown",
   "metadata": {},
   "source": [
    "Factors that would potentially **affect** a video's popularity:\n",
    "- time created: `time`\n",
    "- duration: `length`\n",
    "- number of tags: `tags`\n",
    "- video category: `category`\n",
    "- video quality: `video.quality`\n",
    "- ad placement: `has_ad\thas_ad_at_beginning`\n",
    "- popularity of youtuber\n",
    "    - time youtuber joined youtube: `creator.time`\n",
    "    - number of followers: `creator.stats.follower`\n",
    "    - total number of views: `creator.stats.view`\n",
    "    - total number of videos: `creator.stats.post`\n",
    "\n",
    "Factors that **determine** a video's long-term popularity:\n",
    "- like/dislike ratio: `stats.like\tstats.dislike`\n",
    "- number of comments: `stats.comment`\n",
    "- number of views: `stats.view`"
   ]
  },
  {
   "cell_type": "markdown",
   "metadata": {},
   "source": [
    "# Dataset(s)"
   ]
  },
  {
   "cell_type": "markdown",
   "metadata": {},
   "source": [
    "*Fill in your dataset information here*\n",
    "\n",
    "(Copy this information for each dataset)\n",
    "- Dataset Name:\n",
    "- Link to the dataset:\n",
    "- Number of observations:\n",
    "\n",
    "1-2 sentences describing each dataset. \n",
    "\n",
    "If you plan to use multiple datasets, add 1-2 sentences about how you plan to combine these datasets."
   ]
  },
  {
   "cell_type": "markdown",
   "metadata": {},
   "source": [
    "# Setup"
   ]
  },
  {
   "cell_type": "code",
   "execution_count": 1,
   "metadata": {},
   "outputs": [],
   "source": [
    "import sys\n",
    "\n",
    "!{sys.executable} -m pip install --quiet --user --upgrade pandas==1.* numpy matplotlib\n",
    "!{sys.executable} -m pip install --quiet --user --upgrade -r EDA/requirements.txt"
   ]
  },
  {
   "cell_type": "code",
   "execution_count": 2,
   "metadata": {},
   "outputs": [],
   "source": [
    "from EDA.goodies import *"
   ]
  },
  {
   "cell_type": "code",
   "execution_count": 3,
   "metadata": {},
   "outputs": [],
   "source": [
    "from EDA.dcollect import restful\n",
    "from EDA.dcollect import api_youtube as youtube\n",
    "from EDA.dcollect import api_youtubei as youtubei\n",
    "\n",
    "import pandas as pd\n",
    "import numpy as np\n",
    "import matplotlib.pyplot as plt"
   ]
  },
  {
   "cell_type": "markdown",
   "metadata": {},
   "source": [
    "# Data Cleaning"
   ]
  },
  {
   "cell_type": "markdown",
   "metadata": {},
   "source": [
    "Describe your data cleaning steps here."
   ]
  },
  {
   "cell_type": "code",
   "execution_count": null,
   "metadata": {},
   "outputs": [],
   "source": []
  },
  {
   "cell_type": "code",
   "execution_count": 4,
   "metadata": {},
   "outputs": [
    {
     "data": {
      "text/plain": [
       "\"\\ndataset_id = 'random'\\n\\nimport string\\nkeyword = '|'.join(string.ascii_letters)\\n\\n\\n\\ndf_search_details = pd.read_pickle(f'EDA/dsamples/youtube_search_{as_fname(keyword)}_{dataset_id}.pkl')\\n\\n# optional (extra info about channels in our search result)\\n#df_search_details_channels = pd.read_pickle(f'EDA/dsamples/youtube_search_channels_{as_fname(keyword)}_{dataset_id}.pkl')\\n\\n\""
      ]
     },
     "execution_count": 4,
     "metadata": {},
     "output_type": "execute_result"
    },
    {
     "data": {
      "text/markdown": [
       "---"
      ],
      "text/plain": [
       "<IPython.core.display.Markdown object>"
      ]
     },
     "metadata": {},
     "output_type": "display_data"
    },
    {
     "data": {
      "text/markdown": [
       "# Results - Search Results"
      ],
      "text/plain": [
       "<IPython.core.display.Markdown object>"
      ]
     },
     "metadata": {},
     "output_type": "display_data"
    },
    {
     "data": {
      "text/markdown": [
       "## Data Preview"
      ],
      "text/plain": [
       "<IPython.core.display.Markdown object>"
      ]
     },
     "metadata": {},
     "output_type": "display_data"
    },
    {
     "data": {
      "text/html": [
       "<div>\n",
       "<style scoped>\n",
       "    .dataframe tbody tr th:only-of-type {\n",
       "        vertical-align: middle;\n",
       "    }\n",
       "\n",
       "    .dataframe tbody tr th {\n",
       "        vertical-align: top;\n",
       "    }\n",
       "\n",
       "    .dataframe thead th {\n",
       "        text-align: right;\n",
       "    }\n",
       "</style>\n",
       "<table border=\"1\" class=\"dataframe\">\n",
       "  <thead>\n",
       "    <tr style=\"text-align: right;\">\n",
       "      <th></th>\n",
       "      <th>title</th>\n",
       "      <th>description</th>\n",
       "      <th>time</th>\n",
       "      <th>length</th>\n",
       "      <th>tags</th>\n",
       "      <th>category</th>\n",
       "      <th>creator.id</th>\n",
       "      <th>stats.like</th>\n",
       "      <th>stats.dislike</th>\n",
       "      <th>stats.comment</th>\n",
       "      <th>stats.view</th>\n",
       "      <th>video.quality</th>\n",
       "      <th>has_ad</th>\n",
       "      <th>has_ad_at_beginning</th>\n",
       "    </tr>\n",
       "    <tr>\n",
       "      <th>id</th>\n",
       "      <th></th>\n",
       "      <th></th>\n",
       "      <th></th>\n",
       "      <th></th>\n",
       "      <th></th>\n",
       "      <th></th>\n",
       "      <th></th>\n",
       "      <th></th>\n",
       "      <th></th>\n",
       "      <th></th>\n",
       "      <th></th>\n",
       "      <th></th>\n",
       "      <th></th>\n",
       "      <th></th>\n",
       "    </tr>\n",
       "  </thead>\n",
       "  <tbody>\n",
       "    <tr>\n",
       "      <th>bsN96zE8FuE</th>\n",
       "      <td>QAnon 101: The Search for Q</td>\n",
       "      <td>To understand what Q is and why it has been so...</td>\n",
       "      <td>2021-01-25 20:00:06+00:00</td>\n",
       "      <td>0 days 00:46:30</td>\n",
       "      <td>[vice_videos:premiere, politics, internet, mov...</td>\n",
       "      <td>Entertainment</td>\n",
       "      <td>UCn8zNIfYAQNdrFRrr8oibKw</td>\n",
       "      <td>29754.0</td>\n",
       "      <td>5197.0</td>\n",
       "      <td>15663.0</td>\n",
       "      <td>1653957</td>\n",
       "      <td>HD</td>\n",
       "      <td>False</td>\n",
       "      <td>False</td>\n",
       "    </tr>\n",
       "    <tr>\n",
       "      <th>u8Gd9MJsnnE</th>\n",
       "      <td>QAnon: The conspiracy theory spreading fake ne...</td>\n",
       "      <td>Twitter has become the first social media outl...</td>\n",
       "      <td>2020-07-23 23:19:01+00:00</td>\n",
       "      <td>0 days 00:08:59</td>\n",
       "      <td>[QAnon, conspiracy theory, Donald trump, what ...</td>\n",
       "      <td>News &amp; Politics</td>\n",
       "      <td>UC6o-wWU-v2ClFMwougmK7dA</td>\n",
       "      <td>9614.0</td>\n",
       "      <td>6911.0</td>\n",
       "      <td>11210.0</td>\n",
       "      <td>927526</td>\n",
       "      <td>HD</td>\n",
       "      <td>True</td>\n",
       "      <td>True</td>\n",
       "    </tr>\n",
       "    <tr>\n",
       "      <th>Rhum_0F4weU</th>\n",
       "      <td>[NU’EST] Ha99y 9th anniversary ‘Q is.spoiler -...</td>\n",
       "      <td>뉴이스트 9주년 기념 아홉 가지 Q&amp;A!\\n9에 진심인 질문과 답변들이 궁금하다면?...</td>\n",
       "      <td>2021-03-10 06:15:00+00:00</td>\n",
       "      <td>0 days 00:01:02</td>\n",
       "      <td>[뉴이스트, 뉴이스트W, NU'EST, NU'EST W, JR, REN, ARON,...</td>\n",
       "      <td>Music</td>\n",
       "      <td>UCUuyrV8JDv5UAMW2StsL-NA</td>\n",
       "      <td>4350.0</td>\n",
       "      <td>26.0</td>\n",
       "      <td>475.0</td>\n",
       "      <td>14761</td>\n",
       "      <td>HD</td>\n",
       "      <td>True</td>\n",
       "      <td>True</td>\n",
       "    </tr>\n",
       "    <tr>\n",
       "      <th>VGrfN3v5JL8</th>\n",
       "      <td>Sitting Down with QAnon Conspiracy Theorists -...</td>\n",
       "      <td>Jim gathers a group of QAnon conspiracy theori...</td>\n",
       "      <td>2018-08-22 01:18:14+00:00</td>\n",
       "      <td>0 days 00:06:21</td>\n",
       "      <td>[The Jim Jefferies Show, Jim Jefferies, Jim Je...</td>\n",
       "      <td>Comedy</td>\n",
       "      <td>UCUsN5ZwHx2kILm84-jPDeXw</td>\n",
       "      <td>24923.0</td>\n",
       "      <td>9415.0</td>\n",
       "      <td>16787.0</td>\n",
       "      <td>2116763</td>\n",
       "      <td>HD</td>\n",
       "      <td>False</td>\n",
       "      <td>False</td>\n",
       "    </tr>\n",
       "    <tr>\n",
       "      <th>w1kebU_p0CA</th>\n",
       "      <td>Julian Assange on Q (AUDIO ONLY)</td>\n",
       "      <td>In a Canadian broadcast exclusive, controversi...</td>\n",
       "      <td>2014-09-29 14:12:57+00:00</td>\n",
       "      <td>0 days 00:35:07</td>\n",
       "      <td>[cbc, jian ghomeshi, interview, QTV, Julian As...</td>\n",
       "      <td>Entertainment</td>\n",
       "      <td>UC1nw_szfrEsDWcwD32wHE_w</td>\n",
       "      <td>435.0</td>\n",
       "      <td>26.0</td>\n",
       "      <td>144.0</td>\n",
       "      <td>28644</td>\n",
       "      <td>HD</td>\n",
       "      <td>True</td>\n",
       "      <td>True</td>\n",
       "    </tr>\n",
       "  </tbody>\n",
       "</table>\n",
       "</div>"
      ],
      "text/plain": [
       "                                                         title  \\\n",
       "id                                                               \n",
       "bsN96zE8FuE                        QAnon 101: The Search for Q   \n",
       "u8Gd9MJsnnE  QAnon: The conspiracy theory spreading fake ne...   \n",
       "Rhum_0F4weU  [NU’EST] Ha99y 9th anniversary ‘Q is.spoiler -...   \n",
       "VGrfN3v5JL8  Sitting Down with QAnon Conspiracy Theorists -...   \n",
       "w1kebU_p0CA                   Julian Assange on Q (AUDIO ONLY)   \n",
       "\n",
       "                                                   description  \\\n",
       "id                                                               \n",
       "bsN96zE8FuE  To understand what Q is and why it has been so...   \n",
       "u8Gd9MJsnnE  Twitter has become the first social media outl...   \n",
       "Rhum_0F4weU  뉴이스트 9주년 기념 아홉 가지 Q&A!\\n9에 진심인 질문과 답변들이 궁금하다면?...   \n",
       "VGrfN3v5JL8  Jim gathers a group of QAnon conspiracy theori...   \n",
       "w1kebU_p0CA  In a Canadian broadcast exclusive, controversi...   \n",
       "\n",
       "                                 time          length  \\\n",
       "id                                                      \n",
       "bsN96zE8FuE 2021-01-25 20:00:06+00:00 0 days 00:46:30   \n",
       "u8Gd9MJsnnE 2020-07-23 23:19:01+00:00 0 days 00:08:59   \n",
       "Rhum_0F4weU 2021-03-10 06:15:00+00:00 0 days 00:01:02   \n",
       "VGrfN3v5JL8 2018-08-22 01:18:14+00:00 0 days 00:06:21   \n",
       "w1kebU_p0CA 2014-09-29 14:12:57+00:00 0 days 00:35:07   \n",
       "\n",
       "                                                          tags  \\\n",
       "id                                                               \n",
       "bsN96zE8FuE  [vice_videos:premiere, politics, internet, mov...   \n",
       "u8Gd9MJsnnE  [QAnon, conspiracy theory, Donald trump, what ...   \n",
       "Rhum_0F4weU  [뉴이스트, 뉴이스트W, NU'EST, NU'EST W, JR, REN, ARON,...   \n",
       "VGrfN3v5JL8  [The Jim Jefferies Show, Jim Jefferies, Jim Je...   \n",
       "w1kebU_p0CA  [cbc, jian ghomeshi, interview, QTV, Julian As...   \n",
       "\n",
       "                    category                creator.id  stats.like  \\\n",
       "id                                                                   \n",
       "bsN96zE8FuE    Entertainment  UCn8zNIfYAQNdrFRrr8oibKw     29754.0   \n",
       "u8Gd9MJsnnE  News & Politics  UC6o-wWU-v2ClFMwougmK7dA      9614.0   \n",
       "Rhum_0F4weU            Music  UCUuyrV8JDv5UAMW2StsL-NA      4350.0   \n",
       "VGrfN3v5JL8           Comedy  UCUsN5ZwHx2kILm84-jPDeXw     24923.0   \n",
       "w1kebU_p0CA    Entertainment  UC1nw_szfrEsDWcwD32wHE_w       435.0   \n",
       "\n",
       "             stats.dislike  stats.comment  stats.view video.quality  has_ad  \\\n",
       "id                                                                            \n",
       "bsN96zE8FuE         5197.0        15663.0     1653957            HD   False   \n",
       "u8Gd9MJsnnE         6911.0        11210.0      927526            HD    True   \n",
       "Rhum_0F4weU           26.0          475.0       14761            HD    True   \n",
       "VGrfN3v5JL8         9415.0        16787.0     2116763            HD   False   \n",
       "w1kebU_p0CA           26.0          144.0       28644            HD    True   \n",
       "\n",
       "             has_ad_at_beginning  \n",
       "id                                \n",
       "bsN96zE8FuE                False  \n",
       "u8Gd9MJsnnE                 True  \n",
       "Rhum_0F4weU                 True  \n",
       "VGrfN3v5JL8                False  \n",
       "w1kebU_p0CA                 True  "
      ]
     },
     "metadata": {},
     "output_type": "display_data"
    },
    {
     "data": {
      "text/markdown": [
       "## Stats"
      ],
      "text/plain": [
       "<IPython.core.display.Markdown object>"
      ]
     },
     "metadata": {},
     "output_type": "display_data"
    },
    {
     "data": {
      "text/html": [
       "<div>\n",
       "<style scoped>\n",
       "    .dataframe tbody tr th:only-of-type {\n",
       "        vertical-align: middle;\n",
       "    }\n",
       "\n",
       "    .dataframe tbody tr th {\n",
       "        vertical-align: top;\n",
       "    }\n",
       "\n",
       "    .dataframe thead th {\n",
       "        text-align: right;\n",
       "    }\n",
       "</style>\n",
       "<table border=\"1\" class=\"dataframe\">\n",
       "  <thead>\n",
       "    <tr style=\"text-align: right;\">\n",
       "      <th></th>\n",
       "      <th>length</th>\n",
       "      <th>stats.like</th>\n",
       "      <th>stats.dislike</th>\n",
       "      <th>stats.comment</th>\n",
       "      <th>stats.view</th>\n",
       "    </tr>\n",
       "  </thead>\n",
       "  <tbody>\n",
       "    <tr>\n",
       "      <th>count</th>\n",
       "      <td>1282</td>\n",
       "      <td>1.262000e+03</td>\n",
       "      <td>1.262000e+03</td>\n",
       "      <td>1.157000e+03</td>\n",
       "      <td>1.282000e+03</td>\n",
       "    </tr>\n",
       "    <tr>\n",
       "      <th>mean</th>\n",
       "      <td>0 days 00:16:22.436037441</td>\n",
       "      <td>3.681238e+05</td>\n",
       "      <td>4.271235e+04</td>\n",
       "      <td>2.272336e+04</td>\n",
       "      <td>5.977500e+07</td>\n",
       "    </tr>\n",
       "    <tr>\n",
       "      <th>std</th>\n",
       "      <td>0 days 00:46:51.925637944</td>\n",
       "      <td>1.437965e+06</td>\n",
       "      <td>2.184774e+05</td>\n",
       "      <td>1.691643e+05</td>\n",
       "      <td>2.973773e+08</td>\n",
       "    </tr>\n",
       "    <tr>\n",
       "      <th>min</th>\n",
       "      <td>0 days 00:00:00</td>\n",
       "      <td>1.000000e+00</td>\n",
       "      <td>0.000000e+00</td>\n",
       "      <td>0.000000e+00</td>\n",
       "      <td>0.000000e+00</td>\n",
       "    </tr>\n",
       "    <tr>\n",
       "      <th>25%</th>\n",
       "      <td>0 days 00:03:35</td>\n",
       "      <td>3.738250e+03</td>\n",
       "      <td>1.070000e+02</td>\n",
       "      <td>1.170000e+02</td>\n",
       "      <td>1.125988e+05</td>\n",
       "    </tr>\n",
       "    <tr>\n",
       "      <th>50%</th>\n",
       "      <td>0 days 00:08:02</td>\n",
       "      <td>1.947850e+04</td>\n",
       "      <td>1.015000e+03</td>\n",
       "      <td>9.500000e+02</td>\n",
       "      <td>1.273258e+06</td>\n",
       "    </tr>\n",
       "    <tr>\n",
       "      <th>75%</th>\n",
       "      <td>0 days 00:15:08.750000</td>\n",
       "      <td>1.262668e+05</td>\n",
       "      <td>8.589250e+03</td>\n",
       "      <td>5.361000e+03</td>\n",
       "      <td>1.472842e+07</td>\n",
       "    </tr>\n",
       "    <tr>\n",
       "      <th>max</th>\n",
       "      <td>0 days 15:13:24</td>\n",
       "      <td>2.110508e+07</td>\n",
       "      <td>4.142134e+06</td>\n",
       "      <td>5.197883e+06</td>\n",
       "      <td>4.417995e+09</td>\n",
       "    </tr>\n",
       "  </tbody>\n",
       "</table>\n",
       "</div>"
      ],
      "text/plain": [
       "                          length    stats.like  stats.dislike  stats.comment  \\\n",
       "count                       1282  1.262000e+03   1.262000e+03   1.157000e+03   \n",
       "mean   0 days 00:16:22.436037441  3.681238e+05   4.271235e+04   2.272336e+04   \n",
       "std    0 days 00:46:51.925637944  1.437965e+06   2.184774e+05   1.691643e+05   \n",
       "min              0 days 00:00:00  1.000000e+00   0.000000e+00   0.000000e+00   \n",
       "25%              0 days 00:03:35  3.738250e+03   1.070000e+02   1.170000e+02   \n",
       "50%              0 days 00:08:02  1.947850e+04   1.015000e+03   9.500000e+02   \n",
       "75%       0 days 00:15:08.750000  1.262668e+05   8.589250e+03   5.361000e+03   \n",
       "max              0 days 15:13:24  2.110508e+07   4.142134e+06   5.197883e+06   \n",
       "\n",
       "         stats.view  \n",
       "count  1.282000e+03  \n",
       "mean   5.977500e+07  \n",
       "std    2.973773e+08  \n",
       "min    0.000000e+00  \n",
       "25%    1.125988e+05  \n",
       "50%    1.273258e+06  \n",
       "75%    1.472842e+07  \n",
       "max    4.417995e+09  "
      ]
     },
     "metadata": {},
     "output_type": "display_data"
    },
    {
     "data": {
      "text/markdown": [
       "---"
      ],
      "text/plain": [
       "<IPython.core.display.Markdown object>"
      ]
     },
     "metadata": {},
     "output_type": "display_data"
    }
   ],
   "source": [
    "## YOUR CODE HERE\n",
    "## FEEL FREE TO ADD MULTIPLE CELLS PER SECTION\n",
    "\n",
    "'''\n",
    "dataset_id = 'random'\n",
    "\n",
    "import string\n",
    "keyword = '|'.join(string.ascii_letters)\n",
    "\n",
    "\n",
    "\n",
    "df_search_details = pd.read_pickle(f'EDA/dsamples/youtube_search_{as_fname(keyword)}_{dataset_id}.pkl')\n",
    "\n",
    "# optional (extra info about channels in our search result)\n",
    "#df_search_details_channels = pd.read_pickle(f'EDA/dsamples/youtube_search_channels_{as_fname(keyword)}_{dataset_id}.pkl')\n",
    "\n",
    "'''\n",
    "\n",
    "\n",
    "df_search_details = pd.read_pickle('EDA/dsamples/youtube_search_random_ascii.pkl')\n",
    "# optional (extra info about channels in our search result)\n",
    "#df_search_details_channels = pd.read_pickle(f'EDA/dsamples/youtube_search_channels_random_ascii.pkl')\n",
    "\n",
    "df_search_details = df_drop_duplicates(df_search_details, level = 'id')\n",
    "df_report(df_search_details, name = 'Search Results')"
   ]
  },
  {
   "cell_type": "code",
   "execution_count": 5,
   "metadata": {},
   "outputs": [
    {
     "data": {
      "text/plain": [
       "category\n",
       "Autos & Vehicles         6.348438e+06\n",
       "Comedy                   7.484052e+06\n",
       "Education                8.788886e+07\n",
       "Entertainment            4.193423e+07\n",
       "Film & Animation         7.897365e+07\n",
       "Gaming                   5.551895e+06\n",
       "Howto & Style            7.163648e+06\n",
       "Music                    1.741913e+08\n",
       "News & Politics          1.066447e+06\n",
       "Nonprofits & Activism    1.180620e+05\n",
       "People & Blogs           2.403062e+07\n",
       "Pets & Animals           1.655519e+08\n",
       "Science & Technology     1.090702e+07\n",
       "Sports                   7.576921e+06\n",
       "Travel & Events          8.855300e+04\n",
       "Name: stats.view, dtype: float64"
      ]
     },
     "execution_count": 5,
     "metadata": {},
     "output_type": "execute_result"
    }
   ],
   "source": [
    "assert(youtube.types.topic(1).__eq__('Film & Animation'))\n",
    "\n",
    "\n",
    "df_search_details_n = df_search_details.copy()\n",
    "df_search_details_n['category'] = df_search_details_n['category'].astype(str)\n",
    "\n",
    "\n",
    "df_search_details_n.groupby(['category'])['stats.view'].mean()\n",
    "\n",
    "\n"
   ]
  },
  {
   "cell_type": "code",
   "execution_count": 6,
   "metadata": {},
   "outputs": [
    {
     "data": {
      "text/markdown": [
       "---"
      ],
      "text/plain": [
       "<IPython.core.display.Markdown object>"
      ]
     },
     "metadata": {},
     "output_type": "display_data"
    },
    {
     "data": {
      "text/markdown": [
       "# Results - Trending"
      ],
      "text/plain": [
       "<IPython.core.display.Markdown object>"
      ]
     },
     "metadata": {},
     "output_type": "display_data"
    },
    {
     "data": {
      "text/markdown": [
       "## Data Preview"
      ],
      "text/plain": [
       "<IPython.core.display.Markdown object>"
      ]
     },
     "metadata": {},
     "output_type": "display_data"
    },
    {
     "data": {
      "text/html": [
       "<div>\n",
       "<style scoped>\n",
       "    .dataframe tbody tr th:only-of-type {\n",
       "        vertical-align: middle;\n",
       "    }\n",
       "\n",
       "    .dataframe tbody tr th {\n",
       "        vertical-align: top;\n",
       "    }\n",
       "\n",
       "    .dataframe thead th {\n",
       "        text-align: right;\n",
       "    }\n",
       "</style>\n",
       "<table border=\"1\" class=\"dataframe\">\n",
       "  <thead>\n",
       "    <tr style=\"text-align: right;\">\n",
       "      <th></th>\n",
       "      <th></th>\n",
       "      <th>title</th>\n",
       "      <th>description</th>\n",
       "      <th>time</th>\n",
       "      <th>length</th>\n",
       "      <th>tags</th>\n",
       "      <th>category</th>\n",
       "      <th>stats.like</th>\n",
       "      <th>stats.dislike</th>\n",
       "      <th>stats.comment</th>\n",
       "      <th>stats.view</th>\n",
       "      <th>video.quality</th>\n",
       "      <th>has_ad</th>\n",
       "      <th>has_ad_at_beginning</th>\n",
       "    </tr>\n",
       "    <tr>\n",
       "      <th>id</th>\n",
       "      <th>creator.id</th>\n",
       "      <th></th>\n",
       "      <th></th>\n",
       "      <th></th>\n",
       "      <th></th>\n",
       "      <th></th>\n",
       "      <th></th>\n",
       "      <th></th>\n",
       "      <th></th>\n",
       "      <th></th>\n",
       "      <th></th>\n",
       "      <th></th>\n",
       "      <th></th>\n",
       "      <th></th>\n",
       "    </tr>\n",
       "  </thead>\n",
       "  <tbody>\n",
       "    <tr>\n",
       "      <th>-aToDFwlM1Y</th>\n",
       "      <th>UC2rWFYjCHFcnjNnWhnGvv7Q</th>\n",
       "      <td>CARMEN RUSHED TO THE HOSPITAL BECAUSE OF MISCA...</td>\n",
       "      <td>Carmen rushed to the hospital signs of miscarr...</td>\n",
       "      <td>2021-03-08 22:31:08+00:00</td>\n",
       "      <td>0 days 00:13:20</td>\n",
       "      <td>[Carmen and Corey, Carmen’s pregnant, Pregnanc...</td>\n",
       "      <td>People &amp; Blogs</td>\n",
       "      <td>30406.0</td>\n",
       "      <td>410.0</td>\n",
       "      <td>4480.0</td>\n",
       "      <td>364643.0</td>\n",
       "      <td>HD</td>\n",
       "      <td>True</td>\n",
       "      <td>True</td>\n",
       "    </tr>\n",
       "    <tr>\n",
       "      <th>-hAztPfxZEk</th>\n",
       "      <th>UCtj45MepAoKxZoyR_Mnt86Q</th>\n",
       "      <td>FIRST DAY IN OUR NEW HOME! (HECTIC)</td>\n",
       "      <td>LAST VIDEO: \\r\\n\\r\\n*MAKE SURE OUR POST NOTIFI...</td>\n",
       "      <td>2021-03-09 03:38:11+00:00</td>\n",
       "      <td>0 days 00:14:23</td>\n",
       "      <td>[queen Naija, Medicine, Queen, Royalty Squad, ...</td>\n",
       "      <td>Entertainment</td>\n",
       "      <td>25547.0</td>\n",
       "      <td>465.0</td>\n",
       "      <td>1532.0</td>\n",
       "      <td>389765.0</td>\n",
       "      <td>HD</td>\n",
       "      <td>True</td>\n",
       "      <td>True</td>\n",
       "    </tr>\n",
       "    <tr>\n",
       "      <th>0L8kRN_bPXM</th>\n",
       "      <th>UC7zOpx9wgvGBCDEjujnAPQA</th>\n",
       "      <td>Big Sean - Deep Reverence ft. Nipsey Hussle</td>\n",
       "      <td>Stream/Download “Detroit 2 https://bigsean.lnk...</td>\n",
       "      <td>2021-03-05 20:00:12+00:00</td>\n",
       "      <td>0 days 00:04:00</td>\n",
       "      <td>[Big, Sean, Deep, Reverence, Getting, Out, Our...</td>\n",
       "      <td>Music</td>\n",
       "      <td>117003.0</td>\n",
       "      <td>835.0</td>\n",
       "      <td>5298.0</td>\n",
       "      <td>1659213.0</td>\n",
       "      <td>HD</td>\n",
       "      <td>True</td>\n",
       "      <td>True</td>\n",
       "    </tr>\n",
       "    <tr>\n",
       "      <th>0PzWnljCpL0</th>\n",
       "      <th>UCvmofFg-oZc4jvBUIfZbjzg</th>\n",
       "      <td>What Is International Women's Day?</td>\n",
       "      <td>International Women’s Day is celebrated every ...</td>\n",
       "      <td>2021-02-09 05:22:52+00:00</td>\n",
       "      <td>0 days 00:06:00</td>\n",
       "      <td>[international women's day, what is internatio...</td>\n",
       "      <td>Education</td>\n",
       "      <td>2063.0</td>\n",
       "      <td>194.0</td>\n",
       "      <td>646.0</td>\n",
       "      <td>154588.0</td>\n",
       "      <td>HD</td>\n",
       "      <td>True</td>\n",
       "      <td>True</td>\n",
       "    </tr>\n",
       "    <tr>\n",
       "      <th>1hlon2py3VU</th>\n",
       "      <th>UCAXEGk-l_ioBMvHa9_uHJjg</th>\n",
       "      <td>Having His Lil Brother Be Mean To Me!</td>\n",
       "      <td>I shouldn't have let it get this far...\\n\\nJOI...</td>\n",
       "      <td>2021-03-04 00:33:36+00:00</td>\n",
       "      <td>0 days 00:13:21</td>\n",
       "      <td>[prank, funny, brother, girlfriend, argue, mad...</td>\n",
       "      <td>People &amp; Blogs</td>\n",
       "      <td>32284.0</td>\n",
       "      <td>1377.0</td>\n",
       "      <td>2080.0</td>\n",
       "      <td>934628.0</td>\n",
       "      <td>HD</td>\n",
       "      <td>True</td>\n",
       "      <td>True</td>\n",
       "    </tr>\n",
       "  </tbody>\n",
       "</table>\n",
       "</div>"
      ],
      "text/plain": [
       "                                                                                  title  \\\n",
       "id          creator.id                                                                    \n",
       "-aToDFwlM1Y UC2rWFYjCHFcnjNnWhnGvv7Q  CARMEN RUSHED TO THE HOSPITAL BECAUSE OF MISCA...   \n",
       "-hAztPfxZEk UCtj45MepAoKxZoyR_Mnt86Q                FIRST DAY IN OUR NEW HOME! (HECTIC)   \n",
       "0L8kRN_bPXM UC7zOpx9wgvGBCDEjujnAPQA        Big Sean - Deep Reverence ft. Nipsey Hussle   \n",
       "0PzWnljCpL0 UCvmofFg-oZc4jvBUIfZbjzg                 What Is International Women's Day?   \n",
       "1hlon2py3VU UCAXEGk-l_ioBMvHa9_uHJjg              Having His Lil Brother Be Mean To Me!   \n",
       "\n",
       "                                                                            description  \\\n",
       "id          creator.id                                                                    \n",
       "-aToDFwlM1Y UC2rWFYjCHFcnjNnWhnGvv7Q  Carmen rushed to the hospital signs of miscarr...   \n",
       "-hAztPfxZEk UCtj45MepAoKxZoyR_Mnt86Q  LAST VIDEO: \\r\\n\\r\\n*MAKE SURE OUR POST NOTIFI...   \n",
       "0L8kRN_bPXM UC7zOpx9wgvGBCDEjujnAPQA  Stream/Download “Detroit 2 https://bigsean.lnk...   \n",
       "0PzWnljCpL0 UCvmofFg-oZc4jvBUIfZbjzg  International Women’s Day is celebrated every ...   \n",
       "1hlon2py3VU UCAXEGk-l_ioBMvHa9_uHJjg  I shouldn't have let it get this far...\\n\\nJOI...   \n",
       "\n",
       "                                                          time  \\\n",
       "id          creator.id                                           \n",
       "-aToDFwlM1Y UC2rWFYjCHFcnjNnWhnGvv7Q 2021-03-08 22:31:08+00:00   \n",
       "-hAztPfxZEk UCtj45MepAoKxZoyR_Mnt86Q 2021-03-09 03:38:11+00:00   \n",
       "0L8kRN_bPXM UC7zOpx9wgvGBCDEjujnAPQA 2021-03-05 20:00:12+00:00   \n",
       "0PzWnljCpL0 UCvmofFg-oZc4jvBUIfZbjzg 2021-02-09 05:22:52+00:00   \n",
       "1hlon2py3VU UCAXEGk-l_ioBMvHa9_uHJjg 2021-03-04 00:33:36+00:00   \n",
       "\n",
       "                                              length  \\\n",
       "id          creator.id                                 \n",
       "-aToDFwlM1Y UC2rWFYjCHFcnjNnWhnGvv7Q 0 days 00:13:20   \n",
       "-hAztPfxZEk UCtj45MepAoKxZoyR_Mnt86Q 0 days 00:14:23   \n",
       "0L8kRN_bPXM UC7zOpx9wgvGBCDEjujnAPQA 0 days 00:04:00   \n",
       "0PzWnljCpL0 UCvmofFg-oZc4jvBUIfZbjzg 0 days 00:06:00   \n",
       "1hlon2py3VU UCAXEGk-l_ioBMvHa9_uHJjg 0 days 00:13:21   \n",
       "\n",
       "                                                                                   tags  \\\n",
       "id          creator.id                                                                    \n",
       "-aToDFwlM1Y UC2rWFYjCHFcnjNnWhnGvv7Q  [Carmen and Corey, Carmen’s pregnant, Pregnanc...   \n",
       "-hAztPfxZEk UCtj45MepAoKxZoyR_Mnt86Q  [queen Naija, Medicine, Queen, Royalty Squad, ...   \n",
       "0L8kRN_bPXM UC7zOpx9wgvGBCDEjujnAPQA  [Big, Sean, Deep, Reverence, Getting, Out, Our...   \n",
       "0PzWnljCpL0 UCvmofFg-oZc4jvBUIfZbjzg  [international women's day, what is internatio...   \n",
       "1hlon2py3VU UCAXEGk-l_ioBMvHa9_uHJjg  [prank, funny, brother, girlfriend, argue, mad...   \n",
       "\n",
       "                                            category  stats.like  \\\n",
       "id          creator.id                                             \n",
       "-aToDFwlM1Y UC2rWFYjCHFcnjNnWhnGvv7Q  People & Blogs     30406.0   \n",
       "-hAztPfxZEk UCtj45MepAoKxZoyR_Mnt86Q   Entertainment     25547.0   \n",
       "0L8kRN_bPXM UC7zOpx9wgvGBCDEjujnAPQA           Music    117003.0   \n",
       "0PzWnljCpL0 UCvmofFg-oZc4jvBUIfZbjzg       Education      2063.0   \n",
       "1hlon2py3VU UCAXEGk-l_ioBMvHa9_uHJjg  People & Blogs     32284.0   \n",
       "\n",
       "                                      stats.dislike  stats.comment  \\\n",
       "id          creator.id                                               \n",
       "-aToDFwlM1Y UC2rWFYjCHFcnjNnWhnGvv7Q          410.0         4480.0   \n",
       "-hAztPfxZEk UCtj45MepAoKxZoyR_Mnt86Q          465.0         1532.0   \n",
       "0L8kRN_bPXM UC7zOpx9wgvGBCDEjujnAPQA          835.0         5298.0   \n",
       "0PzWnljCpL0 UCvmofFg-oZc4jvBUIfZbjzg          194.0          646.0   \n",
       "1hlon2py3VU UCAXEGk-l_ioBMvHa9_uHJjg         1377.0         2080.0   \n",
       "\n",
       "                                      stats.view video.quality has_ad  \\\n",
       "id          creator.id                                                  \n",
       "-aToDFwlM1Y UC2rWFYjCHFcnjNnWhnGvv7Q    364643.0            HD   True   \n",
       "-hAztPfxZEk UCtj45MepAoKxZoyR_Mnt86Q    389765.0            HD   True   \n",
       "0L8kRN_bPXM UC7zOpx9wgvGBCDEjujnAPQA   1659213.0            HD   True   \n",
       "0PzWnljCpL0 UCvmofFg-oZc4jvBUIfZbjzg    154588.0            HD   True   \n",
       "1hlon2py3VU UCAXEGk-l_ioBMvHa9_uHJjg    934628.0            HD   True   \n",
       "\n",
       "                                     has_ad_at_beginning  \n",
       "id          creator.id                                    \n",
       "-aToDFwlM1Y UC2rWFYjCHFcnjNnWhnGvv7Q                True  \n",
       "-hAztPfxZEk UCtj45MepAoKxZoyR_Mnt86Q                True  \n",
       "0L8kRN_bPXM UC7zOpx9wgvGBCDEjujnAPQA                True  \n",
       "0PzWnljCpL0 UCvmofFg-oZc4jvBUIfZbjzg                True  \n",
       "1hlon2py3VU UCAXEGk-l_ioBMvHa9_uHJjg                True  "
      ]
     },
     "metadata": {},
     "output_type": "display_data"
    },
    {
     "data": {
      "text/markdown": [
       "## Stats"
      ],
      "text/plain": [
       "<IPython.core.display.Markdown object>"
      ]
     },
     "metadata": {},
     "output_type": "display_data"
    },
    {
     "data": {
      "text/html": [
       "<div>\n",
       "<style scoped>\n",
       "    .dataframe tbody tr th:only-of-type {\n",
       "        vertical-align: middle;\n",
       "    }\n",
       "\n",
       "    .dataframe tbody tr th {\n",
       "        vertical-align: top;\n",
       "    }\n",
       "\n",
       "    .dataframe thead th {\n",
       "        text-align: right;\n",
       "    }\n",
       "</style>\n",
       "<table border=\"1\" class=\"dataframe\">\n",
       "  <thead>\n",
       "    <tr style=\"text-align: right;\">\n",
       "      <th></th>\n",
       "      <th>length</th>\n",
       "      <th>stats.like</th>\n",
       "      <th>stats.dislike</th>\n",
       "      <th>stats.comment</th>\n",
       "      <th>stats.view</th>\n",
       "    </tr>\n",
       "  </thead>\n",
       "  <tbody>\n",
       "    <tr>\n",
       "      <th>count</th>\n",
       "      <td>217</td>\n",
       "      <td>2.170000e+02</td>\n",
       "      <td>217.000000</td>\n",
       "      <td>209.000000</td>\n",
       "      <td>2.170000e+02</td>\n",
       "    </tr>\n",
       "    <tr>\n",
       "      <th>mean</th>\n",
       "      <td>0 days 00:09:55.317972350</td>\n",
       "      <td>1.390709e+05</td>\n",
       "      <td>2353.668203</td>\n",
       "      <td>12995.052632</td>\n",
       "      <td>2.616348e+06</td>\n",
       "    </tr>\n",
       "    <tr>\n",
       "      <th>std</th>\n",
       "      <td>0 days 00:09:18.177271140</td>\n",
       "      <td>2.578788e+05</td>\n",
       "      <td>3470.035672</td>\n",
       "      <td>30139.818414</td>\n",
       "      <td>3.823714e+06</td>\n",
       "    </tr>\n",
       "    <tr>\n",
       "      <th>min</th>\n",
       "      <td>0 days 00:00:12</td>\n",
       "      <td>5.550000e+02</td>\n",
       "      <td>60.000000</td>\n",
       "      <td>104.000000</td>\n",
       "      <td>8.771000e+04</td>\n",
       "    </tr>\n",
       "    <tr>\n",
       "      <th>25%</th>\n",
       "      <td>0 days 00:03:13</td>\n",
       "      <td>1.986400e+04</td>\n",
       "      <td>413.000000</td>\n",
       "      <td>2241.000000</td>\n",
       "      <td>6.863330e+05</td>\n",
       "    </tr>\n",
       "    <tr>\n",
       "      <th>50%</th>\n",
       "      <td>0 days 00:07:27</td>\n",
       "      <td>5.341900e+04</td>\n",
       "      <td>926.000000</td>\n",
       "      <td>4493.000000</td>\n",
       "      <td>1.225780e+06</td>\n",
       "    </tr>\n",
       "    <tr>\n",
       "      <th>75%</th>\n",
       "      <td>0 days 00:13:20</td>\n",
       "      <td>1.197020e+05</td>\n",
       "      <td>2676.000000</td>\n",
       "      <td>11135.000000</td>\n",
       "      <td>2.910005e+06</td>\n",
       "    </tr>\n",
       "    <tr>\n",
       "      <th>max</th>\n",
       "      <td>0 days 00:54:22</td>\n",
       "      <td>1.760165e+06</td>\n",
       "      <td>22133.000000</td>\n",
       "      <td>301036.000000</td>\n",
       "      <td>2.577447e+07</td>\n",
       "    </tr>\n",
       "  </tbody>\n",
       "</table>\n",
       "</div>"
      ],
      "text/plain": [
       "                          length    stats.like  stats.dislike  stats.comment  \\\n",
       "count                        217  2.170000e+02     217.000000     209.000000   \n",
       "mean   0 days 00:09:55.317972350  1.390709e+05    2353.668203   12995.052632   \n",
       "std    0 days 00:09:18.177271140  2.578788e+05    3470.035672   30139.818414   \n",
       "min              0 days 00:00:12  5.550000e+02      60.000000     104.000000   \n",
       "25%              0 days 00:03:13  1.986400e+04     413.000000    2241.000000   \n",
       "50%              0 days 00:07:27  5.341900e+04     926.000000    4493.000000   \n",
       "75%              0 days 00:13:20  1.197020e+05    2676.000000   11135.000000   \n",
       "max              0 days 00:54:22  1.760165e+06   22133.000000  301036.000000   \n",
       "\n",
       "         stats.view  \n",
       "count  2.170000e+02  \n",
       "mean   2.616348e+06  \n",
       "std    3.823714e+06  \n",
       "min    8.771000e+04  \n",
       "25%    6.863330e+05  \n",
       "50%    1.225780e+06  \n",
       "75%    2.910005e+06  \n",
       "max    2.577447e+07  "
      ]
     },
     "metadata": {},
     "output_type": "display_data"
    },
    {
     "data": {
      "text/markdown": [
       "---"
      ],
      "text/plain": [
       "<IPython.core.display.Markdown object>"
      ]
     },
     "metadata": {},
     "output_type": "display_data"
    }
   ],
   "source": [
    "df_trending_details = pd.read_pickle('EDA/dsamples/youtube_trending.pkl')\n",
    "\n",
    "# optional (extra info about channels on the chart)\n",
    "df_trending_details_channels = pd.read_pickle(f'EDA/dsamples/youtube_trending_channels.pkl')\n",
    "\n",
    "df_report(df_trending_details, name = 'Trending')"
   ]
  },
  {
   "cell_type": "code",
   "execution_count": 7,
   "metadata": {},
   "outputs": [],
   "source": [
    "#We first reset the index of the dataframe\n",
    "df_trending_details= df_trending_details.reset_index()"
   ]
  },
  {
   "cell_type": "code",
   "execution_count": 8,
   "metadata": {},
   "outputs": [
    {
     "ename": "KeyError",
     "evalue": "'creator.stats.view'",
     "output_type": "error",
     "traceback": [
      "\u001b[0;31m---------------------------------------------------------------------------\u001b[0m",
      "\u001b[0;31mKeyError\u001b[0m                                  Traceback (most recent call last)",
      "\u001b[0;32m~/.local/lib/python3.7/site-packages/pandas/core/indexes/base.py\u001b[0m in \u001b[0;36mget_loc\u001b[0;34m(self, key, method, tolerance)\u001b[0m\n\u001b[1;32m   3079\u001b[0m             \u001b[0;32mtry\u001b[0m\u001b[0;34m:\u001b[0m\u001b[0;34m\u001b[0m\u001b[0;34m\u001b[0m\u001b[0m\n\u001b[0;32m-> 3080\u001b[0;31m                 \u001b[0;32mreturn\u001b[0m \u001b[0mself\u001b[0m\u001b[0;34m.\u001b[0m\u001b[0m_engine\u001b[0m\u001b[0;34m.\u001b[0m\u001b[0mget_loc\u001b[0m\u001b[0;34m(\u001b[0m\u001b[0mcasted_key\u001b[0m\u001b[0;34m)\u001b[0m\u001b[0;34m\u001b[0m\u001b[0;34m\u001b[0m\u001b[0m\n\u001b[0m\u001b[1;32m   3081\u001b[0m             \u001b[0;32mexcept\u001b[0m \u001b[0mKeyError\u001b[0m \u001b[0;32mas\u001b[0m \u001b[0merr\u001b[0m\u001b[0;34m:\u001b[0m\u001b[0;34m\u001b[0m\u001b[0;34m\u001b[0m\u001b[0m\n",
      "\u001b[0;32mpandas/_libs/index.pyx\u001b[0m in \u001b[0;36mpandas._libs.index.IndexEngine.get_loc\u001b[0;34m()\u001b[0m\n",
      "\u001b[0;32mpandas/_libs/index.pyx\u001b[0m in \u001b[0;36mpandas._libs.index.IndexEngine.get_loc\u001b[0;34m()\u001b[0m\n",
      "\u001b[0;32mpandas/_libs/hashtable_class_helper.pxi\u001b[0m in \u001b[0;36mpandas._libs.hashtable.PyObjectHashTable.get_item\u001b[0;34m()\u001b[0m\n",
      "\u001b[0;32mpandas/_libs/hashtable_class_helper.pxi\u001b[0m in \u001b[0;36mpandas._libs.hashtable.PyObjectHashTable.get_item\u001b[0;34m()\u001b[0m\n",
      "\u001b[0;31mKeyError\u001b[0m: 'creator.stats.view'",
      "\nThe above exception was the direct cause of the following exception:\n",
      "\u001b[0;31mKeyError\u001b[0m                                  Traceback (most recent call last)",
      "\u001b[0;32m<ipython-input-8-f0ee5ed4464c>\u001b[0m in \u001b[0;36m<module>\u001b[0;34m\u001b[0m\n\u001b[1;32m      3\u001b[0m \u001b[0;32mdel\u001b[0m \u001b[0mdf_trending_details\u001b[0m\u001b[0;34m[\u001b[0m\u001b[0;34m'creator.id'\u001b[0m\u001b[0;34m]\u001b[0m\u001b[0;34m\u001b[0m\u001b[0;34m\u001b[0m\u001b[0m\n\u001b[1;32m      4\u001b[0m \u001b[0;32mdel\u001b[0m \u001b[0mdf_trending_details\u001b[0m\u001b[0;34m[\u001b[0m\u001b[0;34m'stats.dislike'\u001b[0m\u001b[0;34m]\u001b[0m\u001b[0;34m\u001b[0m\u001b[0;34m\u001b[0m\u001b[0m\n\u001b[0;32m----> 5\u001b[0;31m \u001b[0;32mdel\u001b[0m \u001b[0mdf_trending_details\u001b[0m\u001b[0;34m[\u001b[0m\u001b[0;34m'creator.stats.view'\u001b[0m\u001b[0;34m]\u001b[0m\u001b[0;34m\u001b[0m\u001b[0;34m\u001b[0m\u001b[0m\n\u001b[0m\u001b[1;32m      6\u001b[0m \u001b[0;32mdel\u001b[0m \u001b[0mdf_trending_details\u001b[0m\u001b[0;34m[\u001b[0m\u001b[0;34m'creator.stats.post'\u001b[0m\u001b[0;34m]\u001b[0m\u001b[0;34m\u001b[0m\u001b[0;34m\u001b[0m\u001b[0m\n\u001b[1;32m      7\u001b[0m \u001b[0;32mdel\u001b[0m \u001b[0mdf_trending_details\u001b[0m\u001b[0;34m[\u001b[0m\u001b[0;34m'video.quality'\u001b[0m\u001b[0;34m]\u001b[0m\u001b[0;34m\u001b[0m\u001b[0;34m\u001b[0m\u001b[0m\n",
      "\u001b[0;32m~/.local/lib/python3.7/site-packages/pandas/core/generic.py\u001b[0m in \u001b[0;36m__delitem__\u001b[0;34m(self, key)\u001b[0m\n\u001b[1;32m   3964\u001b[0m             \u001b[0;31m# there was no match, this call should raise the appropriate\u001b[0m\u001b[0;34m\u001b[0m\u001b[0;34m\u001b[0m\u001b[0;34m\u001b[0m\u001b[0m\n\u001b[1;32m   3965\u001b[0m             \u001b[0;31m# exception:\u001b[0m\u001b[0;34m\u001b[0m\u001b[0;34m\u001b[0m\u001b[0;34m\u001b[0m\u001b[0m\n\u001b[0;32m-> 3966\u001b[0;31m             \u001b[0mloc\u001b[0m \u001b[0;34m=\u001b[0m \u001b[0mself\u001b[0m\u001b[0;34m.\u001b[0m\u001b[0maxes\u001b[0m\u001b[0;34m[\u001b[0m\u001b[0;34m-\u001b[0m\u001b[0;36m1\u001b[0m\u001b[0;34m]\u001b[0m\u001b[0;34m.\u001b[0m\u001b[0mget_loc\u001b[0m\u001b[0;34m(\u001b[0m\u001b[0mkey\u001b[0m\u001b[0;34m)\u001b[0m\u001b[0;34m\u001b[0m\u001b[0;34m\u001b[0m\u001b[0m\n\u001b[0m\u001b[1;32m   3967\u001b[0m             \u001b[0mself\u001b[0m\u001b[0;34m.\u001b[0m\u001b[0m_mgr\u001b[0m\u001b[0;34m.\u001b[0m\u001b[0midelete\u001b[0m\u001b[0;34m(\u001b[0m\u001b[0mloc\u001b[0m\u001b[0;34m)\u001b[0m\u001b[0;34m\u001b[0m\u001b[0;34m\u001b[0m\u001b[0m\n\u001b[1;32m   3968\u001b[0m \u001b[0;34m\u001b[0m\u001b[0m\n",
      "\u001b[0;32m~/.local/lib/python3.7/site-packages/pandas/core/indexes/base.py\u001b[0m in \u001b[0;36mget_loc\u001b[0;34m(self, key, method, tolerance)\u001b[0m\n\u001b[1;32m   3080\u001b[0m                 \u001b[0;32mreturn\u001b[0m \u001b[0mself\u001b[0m\u001b[0;34m.\u001b[0m\u001b[0m_engine\u001b[0m\u001b[0;34m.\u001b[0m\u001b[0mget_loc\u001b[0m\u001b[0;34m(\u001b[0m\u001b[0mcasted_key\u001b[0m\u001b[0;34m)\u001b[0m\u001b[0;34m\u001b[0m\u001b[0;34m\u001b[0m\u001b[0m\n\u001b[1;32m   3081\u001b[0m             \u001b[0;32mexcept\u001b[0m \u001b[0mKeyError\u001b[0m \u001b[0;32mas\u001b[0m \u001b[0merr\u001b[0m\u001b[0;34m:\u001b[0m\u001b[0;34m\u001b[0m\u001b[0;34m\u001b[0m\u001b[0m\n\u001b[0;32m-> 3082\u001b[0;31m                 \u001b[0;32mraise\u001b[0m \u001b[0mKeyError\u001b[0m\u001b[0;34m(\u001b[0m\u001b[0mkey\u001b[0m\u001b[0;34m)\u001b[0m \u001b[0;32mfrom\u001b[0m \u001b[0merr\u001b[0m\u001b[0;34m\u001b[0m\u001b[0;34m\u001b[0m\u001b[0m\n\u001b[0m\u001b[1;32m   3083\u001b[0m \u001b[0;34m\u001b[0m\u001b[0m\n\u001b[1;32m   3084\u001b[0m         \u001b[0;32mif\u001b[0m \u001b[0mtolerance\u001b[0m \u001b[0;32mis\u001b[0m \u001b[0;32mnot\u001b[0m \u001b[0;32mNone\u001b[0m\u001b[0;34m:\u001b[0m\u001b[0;34m\u001b[0m\u001b[0;34m\u001b[0m\u001b[0m\n",
      "\u001b[0;31mKeyError\u001b[0m: 'creator.stats.view'"
     ]
    }
   ],
   "source": [
    "#We clean the unecessary information such as dislikes, creator time, creater stats view and creater stats posts\n",
    "del df_trending_details['id']\n",
    "del df_trending_details['creator.id']\n",
    "del df_trending_details['descriptio']\n",
    "del df_trending_details['stats.dislike']\n",
    "del df_trending_details['video.quality']\n",
    "del df_trending_details['has_ad']"
   ]
  },
  {
   "cell_type": "code",
   "execution_count": null,
   "metadata": {},
   "outputs": [],
   "source": [
    "#we group the data by if there are ads in the begining and caluculte the mean value of likes, comments and views\n",
    "has_ad_likes = df_trending_details.groupby(['has_ad_at_beginning'])['stats.like'].mean()\n",
    "has_ad_comments = df_trending_details.groupby(['has_ad_at_beginning'])['stats.comment'].mean()\n",
    "has_ad_views = df_trending_details.groupby(['has_ad_at_beginning'])['stats.view'].mean()\n",
    "\n",
    "has_ad_likes.reset_index()\n",
    "has_ad_comments.reset_index()\n",
    "has_ad_views.reset_index()"
   ]
  },
  {
   "cell_type": "markdown",
   "metadata": {},
   "source": [
    "# Data Analysis & Results"
   ]
  },
  {
   "cell_type": "markdown",
   "metadata": {},
   "source": [
    "Include cells that describe the steps in your data analysis."
   ]
  },
  {
   "cell_type": "code",
   "execution_count": null,
   "metadata": {},
   "outputs": [],
   "source": [
    "## YOUR CODE HERE\n",
    "## FEEL FREE TO ADD MULTIPLE CELLS PER SECTION\n",
    "ax_likes = has_ad_likes.plot.bar(x= 'has_ad_at_beginning', y= 'stats.like', title= \"Average likes based on exsistence of ads\")\n",
    "ax_likes.set_ylabel(\"Average likes\")\n",
    "plt.show()\n",
    "ax_comments= has_ad_comments.plot.bar(x= 'has_ad_at_beginning', y= 'stats.comment',  title= \"Average comments based on exsistence of ads\")\n",
    "ax_comments.set_ylabel(\"Average comments\")\n",
    "plt.show()\n",
    "ax_views= has_ad_views.plot.bar(x= 'has_ad_at_beginning', y= 'stats.view', title= \"Average views based on exsistence of ads\")\n",
    "ax_views.set_ylabel(\"Average views\")\n",
    "plt.show()"
   ]
  },
  {
   "cell_type": "markdown",
   "metadata": {},
   "source": [
    "The plots above compare the vidoes that had an ad at the begining of the vidoe and videos that do not have ads at the begining of a video. The first plot compares has_ad_at_begining to the average likes. The second plot compares has_ad_at_begining to average comments and the final lot compares has_ad_at_begining to average views. We can see that in all three cases, the popularity of the videos is higher when there is no ad attached to the video. "
   ]
  },
  {
   "cell_type": "markdown",
   "metadata": {},
   "source": [
    "# Ethics & Privacy"
   ]
  },
  {
   "cell_type": "markdown",
   "metadata": {},
   "source": [
    "*Fill in your ethics & privacy discussion here*"
   ]
  },
  {
   "cell_type": "markdown",
   "metadata": {},
   "source": [
    "# Conclusion & Discussion"
   ]
  },
  {
   "cell_type": "markdown",
   "metadata": {},
   "source": [
    "*Fill in your discussion information here*"
   ]
  },
  {
   "cell_type": "markdown",
   "metadata": {},
   "source": [
    "# Team Contributions"
   ]
  },
  {
   "cell_type": "markdown",
   "metadata": {},
   "source": [
    "*Specify who in your group worked on which parts of the project.*"
   ]
  }
 ],
 "metadata": {
  "kernelspec": {
   "display_name": "Python 3",
   "language": "python",
   "name": "python3"
  },
  "language_info": {
   "codemirror_mode": {
    "name": "ipython",
    "version": 3
   },
   "file_extension": ".py",
   "mimetype": "text/x-python",
   "name": "python",
   "nbconvert_exporter": "python",
   "pygments_lexer": "ipython3",
   "version": "3.7.6"
  }
 },
 "nbformat": 4,
 "nbformat_minor": 2
}
