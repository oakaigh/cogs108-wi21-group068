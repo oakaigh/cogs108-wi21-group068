{
 "cells": [
  {
   "cell_type": "markdown",
   "metadata": {},
   "source": [
    "# COGS 108 - Final Project (change this to your project's title)"
   ]
  },
  {
   "cell_type": "markdown",
   "metadata": {},
   "source": [
    "## Permissions\n",
    "\n",
    "Place an `X` in the appropriate bracket below to specify if you would like your group's project to be made available to the public. (Note that student names will be included (but PIDs will be scraped from any groups who include their PIDs).\n",
    "\n",
    "* [  ] YES - make available\n",
    "* [  ] NO - keep private"
   ]
  },
  {
   "cell_type": "markdown",
   "metadata": {},
   "source": [
    "# Overview"
   ]
  },
  {
   "cell_type": "markdown",
   "metadata": {},
   "source": [
    "*Fill in your overview here*"
   ]
  },
  {
   "cell_type": "markdown",
   "metadata": {},
   "source": [
    "# Names\n",
    "\n",
    "- Jared (Ruotian) Chen\n",
    "- Jimin Cheon\n",
    "- Kane Gu\n",
    "- Laurence D'Ercole\n",
    "- Nisha Davankar"
   ]
  },
  {
   "cell_type": "markdown",
   "metadata": {},
   "source": [
    "<a id='research_question'></a>\n",
    "# Research Question"
   ]
  },
  {
   "cell_type": "markdown",
   "metadata": {},
   "source": [
    "What attributes of a YouTube video affect its popularity in United States?"
   ]
  },
  {
   "cell_type": "markdown",
   "metadata": {},
   "source": [
    "<a id='background'></a>\n",
    "\n",
    "## Background & Prior Work"
   ]
  },
  {
   "cell_type": "markdown",
   "metadata": {},
   "source": [
    "*Fill in your background and prior work here* \n",
    "\n",
    "References (include links):\n",
    "- 1)\n",
    "- 2)"
   ]
  },
  {
   "cell_type": "markdown",
   "metadata": {},
   "source": [
    "# Hypothesis\n"
   ]
  },
  {
   "cell_type": "markdown",
   "metadata": {},
   "source": [
    "Factors that would potentially **affect** a video's popularity:\n",
    "- time created: `time`\n",
    "- duration: `length`\n",
    "- number of tags: `tags`\n",
    "- video category: `category`\n",
    "- video quality: `video.quality`\n",
    "- ad placement: `has_ad\thas_ad_at_beginning`\n",
    "- popularity of youtuber\n",
    "    - time youtuber joined youtube: `creator.time`\n",
    "    - number of followers: `creator.stats.follower`\n",
    "    - total number of views: `creator.stats.view`\n",
    "    - total number of videos: `creator.stats.post`\n",
    "\n",
    "Factors that **determine** a video's long-term popularity:\n",
    "- like/dislike ratio: `stats.like\tstats.dislike`\n",
    "- number of comments: `stats.comment`\n",
    "- number of views: `stats.view`"
   ]
  },
  {
   "cell_type": "markdown",
   "metadata": {},
   "source": [
    "# Dataset(s)"
   ]
  },
  {
   "cell_type": "markdown",
   "metadata": {},
   "source": [
    "*Fill in your dataset information here*\n",
    "\n",
    "(Copy this information for each dataset)\n",
    "- Dataset Name:\n",
    "- Link to the dataset:\n",
    "- Number of observations:\n",
    "\n",
    "1-2 sentences describing each dataset. \n",
    "\n",
    "If you plan to use multiple datasets, add 1-2 sentences about how you plan to combine these datasets."
   ]
  },
  {
   "cell_type": "markdown",
   "metadata": {},
   "source": [
    "# Setup"
   ]
  },
  {
   "cell_type": "code",
   "execution_count": 1,
   "metadata": {},
   "outputs": [
    {
     "name": "stdout",
     "output_type": "stream",
     "text": [
      "\u001b[33mWARNING: You are using pip version 20.3.3; however, version 21.0.1 is available.\n",
      "You should consider upgrading via the '/opt/conda/bin/python -m pip install --upgrade pip' command.\u001b[0m\n",
      "\u001b[33mWARNING: You are using pip version 20.3.3; however, version 21.0.1 is available.\n",
      "You should consider upgrading via the '/opt/conda/bin/python -m pip install --upgrade pip' command.\u001b[0m\n"
     ]
    }
   ],
   "source": [
    "import sys\n",
    "\n",
    "!{sys.executable} -m pip install --quiet --user --upgrade pandas==1.*\n",
    "!{sys.executable} -m pip install --quiet --user --upgrade -r EDA/requirements.txt"
   ]
  },
  {
   "cell_type": "code",
   "execution_count": 2,
   "metadata": {},
   "outputs": [],
   "source": [
    "from EDA.goodies import *"
   ]
  },
  {
   "cell_type": "code",
   "execution_count": 3,
   "metadata": {},
   "outputs": [],
   "source": [
    "from EDA.dcollect import restful\n",
    "from EDA.dcollect import api_youtube as youtube\n",
    "from EDA.dcollect import api_youtubei as youtubei\n",
    "\n",
    "import pandas as pd\n",
    "import numpy as np\n",
    "import matplotlib.pyplot as plt"
   ]
  },
  {
   "cell_type": "markdown",
   "metadata": {},
   "source": [
    "# Data Cleaning"
   ]
  },
  {
   "cell_type": "markdown",
   "metadata": {},
   "source": [
    "Describe your data cleaning steps here."
   ]
  },
  {
   "cell_type": "code",
   "execution_count": 4,
   "metadata": {},
   "outputs": [
    {
     "data": {
      "text/markdown": [
       "---"
      ],
      "text/plain": [
       "<IPython.core.display.Markdown object>"
      ]
     },
     "metadata": {},
     "output_type": "display_data"
    },
    {
     "data": {
      "text/markdown": [
       "# Results - Search Results"
      ],
      "text/plain": [
       "<IPython.core.display.Markdown object>"
      ]
     },
     "metadata": {},
     "output_type": "display_data"
    },
    {
     "data": {
      "text/markdown": [
       "## Data Preview"
      ],
      "text/plain": [
       "<IPython.core.display.Markdown object>"
      ]
     },
     "metadata": {},
     "output_type": "display_data"
    },
    {
     "data": {
      "text/html": [
       "<div>\n",
       "<style scoped>\n",
       "    .dataframe tbody tr th:only-of-type {\n",
       "        vertical-align: middle;\n",
       "    }\n",
       "\n",
       "    .dataframe tbody tr th {\n",
       "        vertical-align: top;\n",
       "    }\n",
       "\n",
       "    .dataframe thead th {\n",
       "        text-align: right;\n",
       "    }\n",
       "</style>\n",
       "<table border=\"1\" class=\"dataframe\">\n",
       "  <thead>\n",
       "    <tr style=\"text-align: right;\">\n",
       "      <th></th>\n",
       "      <th></th>\n",
       "      <th>title</th>\n",
       "      <th>description</th>\n",
       "      <th>time</th>\n",
       "      <th>length</th>\n",
       "      <th>tags</th>\n",
       "      <th>category</th>\n",
       "      <th>stats.like</th>\n",
       "      <th>stats.dislike</th>\n",
       "      <th>stats.comment</th>\n",
       "      <th>stats.view</th>\n",
       "      <th>video.quality</th>\n",
       "      <th>creator.title</th>\n",
       "      <th>creator.description</th>\n",
       "      <th>creator.time</th>\n",
       "      <th>creator.stats.follower</th>\n",
       "      <th>creator.stats.view</th>\n",
       "      <th>creator.stats.post</th>\n",
       "      <th>has_ad</th>\n",
       "      <th>has_ad_at_beginning</th>\n",
       "    </tr>\n",
       "    <tr>\n",
       "      <th>id</th>\n",
       "      <th>creator.id</th>\n",
       "      <th></th>\n",
       "      <th></th>\n",
       "      <th></th>\n",
       "      <th></th>\n",
       "      <th></th>\n",
       "      <th></th>\n",
       "      <th></th>\n",
       "      <th></th>\n",
       "      <th></th>\n",
       "      <th></th>\n",
       "      <th></th>\n",
       "      <th></th>\n",
       "      <th></th>\n",
       "      <th></th>\n",
       "      <th></th>\n",
       "      <th></th>\n",
       "      <th></th>\n",
       "      <th></th>\n",
       "      <th></th>\n",
       "    </tr>\n",
       "  </thead>\n",
       "  <tbody>\n",
       "    <tr>\n",
       "      <th>6bGpGQ08gQs</th>\n",
       "      <th>UCF4Wxdo3inmxP-Y59wXDsFw</th>\n",
       "      <td>피로 물든 미얀마…무차별 발포에 30명 사망 (2021.03.01/뉴스데스크/MBC)</td>\n",
       "      <td>미얀마 군부가 쿠데타를 일으킨지 한 달 째, 미얀마에선 '피의 일요일'이 반복되고 ...</td>\n",
       "      <td>2021-03-01 11:24:24+00:00</td>\n",
       "      <td>0 days 00:02:31</td>\n",
       "      <td>[MBC, MBC뉴스, 뉴스데스크, newsdesk, 뉴스투데이, newstoday...</td>\n",
       "      <td>News &amp; Politics</td>\n",
       "      <td>4210</td>\n",
       "      <td>123</td>\n",
       "      <td>4224.0</td>\n",
       "      <td>553619</td>\n",
       "      <td>HD</td>\n",
       "      <td>MBCNEWS</td>\n",
       "      <td>MBC 뉴스 공식 유튜브 채널입니다. 시청자 여러분의 의견과 제보를 항상 기다립니다...</td>\n",
       "      <td>2006-11-05 21:58:51+00:00</td>\n",
       "      <td>1140000</td>\n",
       "      <td>2169439928</td>\n",
       "      <td>101323</td>\n",
       "      <td>True</td>\n",
       "      <td>True</td>\n",
       "    </tr>\n",
       "    <tr>\n",
       "      <th>Hs-mgG2uEjA</th>\n",
       "      <th>UCNAf1k0yIjyGu3k9BwAg3lg</th>\n",
       "      <td>Keane and Redknapp get HEATED over \"average\" S...</td>\n",
       "      <td>SUBSCRIBE ► http://bit.ly/SSFootballSub\\nPREMI...</td>\n",
       "      <td>2021-02-28 14:07:11+00:00</td>\n",
       "      <td>0 days 00:07:15</td>\n",
       "      <td>[sky sports, sky sports football, premier leag...</td>\n",
       "      <td>Sports</td>\n",
       "      <td>24995</td>\n",
       "      <td>388</td>\n",
       "      <td>6973.0</td>\n",
       "      <td>1377277</td>\n",
       "      <td>HD</td>\n",
       "      <td>Sky Sports Football</td>\n",
       "      <td>Sky Sports Football is the home of Sky Sports'...</td>\n",
       "      <td>2015-07-06 11:11:54+00:00</td>\n",
       "      <td>2780000</td>\n",
       "      <td>1654548702</td>\n",
       "      <td>4818</td>\n",
       "      <td>True</td>\n",
       "      <td>True</td>\n",
       "    </tr>\n",
       "    <tr>\n",
       "      <th>dKJh3_OnPZ8</th>\n",
       "      <th>UCBJeMCIeLQos7wacox4hmLQ</th>\n",
       "      <td>Roma 1-2 Milan | Milan keep the pressure on In...</td>\n",
       "      <td>Rebic scored the winner for Milan, as they kee...</td>\n",
       "      <td>2021-02-28 22:43:51+00:00</td>\n",
       "      <td>0 days 00:04:14</td>\n",
       "      <td>[Ronaldo, Serie A, Dybala, highlights, Juventu...</td>\n",
       "      <td>Sports</td>\n",
       "      <td>35514</td>\n",
       "      <td>908</td>\n",
       "      <td>1794.0</td>\n",
       "      <td>2272038</td>\n",
       "      <td>HD</td>\n",
       "      <td>Serie A</td>\n",
       "      <td>Welcome to the Official Serie A channel. Over ...</td>\n",
       "      <td>2012-10-30 13:54:30+00:00</td>\n",
       "      <td>6540000</td>\n",
       "      <td>2175901252</td>\n",
       "      <td>20042</td>\n",
       "      <td>True</td>\n",
       "      <td>True</td>\n",
       "    </tr>\n",
       "    <tr>\n",
       "      <th>w1B-NvBVtrw</th>\n",
       "      <th>UC9-OpMMVoNP5o10_Iyq7Ndw</th>\n",
       "      <td>Giannis Antetokounmpo Throws Down Monster Slam...</td>\n",
       "      <td>GREEK FREAK CALLED GAME. \\n\\r\\nSubscribe: http...</td>\n",
       "      <td>2021-02-28 23:11:18+00:00</td>\n",
       "      <td>0 days 00:00:52</td>\n",
       "      <td>[bleacher report, br, nba, giannis antetokounm...</td>\n",
       "      <td>Sports</td>\n",
       "      <td>4951</td>\n",
       "      <td>93</td>\n",
       "      <td>1582.0</td>\n",
       "      <td>437520</td>\n",
       "      <td>HD</td>\n",
       "      <td>Bleacher Report</td>\n",
       "      <td>The official YouTube page of Bleacher Report. ...</td>\n",
       "      <td>2007-09-14 18:23:54+00:00</td>\n",
       "      <td>2180000</td>\n",
       "      <td>1056524145</td>\n",
       "      <td>4622</td>\n",
       "      <td>True</td>\n",
       "      <td>True</td>\n",
       "    </tr>\n",
       "    <tr>\n",
       "      <th>eYO7Ccj1Iok</th>\n",
       "      <th>UCDkl5M0WVaddTWE4rr2cSeA</th>\n",
       "      <td>DES MEILLEURES AMIES ECHANGENT LEURS VIES PEND...</td>\n",
       "      <td>Je connais ma meilleure amie Solene depuis 22 ...</td>\n",
       "      <td>2021-02-28 20:13:20+00:00</td>\n",
       "      <td>0 days 00:23:29</td>\n",
       "      <td>[lena situations, lena, lena situation, situat...</td>\n",
       "      <td>People &amp; Blogs</td>\n",
       "      <td>112683</td>\n",
       "      <td>518</td>\n",
       "      <td>2077.0</td>\n",
       "      <td>1391601</td>\n",
       "      <td>HD</td>\n",
       "      <td>Léna Situations</td>\n",
       "      <td>désolée je suis nulle pour les descriptions</td>\n",
       "      <td>2013-01-14 17:22:41+00:00</td>\n",
       "      <td>1810000</td>\n",
       "      <td>263268098</td>\n",
       "      <td>296</td>\n",
       "      <td>True</td>\n",
       "      <td>True</td>\n",
       "    </tr>\n",
       "  </tbody>\n",
       "</table>\n",
       "</div>"
      ],
      "text/plain": [
       "                                                                                  title  \\\n",
       "id          creator.id                                                                    \n",
       "6bGpGQ08gQs UCF4Wxdo3inmxP-Y59wXDsFw    피로 물든 미얀마…무차별 발포에 30명 사망 (2021.03.01/뉴스데스크/MBC)   \n",
       "Hs-mgG2uEjA UCNAf1k0yIjyGu3k9BwAg3lg  Keane and Redknapp get HEATED over \"average\" S...   \n",
       "dKJh3_OnPZ8 UCBJeMCIeLQos7wacox4hmLQ  Roma 1-2 Milan | Milan keep the pressure on In...   \n",
       "w1B-NvBVtrw UC9-OpMMVoNP5o10_Iyq7Ndw  Giannis Antetokounmpo Throws Down Monster Slam...   \n",
       "eYO7Ccj1Iok UCDkl5M0WVaddTWE4rr2cSeA  DES MEILLEURES AMIES ECHANGENT LEURS VIES PEND...   \n",
       "\n",
       "                                                                            description  \\\n",
       "id          creator.id                                                                    \n",
       "6bGpGQ08gQs UCF4Wxdo3inmxP-Y59wXDsFw  미얀마 군부가 쿠데타를 일으킨지 한 달 째, 미얀마에선 '피의 일요일'이 반복되고 ...   \n",
       "Hs-mgG2uEjA UCNAf1k0yIjyGu3k9BwAg3lg  SUBSCRIBE ► http://bit.ly/SSFootballSub\\nPREMI...   \n",
       "dKJh3_OnPZ8 UCBJeMCIeLQos7wacox4hmLQ  Rebic scored the winner for Milan, as they kee...   \n",
       "w1B-NvBVtrw UC9-OpMMVoNP5o10_Iyq7Ndw  GREEK FREAK CALLED GAME. \\n\\r\\nSubscribe: http...   \n",
       "eYO7Ccj1Iok UCDkl5M0WVaddTWE4rr2cSeA  Je connais ma meilleure amie Solene depuis 22 ...   \n",
       "\n",
       "                                                          time  \\\n",
       "id          creator.id                                           \n",
       "6bGpGQ08gQs UCF4Wxdo3inmxP-Y59wXDsFw 2021-03-01 11:24:24+00:00   \n",
       "Hs-mgG2uEjA UCNAf1k0yIjyGu3k9BwAg3lg 2021-02-28 14:07:11+00:00   \n",
       "dKJh3_OnPZ8 UCBJeMCIeLQos7wacox4hmLQ 2021-02-28 22:43:51+00:00   \n",
       "w1B-NvBVtrw UC9-OpMMVoNP5o10_Iyq7Ndw 2021-02-28 23:11:18+00:00   \n",
       "eYO7Ccj1Iok UCDkl5M0WVaddTWE4rr2cSeA 2021-02-28 20:13:20+00:00   \n",
       "\n",
       "                                              length  \\\n",
       "id          creator.id                                 \n",
       "6bGpGQ08gQs UCF4Wxdo3inmxP-Y59wXDsFw 0 days 00:02:31   \n",
       "Hs-mgG2uEjA UCNAf1k0yIjyGu3k9BwAg3lg 0 days 00:07:15   \n",
       "dKJh3_OnPZ8 UCBJeMCIeLQos7wacox4hmLQ 0 days 00:04:14   \n",
       "w1B-NvBVtrw UC9-OpMMVoNP5o10_Iyq7Ndw 0 days 00:00:52   \n",
       "eYO7Ccj1Iok UCDkl5M0WVaddTWE4rr2cSeA 0 days 00:23:29   \n",
       "\n",
       "                                                                                   tags  \\\n",
       "id          creator.id                                                                    \n",
       "6bGpGQ08gQs UCF4Wxdo3inmxP-Y59wXDsFw  [MBC, MBC뉴스, 뉴스데스크, newsdesk, 뉴스투데이, newstoday...   \n",
       "Hs-mgG2uEjA UCNAf1k0yIjyGu3k9BwAg3lg  [sky sports, sky sports football, premier leag...   \n",
       "dKJh3_OnPZ8 UCBJeMCIeLQos7wacox4hmLQ  [Ronaldo, Serie A, Dybala, highlights, Juventu...   \n",
       "w1B-NvBVtrw UC9-OpMMVoNP5o10_Iyq7Ndw  [bleacher report, br, nba, giannis antetokounm...   \n",
       "eYO7Ccj1Iok UCDkl5M0WVaddTWE4rr2cSeA  [lena situations, lena, lena situation, situat...   \n",
       "\n",
       "                                             category  stats.like  \\\n",
       "id          creator.id                                              \n",
       "6bGpGQ08gQs UCF4Wxdo3inmxP-Y59wXDsFw  News & Politics        4210   \n",
       "Hs-mgG2uEjA UCNAf1k0yIjyGu3k9BwAg3lg           Sports       24995   \n",
       "dKJh3_OnPZ8 UCBJeMCIeLQos7wacox4hmLQ           Sports       35514   \n",
       "w1B-NvBVtrw UC9-OpMMVoNP5o10_Iyq7Ndw           Sports        4951   \n",
       "eYO7Ccj1Iok UCDkl5M0WVaddTWE4rr2cSeA   People & Blogs      112683   \n",
       "\n",
       "                                      stats.dislike  stats.comment  \\\n",
       "id          creator.id                                               \n",
       "6bGpGQ08gQs UCF4Wxdo3inmxP-Y59wXDsFw            123         4224.0   \n",
       "Hs-mgG2uEjA UCNAf1k0yIjyGu3k9BwAg3lg            388         6973.0   \n",
       "dKJh3_OnPZ8 UCBJeMCIeLQos7wacox4hmLQ            908         1794.0   \n",
       "w1B-NvBVtrw UC9-OpMMVoNP5o10_Iyq7Ndw             93         1582.0   \n",
       "eYO7Ccj1Iok UCDkl5M0WVaddTWE4rr2cSeA            518         2077.0   \n",
       "\n",
       "                                      stats.view video.quality  \\\n",
       "id          creator.id                                           \n",
       "6bGpGQ08gQs UCF4Wxdo3inmxP-Y59wXDsFw      553619            HD   \n",
       "Hs-mgG2uEjA UCNAf1k0yIjyGu3k9BwAg3lg     1377277            HD   \n",
       "dKJh3_OnPZ8 UCBJeMCIeLQos7wacox4hmLQ     2272038            HD   \n",
       "w1B-NvBVtrw UC9-OpMMVoNP5o10_Iyq7Ndw      437520            HD   \n",
       "eYO7Ccj1Iok UCDkl5M0WVaddTWE4rr2cSeA     1391601            HD   \n",
       "\n",
       "                                            creator.title  \\\n",
       "id          creator.id                                      \n",
       "6bGpGQ08gQs UCF4Wxdo3inmxP-Y59wXDsFw              MBCNEWS   \n",
       "Hs-mgG2uEjA UCNAf1k0yIjyGu3k9BwAg3lg  Sky Sports Football   \n",
       "dKJh3_OnPZ8 UCBJeMCIeLQos7wacox4hmLQ              Serie A   \n",
       "w1B-NvBVtrw UC9-OpMMVoNP5o10_Iyq7Ndw      Bleacher Report   \n",
       "eYO7Ccj1Iok UCDkl5M0WVaddTWE4rr2cSeA      Léna Situations   \n",
       "\n",
       "                                                                    creator.description  \\\n",
       "id          creator.id                                                                    \n",
       "6bGpGQ08gQs UCF4Wxdo3inmxP-Y59wXDsFw  MBC 뉴스 공식 유튜브 채널입니다. 시청자 여러분의 의견과 제보를 항상 기다립니다...   \n",
       "Hs-mgG2uEjA UCNAf1k0yIjyGu3k9BwAg3lg  Sky Sports Football is the home of Sky Sports'...   \n",
       "dKJh3_OnPZ8 UCBJeMCIeLQos7wacox4hmLQ  Welcome to the Official Serie A channel. Over ...   \n",
       "w1B-NvBVtrw UC9-OpMMVoNP5o10_Iyq7Ndw  The official YouTube page of Bleacher Report. ...   \n",
       "eYO7Ccj1Iok UCDkl5M0WVaddTWE4rr2cSeA        désolée je suis nulle pour les descriptions   \n",
       "\n",
       "                                                  creator.time  \\\n",
       "id          creator.id                                           \n",
       "6bGpGQ08gQs UCF4Wxdo3inmxP-Y59wXDsFw 2006-11-05 21:58:51+00:00   \n",
       "Hs-mgG2uEjA UCNAf1k0yIjyGu3k9BwAg3lg 2015-07-06 11:11:54+00:00   \n",
       "dKJh3_OnPZ8 UCBJeMCIeLQos7wacox4hmLQ 2012-10-30 13:54:30+00:00   \n",
       "w1B-NvBVtrw UC9-OpMMVoNP5o10_Iyq7Ndw 2007-09-14 18:23:54+00:00   \n",
       "eYO7Ccj1Iok UCDkl5M0WVaddTWE4rr2cSeA 2013-01-14 17:22:41+00:00   \n",
       "\n",
       "                                      creator.stats.follower  \\\n",
       "id          creator.id                                         \n",
       "6bGpGQ08gQs UCF4Wxdo3inmxP-Y59wXDsFw                 1140000   \n",
       "Hs-mgG2uEjA UCNAf1k0yIjyGu3k9BwAg3lg                 2780000   \n",
       "dKJh3_OnPZ8 UCBJeMCIeLQos7wacox4hmLQ                 6540000   \n",
       "w1B-NvBVtrw UC9-OpMMVoNP5o10_Iyq7Ndw                 2180000   \n",
       "eYO7Ccj1Iok UCDkl5M0WVaddTWE4rr2cSeA                 1810000   \n",
       "\n",
       "                                      creator.stats.view  creator.stats.post  \\\n",
       "id          creator.id                                                         \n",
       "6bGpGQ08gQs UCF4Wxdo3inmxP-Y59wXDsFw          2169439928              101323   \n",
       "Hs-mgG2uEjA UCNAf1k0yIjyGu3k9BwAg3lg          1654548702                4818   \n",
       "dKJh3_OnPZ8 UCBJeMCIeLQos7wacox4hmLQ          2175901252               20042   \n",
       "w1B-NvBVtrw UC9-OpMMVoNP5o10_Iyq7Ndw          1056524145                4622   \n",
       "eYO7Ccj1Iok UCDkl5M0WVaddTWE4rr2cSeA           263268098                 296   \n",
       "\n",
       "                                      has_ad  has_ad_at_beginning  \n",
       "id          creator.id                                             \n",
       "6bGpGQ08gQs UCF4Wxdo3inmxP-Y59wXDsFw    True                 True  \n",
       "Hs-mgG2uEjA UCNAf1k0yIjyGu3k9BwAg3lg    True                 True  \n",
       "dKJh3_OnPZ8 UCBJeMCIeLQos7wacox4hmLQ    True                 True  \n",
       "w1B-NvBVtrw UC9-OpMMVoNP5o10_Iyq7Ndw    True                 True  \n",
       "eYO7Ccj1Iok UCDkl5M0WVaddTWE4rr2cSeA    True                 True  "
      ]
     },
     "metadata": {},
     "output_type": "display_data"
    },
    {
     "data": {
      "text/markdown": [
       "## Stats"
      ],
      "text/plain": [
       "<IPython.core.display.Markdown object>"
      ]
     },
     "metadata": {},
     "output_type": "display_data"
    },
    {
     "data": {
      "text/html": [
       "<div>\n",
       "<style scoped>\n",
       "    .dataframe tbody tr th:only-of-type {\n",
       "        vertical-align: middle;\n",
       "    }\n",
       "\n",
       "    .dataframe tbody tr th {\n",
       "        vertical-align: top;\n",
       "    }\n",
       "\n",
       "    .dataframe thead th {\n",
       "        text-align: right;\n",
       "    }\n",
       "</style>\n",
       "<table border=\"1\" class=\"dataframe\">\n",
       "  <thead>\n",
       "    <tr style=\"text-align: right;\">\n",
       "      <th></th>\n",
       "      <th>length</th>\n",
       "      <th>stats.like</th>\n",
       "      <th>stats.dislike</th>\n",
       "      <th>stats.comment</th>\n",
       "      <th>stats.view</th>\n",
       "      <th>creator.stats.follower</th>\n",
       "      <th>creator.stats.view</th>\n",
       "      <th>creator.stats.post</th>\n",
       "    </tr>\n",
       "  </thead>\n",
       "  <tbody>\n",
       "    <tr>\n",
       "      <th>count</th>\n",
       "      <td>20</td>\n",
       "      <td>20.000000</td>\n",
       "      <td>20.000000</td>\n",
       "      <td>19.000000</td>\n",
       "      <td>2.000000e+01</td>\n",
       "      <td>2.000000e+01</td>\n",
       "      <td>2.000000e+01</td>\n",
       "      <td>20.00000</td>\n",
       "    </tr>\n",
       "    <tr>\n",
       "      <th>mean</th>\n",
       "      <td>0 days 00:09:17.850000</td>\n",
       "      <td>21240.450000</td>\n",
       "      <td>545.850000</td>\n",
       "      <td>1642.631579</td>\n",
       "      <td>9.858279e+05</td>\n",
       "      <td>1.421800e+07</td>\n",
       "      <td>1.158647e+10</td>\n",
       "      <td>30655.10000</td>\n",
       "    </tr>\n",
       "    <tr>\n",
       "      <th>std</th>\n",
       "      <td>0 days 00:11:17.421758931</td>\n",
       "      <td>25947.217241</td>\n",
       "      <td>678.091228</td>\n",
       "      <td>1912.237003</td>\n",
       "      <td>7.453541e+05</td>\n",
       "      <td>2.396714e+07</td>\n",
       "      <td>2.105210e+10</td>\n",
       "      <td>35430.73451</td>\n",
       "    </tr>\n",
       "    <tr>\n",
       "      <th>min</th>\n",
       "      <td>0 days 00:00:52</td>\n",
       "      <td>2347.000000</td>\n",
       "      <td>66.000000</td>\n",
       "      <td>65.000000</td>\n",
       "      <td>9.464400e+04</td>\n",
       "      <td>4.670000e+05</td>\n",
       "      <td>1.308057e+08</td>\n",
       "      <td>177.00000</td>\n",
       "    </tr>\n",
       "    <tr>\n",
       "      <th>25%</th>\n",
       "      <td>0 days 00:03:10.750000</td>\n",
       "      <td>5027.500000</td>\n",
       "      <td>194.750000</td>\n",
       "      <td>324.500000</td>\n",
       "      <td>4.593428e+05</td>\n",
       "      <td>1.642500e+06</td>\n",
       "      <td>8.310468e+08</td>\n",
       "      <td>1071.75000</td>\n",
       "    </tr>\n",
       "    <tr>\n",
       "      <th>50%</th>\n",
       "      <td>0 days 00:05:08.500000</td>\n",
       "      <td>9690.000000</td>\n",
       "      <td>349.000000</td>\n",
       "      <td>756.000000</td>\n",
       "      <td>6.929960e+05</td>\n",
       "      <td>3.045000e+06</td>\n",
       "      <td>1.931002e+09</td>\n",
       "      <td>20513.50000</td>\n",
       "    </tr>\n",
       "    <tr>\n",
       "      <th>75%</th>\n",
       "      <td>0 days 00:08:49.750000</td>\n",
       "      <td>27624.750000</td>\n",
       "      <td>607.750000</td>\n",
       "      <td>1935.500000</td>\n",
       "      <td>1.380858e+06</td>\n",
       "      <td>1.510000e+07</td>\n",
       "      <td>8.150189e+09</td>\n",
       "      <td>51529.50000</td>\n",
       "    </tr>\n",
       "    <tr>\n",
       "      <th>max</th>\n",
       "      <td>0 days 00:46:59</td>\n",
       "      <td>112683.000000</td>\n",
       "      <td>3154.000000</td>\n",
       "      <td>6973.000000</td>\n",
       "      <td>2.820763e+06</td>\n",
       "      <td>9.800000e+07</td>\n",
       "      <td>8.064688e+10</td>\n",
       "      <td>105638.00000</td>\n",
       "    </tr>\n",
       "  </tbody>\n",
       "</table>\n",
       "</div>"
      ],
      "text/plain": [
       "                          length     stats.like  stats.dislike  stats.comment  \\\n",
       "count                         20      20.000000      20.000000      19.000000   \n",
       "mean      0 days 00:09:17.850000   21240.450000     545.850000    1642.631579   \n",
       "std    0 days 00:11:17.421758931   25947.217241     678.091228    1912.237003   \n",
       "min              0 days 00:00:52    2347.000000      66.000000      65.000000   \n",
       "25%       0 days 00:03:10.750000    5027.500000     194.750000     324.500000   \n",
       "50%       0 days 00:05:08.500000    9690.000000     349.000000     756.000000   \n",
       "75%       0 days 00:08:49.750000   27624.750000     607.750000    1935.500000   \n",
       "max              0 days 00:46:59  112683.000000    3154.000000    6973.000000   \n",
       "\n",
       "         stats.view  creator.stats.follower  creator.stats.view  \\\n",
       "count  2.000000e+01            2.000000e+01        2.000000e+01   \n",
       "mean   9.858279e+05            1.421800e+07        1.158647e+10   \n",
       "std    7.453541e+05            2.396714e+07        2.105210e+10   \n",
       "min    9.464400e+04            4.670000e+05        1.308057e+08   \n",
       "25%    4.593428e+05            1.642500e+06        8.310468e+08   \n",
       "50%    6.929960e+05            3.045000e+06        1.931002e+09   \n",
       "75%    1.380858e+06            1.510000e+07        8.150189e+09   \n",
       "max    2.820763e+06            9.800000e+07        8.064688e+10   \n",
       "\n",
       "       creator.stats.post  \n",
       "count            20.00000  \n",
       "mean          30655.10000  \n",
       "std           35430.73451  \n",
       "min             177.00000  \n",
       "25%            1071.75000  \n",
       "50%           20513.50000  \n",
       "75%           51529.50000  \n",
       "max          105638.00000  "
      ]
     },
     "metadata": {},
     "output_type": "display_data"
    },
    {
     "data": {
      "text/markdown": [
       "---"
      ],
      "text/plain": [
       "<IPython.core.display.Markdown object>"
      ]
     },
     "metadata": {},
     "output_type": "display_data"
    }
   ],
   "source": [
    "## YOUR CODE HERE\n",
    "## FEEL FREE TO ADD MULTIPLE CELLS PER SECTION\n",
    "df_search_details = pd.read_pickle('EDA/dsamples/youtube_search.pkl')\n",
    "df_report(df_search_details, name = 'Search Results')"
   ]
  },
  {
   "cell_type": "code",
   "execution_count": 5,
   "metadata": {},
   "outputs": [],
   "source": [
    "assert(youtube.types.topic(1).__eq__('Film & Animation'))"
   ]
  },
  {
   "cell_type": "code",
   "execution_count": 6,
   "metadata": {},
   "outputs": [
    {
     "data": {
      "text/markdown": [
       "---"
      ],
      "text/plain": [
       "<IPython.core.display.Markdown object>"
      ]
     },
     "metadata": {},
     "output_type": "display_data"
    },
    {
     "data": {
      "text/markdown": [
       "# Results - Trending"
      ],
      "text/plain": [
       "<IPython.core.display.Markdown object>"
      ]
     },
     "metadata": {},
     "output_type": "display_data"
    },
    {
     "data": {
      "text/markdown": [
       "## Data Preview"
      ],
      "text/plain": [
       "<IPython.core.display.Markdown object>"
      ]
     },
     "metadata": {},
     "output_type": "display_data"
    },
    {
     "data": {
      "text/html": [
       "<div>\n",
       "<style scoped>\n",
       "    .dataframe tbody tr th:only-of-type {\n",
       "        vertical-align: middle;\n",
       "    }\n",
       "\n",
       "    .dataframe tbody tr th {\n",
       "        vertical-align: top;\n",
       "    }\n",
       "\n",
       "    .dataframe thead th {\n",
       "        text-align: right;\n",
       "    }\n",
       "</style>\n",
       "<table border=\"1\" class=\"dataframe\">\n",
       "  <thead>\n",
       "    <tr style=\"text-align: right;\">\n",
       "      <th></th>\n",
       "      <th></th>\n",
       "      <th>title</th>\n",
       "      <th>description</th>\n",
       "      <th>time</th>\n",
       "      <th>length</th>\n",
       "      <th>tags</th>\n",
       "      <th>category</th>\n",
       "      <th>stats.like</th>\n",
       "      <th>stats.dislike</th>\n",
       "      <th>stats.comment</th>\n",
       "      <th>stats.view</th>\n",
       "      <th>video.quality</th>\n",
       "      <th>creator.title</th>\n",
       "      <th>creator.description</th>\n",
       "      <th>creator.time</th>\n",
       "      <th>creator.stats.follower</th>\n",
       "      <th>creator.stats.view</th>\n",
       "      <th>creator.stats.post</th>\n",
       "      <th>has_ad</th>\n",
       "      <th>has_ad_at_beginning</th>\n",
       "    </tr>\n",
       "    <tr>\n",
       "      <th>id</th>\n",
       "      <th>creator.id</th>\n",
       "      <th></th>\n",
       "      <th></th>\n",
       "      <th></th>\n",
       "      <th></th>\n",
       "      <th></th>\n",
       "      <th></th>\n",
       "      <th></th>\n",
       "      <th></th>\n",
       "      <th></th>\n",
       "      <th></th>\n",
       "      <th></th>\n",
       "      <th></th>\n",
       "      <th></th>\n",
       "      <th></th>\n",
       "      <th></th>\n",
       "      <th></th>\n",
       "      <th></th>\n",
       "      <th></th>\n",
       "      <th></th>\n",
       "    </tr>\n",
       "  </thead>\n",
       "  <tbody>\n",
       "    <tr>\n",
       "      <th>CkTVoLamPio</th>\n",
       "      <th>UC-SJ6nODDmufqBzPBwCvYvQ</th>\n",
       "      <td>Meghan, Duchess of Sussex, opens up about her ...</td>\n",
       "      <td>For the first time Meghan, Duchess of Sussex, ...</td>\n",
       "      <td>2021-03-08 14:01:55+00:00</td>\n",
       "      <td>0 days 00:10:19</td>\n",
       "      <td>[cbs this morning, duchess of sussex, Meghan M...</td>\n",
       "      <td>News &amp; Politics</td>\n",
       "      <td>32015</td>\n",
       "      <td>5461</td>\n",
       "      <td>7184.0</td>\n",
       "      <td>3461395</td>\n",
       "      <td>HD</td>\n",
       "      <td>CBS This Morning</td>\n",
       "      <td>Each weekday morning, Gayle King, Anthony Maso...</td>\n",
       "      <td>2013-05-23 10:59:52+00:00</td>\n",
       "      <td>1880000</td>\n",
       "      <td>1455944229</td>\n",
       "      <td>29384</td>\n",
       "      <td>True</td>\n",
       "      <td>True</td>\n",
       "    </tr>\n",
       "    <tr>\n",
       "      <th>auOrYTASVqQ</th>\n",
       "      <th>UC-SJ6nODDmufqBzPBwCvYvQ</th>\n",
       "      <td>Oprah Winfrey on her bombshell Harry and Megha...</td>\n",
       "      <td>Oprah Winfrey joined \"CBS This Morning\" the da...</td>\n",
       "      <td>2021-03-08 14:04:06+00:00</td>\n",
       "      <td>0 days 00:05:39</td>\n",
       "      <td>[Oprah Winfrey, CBS This Morning, prince harry...</td>\n",
       "      <td>News &amp; Politics</td>\n",
       "      <td>14725</td>\n",
       "      <td>3387</td>\n",
       "      <td>4883.0</td>\n",
       "      <td>1834547</td>\n",
       "      <td>HD</td>\n",
       "      <td>CBS This Morning</td>\n",
       "      <td>Each weekday morning, Gayle King, Anthony Maso...</td>\n",
       "      <td>2013-05-23 10:59:52+00:00</td>\n",
       "      <td>1880000</td>\n",
       "      <td>1455944229</td>\n",
       "      <td>29384</td>\n",
       "      <td>True</td>\n",
       "      <td>True</td>\n",
       "    </tr>\n",
       "    <tr>\n",
       "      <th>Tl9KT9RwiGc</th>\n",
       "      <th>UC-SJ6nODDmufqBzPBwCvYvQ</th>\n",
       "      <td>Harry and Meghan on how race factored into the...</td>\n",
       "      <td>Prince Harry and Meghan, Duchess of Sussex, co...</td>\n",
       "      <td>2021-03-08 14:00:03+00:00</td>\n",
       "      <td>0 days 00:08:33</td>\n",
       "      <td>[prince harry, Meghan Markle, duchess of susse...</td>\n",
       "      <td>News &amp; Politics</td>\n",
       "      <td>12080</td>\n",
       "      <td>2825</td>\n",
       "      <td>4935.0</td>\n",
       "      <td>1276809</td>\n",
       "      <td>HD</td>\n",
       "      <td>CBS This Morning</td>\n",
       "      <td>Each weekday morning, Gayle King, Anthony Maso...</td>\n",
       "      <td>2013-05-23 10:59:52+00:00</td>\n",
       "      <td>1880000</td>\n",
       "      <td>1455944229</td>\n",
       "      <td>29384</td>\n",
       "      <td>True</td>\n",
       "      <td>True</td>\n",
       "    </tr>\n",
       "    <tr>\n",
       "      <th>Wx4Vpm1KzSY</th>\n",
       "      <th>UCKjU3KzdbJE1EFcHVqXC3_g</th>\n",
       "      <td>Prince Harry, Meghan reveal struggles behind r...</td>\n",
       "      <td>Prince Harry and Meghan Markle's revealing int...</td>\n",
       "      <td>2021-03-08 05:18:20+00:00</td>\n",
       "      <td>0 days 00:04:46</td>\n",
       "      <td>[harry and meghan, prince harry and meghan mar...</td>\n",
       "      <td>News &amp; Politics</td>\n",
       "      <td>32428</td>\n",
       "      <td>10771</td>\n",
       "      <td>NaN</td>\n",
       "      <td>4112536</td>\n",
       "      <td>HD</td>\n",
       "      <td>CBC News: The National</td>\n",
       "      <td>The National is the flagship news and current ...</td>\n",
       "      <td>2007-10-17 21:34:25+00:00</td>\n",
       "      <td>996000</td>\n",
       "      <td>531856230</td>\n",
       "      <td>17987</td>\n",
       "      <td>True</td>\n",
       "      <td>True</td>\n",
       "    </tr>\n",
       "    <tr>\n",
       "      <th>mbwMspaiUVg</th>\n",
       "      <th>UCiWLfSweyRNmLpgEHekhoAg</th>\n",
       "      <td>First Take reacts to Blake Griffin to the Nets</td>\n",
       "      <td>First Take reacts to Blake Griffin to the Nets...</td>\n",
       "      <td>2021-03-08 17:07:45+00:00</td>\n",
       "      <td>0 days 00:07:08</td>\n",
       "      <td>[espn, first take, blake griffin, nba, nba on ...</td>\n",
       "      <td>Sports</td>\n",
       "      <td>16410</td>\n",
       "      <td>424</td>\n",
       "      <td>3321.0</td>\n",
       "      <td>1104602</td>\n",
       "      <td>HD</td>\n",
       "      <td>ESPN</td>\n",
       "      <td>ESPN on YouTube features up-to-the-minute spor...</td>\n",
       "      <td>2005-10-31 23:34:22+00:00</td>\n",
       "      <td>7730000</td>\n",
       "      <td>7099162935</td>\n",
       "      <td>37990</td>\n",
       "      <td>True</td>\n",
       "      <td>True</td>\n",
       "    </tr>\n",
       "  </tbody>\n",
       "</table>\n",
       "</div>"
      ],
      "text/plain": [
       "                                                                                  title  \\\n",
       "id          creator.id                                                                    \n",
       "CkTVoLamPio UC-SJ6nODDmufqBzPBwCvYvQ  Meghan, Duchess of Sussex, opens up about her ...   \n",
       "auOrYTASVqQ UC-SJ6nODDmufqBzPBwCvYvQ  Oprah Winfrey on her bombshell Harry and Megha...   \n",
       "Tl9KT9RwiGc UC-SJ6nODDmufqBzPBwCvYvQ  Harry and Meghan on how race factored into the...   \n",
       "Wx4Vpm1KzSY UCKjU3KzdbJE1EFcHVqXC3_g  Prince Harry, Meghan reveal struggles behind r...   \n",
       "mbwMspaiUVg UCiWLfSweyRNmLpgEHekhoAg     First Take reacts to Blake Griffin to the Nets   \n",
       "\n",
       "                                                                            description  \\\n",
       "id          creator.id                                                                    \n",
       "CkTVoLamPio UC-SJ6nODDmufqBzPBwCvYvQ  For the first time Meghan, Duchess of Sussex, ...   \n",
       "auOrYTASVqQ UC-SJ6nODDmufqBzPBwCvYvQ  Oprah Winfrey joined \"CBS This Morning\" the da...   \n",
       "Tl9KT9RwiGc UC-SJ6nODDmufqBzPBwCvYvQ  Prince Harry and Meghan, Duchess of Sussex, co...   \n",
       "Wx4Vpm1KzSY UCKjU3KzdbJE1EFcHVqXC3_g  Prince Harry and Meghan Markle's revealing int...   \n",
       "mbwMspaiUVg UCiWLfSweyRNmLpgEHekhoAg  First Take reacts to Blake Griffin to the Nets...   \n",
       "\n",
       "                                                          time  \\\n",
       "id          creator.id                                           \n",
       "CkTVoLamPio UC-SJ6nODDmufqBzPBwCvYvQ 2021-03-08 14:01:55+00:00   \n",
       "auOrYTASVqQ UC-SJ6nODDmufqBzPBwCvYvQ 2021-03-08 14:04:06+00:00   \n",
       "Tl9KT9RwiGc UC-SJ6nODDmufqBzPBwCvYvQ 2021-03-08 14:00:03+00:00   \n",
       "Wx4Vpm1KzSY UCKjU3KzdbJE1EFcHVqXC3_g 2021-03-08 05:18:20+00:00   \n",
       "mbwMspaiUVg UCiWLfSweyRNmLpgEHekhoAg 2021-03-08 17:07:45+00:00   \n",
       "\n",
       "                                              length  \\\n",
       "id          creator.id                                 \n",
       "CkTVoLamPio UC-SJ6nODDmufqBzPBwCvYvQ 0 days 00:10:19   \n",
       "auOrYTASVqQ UC-SJ6nODDmufqBzPBwCvYvQ 0 days 00:05:39   \n",
       "Tl9KT9RwiGc UC-SJ6nODDmufqBzPBwCvYvQ 0 days 00:08:33   \n",
       "Wx4Vpm1KzSY UCKjU3KzdbJE1EFcHVqXC3_g 0 days 00:04:46   \n",
       "mbwMspaiUVg UCiWLfSweyRNmLpgEHekhoAg 0 days 00:07:08   \n",
       "\n",
       "                                                                                   tags  \\\n",
       "id          creator.id                                                                    \n",
       "CkTVoLamPio UC-SJ6nODDmufqBzPBwCvYvQ  [cbs this morning, duchess of sussex, Meghan M...   \n",
       "auOrYTASVqQ UC-SJ6nODDmufqBzPBwCvYvQ  [Oprah Winfrey, CBS This Morning, prince harry...   \n",
       "Tl9KT9RwiGc UC-SJ6nODDmufqBzPBwCvYvQ  [prince harry, Meghan Markle, duchess of susse...   \n",
       "Wx4Vpm1KzSY UCKjU3KzdbJE1EFcHVqXC3_g  [harry and meghan, prince harry and meghan mar...   \n",
       "mbwMspaiUVg UCiWLfSweyRNmLpgEHekhoAg  [espn, first take, blake griffin, nba, nba on ...   \n",
       "\n",
       "                                             category  stats.like  \\\n",
       "id          creator.id                                              \n",
       "CkTVoLamPio UC-SJ6nODDmufqBzPBwCvYvQ  News & Politics       32015   \n",
       "auOrYTASVqQ UC-SJ6nODDmufqBzPBwCvYvQ  News & Politics       14725   \n",
       "Tl9KT9RwiGc UC-SJ6nODDmufqBzPBwCvYvQ  News & Politics       12080   \n",
       "Wx4Vpm1KzSY UCKjU3KzdbJE1EFcHVqXC3_g  News & Politics       32428   \n",
       "mbwMspaiUVg UCiWLfSweyRNmLpgEHekhoAg           Sports       16410   \n",
       "\n",
       "                                      stats.dislike  stats.comment  \\\n",
       "id          creator.id                                               \n",
       "CkTVoLamPio UC-SJ6nODDmufqBzPBwCvYvQ           5461         7184.0   \n",
       "auOrYTASVqQ UC-SJ6nODDmufqBzPBwCvYvQ           3387         4883.0   \n",
       "Tl9KT9RwiGc UC-SJ6nODDmufqBzPBwCvYvQ           2825         4935.0   \n",
       "Wx4Vpm1KzSY UCKjU3KzdbJE1EFcHVqXC3_g          10771            NaN   \n",
       "mbwMspaiUVg UCiWLfSweyRNmLpgEHekhoAg            424         3321.0   \n",
       "\n",
       "                                      stats.view video.quality  \\\n",
       "id          creator.id                                           \n",
       "CkTVoLamPio UC-SJ6nODDmufqBzPBwCvYvQ     3461395            HD   \n",
       "auOrYTASVqQ UC-SJ6nODDmufqBzPBwCvYvQ     1834547            HD   \n",
       "Tl9KT9RwiGc UC-SJ6nODDmufqBzPBwCvYvQ     1276809            HD   \n",
       "Wx4Vpm1KzSY UCKjU3KzdbJE1EFcHVqXC3_g     4112536            HD   \n",
       "mbwMspaiUVg UCiWLfSweyRNmLpgEHekhoAg     1104602            HD   \n",
       "\n",
       "                                               creator.title  \\\n",
       "id          creator.id                                         \n",
       "CkTVoLamPio UC-SJ6nODDmufqBzPBwCvYvQ        CBS This Morning   \n",
       "auOrYTASVqQ UC-SJ6nODDmufqBzPBwCvYvQ        CBS This Morning   \n",
       "Tl9KT9RwiGc UC-SJ6nODDmufqBzPBwCvYvQ        CBS This Morning   \n",
       "Wx4Vpm1KzSY UCKjU3KzdbJE1EFcHVqXC3_g  CBC News: The National   \n",
       "mbwMspaiUVg UCiWLfSweyRNmLpgEHekhoAg                    ESPN   \n",
       "\n",
       "                                                                    creator.description  \\\n",
       "id          creator.id                                                                    \n",
       "CkTVoLamPio UC-SJ6nODDmufqBzPBwCvYvQ  Each weekday morning, Gayle King, Anthony Maso...   \n",
       "auOrYTASVqQ UC-SJ6nODDmufqBzPBwCvYvQ  Each weekday morning, Gayle King, Anthony Maso...   \n",
       "Tl9KT9RwiGc UC-SJ6nODDmufqBzPBwCvYvQ  Each weekday morning, Gayle King, Anthony Maso...   \n",
       "Wx4Vpm1KzSY UCKjU3KzdbJE1EFcHVqXC3_g  The National is the flagship news and current ...   \n",
       "mbwMspaiUVg UCiWLfSweyRNmLpgEHekhoAg  ESPN on YouTube features up-to-the-minute spor...   \n",
       "\n",
       "                                                  creator.time  \\\n",
       "id          creator.id                                           \n",
       "CkTVoLamPio UC-SJ6nODDmufqBzPBwCvYvQ 2013-05-23 10:59:52+00:00   \n",
       "auOrYTASVqQ UC-SJ6nODDmufqBzPBwCvYvQ 2013-05-23 10:59:52+00:00   \n",
       "Tl9KT9RwiGc UC-SJ6nODDmufqBzPBwCvYvQ 2013-05-23 10:59:52+00:00   \n",
       "Wx4Vpm1KzSY UCKjU3KzdbJE1EFcHVqXC3_g 2007-10-17 21:34:25+00:00   \n",
       "mbwMspaiUVg UCiWLfSweyRNmLpgEHekhoAg 2005-10-31 23:34:22+00:00   \n",
       "\n",
       "                                      creator.stats.follower  \\\n",
       "id          creator.id                                         \n",
       "CkTVoLamPio UC-SJ6nODDmufqBzPBwCvYvQ                 1880000   \n",
       "auOrYTASVqQ UC-SJ6nODDmufqBzPBwCvYvQ                 1880000   \n",
       "Tl9KT9RwiGc UC-SJ6nODDmufqBzPBwCvYvQ                 1880000   \n",
       "Wx4Vpm1KzSY UCKjU3KzdbJE1EFcHVqXC3_g                  996000   \n",
       "mbwMspaiUVg UCiWLfSweyRNmLpgEHekhoAg                 7730000   \n",
       "\n",
       "                                      creator.stats.view  creator.stats.post  \\\n",
       "id          creator.id                                                         \n",
       "CkTVoLamPio UC-SJ6nODDmufqBzPBwCvYvQ          1455944229               29384   \n",
       "auOrYTASVqQ UC-SJ6nODDmufqBzPBwCvYvQ          1455944229               29384   \n",
       "Tl9KT9RwiGc UC-SJ6nODDmufqBzPBwCvYvQ          1455944229               29384   \n",
       "Wx4Vpm1KzSY UCKjU3KzdbJE1EFcHVqXC3_g           531856230               17987   \n",
       "mbwMspaiUVg UCiWLfSweyRNmLpgEHekhoAg          7099162935               37990   \n",
       "\n",
       "                                      has_ad  has_ad_at_beginning  \n",
       "id          creator.id                                             \n",
       "CkTVoLamPio UC-SJ6nODDmufqBzPBwCvYvQ    True                 True  \n",
       "auOrYTASVqQ UC-SJ6nODDmufqBzPBwCvYvQ    True                 True  \n",
       "Tl9KT9RwiGc UC-SJ6nODDmufqBzPBwCvYvQ    True                 True  \n",
       "Wx4Vpm1KzSY UCKjU3KzdbJE1EFcHVqXC3_g    True                 True  \n",
       "mbwMspaiUVg UCiWLfSweyRNmLpgEHekhoAg    True                 True  "
      ]
     },
     "metadata": {},
     "output_type": "display_data"
    },
    {
     "data": {
      "text/markdown": [
       "## Stats"
      ],
      "text/plain": [
       "<IPython.core.display.Markdown object>"
      ]
     },
     "metadata": {},
     "output_type": "display_data"
    },
    {
     "data": {
      "text/html": [
       "<div>\n",
       "<style scoped>\n",
       "    .dataframe tbody tr th:only-of-type {\n",
       "        vertical-align: middle;\n",
       "    }\n",
       "\n",
       "    .dataframe tbody tr th {\n",
       "        vertical-align: top;\n",
       "    }\n",
       "\n",
       "    .dataframe thead th {\n",
       "        text-align: right;\n",
       "    }\n",
       "</style>\n",
       "<table border=\"1\" class=\"dataframe\">\n",
       "  <thead>\n",
       "    <tr style=\"text-align: right;\">\n",
       "      <th></th>\n",
       "      <th>length</th>\n",
       "      <th>stats.like</th>\n",
       "      <th>stats.dislike</th>\n",
       "      <th>stats.comment</th>\n",
       "      <th>stats.view</th>\n",
       "      <th>creator.stats.follower</th>\n",
       "      <th>creator.stats.view</th>\n",
       "      <th>creator.stats.post</th>\n",
       "    </tr>\n",
       "  </thead>\n",
       "  <tbody>\n",
       "    <tr>\n",
       "      <th>count</th>\n",
       "      <td>296</td>\n",
       "      <td>2.960000e+02</td>\n",
       "      <td>296.000000</td>\n",
       "      <td>283.000000</td>\n",
       "      <td>2.960000e+02</td>\n",
       "      <td>2.960000e+02</td>\n",
       "      <td>2.960000e+02</td>\n",
       "      <td>296.000000</td>\n",
       "    </tr>\n",
       "    <tr>\n",
       "      <th>mean</th>\n",
       "      <td>0 days 00:10:38.929054054</td>\n",
       "      <td>1.402340e+05</td>\n",
       "      <td>4499.597973</td>\n",
       "      <td>13747.660777</td>\n",
       "      <td>2.807984e+06</td>\n",
       "      <td>5.585276e+06</td>\n",
       "      <td>1.806331e+09</td>\n",
       "      <td>5951.618243</td>\n",
       "    </tr>\n",
       "    <tr>\n",
       "      <th>std</th>\n",
       "      <td>0 days 00:09:42.428287606</td>\n",
       "      <td>2.302619e+05</td>\n",
       "      <td>16553.044548</td>\n",
       "      <td>28958.338820</td>\n",
       "      <td>3.804055e+06</td>\n",
       "      <td>7.743772e+06</td>\n",
       "      <td>2.549494e+09</td>\n",
       "      <td>11698.612058</td>\n",
       "    </tr>\n",
       "    <tr>\n",
       "      <th>min</th>\n",
       "      <td>0 days 00:00:14</td>\n",
       "      <td>3.260000e+02</td>\n",
       "      <td>128.000000</td>\n",
       "      <td>339.000000</td>\n",
       "      <td>9.052100e+04</td>\n",
       "      <td>1.100000e+04</td>\n",
       "      <td>1.220866e+07</td>\n",
       "      <td>18.000000</td>\n",
       "    </tr>\n",
       "    <tr>\n",
       "      <th>25%</th>\n",
       "      <td>0 days 00:03:22</td>\n",
       "      <td>1.456600e+04</td>\n",
       "      <td>397.000000</td>\n",
       "      <td>2381.000000</td>\n",
       "      <td>7.430280e+05</td>\n",
       "      <td>9.975000e+05</td>\n",
       "      <td>2.863848e+08</td>\n",
       "      <td>232.000000</td>\n",
       "    </tr>\n",
       "    <tr>\n",
       "      <th>50%</th>\n",
       "      <td>0 days 00:08:21</td>\n",
       "      <td>4.690500e+04</td>\n",
       "      <td>964.000000</td>\n",
       "      <td>4883.000000</td>\n",
       "      <td>1.411170e+06</td>\n",
       "      <td>1.940000e+06</td>\n",
       "      <td>8.009516e+08</td>\n",
       "      <td>745.000000</td>\n",
       "    </tr>\n",
       "    <tr>\n",
       "      <th>75%</th>\n",
       "      <td>0 days 00:13:05.250000</td>\n",
       "      <td>1.627430e+05</td>\n",
       "      <td>3830.750000</td>\n",
       "      <td>12036.000000</td>\n",
       "      <td>3.058373e+06</td>\n",
       "      <td>8.370000e+06</td>\n",
       "      <td>1.922072e+09</td>\n",
       "      <td>4762.000000</td>\n",
       "    </tr>\n",
       "    <tr>\n",
       "      <th>max</th>\n",
       "      <td>0 days 00:49:23</td>\n",
       "      <td>1.516146e+06</td>\n",
       "      <td>142630.000000</td>\n",
       "      <td>182949.000000</td>\n",
       "      <td>2.082677e+07</td>\n",
       "      <td>5.470000e+07</td>\n",
       "      <td>1.393113e+10</td>\n",
       "      <td>49574.000000</td>\n",
       "    </tr>\n",
       "  </tbody>\n",
       "</table>\n",
       "</div>"
      ],
      "text/plain": [
       "                          length    stats.like  stats.dislike  stats.comment  \\\n",
       "count                        296  2.960000e+02     296.000000     283.000000   \n",
       "mean   0 days 00:10:38.929054054  1.402340e+05    4499.597973   13747.660777   \n",
       "std    0 days 00:09:42.428287606  2.302619e+05   16553.044548   28958.338820   \n",
       "min              0 days 00:00:14  3.260000e+02     128.000000     339.000000   \n",
       "25%              0 days 00:03:22  1.456600e+04     397.000000    2381.000000   \n",
       "50%              0 days 00:08:21  4.690500e+04     964.000000    4883.000000   \n",
       "75%       0 days 00:13:05.250000  1.627430e+05    3830.750000   12036.000000   \n",
       "max              0 days 00:49:23  1.516146e+06  142630.000000  182949.000000   \n",
       "\n",
       "         stats.view  creator.stats.follower  creator.stats.view  \\\n",
       "count  2.960000e+02            2.960000e+02        2.960000e+02   \n",
       "mean   2.807984e+06            5.585276e+06        1.806331e+09   \n",
       "std    3.804055e+06            7.743772e+06        2.549494e+09   \n",
       "min    9.052100e+04            1.100000e+04        1.220866e+07   \n",
       "25%    7.430280e+05            9.975000e+05        2.863848e+08   \n",
       "50%    1.411170e+06            1.940000e+06        8.009516e+08   \n",
       "75%    3.058373e+06            8.370000e+06        1.922072e+09   \n",
       "max    2.082677e+07            5.470000e+07        1.393113e+10   \n",
       "\n",
       "       creator.stats.post  \n",
       "count          296.000000  \n",
       "mean          5951.618243  \n",
       "std          11698.612058  \n",
       "min             18.000000  \n",
       "25%            232.000000  \n",
       "50%            745.000000  \n",
       "75%           4762.000000  \n",
       "max          49574.000000  "
      ]
     },
     "metadata": {},
     "output_type": "display_data"
    },
    {
     "data": {
      "text/markdown": [
       "---"
      ],
      "text/plain": [
       "<IPython.core.display.Markdown object>"
      ]
     },
     "metadata": {},
     "output_type": "display_data"
    }
   ],
   "source": [
    "df_trending_details = pd.read_pickle('EDA/dsamples/youtube_trending.pkl')\n",
    "df_report(df_trending_details, name = 'Trending')"
   ]
  },
  {
   "cell_type": "code",
   "execution_count": 7,
   "metadata": {},
   "outputs": [],
   "source": [
    "#We first reset the index of the dataframe\n",
    "df_trending_details= df_trending_details.reset_index()"
   ]
  },
  {
   "cell_type": "code",
   "execution_count": 8,
   "metadata": {},
   "outputs": [],
   "source": [
    "#We clean the unecessary information such as dislikes, creator time, creater stats view and creater stats posts\n",
    "\n",
    "del df_trending_details['id']\n",
    "del df_trending_details['creator.id']\n",
    "del df_trending_details['stats.dislike']\n",
    "del df_trending_details['creator.time']\n",
    "del df_trending_details['creator.stats.view']\n",
    "del df_trending_details['creator.stats.post']"
   ]
  },
  {
   "cell_type": "code",
   "execution_count": 9,
   "metadata": {},
   "outputs": [
    {
     "data": {
      "text/html": [
       "<div>\n",
       "<style scoped>\n",
       "    .dataframe tbody tr th:only-of-type {\n",
       "        vertical-align: middle;\n",
       "    }\n",
       "\n",
       "    .dataframe tbody tr th {\n",
       "        vertical-align: top;\n",
       "    }\n",
       "\n",
       "    .dataframe thead th {\n",
       "        text-align: right;\n",
       "    }\n",
       "</style>\n",
       "<table border=\"1\" class=\"dataframe\">\n",
       "  <thead>\n",
       "    <tr style=\"text-align: right;\">\n",
       "      <th></th>\n",
       "      <th>has_ad_at_beginning</th>\n",
       "      <th>stats.like</th>\n",
       "    </tr>\n",
       "  </thead>\n",
       "  <tbody>\n",
       "    <tr>\n",
       "      <th>0</th>\n",
       "      <td>False</td>\n",
       "      <td>35854.954545</td>\n",
       "    </tr>\n",
       "    <tr>\n",
       "      <th>1</th>\n",
       "      <td>True</td>\n",
       "      <td>158458.936508</td>\n",
       "    </tr>\n",
       "  </tbody>\n",
       "</table>\n",
       "</div>"
      ],
      "text/plain": [
       "   has_ad_at_beginning     stats.like\n",
       "0                False   35854.954545\n",
       "1                 True  158458.936508"
      ]
     },
     "execution_count": 9,
     "metadata": {},
     "output_type": "execute_result"
    },
    {
     "data": {
      "text/html": [
       "<div>\n",
       "<style scoped>\n",
       "    .dataframe tbody tr th:only-of-type {\n",
       "        vertical-align: middle;\n",
       "    }\n",
       "\n",
       "    .dataframe tbody tr th {\n",
       "        vertical-align: top;\n",
       "    }\n",
       "\n",
       "    .dataframe thead th {\n",
       "        text-align: right;\n",
       "    }\n",
       "</style>\n",
       "<table border=\"1\" class=\"dataframe\">\n",
       "  <thead>\n",
       "    <tr style=\"text-align: right;\">\n",
       "      <th></th>\n",
       "      <th>has_ad_at_beginning</th>\n",
       "      <th>stats.comment</th>\n",
       "    </tr>\n",
       "  </thead>\n",
       "  <tbody>\n",
       "    <tr>\n",
       "      <th>0</th>\n",
       "      <td>False</td>\n",
       "      <td>5471.750000</td>\n",
       "    </tr>\n",
       "    <tr>\n",
       "      <th>1</th>\n",
       "      <td>True</td>\n",
       "      <td>15271.259414</td>\n",
       "    </tr>\n",
       "  </tbody>\n",
       "</table>\n",
       "</div>"
      ],
      "text/plain": [
       "   has_ad_at_beginning  stats.comment\n",
       "0                False    5471.750000\n",
       "1                 True   15271.259414"
      ]
     },
     "execution_count": 9,
     "metadata": {},
     "output_type": "execute_result"
    },
    {
     "data": {
      "text/html": [
       "<div>\n",
       "<style scoped>\n",
       "    .dataframe tbody tr th:only-of-type {\n",
       "        vertical-align: middle;\n",
       "    }\n",
       "\n",
       "    .dataframe tbody tr th {\n",
       "        vertical-align: top;\n",
       "    }\n",
       "\n",
       "    .dataframe thead th {\n",
       "        text-align: right;\n",
       "    }\n",
       "</style>\n",
       "<table border=\"1\" class=\"dataframe\">\n",
       "  <thead>\n",
       "    <tr style=\"text-align: right;\">\n",
       "      <th></th>\n",
       "      <th>has_ad_at_beginning</th>\n",
       "      <th>stats.view</th>\n",
       "    </tr>\n",
       "  </thead>\n",
       "  <tbody>\n",
       "    <tr>\n",
       "      <th>0</th>\n",
       "      <td>False</td>\n",
       "      <td>1.781935e+06</td>\n",
       "    </tr>\n",
       "    <tr>\n",
       "      <th>1</th>\n",
       "      <td>True</td>\n",
       "      <td>2.987136e+06</td>\n",
       "    </tr>\n",
       "  </tbody>\n",
       "</table>\n",
       "</div>"
      ],
      "text/plain": [
       "   has_ad_at_beginning    stats.view\n",
       "0                False  1.781935e+06\n",
       "1                 True  2.987136e+06"
      ]
     },
     "execution_count": 9,
     "metadata": {},
     "output_type": "execute_result"
    }
   ],
   "source": [
    "#we group the data by if there are ads in the begining and caluculte the mean value of likes, comments and views\n",
    "has_ad_likes = df_trending_details.groupby(['has_ad_at_beginning'])['stats.like'].mean()\n",
    "has_ad_comments = df_trending_details.groupby(['has_ad_at_beginning'])['stats.comment'].mean()\n",
    "has_ad_views = df_trending_details.groupby(['has_ad_at_beginning'])['stats.view'].mean()\n",
    "\n",
    "has_ad_likes.reset_index()\n",
    "has_ad_comments.reset_index()\n",
    "has_ad_views.reset_index()"
   ]
  },
  {
   "cell_type": "markdown",
   "metadata": {},
   "source": [
    "# Data Analysis & Results"
   ]
  },
  {
   "cell_type": "markdown",
   "metadata": {},
   "source": [
    "Include cells that describe the steps in your data analysis."
   ]
  },
  {
   "cell_type": "code",
   "execution_count": 10,
   "metadata": {},
   "outputs": [
    {
     "data": {
      "text/plain": [
       "Text(0, 0.5, 'Average likes')"
      ]
     },
     "execution_count": 10,
     "metadata": {},
     "output_type": "execute_result"
    },
    {
     "data": {
      "image/png": "[encoded data removed]",
      "text/plain": [
       "<Figure size 432x288 with 1 Axes>"
      ]
     },
     "metadata": {
      "needs_background": "light"
     },
     "output_type": "display_data"
    },
    {
     "data": {
      "text/plain": [
       "Text(0, 0.5, 'Average comments')"
      ]
     },
     "execution_count": 10,
     "metadata": {},
     "output_type": "execute_result"
    },
    {
     "data": {
      "image/png": "[encoded data removed]",
      "text/plain": [
       "<Figure size 432x288 with 1 Axes>"
      ]
     },
     "metadata": {
      "needs_background": "light"
     },
     "output_type": "display_data"
    },
    {
     "data": {
      "text/plain": [
       "Text(0, 0.5, 'Average views')"
      ]
     },
     "execution_count": 10,
     "metadata": {},
     "output_type": "execute_result"
    },
    {
     "data": {
      "image/png": "[encoded data removed]",
      "text/plain": [
       "<Figure size 432x288 with 1 Axes>"
      ]
     },
     "metadata": {
      "needs_background": "light"
     },
     "output_type": "display_data"
    }
   ],
   "source": [
    "## YOUR CODE HERE\n",
    "## FEEL FREE TO ADD MULTIPLE CELLS PER SECTION\n",
    "ax_likes = has_ad_likes.plot.bar(x= 'has_ad_at_beginning', y= 'stats.like', title= \"Average likes based on exsistence of ads\")\n",
    "ax_likes.set_ylabel(\"Average likes\")\n",
    "plt.show()\n",
    "ax_comments= has_ad_comments.plot.bar(x= 'has_ad_at_beginning', y= 'stats.comment',  title= \"Average comments based on exsistence of ads\")\n",
    "ax_comments.set_ylabel(\"Average comments\")\n",
    "plt.show()\n",
    "ax_views= has_ad_views.plot.bar(x= 'has_ad_at_beginning', y= 'stats.view', title= \"Average views based on exsistence of ads\")\n",
    "ax_views.set_ylabel(\"Average views\")\n",
    "plt.show()"
   ]
  },
  {
   "cell_type": "markdown",
   "metadata": {},
   "source": [
    "The plots above compare the vidoes that had an ad at the begining of the vidoe and videos that do not have ads at the begining of a video. The first plot compares has_ad_at_begining to the average likes. The second plot compares has_ad_at_begining to average comments and the final lot compares has_ad_at_begining to average views. We can see that in all three cases, the popularity of the videos is higher when there is an ad attached to the video. We have to take into consideration that the number of videos that have ads are higher than the videos with out ads. This might is affect the data by creating a bias due to the differnce in number of both cactegories. "
   ]
  },
  {
   "cell_type": "markdown",
   "metadata": {},
   "source": [
    "# Ethics & Privacy"
   ]
  },
  {
   "cell_type": "markdown",
   "metadata": {},
   "source": [
    "*Fill in your ethics & privacy discussion here*"
   ]
  },
  {
   "cell_type": "markdown",
   "metadata": {},
   "source": [
    "# Conclusion & Discussion"
   ]
  },
  {
   "cell_type": "markdown",
   "metadata": {},
   "source": [
    "*Fill in your discussion information here*"
   ]
  },
  {
   "cell_type": "markdown",
   "metadata": {},
   "source": [
    "# Team Contributions"
   ]
  },
  {
   "cell_type": "markdown",
   "metadata": {},
   "source": [
    "*Specify who in your group worked on which parts of the project.*"
   ]
  }
 ],
 "metadata": {
  "kernelspec": {
   "display_name": "Python 3",
   "language": "python",
   "name": "python3"
  },
  "language_info": {
   "codemirror_mode": {
    "name": "ipython",
    "version": 3
   },
   "file_extension": ".py",
   "mimetype": "text/x-python",
   "name": "python",
   "nbconvert_exporter": "python",
   "pygments_lexer": "ipython3",
   "version": "3.8.6"
  }
 },
 "nbformat": 4,
 "nbformat_minor": 2
}
