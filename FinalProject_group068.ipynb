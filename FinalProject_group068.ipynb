{
 "cells": [
  {
   "cell_type": "markdown",
   "metadata": {},
   "source": [
    "# COGS 108 - Final Project (change this to your project's title)"
   ]
  },
  {
   "cell_type": "markdown",
   "metadata": {},
   "source": [
    "## Permissions\n",
    "\n",
    "Place an `X` in the appropriate bracket below to specify if you would like your group's project to be made available to the public. (Note that student names will be included (but PIDs will be scraped from any groups who include their PIDs).\n",
    "\n",
    "* [  ] YES - make available\n",
    "* [  ] NO - keep private"
   ]
  },
  {
   "cell_type": "markdown",
   "metadata": {},
   "source": [
    "# Overview"
   ]
  },
  {
   "cell_type": "markdown",
   "metadata": {},
   "source": [
    "*Fill in your overview here*"
   ]
  },
  {
   "cell_type": "markdown",
   "metadata": {},
   "source": [
    "# Names\n",
    "\n",
    "- Jared (Ruotian) Chen\n",
    "- Jimin Cheon\n",
    "- Kane Gu\n",
    "- Laurence D'Ercole\n",
    "- Nisha Davankar"
   ]
  },
  {
   "cell_type": "markdown",
   "metadata": {},
   "source": [
    "<a id='research_question'></a>\n",
    "# Research Question"
   ]
  },
  {
   "cell_type": "markdown",
   "metadata": {},
   "source": [
    "What attributes of a YouTube video affect its popularity in United States?"
   ]
  },
  {
   "cell_type": "markdown",
   "metadata": {},
   "source": [
    "<a id='background'></a>\n",
    "\n",
    "## Background & Prior Work"
   ]
  },
  {
   "cell_type": "markdown",
   "metadata": {},
   "source": [
    "*Fill in your background and prior work here* \n",
    "\n",
    "References (include links):\n",
    "- 1)\n",
    "- 2)"
   ]
  },
  {
   "cell_type": "markdown",
   "metadata": {},
   "source": [
    "# Hypothesis\n"
   ]
  },
  {
   "cell_type": "markdown",
   "metadata": {},
   "source": [
    "Factors that potentially **affects** a video's popularity:\n",
    "- time created: `time`\n",
    "- duration: `length`\n",
    "- number of tags: `tags`\n",
    "- video category: `category`\n",
    "- video quality: `video.quality`\n",
    "- ad placement: `has_ad\thas_ad_at_beginning`\n",
    "- popularity of youtuber\n",
    "    - time youtuber joined youtube: `creator.time`\n",
    "    - number of followers: `creator.stats.follower`\n",
    "    - total number of views: `creator.stats.view`\n",
    "    - total number of videos: `creator.stats.post`\n",
    "\n",
    "Factors that **determines** a video's popularity:\n",
    "- like/dislike ratio: `stats.like\tstats.dislike`\n",
    "- number of comments: `stats.comment`\n",
    "- number of views: `stats.view`"
   ]
  },
  {
   "cell_type": "markdown",
   "metadata": {},
   "source": [
    "# Dataset(s)"
   ]
  },
  {
   "cell_type": "markdown",
   "metadata": {},
   "source": [
    "*Fill in your dataset information here*\n",
    "\n",
    "(Copy this information for each dataset)\n",
    "- Dataset Name:\n",
    "- Link to the dataset:\n",
    "- Number of observations:\n",
    "\n",
    "1-2 sentences describing each dataset. \n",
    "\n",
    "If you plan to use multiple datasets, add 1-2 sentences about how you plan to combine these datasets."
   ]
  },
  {
   "cell_type": "markdown",
   "metadata": {},
   "source": [
    "# Setup"
   ]
  },
  {
   "cell_type": "code",
   "execution_count": 1,
   "metadata": {},
   "outputs": [],
   "source": [
    "import sys\n",
    "\n",
    "!{sys.executable} -m pip install --quiet --user --upgrade pandas==1.*\n",
    "#!{sys.executable} -m pip install --quiet --user --upgrade -r EDA/requirements.txt\n",
    "\n",
    "sys.path.append('EDA')"
   ]
  },
  {
   "cell_type": "code",
   "execution_count": 2,
   "metadata": {},
   "outputs": [],
   "source": [
    "import IPython\n",
    "import IPython.display as disp\n",
    "\n",
    "IPython.core.interactiveshell.\\\n",
    "    InteractiveShell.ast_node_interactivity = \"all\"\n",
    "\n",
    "def clear():\n",
    "    disp.clear_output(wait = True)\n",
    "\n",
    "def output(disp_os):\n",
    "    for d in disp_os:\n",
    "        disp.display(d)\n",
    "\n",
    "def results_report(disp_os, name = ''):\n",
    "    output([\n",
    "            disp.Markdown('---'), \n",
    "            disp.Markdown(f'# Results - {name}')\n",
    "        ] + disp_os + \n",
    "        [disp.Markdown('---')]\n",
    "    )"
   ]
  },
  {
   "cell_type": "code",
   "execution_count": 3,
   "metadata": {},
   "outputs": [],
   "source": [
    "from dcollect import api_youtube as youtube\n",
    "from dcollect import api_youtubei as youtubei\n",
    "\n",
    "import pandas as pd\n",
    "\n",
    "\n",
    "def df_report(dfs, full = False, *args, **kwargs):\n",
    "    dfs = [dfs] if not isinstance(dfs, list) else dfs\n",
    "    for df in dfs:\n",
    "        results_report([\n",
    "            disp.Markdown('## Data Preview'),\n",
    "            df.head() if not full else df,\n",
    "            disp.Markdown('## Stats'),\n",
    "            df.describe()\n",
    "        ], *args, **kwargs)"
   ]
  },
  {
   "cell_type": "markdown",
   "metadata": {},
   "source": [
    "# Data Cleaning"
   ]
  },
  {
   "cell_type": "markdown",
   "metadata": {},
   "source": [
    "Describe your data cleaning steps here."
   ]
  },
  {
   "cell_type": "code",
   "execution_count": 4,
   "metadata": {},
   "outputs": [],
   "source": [
    "## YOUR CODE HERE\n",
    "## FEEL FREE TO ADD MULTIPLE CELLS PER SECTION"
   ]
  },
  {
   "cell_type": "markdown",
   "metadata": {},
   "source": [
    "# Data Analysis & Results"
   ]
  },
  {
   "cell_type": "markdown",
   "metadata": {},
   "source": [
    "Include cells that describe the steps in your data analysis."
   ]
  },
  {
   "cell_type": "code",
   "execution_count": 5,
   "metadata": {},
   "outputs": [
    {
     "output_type": "display_data",
     "data": {
      "text/plain": "<IPython.core.display.Markdown object>",
      "text/markdown": "---"
     },
     "metadata": {}
    },
    {
     "output_type": "display_data",
     "data": {
      "text/plain": "<IPython.core.display.Markdown object>",
      "text/markdown": "# Results - Search Results"
     },
     "metadata": {}
    },
    {
     "output_type": "display_data",
     "data": {
      "text/plain": "<IPython.core.display.Markdown object>",
      "text/markdown": "## Data Preview"
     },
     "metadata": {}
    },
    {
     "output_type": "display_data",
     "data": {
      "text/plain": "                                                                                  title  \\\nid          creator.id                                                                    \nL4VGtQBXjY8 UCqFzWxSCi39LnW1JKFR3efg  Weekend Update: Rep. Marjorie Taylor Greene on...   \n_o_nBVl55W4 UCJ5v_MCY6GNUBTO8-D3XoAg  Top 10 Friday Night SmackDown moments: WWE Top...   \nO9nkGW_MIgA UCWJ2lWNubArHWmf3FIHbfcQ  NBA Top 10 Plays Of The Night | February 26, 2021   \nOpjATUDG1Io UC0YatYmg5JRYzXJPxIdRd8g  Sevilla vs Barcelona | LALIGA HIGHLIGHTS | 2/2...   \n\n                                                                            description  \\\nid          creator.id                                                                    \nL4VGtQBXjY8 UCqFzWxSCi39LnW1JKFR3efg  Rep. Marjorie Taylor Greene (Cecily Strong) st...   \n_o_nBVl55W4 UCJ5v_MCY6GNUBTO8-D3XoAg  WWE Top 10 takes you back to this week's Frida...   \nO9nkGW_MIgA UCWJ2lWNubArHWmf3FIHbfcQ  Check out the top 10 plays of the night from F...   \nOpjATUDG1Io UC0YatYmg5JRYzXJPxIdRd8g  A double-header with Sevilla will go some way ...   \n\n                                                          time  \\\nid          creator.id                                           \nL4VGtQBXjY8 UCqFzWxSCi39LnW1JKFR3efg 2021-02-28 06:28:15+00:00   \n_o_nBVl55W4 UCJ5v_MCY6GNUBTO8-D3XoAg 2021-02-27 20:07:19+00:00   \nO9nkGW_MIgA UCWJ2lWNubArHWmf3FIHbfcQ 2021-02-27 07:25:07+00:00   \nOpjATUDG1Io UC0YatYmg5JRYzXJPxIdRd8g 2021-02-27 17:17:28+00:00   \n\n                                              length  \\\nid          creator.id                                 \nL4VGtQBXjY8 UCqFzWxSCi39LnW1JKFR3efg 0 days 00:03:30   \n_o_nBVl55W4 UCJ5v_MCY6GNUBTO8-D3XoAg 0 days 00:06:24   \nO9nkGW_MIgA UCWJ2lWNubArHWmf3FIHbfcQ 0 days 00:02:28   \nOpjATUDG1Io UC0YatYmg5JRYzXJPxIdRd8g 0 days 00:11:49   \n\n                                                                                   tags  \\\nid          creator.id                                                                    \nL4VGtQBXjY8 UCqFzWxSCi39LnW1JKFR3efg  [snl, saturday night live, season 46, snl 46, ...   \n_o_nBVl55W4 UCJ5v_MCY6GNUBTO8-D3XoAg  [wwe, world wrestling entertainment, wrestling...   \nO9nkGW_MIgA UCWJ2lWNubArHWmf3FIHbfcQ  [nba, highlights, basketball, plays, amazing, ...   \nOpjATUDG1Io UC0YatYmg5JRYzXJPxIdRd8g  [beIN SPORTS, beIN SPORTS USA, Futbol, Footbal...   \n\n                                           category  stats.like  \\\nid          creator.id                                            \nL4VGtQBXjY8 UCqFzWxSCi39LnW1JKFR3efg  Entertainment       34706   \n_o_nBVl55W4 UCJ5v_MCY6GNUBTO8-D3XoAg         Sports       31359   \nO9nkGW_MIgA UCWJ2lWNubArHWmf3FIHbfcQ         Sports        7757   \nOpjATUDG1Io UC0YatYmg5JRYzXJPxIdRd8g         Sports       10849   \n\n                                      stats.dislike  stats.comment  \\\nid          creator.id                                               \nL4VGtQBXjY8 UCqFzWxSCi39LnW1JKFR3efg            755           2400   \n_o_nBVl55W4 UCJ5v_MCY6GNUBTO8-D3XoAg            982           1054   \nO9nkGW_MIgA UCWJ2lWNubArHWmf3FIHbfcQ            278            578   \nOpjATUDG1Io UC0YatYmg5JRYzXJPxIdRd8g            344           1672   \n\n                                      stats.view video.quality  \\\nid          creator.id                                           \nL4VGtQBXjY8 UCqFzWxSCi39LnW1JKFR3efg     1875436            HD   \n_o_nBVl55W4 UCJ5v_MCY6GNUBTO8-D3XoAg     1243962            HD   \nO9nkGW_MIgA UCWJ2lWNubArHWmf3FIHbfcQ      475580            HD   \nOpjATUDG1Io UC0YatYmg5JRYzXJPxIdRd8g     1021545            HD   \n\n                                            creator.title  \\\nid          creator.id                                      \nL4VGtQBXjY8 UCqFzWxSCi39LnW1JKFR3efg  Saturday Night Live   \n_o_nBVl55W4 UCJ5v_MCY6GNUBTO8-D3XoAg                  WWE   \nO9nkGW_MIgA UCWJ2lWNubArHWmf3FIHbfcQ                  NBA   \nOpjATUDG1Io UC0YatYmg5JRYzXJPxIdRd8g      beIN SPORTS USA   \n\n                                                                    creator.description  \\\nid          creator.id                                                                    \nL4VGtQBXjY8 UCqFzWxSCi39LnW1JKFR3efg  Welcome to the official Saturday Night Live ch...   \n_o_nBVl55W4 UCJ5v_MCY6GNUBTO8-D3XoAg  WWE on YouTube is your number one spot to catc...   \nO9nkGW_MIgA UCWJ2lWNubArHWmf3FIHbfcQ  The official YouTube Page of the NBA\\n\\nDon’t ...   \nOpjATUDG1Io UC0YatYmg5JRYzXJPxIdRd8g  The fastest growing network in the US offering...   \n\n                                                  creator.time  \\\nid          creator.id                                           \nL4VGtQBXjY8 UCqFzWxSCi39LnW1JKFR3efg 2013-07-23 21:32:27+00:00   \n_o_nBVl55W4 UCJ5v_MCY6GNUBTO8-D3XoAg 2007-05-11 01:20:02+00:00   \nO9nkGW_MIgA UCWJ2lWNubArHWmf3FIHbfcQ 2005-11-21 01:20:33+00:00   \nOpjATUDG1Io UC0YatYmg5JRYzXJPxIdRd8g 2012-07-16 20:11:38+00:00   \n\n                                      creator.stats.follower  \\\nid          creator.id                                         \nL4VGtQBXjY8 UCqFzWxSCi39LnW1JKFR3efg                11500000   \n_o_nBVl55W4 UCJ5v_MCY6GNUBTO8-D3XoAg                74200000   \nO9nkGW_MIgA UCWJ2lWNubArHWmf3FIHbfcQ                16100000   \nOpjATUDG1Io UC0YatYmg5JRYzXJPxIdRd8g                  458000   \n\n                                      creator.stats.view  creator.stats.post  \\\nid          creator.id                                                         \nL4VGtQBXjY8 UCqFzWxSCi39LnW1JKFR3efg         11125565070                7537   \n_o_nBVl55W4 UCJ5v_MCY6GNUBTO8-D3XoAg         55758124340               53285   \nO9nkGW_MIgA UCWJ2lWNubArHWmf3FIHbfcQ          8182624000               34987   \nOpjATUDG1Io UC0YatYmg5JRYzXJPxIdRd8g           131374826                7323   \n\n                                      has_ad  has_ad_at_beginning  \nid          creator.id                                             \nL4VGtQBXjY8 UCqFzWxSCi39LnW1JKFR3efg    True                 True  \n_o_nBVl55W4 UCJ5v_MCY6GNUBTO8-D3XoAg    True                 True  \nO9nkGW_MIgA UCWJ2lWNubArHWmf3FIHbfcQ    True                 True  \nOpjATUDG1Io UC0YatYmg5JRYzXJPxIdRd8g    True                 True  ",
      "text/html": "<div>\n<style scoped>\n    .dataframe tbody tr th:only-of-type {\n        vertical-align: middle;\n    }\n\n    .dataframe tbody tr th {\n        vertical-align: top;\n    }\n\n    .dataframe thead th {\n        text-align: right;\n    }\n</style>\n<table border=\"1\" class=\"dataframe\">\n  <thead>\n    <tr style=\"text-align: right;\">\n      <th></th>\n      <th></th>\n      <th>title</th>\n      <th>description</th>\n      <th>time</th>\n      <th>length</th>\n      <th>tags</th>\n      <th>category</th>\n      <th>stats.like</th>\n      <th>stats.dislike</th>\n      <th>stats.comment</th>\n      <th>stats.view</th>\n      <th>video.quality</th>\n      <th>creator.title</th>\n      <th>creator.description</th>\n      <th>creator.time</th>\n      <th>creator.stats.follower</th>\n      <th>creator.stats.view</th>\n      <th>creator.stats.post</th>\n      <th>has_ad</th>\n      <th>has_ad_at_beginning</th>\n    </tr>\n    <tr>\n      <th>id</th>\n      <th>creator.id</th>\n      <th></th>\n      <th></th>\n      <th></th>\n      <th></th>\n      <th></th>\n      <th></th>\n      <th></th>\n      <th></th>\n      <th></th>\n      <th></th>\n      <th></th>\n      <th></th>\n      <th></th>\n      <th></th>\n      <th></th>\n      <th></th>\n      <th></th>\n      <th></th>\n      <th></th>\n    </tr>\n  </thead>\n  <tbody>\n    <tr>\n      <th>L4VGtQBXjY8</th>\n      <th>UCqFzWxSCi39LnW1JKFR3efg</th>\n      <td>Weekend Update: Rep. Marjorie Taylor Greene on...</td>\n      <td>Rep. Marjorie Taylor Greene (Cecily Strong) st...</td>\n      <td>2021-02-28 06:28:15+00:00</td>\n      <td>0 days 00:03:30</td>\n      <td>[snl, saturday night live, season 46, snl 46, ...</td>\n      <td>Entertainment</td>\n      <td>34706</td>\n      <td>755</td>\n      <td>2400</td>\n      <td>1875436</td>\n      <td>HD</td>\n      <td>Saturday Night Live</td>\n      <td>Welcome to the official Saturday Night Live ch...</td>\n      <td>2013-07-23 21:32:27+00:00</td>\n      <td>11500000</td>\n      <td>11125565070</td>\n      <td>7537</td>\n      <td>True</td>\n      <td>True</td>\n    </tr>\n    <tr>\n      <th>_o_nBVl55W4</th>\n      <th>UCJ5v_MCY6GNUBTO8-D3XoAg</th>\n      <td>Top 10 Friday Night SmackDown moments: WWE Top...</td>\n      <td>WWE Top 10 takes you back to this week's Frida...</td>\n      <td>2021-02-27 20:07:19+00:00</td>\n      <td>0 days 00:06:24</td>\n      <td>[wwe, world wrestling entertainment, wrestling...</td>\n      <td>Sports</td>\n      <td>31359</td>\n      <td>982</td>\n      <td>1054</td>\n      <td>1243962</td>\n      <td>HD</td>\n      <td>WWE</td>\n      <td>WWE on YouTube is your number one spot to catc...</td>\n      <td>2007-05-11 01:20:02+00:00</td>\n      <td>74200000</td>\n      <td>55758124340</td>\n      <td>53285</td>\n      <td>True</td>\n      <td>True</td>\n    </tr>\n    <tr>\n      <th>O9nkGW_MIgA</th>\n      <th>UCWJ2lWNubArHWmf3FIHbfcQ</th>\n      <td>NBA Top 10 Plays Of The Night | February 26, 2021</td>\n      <td>Check out the top 10 plays of the night from F...</td>\n      <td>2021-02-27 07:25:07+00:00</td>\n      <td>0 days 00:02:28</td>\n      <td>[nba, highlights, basketball, plays, amazing, ...</td>\n      <td>Sports</td>\n      <td>7757</td>\n      <td>278</td>\n      <td>578</td>\n      <td>475580</td>\n      <td>HD</td>\n      <td>NBA</td>\n      <td>The official YouTube Page of the NBA\\n\\nDon’t ...</td>\n      <td>2005-11-21 01:20:33+00:00</td>\n      <td>16100000</td>\n      <td>8182624000</td>\n      <td>34987</td>\n      <td>True</td>\n      <td>True</td>\n    </tr>\n    <tr>\n      <th>OpjATUDG1Io</th>\n      <th>UC0YatYmg5JRYzXJPxIdRd8g</th>\n      <td>Sevilla vs Barcelona | LALIGA HIGHLIGHTS | 2/2...</td>\n      <td>A double-header with Sevilla will go some way ...</td>\n      <td>2021-02-27 17:17:28+00:00</td>\n      <td>0 days 00:11:49</td>\n      <td>[beIN SPORTS, beIN SPORTS USA, Futbol, Footbal...</td>\n      <td>Sports</td>\n      <td>10849</td>\n      <td>344</td>\n      <td>1672</td>\n      <td>1021545</td>\n      <td>HD</td>\n      <td>beIN SPORTS USA</td>\n      <td>The fastest growing network in the US offering...</td>\n      <td>2012-07-16 20:11:38+00:00</td>\n      <td>458000</td>\n      <td>131374826</td>\n      <td>7323</td>\n      <td>True</td>\n      <td>True</td>\n    </tr>\n  </tbody>\n</table>\n</div>"
     },
     "metadata": {}
    },
    {
     "output_type": "display_data",
     "data": {
      "text/plain": "<IPython.core.display.Markdown object>",
      "text/markdown": "## Stats"
     },
     "metadata": {}
    },
    {
     "output_type": "display_data",
     "data": {
      "text/plain": "                          length    stats.like  stats.dislike  stats.comment  \\\ncount                          4      4.000000       4.000000       4.000000   \nmean      0 days 00:06:02.750000  21167.750000     589.750000    1426.000000   \nstd    0 days 00:04:11.522530468  13825.949114     336.030133     788.813455   \nmin              0 days 00:02:28   7757.000000     278.000000     578.000000   \n25%       0 days 00:03:14.500000  10076.000000     327.500000     935.000000   \n50%              0 days 00:04:57  21104.000000     549.500000    1363.000000   \n75%       0 days 00:07:45.250000  32195.750000     811.750000    1854.000000   \nmax              0 days 00:11:49  34706.000000     982.000000    2400.000000   \n\n         stats.view  creator.stats.follower  creator.stats.view  \\\ncount  4.000000e+00            4.000000e+00        4.000000e+00   \nmean   1.154131e+06            2.556450e+07        1.879942e+10   \nstd    5.791836e+05            3.308139e+07        2.507353e+10   \nmin    4.755800e+05            4.580000e+05        1.313748e+08   \n25%    8.850538e+05            8.739500e+06        6.169812e+09   \n50%    1.132754e+06            1.380000e+07        9.654095e+09   \n75%    1.401830e+06            3.062500e+07        2.228370e+10   \nmax    1.875436e+06            7.420000e+07        5.575812e+10   \n\n       creator.stats.post  \ncount            4.000000  \nmean         25783.000000  \nstd          22470.437883  \nmin           7323.000000  \n25%           7483.500000  \n50%          21262.000000  \n75%          39561.500000  \nmax          53285.000000  ",
      "text/html": "<div>\n<style scoped>\n    .dataframe tbody tr th:only-of-type {\n        vertical-align: middle;\n    }\n\n    .dataframe tbody tr th {\n        vertical-align: top;\n    }\n\n    .dataframe thead th {\n        text-align: right;\n    }\n</style>\n<table border=\"1\" class=\"dataframe\">\n  <thead>\n    <tr style=\"text-align: right;\">\n      <th></th>\n      <th>length</th>\n      <th>stats.like</th>\n      <th>stats.dislike</th>\n      <th>stats.comment</th>\n      <th>stats.view</th>\n      <th>creator.stats.follower</th>\n      <th>creator.stats.view</th>\n      <th>creator.stats.post</th>\n    </tr>\n  </thead>\n  <tbody>\n    <tr>\n      <th>count</th>\n      <td>4</td>\n      <td>4.000000</td>\n      <td>4.000000</td>\n      <td>4.000000</td>\n      <td>4.000000e+00</td>\n      <td>4.000000e+00</td>\n      <td>4.000000e+00</td>\n      <td>4.000000</td>\n    </tr>\n    <tr>\n      <th>mean</th>\n      <td>0 days 00:06:02.750000</td>\n      <td>21167.750000</td>\n      <td>589.750000</td>\n      <td>1426.000000</td>\n      <td>1.154131e+06</td>\n      <td>2.556450e+07</td>\n      <td>1.879942e+10</td>\n      <td>25783.000000</td>\n    </tr>\n    <tr>\n      <th>std</th>\n      <td>0 days 00:04:11.522530468</td>\n      <td>13825.949114</td>\n      <td>336.030133</td>\n      <td>788.813455</td>\n      <td>5.791836e+05</td>\n      <td>3.308139e+07</td>\n      <td>2.507353e+10</td>\n      <td>22470.437883</td>\n    </tr>\n    <tr>\n      <th>min</th>\n      <td>0 days 00:02:28</td>\n      <td>7757.000000</td>\n      <td>278.000000</td>\n      <td>578.000000</td>\n      <td>4.755800e+05</td>\n      <td>4.580000e+05</td>\n      <td>1.313748e+08</td>\n      <td>7323.000000</td>\n    </tr>\n    <tr>\n      <th>25%</th>\n      <td>0 days 00:03:14.500000</td>\n      <td>10076.000000</td>\n      <td>327.500000</td>\n      <td>935.000000</td>\n      <td>8.850538e+05</td>\n      <td>8.739500e+06</td>\n      <td>6.169812e+09</td>\n      <td>7483.500000</td>\n    </tr>\n    <tr>\n      <th>50%</th>\n      <td>0 days 00:04:57</td>\n      <td>21104.000000</td>\n      <td>549.500000</td>\n      <td>1363.000000</td>\n      <td>1.132754e+06</td>\n      <td>1.380000e+07</td>\n      <td>9.654095e+09</td>\n      <td>21262.000000</td>\n    </tr>\n    <tr>\n      <th>75%</th>\n      <td>0 days 00:07:45.250000</td>\n      <td>32195.750000</td>\n      <td>811.750000</td>\n      <td>1854.000000</td>\n      <td>1.401830e+06</td>\n      <td>3.062500e+07</td>\n      <td>2.228370e+10</td>\n      <td>39561.500000</td>\n    </tr>\n    <tr>\n      <th>max</th>\n      <td>0 days 00:11:49</td>\n      <td>34706.000000</td>\n      <td>982.000000</td>\n      <td>2400.000000</td>\n      <td>1.875436e+06</td>\n      <td>7.420000e+07</td>\n      <td>5.575812e+10</td>\n      <td>53285.000000</td>\n    </tr>\n  </tbody>\n</table>\n</div>"
     },
     "metadata": {}
    },
    {
     "output_type": "display_data",
     "data": {
      "text/plain": "<IPython.core.display.Markdown object>",
      "text/markdown": "---"
     },
     "metadata": {}
    }
   ],
   "source": [
    "## YOUR CODE HERE\n",
    "## FEEL FREE TO ADD MULTIPLE CELLS PER SECTION\n",
    "df_search_details = pd.read_pickle('EDA/dsamples/youtube_search.pkl')\n",
    "df_report(df_search_details, name = 'Search Results')\n"
   ]
  },
  {
   "cell_type": "code",
   "execution_count": 6,
   "metadata": {},
   "outputs": [
    {
     "output_type": "execute_result",
     "data": {
      "text/plain": [
       "{'us': {'1': 'Film & Animation',\n",
       "  '2': 'Autos & Vehicles',\n",
       "  '10': 'Music',\n",
       "  '15': 'Pets & Animals',\n",
       "  '17': 'Sports',\n",
       "  '18': 'Short Movies',\n",
       "  '19': 'Travel & Events',\n",
       "  '20': 'Gaming',\n",
       "  '21': 'Videoblogging',\n",
       "  '22': 'People & Blogs',\n",
       "  '23': 'Comedy',\n",
       "  '24': 'Entertainment',\n",
       "  '25': 'News & Politics',\n",
       "  '26': 'Howto & Style',\n",
       "  '27': 'Education',\n",
       "  '28': 'Science & Technology',\n",
       "  '29': 'Nonprofits & Activism',\n",
       "  '30': 'Movies',\n",
       "  '31': 'Anime/Animation',\n",
       "  '32': 'Action/Adventure',\n",
       "  '33': 'Classics',\n",
       "  '34': 'Comedy',\n",
       "  '35': 'Documentary',\n",
       "  '36': 'Drama',\n",
       "  '37': 'Family',\n",
       "  '38': 'Foreign',\n",
       "  '39': 'Horror',\n",
       "  '40': 'Sci-Fi/Fantasy',\n",
       "  '41': 'Thriller',\n",
       "  '42': 'Shorts',\n",
       "  '43': 'Shows',\n",
       "  '44': 'Trailers'}}"
      ]
     },
     "metadata": {},
     "execution_count": 6
    }
   ],
   "source": [
    "youtube.types.topic.all"
   ]
  },
  {
   "cell_type": "markdown",
   "metadata": {},
   "source": [
    "# Ethics & Privacy"
   ]
  },
  {
   "cell_type": "markdown",
   "metadata": {},
   "source": [
    "*Fill in your ethics & privacy discussion here*"
   ]
  },
  {
   "cell_type": "markdown",
   "metadata": {},
   "source": [
    "# Conclusion & Discussion"
   ]
  },
  {
   "cell_type": "markdown",
   "metadata": {},
   "source": [
    "*Fill in your discussion information here*"
   ]
  },
  {
   "cell_type": "markdown",
   "metadata": {},
   "source": [
    "# Team Contributions"
   ]
  },
  {
   "cell_type": "markdown",
   "metadata": {},
   "source": [
    "*Specify who in your group worked on which parts of the project.*"
   ]
  }
 ],
 "metadata": {
  "kernelspec": {
   "display_name": "Python 3",
   "language": "python",
   "name": "python3"
  },
  "language_info": {
   "codemirror_mode": {
    "name": "ipython",
    "version": 3
   },
   "file_extension": ".py",
   "mimetype": "text/x-python",
   "name": "python",
   "nbconvert_exporter": "python",
   "pygments_lexer": "ipython3",
   "version": "3.6.8-final"
  }
 },
 "nbformat": 4,
 "nbformat_minor": 2
}