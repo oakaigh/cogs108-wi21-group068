{
 "cells": [
  {
   "cell_type": "markdown",
   "metadata": {},
   "source": [
    "# COGS 108 - Final Project (change this to your project's title)"
   ]
  },
  {
   "cell_type": "markdown",
   "metadata": {},
   "source": [
    "## Permissions\n",
    "\n",
    "Place an `X` in the appropriate bracket below to specify if you would like your group's project to be made available to the public. (Note that student names will be included (but PIDs will be scraped from any groups who include their PIDs).\n",
    "\n",
    "* [  ] YES - make available\n",
    "* [  ] NO - keep private"
   ]
  },
  {
   "cell_type": "markdown",
   "metadata": {},
   "source": [
    "# Overview"
   ]
  },
  {
   "cell_type": "markdown",
   "metadata": {},
   "source": [
    "*Fill in your overview here*"
   ]
  },
  {
   "cell_type": "markdown",
   "metadata": {},
   "source": [
    "# Names\n",
    "\n",
    "- Jared (Ruotian) Chen\n",
    "- Jimin Cheon\n",
    "- Kane Gu\n",
    "- Laurence D'Ercole\n",
    "- Nisha Davankar"
   ]
  },
  {
   "cell_type": "markdown",
   "metadata": {},
   "source": [
    "<a id='research_question'></a>\n",
    "# Research Question"
   ]
  },
  {
   "cell_type": "markdown",
   "metadata": {},
   "source": [
    "What attributes of a YouTube video affect its popularity in United States?"
   ]
  },
  {
   "cell_type": "markdown",
   "metadata": {},
   "source": [
    "<a id='background'></a>\n",
    "\n",
    "## Background & Prior Work"
   ]
  },
  {
   "cell_type": "markdown",
   "metadata": {},
   "source": [
    "*Fill in your background and prior work here* \n",
    "\n",
    "References (include links):\n",
    "- 1)\n",
    "- 2)"
   ]
  },
  {
   "cell_type": "markdown",
   "metadata": {},
   "source": [
    "# Hypothesis\n"
   ]
  },
  {
   "cell_type": "markdown",
   "metadata": {},
   "source": [
    "Factors that would potentially **affect** a video's popularity:\n",
    "- time created: `time`\n",
    "- duration: `length`\n",
    "- number of tags: `tags`\n",
    "- video category: `category`\n",
    "- video quality: `video.quality`\n",
    "- ad placement: `has_ad\thas_ad_at_beginning`\n",
    "- popularity of youtuber\n",
    "    - time youtuber joined youtube: `creator.time`\n",
    "    - number of followers: `creator.stats.follower`\n",
    "    - total number of views: `creator.stats.view`\n",
    "    - total number of videos: `creator.stats.post`\n",
    "\n",
    "Factors that **determine** a video's long-term popularity:\n",
    "- like/dislike ratio: `stats.like\tstats.dislike`\n",
    "- number of comments: `stats.comment`\n",
    "- number of views: `stats.view`"
   ]
  },
  {
   "cell_type": "markdown",
   "metadata": {},
   "source": [
    "# Dataset(s)"
   ]
  },
  {
   "cell_type": "markdown",
   "metadata": {},
   "source": [
    "*Fill in your dataset information here*\n",
    "\n",
    "(Copy this information for each dataset)\n",
    "- Dataset Name:\n",
    "- Link to the dataset:\n",
    "- Number of observations:\n",
    "\n",
    "1-2 sentences describing each dataset. \n",
    "\n",
    "If you plan to use multiple datasets, add 1-2 sentences about how you plan to combine these datasets."
   ]
  },
  {
   "cell_type": "markdown",
   "metadata": {},
   "source": [
    "# Setup"
   ]
  },
  {
   "cell_type": "code",
   "execution_count": 12,
   "metadata": {},
   "outputs": [],
   "source": [
    "import sys\n",
    "\n",
    "!{sys.executable} -m pip install --quiet --user --upgrade pandas==1.* numpy matplotlib\n",
    "!{sys.executable} -m pip install --quiet --user --upgrade -r EDA/requirements.txt"
   ]
  },
  {
   "cell_type": "code",
   "execution_count": 13,
   "metadata": {},
   "outputs": [],
   "source": [
    "from EDA.goodies import *"
   ]
  },
  {
   "cell_type": "code",
   "execution_count": 14,
   "metadata": {},
   "outputs": [],
   "source": [
    "from EDA.dcollect import restful\n",
    "from EDA.dcollect import api_youtube as youtube\n",
    "from EDA.dcollect import api_youtubei as youtubei\n",
    "\n",
    "import pandas as pd\n",
    "import numpy as np\n",
    "import matplotlib.pyplot as plt"
   ]
  },
  {
   "cell_type": "markdown",
   "metadata": {},
   "source": [
    "# Data Cleaning"
   ]
  },
  {
   "cell_type": "markdown",
   "metadata": {},
   "source": [
    "Describe your data cleaning steps here."
   ]
  },
  {
   "cell_type": "code",
   "execution_count": 33,
   "metadata": {},
   "outputs": [],
   "source": [
    "dataset_id = 'random'"
   ]
  },
  {
   "cell_type": "code",
   "execution_count": 35,
   "metadata": {},
   "outputs": [
    {
     "data": {
      "text/markdown": [
       "---"
      ],
      "text/plain": [
       "<IPython.core.display.Markdown object>"
      ]
     },
     "metadata": {},
     "output_type": "display_data"
    },
    {
     "data": {
      "text/markdown": [
       "# Results - Search Results"
      ],
      "text/plain": [
       "<IPython.core.display.Markdown object>"
      ]
     },
     "metadata": {},
     "output_type": "display_data"
    },
    {
     "data": {
      "text/markdown": [
       "## Data Preview"
      ],
      "text/plain": [
       "<IPython.core.display.Markdown object>"
      ]
     },
     "metadata": {},
     "output_type": "display_data"
    },
    {
     "data": {
      "text/html": [
       "<div>\n",
       "<style scoped>\n",
       "    .dataframe tbody tr th:only-of-type {\n",
       "        vertical-align: middle;\n",
       "    }\n",
       "\n",
       "    .dataframe tbody tr th {\n",
       "        vertical-align: top;\n",
       "    }\n",
       "\n",
       "    .dataframe thead th {\n",
       "        text-align: right;\n",
       "    }\n",
       "</style>\n",
       "<table border=\"1\" class=\"dataframe\">\n",
       "  <thead>\n",
       "    <tr style=\"text-align: right;\">\n",
       "      <th></th>\n",
       "      <th></th>\n",
       "      <th>title</th>\n",
       "      <th>description</th>\n",
       "      <th>time</th>\n",
       "      <th>length</th>\n",
       "      <th>tags</th>\n",
       "      <th>category</th>\n",
       "      <th>stats.like</th>\n",
       "      <th>stats.dislike</th>\n",
       "      <th>stats.comment</th>\n",
       "      <th>stats.view</th>\n",
       "      <th>video.quality</th>\n",
       "      <th>has_ad</th>\n",
       "      <th>has_ad_at_beginning</th>\n",
       "    </tr>\n",
       "    <tr>\n",
       "      <th>id</th>\n",
       "      <th>creator.id</th>\n",
       "      <th></th>\n",
       "      <th></th>\n",
       "      <th></th>\n",
       "      <th></th>\n",
       "      <th></th>\n",
       "      <th></th>\n",
       "      <th></th>\n",
       "      <th></th>\n",
       "      <th></th>\n",
       "      <th></th>\n",
       "      <th></th>\n",
       "      <th></th>\n",
       "      <th></th>\n",
       "    </tr>\n",
       "  </thead>\n",
       "  <tbody>\n",
       "    <tr>\n",
       "      <th>-I7KQF5Cdzk</th>\n",
       "      <th>UCeiu2GymrRNIMHmNwhjDfiQ</th>\n",
       "      <td>I've Got The World On A String</td>\n",
       "      <td>Hattie navigates office politics on her first ...</td>\n",
       "      <td>2020-03-13 19:45:02+00:00</td>\n",
       "      <td>0 days 00:22:46</td>\n",
       "      <td>NaN</td>\n",
       "      <td>Shows</td>\n",
       "      <td>10.0</td>\n",
       "      <td>0.0</td>\n",
       "      <td>1.0</td>\n",
       "      <td>NaN</td>\n",
       "      <td>HD</td>\n",
       "      <td>False</td>\n",
       "      <td>False</td>\n",
       "    </tr>\n",
       "    <tr>\n",
       "      <th>-isS7wDu1xM</th>\n",
       "      <th>UC3XhaT6BaUrwnjB5QMxbY2A</th>\n",
       "      <td>...and a Texas Showdown</td>\n",
       "      <td>Four Texas friends who are about to become bri...</td>\n",
       "      <td>2018-07-26 08:29:25+00:00</td>\n",
       "      <td>0 days 01:25:38</td>\n",
       "      <td>NaN</td>\n",
       "      <td>Shows</td>\n",
       "      <td>4.0</td>\n",
       "      <td>2.0</td>\n",
       "      <td>0.0</td>\n",
       "      <td>NaN</td>\n",
       "      <td>HD</td>\n",
       "      <td>False</td>\n",
       "      <td>False</td>\n",
       "    </tr>\n",
       "    <tr>\n",
       "      <th>1eHxTm71QMA</th>\n",
       "      <th>UC97gPavbJtiaRXbpLlQISsw</th>\n",
       "      <td>A Little Pregnancy Goes a Long Way</td>\n",
       "      <td>To their husbands’ chagrin, the grandmothers-t...</td>\n",
       "      <td>2015-03-27 06:45:54+00:00</td>\n",
       "      <td>0 days 00:25:07</td>\n",
       "      <td>NaN</td>\n",
       "      <td>Shows</td>\n",
       "      <td>0.0</td>\n",
       "      <td>0.0</td>\n",
       "      <td>0.0</td>\n",
       "      <td>NaN</td>\n",
       "      <td>SD</td>\n",
       "      <td>False</td>\n",
       "      <td>False</td>\n",
       "    </tr>\n",
       "    <tr>\n",
       "      <th>1hzch2hppPI</th>\n",
       "      <th>UCC_du0S_gfXVkK_mxvBcJaw</th>\n",
       "      <td>Bonus Bucks</td>\n",
       "      <td>Lucy and Ethel argue over the ownership of a \"...</td>\n",
       "      <td>2015-09-24 21:32:07+00:00</td>\n",
       "      <td>0 days 00:26:01</td>\n",
       "      <td>NaN</td>\n",
       "      <td>Shows</td>\n",
       "      <td>10.0</td>\n",
       "      <td>0.0</td>\n",
       "      <td>1.0</td>\n",
       "      <td>NaN</td>\n",
       "      <td>HD</td>\n",
       "      <td>False</td>\n",
       "      <td>False</td>\n",
       "    </tr>\n",
       "    <tr>\n",
       "      <th>44KdPJvYB1s</th>\n",
       "      <th>UCn4ixrTeRoCHD8fyAW6_nlQ</th>\n",
       "      <td>Jared Has Aides</td>\n",
       "      <td>As the country becomes obsessed with a popular...</td>\n",
       "      <td>2014-06-15 04:00:22+00:00</td>\n",
       "      <td>0 days 00:22:13</td>\n",
       "      <td>NaN</td>\n",
       "      <td>Shows</td>\n",
       "      <td>59.0</td>\n",
       "      <td>27.0</td>\n",
       "      <td>0.0</td>\n",
       "      <td>NaN</td>\n",
       "      <td>HD</td>\n",
       "      <td>False</td>\n",
       "      <td>False</td>\n",
       "    </tr>\n",
       "  </tbody>\n",
       "</table>\n",
       "</div>"
      ],
      "text/plain": [
       "                                                                   title  \\\n",
       "id          creator.id                                                     \n",
       "-I7KQF5Cdzk UCeiu2GymrRNIMHmNwhjDfiQ      I've Got The World On A String   \n",
       "-isS7wDu1xM UC3XhaT6BaUrwnjB5QMxbY2A             ...and a Texas Showdown   \n",
       "1eHxTm71QMA UC97gPavbJtiaRXbpLlQISsw  A Little Pregnancy Goes a Long Way   \n",
       "1hzch2hppPI UCC_du0S_gfXVkK_mxvBcJaw                         Bonus Bucks   \n",
       "44KdPJvYB1s UCn4ixrTeRoCHD8fyAW6_nlQ                     Jared Has Aides   \n",
       "\n",
       "                                                                            description  \\\n",
       "id          creator.id                                                                    \n",
       "-I7KQF5Cdzk UCeiu2GymrRNIMHmNwhjDfiQ  Hattie navigates office politics on her first ...   \n",
       "-isS7wDu1xM UC3XhaT6BaUrwnjB5QMxbY2A  Four Texas friends who are about to become bri...   \n",
       "1eHxTm71QMA UC97gPavbJtiaRXbpLlQISsw  To their husbands’ chagrin, the grandmothers-t...   \n",
       "1hzch2hppPI UCC_du0S_gfXVkK_mxvBcJaw  Lucy and Ethel argue over the ownership of a \"...   \n",
       "44KdPJvYB1s UCn4ixrTeRoCHD8fyAW6_nlQ  As the country becomes obsessed with a popular...   \n",
       "\n",
       "                                                          time  \\\n",
       "id          creator.id                                           \n",
       "-I7KQF5Cdzk UCeiu2GymrRNIMHmNwhjDfiQ 2020-03-13 19:45:02+00:00   \n",
       "-isS7wDu1xM UC3XhaT6BaUrwnjB5QMxbY2A 2018-07-26 08:29:25+00:00   \n",
       "1eHxTm71QMA UC97gPavbJtiaRXbpLlQISsw 2015-03-27 06:45:54+00:00   \n",
       "1hzch2hppPI UCC_du0S_gfXVkK_mxvBcJaw 2015-09-24 21:32:07+00:00   \n",
       "44KdPJvYB1s UCn4ixrTeRoCHD8fyAW6_nlQ 2014-06-15 04:00:22+00:00   \n",
       "\n",
       "                                              length tags category  \\\n",
       "id          creator.id                                               \n",
       "-I7KQF5Cdzk UCeiu2GymrRNIMHmNwhjDfiQ 0 days 00:22:46  NaN    Shows   \n",
       "-isS7wDu1xM UC3XhaT6BaUrwnjB5QMxbY2A 0 days 01:25:38  NaN    Shows   \n",
       "1eHxTm71QMA UC97gPavbJtiaRXbpLlQISsw 0 days 00:25:07  NaN    Shows   \n",
       "1hzch2hppPI UCC_du0S_gfXVkK_mxvBcJaw 0 days 00:26:01  NaN    Shows   \n",
       "44KdPJvYB1s UCn4ixrTeRoCHD8fyAW6_nlQ 0 days 00:22:13  NaN    Shows   \n",
       "\n",
       "                                      stats.like  stats.dislike  \\\n",
       "id          creator.id                                            \n",
       "-I7KQF5Cdzk UCeiu2GymrRNIMHmNwhjDfiQ        10.0            0.0   \n",
       "-isS7wDu1xM UC3XhaT6BaUrwnjB5QMxbY2A         4.0            2.0   \n",
       "1eHxTm71QMA UC97gPavbJtiaRXbpLlQISsw         0.0            0.0   \n",
       "1hzch2hppPI UCC_du0S_gfXVkK_mxvBcJaw        10.0            0.0   \n",
       "44KdPJvYB1s UCn4ixrTeRoCHD8fyAW6_nlQ        59.0           27.0   \n",
       "\n",
       "                                      stats.comment  stats.view video.quality  \\\n",
       "id          creator.id                                                          \n",
       "-I7KQF5Cdzk UCeiu2GymrRNIMHmNwhjDfiQ            1.0         NaN            HD   \n",
       "-isS7wDu1xM UC3XhaT6BaUrwnjB5QMxbY2A            0.0         NaN            HD   \n",
       "1eHxTm71QMA UC97gPavbJtiaRXbpLlQISsw            0.0         NaN            SD   \n",
       "1hzch2hppPI UCC_du0S_gfXVkK_mxvBcJaw            1.0         NaN            HD   \n",
       "44KdPJvYB1s UCn4ixrTeRoCHD8fyAW6_nlQ            0.0         NaN            HD   \n",
       "\n",
       "                                     has_ad has_ad_at_beginning  \n",
       "id          creator.id                                           \n",
       "-I7KQF5Cdzk UCeiu2GymrRNIMHmNwhjDfiQ  False               False  \n",
       "-isS7wDu1xM UC3XhaT6BaUrwnjB5QMxbY2A  False               False  \n",
       "1eHxTm71QMA UC97gPavbJtiaRXbpLlQISsw  False               False  \n",
       "1hzch2hppPI UCC_du0S_gfXVkK_mxvBcJaw  False               False  \n",
       "44KdPJvYB1s UCn4ixrTeRoCHD8fyAW6_nlQ  False               False  "
      ]
     },
     "metadata": {},
     "output_type": "display_data"
    },
    {
     "data": {
      "text/markdown": [
       "## Stats"
      ],
      "text/plain": [
       "<IPython.core.display.Markdown object>"
      ]
     },
     "metadata": {},
     "output_type": "display_data"
    },
    {
     "data": {
      "text/html": [
       "<div>\n",
       "<style scoped>\n",
       "    .dataframe tbody tr th:only-of-type {\n",
       "        vertical-align: middle;\n",
       "    }\n",
       "\n",
       "    .dataframe tbody tr th {\n",
       "        vertical-align: top;\n",
       "    }\n",
       "\n",
       "    .dataframe thead th {\n",
       "        text-align: right;\n",
       "    }\n",
       "</style>\n",
       "<table border=\"1\" class=\"dataframe\">\n",
       "  <thead>\n",
       "    <tr style=\"text-align: right;\">\n",
       "      <th></th>\n",
       "      <th>length</th>\n",
       "      <th>stats.like</th>\n",
       "      <th>stats.dislike</th>\n",
       "      <th>stats.comment</th>\n",
       "      <th>stats.view</th>\n",
       "    </tr>\n",
       "  </thead>\n",
       "  <tbody>\n",
       "    <tr>\n",
       "      <th>count</th>\n",
       "      <td>57</td>\n",
       "      <td>57.000000</td>\n",
       "      <td>57.000000</td>\n",
       "      <td>53.000000</td>\n",
       "      <td>1.900000e+01</td>\n",
       "    </tr>\n",
       "    <tr>\n",
       "      <th>mean</th>\n",
       "      <td>0 days 00:47:47.508771929</td>\n",
       "      <td>1405.403509</td>\n",
       "      <td>190.807018</td>\n",
       "      <td>188.811321</td>\n",
       "      <td>1.953805e+05</td>\n",
       "    </tr>\n",
       "    <tr>\n",
       "      <th>std</th>\n",
       "      <td>0 days 00:40:05.770845597</td>\n",
       "      <td>4719.944718</td>\n",
       "      <td>802.207589</td>\n",
       "      <td>669.287711</td>\n",
       "      <td>3.297752e+05</td>\n",
       "    </tr>\n",
       "    <tr>\n",
       "      <th>min</th>\n",
       "      <td>0 days 00:00:43</td>\n",
       "      <td>0.000000</td>\n",
       "      <td>0.000000</td>\n",
       "      <td>0.000000</td>\n",
       "      <td>3.434000e+03</td>\n",
       "    </tr>\n",
       "    <tr>\n",
       "      <th>25%</th>\n",
       "      <td>0 days 00:21:07</td>\n",
       "      <td>4.000000</td>\n",
       "      <td>0.000000</td>\n",
       "      <td>0.000000</td>\n",
       "      <td>6.067150e+04</td>\n",
       "    </tr>\n",
       "    <tr>\n",
       "      <th>50%</th>\n",
       "      <td>0 days 00:35:18</td>\n",
       "      <td>49.000000</td>\n",
       "      <td>7.000000</td>\n",
       "      <td>0.000000</td>\n",
       "      <td>1.058410e+05</td>\n",
       "    </tr>\n",
       "    <tr>\n",
       "      <th>75%</th>\n",
       "      <td>0 days 01:29:11</td>\n",
       "      <td>542.000000</td>\n",
       "      <td>53.000000</td>\n",
       "      <td>68.000000</td>\n",
       "      <td>2.077020e+05</td>\n",
       "    </tr>\n",
       "    <tr>\n",
       "      <th>max</th>\n",
       "      <td>0 days 02:25:02</td>\n",
       "      <td>33906.000000</td>\n",
       "      <td>5482.000000</td>\n",
       "      <td>4550.000000</td>\n",
       "      <td>1.503715e+06</td>\n",
       "    </tr>\n",
       "  </tbody>\n",
       "</table>\n",
       "</div>"
      ],
      "text/plain": [
       "                          length    stats.like  stats.dislike  stats.comment  \\\n",
       "count                         57     57.000000      57.000000      53.000000   \n",
       "mean   0 days 00:47:47.508771929   1405.403509     190.807018     188.811321   \n",
       "std    0 days 00:40:05.770845597   4719.944718     802.207589     669.287711   \n",
       "min              0 days 00:00:43      0.000000       0.000000       0.000000   \n",
       "25%              0 days 00:21:07      4.000000       0.000000       0.000000   \n",
       "50%              0 days 00:35:18     49.000000       7.000000       0.000000   \n",
       "75%              0 days 01:29:11    542.000000      53.000000      68.000000   \n",
       "max              0 days 02:25:02  33906.000000    5482.000000    4550.000000   \n",
       "\n",
       "         stats.view  \n",
       "count  1.900000e+01  \n",
       "mean   1.953805e+05  \n",
       "std    3.297752e+05  \n",
       "min    3.434000e+03  \n",
       "25%    6.067150e+04  \n",
       "50%    1.058410e+05  \n",
       "75%    2.077020e+05  \n",
       "max    1.503715e+06  "
      ]
     },
     "metadata": {},
     "output_type": "display_data"
    },
    {
     "data": {
      "text/markdown": [
       "---"
      ],
      "text/plain": [
       "<IPython.core.display.Markdown object>"
      ]
     },
     "metadata": {},
     "output_type": "display_data"
    }
   ],
   "source": [
    "## YOUR CODE HERE\n",
    "## FEEL FREE TO ADD MULTIPLE CELLS PER SECTION\n",
    "\n",
    "'''\n",
    "import string\n",
    "keyword = '|'.join(string.ascii_letters)\n",
    "\n",
    "\n",
    "\n",
    "df_search_details = pd.read_pickle(f'EDA/dsamples/youtube_search_{as_fname(keyword)}_{dataset_id}.pkl')\n",
    "\n",
    "# optional (extra info about channels in our search result)\n",
    "#df_search_details_channels = pd.read_pickle(f'EDA/dsamples/youtube_search_channels_{as_fname(keyword)}_{dataset_id}.pkl')\n",
    "\n",
    "'''\n",
    "\n",
    "\n",
    "df_search_details = pd.read_pickle('EDA/dsamples/youtube_search_random_ascii.pkl')\n",
    "# optional (extra info about channels in our search result)\n",
    "#df_search_details_channels = pd.read_pickle(f'EDA/dsamples/youtube_search_channels_{as_fname(keyword)}_{dataset_id}.pkl')\n",
    "\n",
    "df_search_details = df_drop_duplicates(df_search_details, level = 'id')\n",
    "df_report(df_search_details, name = 'Search Results')"
   ]
  },
  {
   "cell_type": "code",
   "execution_count": 17,
   "metadata": {},
   "outputs": [
    {
     "data": {
      "text/plain": [
       "category\n",
       "Comedy                   3.058450e+06\n",
       "Entertainment            1.510796e+06\n",
       "Film & Animation         1.010990e+06\n",
       "Movies                            NaN\n",
       "Music                    1.974051e+07\n",
       "News & Politics          6.860758e+05\n",
       "Nonprofits & Activism    1.653966e+06\n",
       "Science & Technology     6.537050e+04\n",
       "Shows                             NaN\n",
       "Sports                   6.535793e+05\n",
       "Name: stats.view, dtype: float64"
      ]
     },
     "execution_count": 17,
     "metadata": {},
     "output_type": "execute_result"
    }
   ],
   "source": [
    "assert(youtube.types.topic(1).__eq__('Film & Animation'))\n",
    "\n",
    "\n",
    "df_search_details_n = df_search_details.copy()\n",
    "df_search_details_n['category'] = df_search_details_n['category'].astype(str)\n",
    "\n",
    "\n",
    "df_search_details_n.groupby(['category'])['stats.view'].mean()\n",
    "\n",
    "\n"
   ]
  },
  {
   "cell_type": "code",
   "execution_count": 18,
   "metadata": {},
   "outputs": [
    {
     "data": {
      "text/markdown": [
       "---"
      ],
      "text/plain": [
       "<IPython.core.display.Markdown object>"
      ]
     },
     "metadata": {},
     "output_type": "display_data"
    },
    {
     "data": {
      "text/markdown": [
       "# Results - Trending"
      ],
      "text/plain": [
       "<IPython.core.display.Markdown object>"
      ]
     },
     "metadata": {},
     "output_type": "display_data"
    },
    {
     "data": {
      "text/markdown": [
       "## Data Preview"
      ],
      "text/plain": [
       "<IPython.core.display.Markdown object>"
      ]
     },
     "metadata": {},
     "output_type": "display_data"
    },
    {
     "data": {
      "text/html": [
       "<div>\n",
       "<style scoped>\n",
       "    .dataframe tbody tr th:only-of-type {\n",
       "        vertical-align: middle;\n",
       "    }\n",
       "\n",
       "    .dataframe tbody tr th {\n",
       "        vertical-align: top;\n",
       "    }\n",
       "\n",
       "    .dataframe thead th {\n",
       "        text-align: right;\n",
       "    }\n",
       "</style>\n",
       "<table border=\"1\" class=\"dataframe\">\n",
       "  <thead>\n",
       "    <tr style=\"text-align: right;\">\n",
       "      <th></th>\n",
       "      <th></th>\n",
       "      <th>title</th>\n",
       "      <th>description</th>\n",
       "      <th>time</th>\n",
       "      <th>length</th>\n",
       "      <th>tags</th>\n",
       "      <th>category</th>\n",
       "      <th>stats.like</th>\n",
       "      <th>stats.dislike</th>\n",
       "      <th>stats.comment</th>\n",
       "      <th>stats.view</th>\n",
       "      <th>video.quality</th>\n",
       "      <th>has_ad</th>\n",
       "      <th>has_ad_at_beginning</th>\n",
       "    </tr>\n",
       "    <tr>\n",
       "      <th>id</th>\n",
       "      <th>creator.id</th>\n",
       "      <th></th>\n",
       "      <th></th>\n",
       "      <th></th>\n",
       "      <th></th>\n",
       "      <th></th>\n",
       "      <th></th>\n",
       "      <th></th>\n",
       "      <th></th>\n",
       "      <th></th>\n",
       "      <th></th>\n",
       "      <th></th>\n",
       "      <th></th>\n",
       "      <th></th>\n",
       "    </tr>\n",
       "  </thead>\n",
       "  <tbody>\n",
       "    <tr>\n",
       "      <th>sG9rX6Ifzhw</th>\n",
       "      <th>UCq18eeL7D9Vd8DhjMcLh9QQ</th>\n",
       "      <td>Piers and Alex Clash Over Prince Harry and Meg...</td>\n",
       "      <td>Following the Duke and Duchess of Sussex’s lan...</td>\n",
       "      <td>2021-03-09 10:58:19+00:00</td>\n",
       "      <td>0 days 00:14:05</td>\n",
       "      <td>[good morning britain, breakfast show, news, m...</td>\n",
       "      <td>Entertainment</td>\n",
       "      <td>46817</td>\n",
       "      <td>7645</td>\n",
       "      <td>NaN</td>\n",
       "      <td>4144988</td>\n",
       "      <td>HD</td>\n",
       "      <td>True</td>\n",
       "      <td>True</td>\n",
       "    </tr>\n",
       "    <tr>\n",
       "      <th>CkTVoLamPio</th>\n",
       "      <th>UC-SJ6nODDmufqBzPBwCvYvQ</th>\n",
       "      <td>Meghan, Duchess of Sussex, opens up about her ...</td>\n",
       "      <td>For the first time Meghan, Duchess of Sussex, ...</td>\n",
       "      <td>2021-03-08 14:01:55+00:00</td>\n",
       "      <td>0 days 00:10:19</td>\n",
       "      <td>[cbs this morning, duchess of sussex, Meghan M...</td>\n",
       "      <td>News &amp; Politics</td>\n",
       "      <td>51245</td>\n",
       "      <td>11042</td>\n",
       "      <td>12387.0</td>\n",
       "      <td>6580878</td>\n",
       "      <td>HD</td>\n",
       "      <td>True</td>\n",
       "      <td>True</td>\n",
       "    </tr>\n",
       "    <tr>\n",
       "      <th>pIQIKIDZJjc</th>\n",
       "      <th>UCi3OE-aN09WOcN9d2stCvPg</th>\n",
       "      <td>David Dobrik &amp; I Bought Markell A Car | Charli...</td>\n",
       "      <td>hi everyone. i wanted to organize this with @D...</td>\n",
       "      <td>2021-03-09 18:00:12+00:00</td>\n",
       "      <td>0 days 00:11:26</td>\n",
       "      <td>[charli, charlie, charli d'amelio, charli dame...</td>\n",
       "      <td>People &amp; Blogs</td>\n",
       "      <td>130353</td>\n",
       "      <td>4796</td>\n",
       "      <td>9655.0</td>\n",
       "      <td>1415497</td>\n",
       "      <td>HD</td>\n",
       "      <td>True</td>\n",
       "      <td>True</td>\n",
       "    </tr>\n",
       "    <tr>\n",
       "      <th>jJdlgKzVsnI</th>\n",
       "      <th>UCpTaAz_BxtkUB1qc8JTU_7g</th>\n",
       "      <td>Doja Cat - Streets (Official Video)</td>\n",
       "      <td>Doja Cat // Streets (Official Video)\\nHot Pink...</td>\n",
       "      <td>2021-03-09 05:00:12+00:00</td>\n",
       "      <td>0 days 00:04:34</td>\n",
       "      <td>[doja cat, streets, doja, doja cat streets, st...</td>\n",
       "      <td>Music</td>\n",
       "      <td>869472</td>\n",
       "      <td>8405</td>\n",
       "      <td>56206.0</td>\n",
       "      <td>7154068</td>\n",
       "      <td>HD</td>\n",
       "      <td>True</td>\n",
       "      <td>True</td>\n",
       "    </tr>\n",
       "    <tr>\n",
       "      <th>qUUloBe5vEo</th>\n",
       "      <th>UCRijo3ddMTht_IHyNSNXpNQ</th>\n",
       "      <td>Longest Dunk Wins</td>\n",
       "      <td>Slippery Stairs and a GIANT catapult!?! Today'...</td>\n",
       "      <td>2021-03-08 23:00:02+00:00</td>\n",
       "      <td>0 days 00:10:19</td>\n",
       "      <td>[dude perfect, dude perfect stereotypes, dude ...</td>\n",
       "      <td>Sports</td>\n",
       "      <td>371935</td>\n",
       "      <td>4280</td>\n",
       "      <td>13898.0</td>\n",
       "      <td>7541282</td>\n",
       "      <td>HD</td>\n",
       "      <td>True</td>\n",
       "      <td>True</td>\n",
       "    </tr>\n",
       "  </tbody>\n",
       "</table>\n",
       "</div>"
      ],
      "text/plain": [
       "                                                                                  title  \\\n",
       "id          creator.id                                                                    \n",
       "sG9rX6Ifzhw UCq18eeL7D9Vd8DhjMcLh9QQ  Piers and Alex Clash Over Prince Harry and Meg...   \n",
       "CkTVoLamPio UC-SJ6nODDmufqBzPBwCvYvQ  Meghan, Duchess of Sussex, opens up about her ...   \n",
       "pIQIKIDZJjc UCi3OE-aN09WOcN9d2stCvPg  David Dobrik & I Bought Markell A Car | Charli...   \n",
       "jJdlgKzVsnI UCpTaAz_BxtkUB1qc8JTU_7g                Doja Cat - Streets (Official Video)   \n",
       "qUUloBe5vEo UCRijo3ddMTht_IHyNSNXpNQ                                  Longest Dunk Wins   \n",
       "\n",
       "                                                                            description  \\\n",
       "id          creator.id                                                                    \n",
       "sG9rX6Ifzhw UCq18eeL7D9Vd8DhjMcLh9QQ  Following the Duke and Duchess of Sussex’s lan...   \n",
       "CkTVoLamPio UC-SJ6nODDmufqBzPBwCvYvQ  For the first time Meghan, Duchess of Sussex, ...   \n",
       "pIQIKIDZJjc UCi3OE-aN09WOcN9d2stCvPg  hi everyone. i wanted to organize this with @D...   \n",
       "jJdlgKzVsnI UCpTaAz_BxtkUB1qc8JTU_7g  Doja Cat // Streets (Official Video)\\nHot Pink...   \n",
       "qUUloBe5vEo UCRijo3ddMTht_IHyNSNXpNQ  Slippery Stairs and a GIANT catapult!?! Today'...   \n",
       "\n",
       "                                                          time  \\\n",
       "id          creator.id                                           \n",
       "sG9rX6Ifzhw UCq18eeL7D9Vd8DhjMcLh9QQ 2021-03-09 10:58:19+00:00   \n",
       "CkTVoLamPio UC-SJ6nODDmufqBzPBwCvYvQ 2021-03-08 14:01:55+00:00   \n",
       "pIQIKIDZJjc UCi3OE-aN09WOcN9d2stCvPg 2021-03-09 18:00:12+00:00   \n",
       "jJdlgKzVsnI UCpTaAz_BxtkUB1qc8JTU_7g 2021-03-09 05:00:12+00:00   \n",
       "qUUloBe5vEo UCRijo3ddMTht_IHyNSNXpNQ 2021-03-08 23:00:02+00:00   \n",
       "\n",
       "                                              length  \\\n",
       "id          creator.id                                 \n",
       "sG9rX6Ifzhw UCq18eeL7D9Vd8DhjMcLh9QQ 0 days 00:14:05   \n",
       "CkTVoLamPio UC-SJ6nODDmufqBzPBwCvYvQ 0 days 00:10:19   \n",
       "pIQIKIDZJjc UCi3OE-aN09WOcN9d2stCvPg 0 days 00:11:26   \n",
       "jJdlgKzVsnI UCpTaAz_BxtkUB1qc8JTU_7g 0 days 00:04:34   \n",
       "qUUloBe5vEo UCRijo3ddMTht_IHyNSNXpNQ 0 days 00:10:19   \n",
       "\n",
       "                                                                                   tags  \\\n",
       "id          creator.id                                                                    \n",
       "sG9rX6Ifzhw UCq18eeL7D9Vd8DhjMcLh9QQ  [good morning britain, breakfast show, news, m...   \n",
       "CkTVoLamPio UC-SJ6nODDmufqBzPBwCvYvQ  [cbs this morning, duchess of sussex, Meghan M...   \n",
       "pIQIKIDZJjc UCi3OE-aN09WOcN9d2stCvPg  [charli, charlie, charli d'amelio, charli dame...   \n",
       "jJdlgKzVsnI UCpTaAz_BxtkUB1qc8JTU_7g  [doja cat, streets, doja, doja cat streets, st...   \n",
       "qUUloBe5vEo UCRijo3ddMTht_IHyNSNXpNQ  [dude perfect, dude perfect stereotypes, dude ...   \n",
       "\n",
       "                                             category  stats.like  \\\n",
       "id          creator.id                                              \n",
       "sG9rX6Ifzhw UCq18eeL7D9Vd8DhjMcLh9QQ    Entertainment       46817   \n",
       "CkTVoLamPio UC-SJ6nODDmufqBzPBwCvYvQ  News & Politics       51245   \n",
       "pIQIKIDZJjc UCi3OE-aN09WOcN9d2stCvPg   People & Blogs      130353   \n",
       "jJdlgKzVsnI UCpTaAz_BxtkUB1qc8JTU_7g            Music      869472   \n",
       "qUUloBe5vEo UCRijo3ddMTht_IHyNSNXpNQ           Sports      371935   \n",
       "\n",
       "                                      stats.dislike  stats.comment  \\\n",
       "id          creator.id                                               \n",
       "sG9rX6Ifzhw UCq18eeL7D9Vd8DhjMcLh9QQ           7645            NaN   \n",
       "CkTVoLamPio UC-SJ6nODDmufqBzPBwCvYvQ          11042        12387.0   \n",
       "pIQIKIDZJjc UCi3OE-aN09WOcN9d2stCvPg           4796         9655.0   \n",
       "jJdlgKzVsnI UCpTaAz_BxtkUB1qc8JTU_7g           8405        56206.0   \n",
       "qUUloBe5vEo UCRijo3ddMTht_IHyNSNXpNQ           4280        13898.0   \n",
       "\n",
       "                                      stats.view video.quality  has_ad  \\\n",
       "id          creator.id                                                   \n",
       "sG9rX6Ifzhw UCq18eeL7D9Vd8DhjMcLh9QQ     4144988            HD    True   \n",
       "CkTVoLamPio UC-SJ6nODDmufqBzPBwCvYvQ     6580878            HD    True   \n",
       "pIQIKIDZJjc UCi3OE-aN09WOcN9d2stCvPg     1415497            HD    True   \n",
       "jJdlgKzVsnI UCpTaAz_BxtkUB1qc8JTU_7g     7154068            HD    True   \n",
       "qUUloBe5vEo UCRijo3ddMTht_IHyNSNXpNQ     7541282            HD    True   \n",
       "\n",
       "                                      has_ad_at_beginning  \n",
       "id          creator.id                                     \n",
       "sG9rX6Ifzhw UCq18eeL7D9Vd8DhjMcLh9QQ                 True  \n",
       "CkTVoLamPio UC-SJ6nODDmufqBzPBwCvYvQ                 True  \n",
       "pIQIKIDZJjc UCi3OE-aN09WOcN9d2stCvPg                 True  \n",
       "jJdlgKzVsnI UCpTaAz_BxtkUB1qc8JTU_7g                 True  \n",
       "qUUloBe5vEo UCRijo3ddMTht_IHyNSNXpNQ                 True  "
      ]
     },
     "metadata": {},
     "output_type": "display_data"
    },
    {
     "data": {
      "text/markdown": [
       "## Stats"
      ],
      "text/plain": [
       "<IPython.core.display.Markdown object>"
      ]
     },
     "metadata": {},
     "output_type": "display_data"
    },
    {
     "data": {
      "text/html": [
       "<div>\n",
       "<style scoped>\n",
       "    .dataframe tbody tr th:only-of-type {\n",
       "        vertical-align: middle;\n",
       "    }\n",
       "\n",
       "    .dataframe tbody tr th {\n",
       "        vertical-align: top;\n",
       "    }\n",
       "\n",
       "    .dataframe thead th {\n",
       "        text-align: right;\n",
       "    }\n",
       "</style>\n",
       "<table border=\"1\" class=\"dataframe\">\n",
       "  <thead>\n",
       "    <tr style=\"text-align: right;\">\n",
       "      <th></th>\n",
       "      <th>length</th>\n",
       "      <th>stats.like</th>\n",
       "      <th>stats.dislike</th>\n",
       "      <th>stats.comment</th>\n",
       "      <th>stats.view</th>\n",
       "    </tr>\n",
       "  </thead>\n",
       "  <tbody>\n",
       "    <tr>\n",
       "      <th>count</th>\n",
       "      <td>200</td>\n",
       "      <td>2.000000e+02</td>\n",
       "      <td>200.000000</td>\n",
       "      <td>194.000000</td>\n",
       "      <td>2.000000e+02</td>\n",
       "    </tr>\n",
       "    <tr>\n",
       "      <th>mean</th>\n",
       "      <td>0 days 00:10:06.850000</td>\n",
       "      <td>1.444683e+05</td>\n",
       "      <td>2372.630000</td>\n",
       "      <td>13496.324742</td>\n",
       "      <td>2.705343e+06</td>\n",
       "    </tr>\n",
       "    <tr>\n",
       "      <th>std</th>\n",
       "      <td>0 days 00:09:27.893274618</td>\n",
       "      <td>2.600882e+05</td>\n",
       "      <td>3428.171371</td>\n",
       "      <td>30690.249011</td>\n",
       "      <td>3.830323e+06</td>\n",
       "    </tr>\n",
       "    <tr>\n",
       "      <th>min</th>\n",
       "      <td>0 days 00:00:12</td>\n",
       "      <td>7.190000e+02</td>\n",
       "      <td>58.000000</td>\n",
       "      <td>103.000000</td>\n",
       "      <td>1.503920e+05</td>\n",
       "    </tr>\n",
       "    <tr>\n",
       "      <th>25%</th>\n",
       "      <td>0 days 00:03:18.250000</td>\n",
       "      <td>2.120500e+04</td>\n",
       "      <td>431.000000</td>\n",
       "      <td>2264.500000</td>\n",
       "      <td>7.208925e+05</td>\n",
       "    </tr>\n",
       "    <tr>\n",
       "      <th>50%</th>\n",
       "      <td>0 days 00:07:32.500000</td>\n",
       "      <td>5.213300e+04</td>\n",
       "      <td>961.500000</td>\n",
       "      <td>4552.500000</td>\n",
       "      <td>1.303486e+06</td>\n",
       "    </tr>\n",
       "    <tr>\n",
       "      <th>75%</th>\n",
       "      <td>0 days 00:13:22</td>\n",
       "      <td>1.268155e+05</td>\n",
       "      <td>2749.000000</td>\n",
       "      <td>12074.500000</td>\n",
       "      <td>2.943700e+06</td>\n",
       "    </tr>\n",
       "    <tr>\n",
       "      <th>max</th>\n",
       "      <td>0 days 00:54:22</td>\n",
       "      <td>1.743261e+06</td>\n",
       "      <td>21802.000000</td>\n",
       "      <td>295502.000000</td>\n",
       "      <td>2.482087e+07</td>\n",
       "    </tr>\n",
       "  </tbody>\n",
       "</table>\n",
       "</div>"
      ],
      "text/plain": [
       "                          length    stats.like  stats.dislike  stats.comment  \\\n",
       "count                        200  2.000000e+02     200.000000     194.000000   \n",
       "mean      0 days 00:10:06.850000  1.444683e+05    2372.630000   13496.324742   \n",
       "std    0 days 00:09:27.893274618  2.600882e+05    3428.171371   30690.249011   \n",
       "min              0 days 00:00:12  7.190000e+02      58.000000     103.000000   \n",
       "25%       0 days 00:03:18.250000  2.120500e+04     431.000000    2264.500000   \n",
       "50%       0 days 00:07:32.500000  5.213300e+04     961.500000    4552.500000   \n",
       "75%              0 days 00:13:22  1.268155e+05    2749.000000   12074.500000   \n",
       "max              0 days 00:54:22  1.743261e+06   21802.000000  295502.000000   \n",
       "\n",
       "         stats.view  \n",
       "count  2.000000e+02  \n",
       "mean   2.705343e+06  \n",
       "std    3.830323e+06  \n",
       "min    1.503920e+05  \n",
       "25%    7.208925e+05  \n",
       "50%    1.303486e+06  \n",
       "75%    2.943700e+06  \n",
       "max    2.482087e+07  "
      ]
     },
     "metadata": {},
     "output_type": "display_data"
    },
    {
     "data": {
      "text/markdown": [
       "---"
      ],
      "text/plain": [
       "<IPython.core.display.Markdown object>"
      ]
     },
     "metadata": {},
     "output_type": "display_data"
    }
   ],
   "source": [
    "df_trending_details = pd.read_pickle('EDA/dsamples/youtube_trending.pkl')\n",
    "\n",
    "# optional (extra info about channels on the chart)\n",
    "df_trending_details_channels = pd.read_pickle(f'EDA/dsamples/youtube_trending_channels.pkl')\n",
    "\n",
    "df_report(df_trending_details, name = 'Trending')"
   ]
  },
  {
   "cell_type": "code",
   "execution_count": 19,
   "metadata": {},
   "outputs": [],
   "source": [
    "#We first reset the index of the dataframe\n",
    "df_trending_details= df_trending_details.reset_index()"
   ]
  },
  {
   "cell_type": "code",
   "execution_count": 20,
   "metadata": {},
   "outputs": [
    {
     "data": {
      "text/plain": [
       "\"\\ndel df_trending_details['id']\\ndel df_trending_details['creator.id']\\ndel df_trending_details['stats.dislike']\\ndel df_trending_details['creator.time']\\ndel df_trending_details['creator.stats.view']\\ndel df_trending_details['creator.stats.post']\\n\""
      ]
     },
     "execution_count": 20,
     "metadata": {},
     "output_type": "execute_result"
    }
   ],
   "source": [
    "#We clean the unecessary information such as dislikes, creator time, creater stats view and creater stats posts\n",
    "\n",
    "'''\n",
    "del df_trending_details['id']\n",
    "del df_trending_details['creator.id']\n",
    "del df_trending_details['stats.dislike']\n",
    "del df_trending_details['creator.time']\n",
    "del df_trending_details['creator.stats.view']\n",
    "del df_trending_details['creator.stats.post']\n",
    "'''"
   ]
  },
  {
   "cell_type": "code",
   "execution_count": 21,
   "metadata": {},
   "outputs": [
    {
     "data": {
      "text/html": [
       "<div>\n",
       "<style scoped>\n",
       "    .dataframe tbody tr th:only-of-type {\n",
       "        vertical-align: middle;\n",
       "    }\n",
       "\n",
       "    .dataframe tbody tr th {\n",
       "        vertical-align: top;\n",
       "    }\n",
       "\n",
       "    .dataframe thead th {\n",
       "        text-align: right;\n",
       "    }\n",
       "</style>\n",
       "<table border=\"1\" class=\"dataframe\">\n",
       "  <thead>\n",
       "    <tr style=\"text-align: right;\">\n",
       "      <th></th>\n",
       "      <th>has_ad_at_beginning</th>\n",
       "      <th>stats.like</th>\n",
       "    </tr>\n",
       "  </thead>\n",
       "  <tbody>\n",
       "    <tr>\n",
       "      <th>0</th>\n",
       "      <td>False</td>\n",
       "      <td>204042.656250</td>\n",
       "    </tr>\n",
       "    <tr>\n",
       "      <th>1</th>\n",
       "      <td>True</td>\n",
       "      <td>133120.857143</td>\n",
       "    </tr>\n",
       "  </tbody>\n",
       "</table>\n",
       "</div>"
      ],
      "text/plain": [
       "   has_ad_at_beginning     stats.like\n",
       "0                False  204042.656250\n",
       "1                 True  133120.857143"
      ]
     },
     "execution_count": 21,
     "metadata": {},
     "output_type": "execute_result"
    },
    {
     "data": {
      "text/html": [
       "<div>\n",
       "<style scoped>\n",
       "    .dataframe tbody tr th:only-of-type {\n",
       "        vertical-align: middle;\n",
       "    }\n",
       "\n",
       "    .dataframe tbody tr th {\n",
       "        vertical-align: top;\n",
       "    }\n",
       "\n",
       "    .dataframe thead th {\n",
       "        text-align: right;\n",
       "    }\n",
       "</style>\n",
       "<table border=\"1\" class=\"dataframe\">\n",
       "  <thead>\n",
       "    <tr style=\"text-align: right;\">\n",
       "      <th></th>\n",
       "      <th>has_ad_at_beginning</th>\n",
       "      <th>stats.comment</th>\n",
       "    </tr>\n",
       "  </thead>\n",
       "  <tbody>\n",
       "    <tr>\n",
       "      <th>0</th>\n",
       "      <td>False</td>\n",
       "      <td>19127.645161</td>\n",
       "    </tr>\n",
       "    <tr>\n",
       "      <th>1</th>\n",
       "      <td>True</td>\n",
       "      <td>12425.337423</td>\n",
       "    </tr>\n",
       "  </tbody>\n",
       "</table>\n",
       "</div>"
      ],
      "text/plain": [
       "   has_ad_at_beginning  stats.comment\n",
       "0                False   19127.645161\n",
       "1                 True   12425.337423"
      ]
     },
     "execution_count": 21,
     "metadata": {},
     "output_type": "execute_result"
    },
    {
     "data": {
      "text/html": [
       "<div>\n",
       "<style scoped>\n",
       "    .dataframe tbody tr th:only-of-type {\n",
       "        vertical-align: middle;\n",
       "    }\n",
       "\n",
       "    .dataframe tbody tr th {\n",
       "        vertical-align: top;\n",
       "    }\n",
       "\n",
       "    .dataframe thead th {\n",
       "        text-align: right;\n",
       "    }\n",
       "</style>\n",
       "<table border=\"1\" class=\"dataframe\">\n",
       "  <thead>\n",
       "    <tr style=\"text-align: right;\">\n",
       "      <th></th>\n",
       "      <th>has_ad_at_beginning</th>\n",
       "      <th>stats.view</th>\n",
       "    </tr>\n",
       "  </thead>\n",
       "  <tbody>\n",
       "    <tr>\n",
       "      <th>0</th>\n",
       "      <td>False</td>\n",
       "      <td>3.282382e+06</td>\n",
       "    </tr>\n",
       "    <tr>\n",
       "      <th>1</th>\n",
       "      <td>True</td>\n",
       "      <td>2.595431e+06</td>\n",
       "    </tr>\n",
       "  </tbody>\n",
       "</table>\n",
       "</div>"
      ],
      "text/plain": [
       "   has_ad_at_beginning    stats.view\n",
       "0                False  3.282382e+06\n",
       "1                 True  2.595431e+06"
      ]
     },
     "execution_count": 21,
     "metadata": {},
     "output_type": "execute_result"
    }
   ],
   "source": [
    "#we group the data by if there are ads in the begining and caluculte the mean value of likes, comments and views\n",
    "has_ad_likes = df_trending_details.groupby(['has_ad_at_beginning'])['stats.like'].mean()\n",
    "has_ad_comments = df_trending_details.groupby(['has_ad_at_beginning'])['stats.comment'].mean()\n",
    "has_ad_views = df_trending_details.groupby(['has_ad_at_beginning'])['stats.view'].mean()\n",
    "\n",
    "has_ad_likes.reset_index()\n",
    "has_ad_comments.reset_index()\n",
    "has_ad_views.reset_index()"
   ]
  },
  {
   "cell_type": "markdown",
   "metadata": {},
   "source": [
    "# Data Analysis & Results"
   ]
  },
  {
   "cell_type": "markdown",
   "metadata": {},
   "source": [
    "Include cells that describe the steps in your data analysis."
   ]
  },
  {
   "cell_type": "code",
   "execution_count": 22,
   "metadata": {},
   "outputs": [
    {
     "data": {
      "text/plain": [
       "Text(0, 0.5, 'Average likes')"
      ]
     },
     "execution_count": 22,
     "metadata": {},
     "output_type": "execute_result"
    },
    {
     "data": {
      "image/png": "[encoded data removed]",
      "text/plain": [
       "<Figure size 432x288 with 1 Axes>"
      ]
     },
     "metadata": {
      "needs_background": "light"
     },
     "output_type": "display_data"
    },
    {
     "data": {
      "text/plain": [
       "Text(0, 0.5, 'Average comments')"
      ]
     },
     "execution_count": 22,
     "metadata": {},
     "output_type": "execute_result"
    },
    {
     "data": {
      "image/png": "[encoded data removed]",
      "text/plain": [
       "<Figure size 432x288 with 1 Axes>"
      ]
     },
     "metadata": {
      "needs_background": "light"
     },
     "output_type": "display_data"
    },
    {
     "data": {
      "text/plain": [
       "Text(0, 0.5, 'Average views')"
      ]
     },
     "execution_count": 22,
     "metadata": {},
     "output_type": "execute_result"
    },
    {
     "data": {
      "image/png": "[encoded data removed]",
      "text/plain": [
       "<Figure size 432x288 with 1 Axes>"
      ]
     },
     "metadata": {
      "needs_background": "light"
     },
     "output_type": "display_data"
    }
   ],
   "source": [
    "## YOUR CODE HERE\n",
    "## FEEL FREE TO ADD MULTIPLE CELLS PER SECTION\n",
    "ax_likes = has_ad_likes.plot.bar(x= 'has_ad_at_beginning', y= 'stats.like', title= \"Average likes based on exsistence of ads\")\n",
    "ax_likes.set_ylabel(\"Average likes\")\n",
    "plt.show()\n",
    "ax_comments= has_ad_comments.plot.bar(x= 'has_ad_at_beginning', y= 'stats.comment',  title= \"Average comments based on exsistence of ads\")\n",
    "ax_comments.set_ylabel(\"Average comments\")\n",
    "plt.show()\n",
    "ax_views= has_ad_views.plot.bar(x= 'has_ad_at_beginning', y= 'stats.view', title= \"Average views based on exsistence of ads\")\n",
    "ax_views.set_ylabel(\"Average views\")\n",
    "plt.show()"
   ]
  },
  {
   "cell_type": "markdown",
   "metadata": {},
   "source": [
    "The plots above compare the vidoes that had an ad at the begining of the vidoe and videos that do not have ads at the begining of a video. The first plot compares has_ad_at_begining to the average likes. The second plot compares has_ad_at_begining to average comments and the final lot compares has_ad_at_begining to average views. We can see that in all three cases, the popularity of the videos is higher when there is an ad attached to the video. We have to take into consideration that the number of videos that have ads are higher than the videos with out ads. This might is affect the data by creating a bias due to the differnce in number of both cactegories. "
   ]
  },
  {
   "cell_type": "markdown",
   "metadata": {},
   "source": [
    "# Ethics & Privacy"
   ]
  },
  {
   "cell_type": "markdown",
   "metadata": {},
   "source": [
    "*Fill in your ethics & privacy discussion here*"
   ]
  },
  {
   "cell_type": "markdown",
   "metadata": {},
   "source": [
    "# Conclusion & Discussion"
   ]
  },
  {
   "cell_type": "markdown",
   "metadata": {},
   "source": [
    "*Fill in your discussion information here*"
   ]
  },
  {
   "cell_type": "markdown",
   "metadata": {},
   "source": [
    "# Team Contributions"
   ]
  },
  {
   "cell_type": "markdown",
   "metadata": {},
   "source": [
    "*Specify who in your group worked on which parts of the project.*"
   ]
  }
 ],
 "metadata": {
  "kernelspec": {
   "display_name": "Python 3",
   "language": "python",
   "name": "python3"
  },
  "language_info": {
   "codemirror_mode": {
    "name": "ipython",
    "version": 3
   },
   "file_extension": ".py",
   "mimetype": "text/x-python",
   "name": "python",
   "nbconvert_exporter": "python",
   "pygments_lexer": "ipython3",
   "version": "3.7.6"
  }
 },
 "nbformat": 4,
 "nbformat_minor": 2
}
