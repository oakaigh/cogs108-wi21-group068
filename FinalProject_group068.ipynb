{
 "cells": [
  {
   "cell_type": "markdown",
   "metadata": {},
   "source": [
    "# COGS 108 - Final Project (change this to your project's title)"
   ]
  },
  {
   "cell_type": "markdown",
   "metadata": {},
   "source": [
    "## Permissions\n",
    "\n",
    "Place an `X` in the appropriate bracket below to specify if you would like your group's project to be made available to the public. (Note that student names will be included (but PIDs will be scraped from any groups who include their PIDs).\n",
    "\n",
    "* [  ] YES - make available\n",
    "* [  ] NO - keep private"
   ]
  },
  {
   "cell_type": "markdown",
   "metadata": {},
   "source": [
    "# Overview"
   ]
  },
  {
   "cell_type": "markdown",
   "metadata": {},
   "source": [
    "*Fill in your overview here*"
   ]
  },
  {
   "cell_type": "markdown",
   "metadata": {},
   "source": [
    "# Names\n",
    "\n",
    "- Jared (Ruotian) Chen\n",
    "- Jimin Cheon\n",
    "- Kane Gu\n",
    "- Laurence D'Ercole\n",
    "- Nisha Davankar"
   ]
  },
  {
   "cell_type": "markdown",
   "metadata": {},
   "source": [
    "<a id='research_question'></a>\n",
    "# Research Question"
   ]
  },
  {
   "cell_type": "markdown",
   "metadata": {},
   "source": [
    "What attributes of a YouTube video affect its popularity in United States?"
   ]
  },
  {
   "cell_type": "markdown",
   "metadata": {},
   "source": [
    "<a id='background'></a>\n",
    "\n",
    "## Background & Prior Work"
   ]
  },
  {
   "cell_type": "markdown",
   "metadata": {},
   "source": [
    "*Fill in your background and prior work here* \n",
    "\n",
    "References (include links):\n",
    "- 1)\n",
    "- 2)"
   ]
  },
  {
   "cell_type": "markdown",
   "metadata": {},
   "source": [
    "# Hypothesis\n"
   ]
  },
  {
   "cell_type": "markdown",
   "metadata": {},
   "source": [
    "Factors that would potentially **affect** a video's popularity:\n",
    "- time created: `time`\n",
    "- duration: `length`\n",
    "- number of tags: `tags`\n",
    "- video category: `category`\n",
    "- video quality: `video.quality`\n",
    "- ad placement: `has_ad\thas_ad_at_beginning`\n",
    "- popularity of youtuber\n",
    "    - time youtuber joined youtube: `creator.time`\n",
    "    - number of followers: `creator.stats.follower`\n",
    "    - total number of views: `creator.stats.view`\n",
    "    - total number of videos: `creator.stats.post`\n",
    "\n",
    "Factors that **determine** a video's long-term popularity:\n",
    "- like/dislike ratio: `stats.like\tstats.dislike`\n",
    "- number of comments: `stats.comment`\n",
    "- number of views: `stats.view`"
   ]
  },
  {
   "cell_type": "markdown",
   "metadata": {},
   "source": [
    "# Dataset(s)"
   ]
  },
  {
   "cell_type": "markdown",
   "metadata": {},
   "source": [
    "*Fill in your dataset information here*\n",
    "\n",
    "(Copy this information for each dataset)\n",
    "- Dataset Name:\n",
    "- Link to the dataset:\n",
    "- Number of observations:\n",
    "\n",
    "1-2 sentences describing each dataset. \n",
    "\n",
    "If you plan to use multiple datasets, add 1-2 sentences about how you plan to combine these datasets."
   ]
  },
  {
   "cell_type": "markdown",
   "metadata": {},
   "source": [
    "# Setup"
   ]
  },
  {
   "cell_type": "code",
   "execution_count": 1,
   "metadata": {},
   "outputs": [],
   "source": [
    "import sys\n",
    "\n",
    "!{sys.executable} -m pip install --quiet --user --upgrade pandas==1.*\n",
    "!{sys.executable} -m pip install --quiet --user --upgrade -r EDA/requirements.txt"
   ]
  },
  {
   "cell_type": "code",
   "execution_count": 2,
   "metadata": {},
   "outputs": [],
   "source": [
    "import IPython\n",
    "import IPython.display as disp\n",
    "\n",
    "IPython.core.interactiveshell.\\\n",
    "    InteractiveShell.ast_node_interactivity = \"all\"\n",
    "\n",
    "def clear():\n",
    "    disp.clear_output(wait = True)\n",
    "\n",
    "def output(disp_os):\n",
    "    for d in disp_os:\n",
    "        disp.display(d)\n",
    "\n",
    "def results_report(disp_os, name = ''):\n",
    "    output([\n",
    "            disp.Markdown('---'), \n",
    "            disp.Markdown(f'# Results - {name}')\n",
    "        ] + disp_os + \n",
    "        [disp.Markdown('---')]\n",
    "    )"
   ]
  },
  {
   "cell_type": "code",
   "execution_count": 3,
   "metadata": {},
   "outputs": [],
   "source": [
    "from EDA.dcollect import restful\n",
    "from EDA.dcollect import api_youtube as youtube\n",
    "from EDA.dcollect import api_youtubei as youtubei\n",
    "\n",
    "import pandas as pd\n",
    "\n",
    "\n",
    "def df_report(dfs, full = False, *args, **kwargs):\n",
    "    dfs = [dfs] if not isinstance(dfs, list) else dfs\n",
    "    for df in dfs:\n",
    "        results_report([\n",
    "            disp.Markdown('## Data Preview'),\n",
    "            df.head() if not full else df,\n",
    "            disp.Markdown('## Stats'),\n",
    "            df.describe()\n",
    "        ], *args, **kwargs)"
   ]
  },
  {
   "cell_type": "markdown",
   "metadata": {},
   "source": [
    "# Data Cleaning"
   ]
  },
  {
   "cell_type": "markdown",
   "metadata": {},
   "source": [
    "Describe your data cleaning steps here."
   ]
  },
  {
   "cell_type": "code",
   "execution_count": 4,
   "metadata": {},
   "outputs": [],
   "source": [
    "## YOUR CODE HERE\n",
    "## FEEL FREE TO ADD MULTIPLE CELLS PER SECTION"
   ]
  },
  {
   "cell_type": "markdown",
   "metadata": {},
   "source": [
    "# Data Analysis & Results"
   ]
  },
  {
   "cell_type": "markdown",
   "metadata": {},
   "source": [
    "Include cells that describe the steps in your data analysis."
   ]
  },
  {
   "cell_type": "code",
   "execution_count": 5,
   "metadata": {},
   "outputs": [
    {
     "output_type": "display_data",
     "data": {
      "text/plain": "<IPython.core.display.Markdown object>",
      "text/markdown": "---"
     },
     "metadata": {}
    },
    {
     "output_type": "display_data",
     "data": {
      "text/plain": "<IPython.core.display.Markdown object>",
      "text/markdown": "# Results - Search Results"
     },
     "metadata": {}
    },
    {
     "output_type": "display_data",
     "data": {
      "text/plain": "<IPython.core.display.Markdown object>",
      "text/markdown": "## Data Preview"
     },
     "metadata": {}
    },
    {
     "output_type": "display_data",
     "data": {
      "text/plain": "                                                                                title  \\\nid          creator.id                                                                  \n6bGpGQ08gQs UCF4Wxdo3inmxP-Y59wXDsFw  피로 물든 미얀마…무차별 발포에 30명 사망 (2021.03.01/뉴스데스크/MBC)   \n\n                                                                            description  \\\nid          creator.id                                                                    \n6bGpGQ08gQs UCF4Wxdo3inmxP-Y59wXDsFw  미얀마 군부가 쿠데타를 일으킨지 한 달 째, 미얀마에선 '피의 일요일'이 반복되고 ...   \n\n                                                          time  \\\nid          creator.id                                           \n6bGpGQ08gQs UCF4Wxdo3inmxP-Y59wXDsFw 2021-03-01 11:24:24+00:00   \n\n                                              length  \\\nid          creator.id                                 \n6bGpGQ08gQs UCF4Wxdo3inmxP-Y59wXDsFw 0 days 00:02:31   \n\n                                                                                   tags  \\\nid          creator.id                                                                    \n6bGpGQ08gQs UCF4Wxdo3inmxP-Y59wXDsFw  [MBC, MBC뉴스, 뉴스데스크, newsdesk, 뉴스투데이, newstoday...   \n\n                                             category  stats.like  \\\nid          creator.id                                              \n6bGpGQ08gQs UCF4Wxdo3inmxP-Y59wXDsFw  News & Politics        4210   \n\n                                      stats.dislike  stats.comment  \\\nid          creator.id                                               \n6bGpGQ08gQs UCF4Wxdo3inmxP-Y59wXDsFw            123           4224   \n\n                                      stats.view video.quality creator.title  \\\nid          creator.id                                                         \n6bGpGQ08gQs UCF4Wxdo3inmxP-Y59wXDsFw      553576            HD       MBCNEWS   \n\n                                                                    creator.description  \\\nid          creator.id                                                                    \n6bGpGQ08gQs UCF4Wxdo3inmxP-Y59wXDsFw  MBC 뉴스 공식 유튜브 채널입니다. 시청자 여러분의 의견과 제보를 항상 기다립니다...   \n\n                                                  creator.time  \\\nid          creator.id                                           \n6bGpGQ08gQs UCF4Wxdo3inmxP-Y59wXDsFw 2006-11-05 21:58:51+00:00   \n\n                                      creator.stats.follower  \\\nid          creator.id                                         \n6bGpGQ08gQs UCF4Wxdo3inmxP-Y59wXDsFw                 1140000   \n\n                                      creator.stats.view  creator.stats.post  \\\nid          creator.id                                                         \n6bGpGQ08gQs UCF4Wxdo3inmxP-Y59wXDsFw          2169439928              101323   \n\n                                      has_ad  has_ad_at_beginning  \nid          creator.id                                             \n6bGpGQ08gQs UCF4Wxdo3inmxP-Y59wXDsFw    True                 True  ",
      "text/html": "<div>\n<style scoped>\n    .dataframe tbody tr th:only-of-type {\n        vertical-align: middle;\n    }\n\n    .dataframe tbody tr th {\n        vertical-align: top;\n    }\n\n    .dataframe thead th {\n        text-align: right;\n    }\n</style>\n<table border=\"1\" class=\"dataframe\">\n  <thead>\n    <tr style=\"text-align: right;\">\n      <th></th>\n      <th></th>\n      <th>title</th>\n      <th>description</th>\n      <th>time</th>\n      <th>length</th>\n      <th>tags</th>\n      <th>category</th>\n      <th>stats.like</th>\n      <th>stats.dislike</th>\n      <th>stats.comment</th>\n      <th>stats.view</th>\n      <th>video.quality</th>\n      <th>creator.title</th>\n      <th>creator.description</th>\n      <th>creator.time</th>\n      <th>creator.stats.follower</th>\n      <th>creator.stats.view</th>\n      <th>creator.stats.post</th>\n      <th>has_ad</th>\n      <th>has_ad_at_beginning</th>\n    </tr>\n    <tr>\n      <th>id</th>\n      <th>creator.id</th>\n      <th></th>\n      <th></th>\n      <th></th>\n      <th></th>\n      <th></th>\n      <th></th>\n      <th></th>\n      <th></th>\n      <th></th>\n      <th></th>\n      <th></th>\n      <th></th>\n      <th></th>\n      <th></th>\n      <th></th>\n      <th></th>\n      <th></th>\n      <th></th>\n      <th></th>\n    </tr>\n  </thead>\n  <tbody>\n    <tr>\n      <th>6bGpGQ08gQs</th>\n      <th>UCF4Wxdo3inmxP-Y59wXDsFw</th>\n      <td>피로 물든 미얀마…무차별 발포에 30명 사망 (2021.03.01/뉴스데스크/MBC)</td>\n      <td>미얀마 군부가 쿠데타를 일으킨지 한 달 째, 미얀마에선 '피의 일요일'이 반복되고 ...</td>\n      <td>2021-03-01 11:24:24+00:00</td>\n      <td>0 days 00:02:31</td>\n      <td>[MBC, MBC뉴스, 뉴스데스크, newsdesk, 뉴스투데이, newstoday...</td>\n      <td>News &amp; Politics</td>\n      <td>4210</td>\n      <td>123</td>\n      <td>4224</td>\n      <td>553576</td>\n      <td>HD</td>\n      <td>MBCNEWS</td>\n      <td>MBC 뉴스 공식 유튜브 채널입니다. 시청자 여러분의 의견과 제보를 항상 기다립니다...</td>\n      <td>2006-11-05 21:58:51+00:00</td>\n      <td>1140000</td>\n      <td>2169439928</td>\n      <td>101323</td>\n      <td>True</td>\n      <td>True</td>\n    </tr>\n  </tbody>\n</table>\n</div>"
     },
     "metadata": {}
    },
    {
     "output_type": "display_data",
     "data": {
      "text/plain": "<IPython.core.display.Markdown object>",
      "text/markdown": "## Stats"
     },
     "metadata": {}
    },
    {
     "output_type": "display_data",
     "data": {
      "text/plain": "                length  stats.like  stats.dislike  stats.comment  stats.view  \\\ncount                1         1.0            1.0            1.0         1.0   \nmean   0 days 00:02:31      4210.0          123.0         4224.0    553576.0   \nstd                NaT         NaN            NaN            NaN         NaN   \nmin    0 days 00:02:31      4210.0          123.0         4224.0    553576.0   \n25%    0 days 00:02:31      4210.0          123.0         4224.0    553576.0   \n50%    0 days 00:02:31      4210.0          123.0         4224.0    553576.0   \n75%    0 days 00:02:31      4210.0          123.0         4224.0    553576.0   \nmax    0 days 00:02:31      4210.0          123.0         4224.0    553576.0   \n\n       creator.stats.follower  creator.stats.view  creator.stats.post  \ncount                     1.0        1.000000e+00                 1.0  \nmean                1140000.0        2.169440e+09            101323.0  \nstd                       NaN                 NaN                 NaN  \nmin                 1140000.0        2.169440e+09            101323.0  \n25%                 1140000.0        2.169440e+09            101323.0  \n50%                 1140000.0        2.169440e+09            101323.0  \n75%                 1140000.0        2.169440e+09            101323.0  \nmax                 1140000.0        2.169440e+09            101323.0  ",
      "text/html": "<div>\n<style scoped>\n    .dataframe tbody tr th:only-of-type {\n        vertical-align: middle;\n    }\n\n    .dataframe tbody tr th {\n        vertical-align: top;\n    }\n\n    .dataframe thead th {\n        text-align: right;\n    }\n</style>\n<table border=\"1\" class=\"dataframe\">\n  <thead>\n    <tr style=\"text-align: right;\">\n      <th></th>\n      <th>length</th>\n      <th>stats.like</th>\n      <th>stats.dislike</th>\n      <th>stats.comment</th>\n      <th>stats.view</th>\n      <th>creator.stats.follower</th>\n      <th>creator.stats.view</th>\n      <th>creator.stats.post</th>\n    </tr>\n  </thead>\n  <tbody>\n    <tr>\n      <th>count</th>\n      <td>1</td>\n      <td>1.0</td>\n      <td>1.0</td>\n      <td>1.0</td>\n      <td>1.0</td>\n      <td>1.0</td>\n      <td>1.000000e+00</td>\n      <td>1.0</td>\n    </tr>\n    <tr>\n      <th>mean</th>\n      <td>0 days 00:02:31</td>\n      <td>4210.0</td>\n      <td>123.0</td>\n      <td>4224.0</td>\n      <td>553576.0</td>\n      <td>1140000.0</td>\n      <td>2.169440e+09</td>\n      <td>101323.0</td>\n    </tr>\n    <tr>\n      <th>std</th>\n      <td>NaT</td>\n      <td>NaN</td>\n      <td>NaN</td>\n      <td>NaN</td>\n      <td>NaN</td>\n      <td>NaN</td>\n      <td>NaN</td>\n      <td>NaN</td>\n    </tr>\n    <tr>\n      <th>min</th>\n      <td>0 days 00:02:31</td>\n      <td>4210.0</td>\n      <td>123.0</td>\n      <td>4224.0</td>\n      <td>553576.0</td>\n      <td>1140000.0</td>\n      <td>2.169440e+09</td>\n      <td>101323.0</td>\n    </tr>\n    <tr>\n      <th>25%</th>\n      <td>0 days 00:02:31</td>\n      <td>4210.0</td>\n      <td>123.0</td>\n      <td>4224.0</td>\n      <td>553576.0</td>\n      <td>1140000.0</td>\n      <td>2.169440e+09</td>\n      <td>101323.0</td>\n    </tr>\n    <tr>\n      <th>50%</th>\n      <td>0 days 00:02:31</td>\n      <td>4210.0</td>\n      <td>123.0</td>\n      <td>4224.0</td>\n      <td>553576.0</td>\n      <td>1140000.0</td>\n      <td>2.169440e+09</td>\n      <td>101323.0</td>\n    </tr>\n    <tr>\n      <th>75%</th>\n      <td>0 days 00:02:31</td>\n      <td>4210.0</td>\n      <td>123.0</td>\n      <td>4224.0</td>\n      <td>553576.0</td>\n      <td>1140000.0</td>\n      <td>2.169440e+09</td>\n      <td>101323.0</td>\n    </tr>\n    <tr>\n      <th>max</th>\n      <td>0 days 00:02:31</td>\n      <td>4210.0</td>\n      <td>123.0</td>\n      <td>4224.0</td>\n      <td>553576.0</td>\n      <td>1140000.0</td>\n      <td>2.169440e+09</td>\n      <td>101323.0</td>\n    </tr>\n  </tbody>\n</table>\n</div>"
     },
     "metadata": {}
    },
    {
     "output_type": "display_data",
     "data": {
      "text/plain": "<IPython.core.display.Markdown object>",
      "text/markdown": "---"
     },
     "metadata": {}
    }
   ],
   "source": [
    "## YOUR CODE HERE\n",
    "## FEEL FREE TO ADD MULTIPLE CELLS PER SECTION\n",
    "df_search_details = pd.read_pickle('EDA/dsamples/youtube_search.pkl')\n",
    "df_report(df_search_details, name = 'Search Results')\n"
   ]
  },
  {
   "cell_type": "code",
   "execution_count": 7,
   "metadata": {},
   "outputs": [],
   "source": [
    "#youtube.types.topic.all[restful.types.region.US]\n",
    "assert(youtube.types.topic(1).__eq__('Film & Animation'))\n",
    "\n"
   ]
  },
  {
   "cell_type": "markdown",
   "metadata": {},
   "source": [
    "# Ethics & Privacy"
   ]
  },
  {
   "cell_type": "markdown",
   "metadata": {},
   "source": [
    "*Fill in your ethics & privacy discussion here*"
   ]
  },
  {
   "cell_type": "markdown",
   "metadata": {},
   "source": [
    "# Conclusion & Discussion"
   ]
  },
  {
   "cell_type": "markdown",
   "metadata": {},
   "source": [
    "*Fill in your discussion information here*"
   ]
  },
  {
   "cell_type": "markdown",
   "metadata": {},
   "source": [
    "# Team Contributions"
   ]
  },
  {
   "cell_type": "markdown",
   "metadata": {},
   "source": [
    "*Specify who in your group worked on which parts of the project.*"
   ]
  }
 ],
 "metadata": {
  "kernelspec": {
   "display_name": "Python 3",
   "language": "python",
   "name": "python3"
  },
  "language_info": {
   "codemirror_mode": {
    "name": "ipython",
    "version": 3
   },
   "file_extension": ".py",
   "mimetype": "text/x-python",
   "name": "python",
   "nbconvert_exporter": "python",
   "pygments_lexer": "ipython3",
   "version": "3.6.8-final"
  }
 },
 "nbformat": 4,
 "nbformat_minor": 2
}