{
 "cells": [
  {
   "cell_type": "markdown",
   "metadata": {},
   "source": [
    "# COGS 108 - Final Project Proposal"
   ]
  },
  {
   "cell_type": "markdown",
   "metadata": {},
   "source": [
    "# Names\n",
    "\n",
    "- Jared (Ruotian) Chen\n",
    "- Jimin Cheon\n",
    "- Kane Gu\n",
    "- Laurence D'Ercole\n",
    "- Nisha Davankar"
   ]
  },
  {
   "cell_type": "markdown",
   "metadata": {},
   "source": [
    "# Research Question"
   ]
  },
  {
   "cell_type": "markdown",
   "metadata": {},
   "source": [
    "## Screen Time, Social media \n",
    "- How much does the duration of content/video affect the success of social media apps\n",
    "- Does the duration of a video on Facebook affect the likelihood of the video being shared? KG JC\n",
    "- **Does the duration (seconds) of a video affect the popularity (liking or/and sharing) of the video on social media apps such as tiktok?** (We like this one the most) \n",
    "- Does the amount of screen time affect quality of sleep/obesity? \n"
   ]
  },
  {
   "cell_type": "markdown",
   "metadata": {},
   "source": [
    "## Background and Prior Work"
   ]
  },
  {
   "cell_type": "markdown",
   "metadata": {},
   "source": [
    "The Technical University of Denmark did a study measuring how long it took for certain topics to become popular, remain popular, and fade in various platforms. This study focussed on topics that became trending and then quickly left peoples radar. Professor Sune suggested \"It seems that the allocated attention time in our collective minds has a certain size but the cultural items competing for that attention have become more densely packed.\" In other words, peoples attention span is limited as long as the incoming information continues to grow. In addition, people may find less \"merit\" in focusing on old topics when they can gain more \"merit\" by indulging in new topics. Since people enjoy \"newness\" and a shorter time span, the amount of time spent on each topic tends to decrease. The results of the study seem to suggest that people are likely to prefer shorter videos as they want to constantly switch to new and \"intriguing\" videos instead of watching something long.  \n",
    "\n",
    "References (include links):\n",
    "\n",
    "1. [Short-Form Video Is Here to Stay. But Is The 30 Second Spot Out the Door?](https://www.martechadvisor.com/articles/interactive-marketing/shortform-video-is-here-to-stay-but-is-the-30-second-spot-out-the-door/)\n",
    "2. [Global attention span is narrowing and trends don't last as long, study reveals](https://www.theguardian.com/society/2019/apr/16/got-a-minute-global-attention-span-is-narrowing-study-reveals)\n"
   ]
  },
  {
   "cell_type": "markdown",
   "metadata": {},
   "source": [
    "# Hypothesis\n"
   ]
  },
  {
   "cell_type": "markdown",
   "metadata": {},
   "source": [
    "We hypothesize that a shorter duration of a video will increase the popularity (liking and sharing) of a video because according to the research by Professor Sue in Technical University of Denmark, people tend to enjoy the input of newer information and thus prefer shorter videos to more on swiftly. "
   ]
  },
  {
   "cell_type": "markdown",
   "metadata": {},
   "source": [
    "# Data"
   ]
  },
  {
   "cell_type": "markdown",
   "metadata": {},
   "source": [
    "*Explain what the ideal dataset you would want to answer this question. (This should include: What variables? How many observations? Who/what/how would these data be collected? How would these data be stored/organized?)*"
   ]
  },
  {
   "source": [
    "The ideal dataset would contain:\n",
    "- Variables: `[\"video_duration\", \"year\", \"statistics\"]`\n",
    "- Observations: At least a 100 observations per year or day ([YouTube’s `videos` API](https://developers.google.com/youtube/v3/docs/videos/list) gives 200 at maximum per day)\n",
    "\n",
    "# Platforms\n",
    "## YouTube\n",
    "For YouTube, data collection will last at least 30 days, assuming that YouTube updates its \"most popular\" chart (`chart=mostPopular`) every 12 hours. By the end of the collection we expect to have at least `30 * 100 = 3000` observations (again, for YouTube) in our dataset.\n",
    "\n",
    "One interesting thing to note is that YouTube's \"most popular\" ranking isn't in direct correlation with view counts. As a matter of fact, none of the \"viral\" videos (e.g. [dQw4w9WgXcQ](https://youtu.be/dQw4w9WgXcQ), [\"yee\"](https://youtu.be/q6EoRBvdVPQ), [Despacito](https://www.youtu.be/kJQP7kiw5Fk)) that we know of are in the dataset provided by YouTube. This poses challenges to our data collection process, because we aren't entirely sure what criteria need to be met for a video to be on the \"chart.\" \n",
    "\n",
    "## TikTok\n",
    "TikTok doesn't expose its statistics API to the public but they use it internally in their app (not website). See documentation below for details.\n",
    "\n",
    "# API documentations for reference\n",
    "----\n",
    "\n",
    "# YouTube API\n",
    "See [Google's official documentation](https://developers.google.com/youtube/v3/docs/videos/list).\n",
    "## EXAMPLES\n",
    "#### Get statistics for one trending video\n",
    "HTTP request\n",
    "```\n",
    "GET https://youtube.googleapis.com/youtube/v3/videos?part=statistics&part=contentDetails&part=snippet&chart=mostPopular&maxResults=1&key=[YOUTUBE_API_KEY]\n",
    "```\n",
    "\n",
    "# TikTok API\n",
    "## REQUEST\n",
    "### HTTP Request\n",
    "```\n",
    "GET https://www.tiktok.com/api/item_list\n",
    "```\n",
    "### Parameters\n",
    "#### Required parameters\n",
    "| Parameter    | Type      | Usage                                             |\n",
    "|--------------|-----------|---------------------------------------------------|\n",
    "| `sourceType` | `integer` | Source type. In this case, `12` is \"trending.\"    |\n",
    "| `appId`      | `integer` | Set this parameter to `1233`.                     |\n",
    "| `count`      | `integer` | Specify maximum number of results to be returned. |\n",
    "| `id`         | `integer` | Set this parameter to `1`.                        |\n",
    "| `secUid`     | `string`  | Unknown.                                          |\n",
    "| `maxCursor`  | `integer` | Unknown.                                          |\n",
    "| `minCursor`  | `integer` | Unknown.                                          |\n",
    " \n",
    "#### Filters (optional)\n",
    "| Parameter         | Type     | Usage    |\n",
    "|-------------------|----------|----------|\n",
    "| `region`          | `string` | Unknown. |\n",
    "| `priority_region` | `string` | Unknown. |\n",
    "| `language`        | `string` | Unknown. |\n",
    " \n",
    "#### Optional parameters\n",
    "| Parameter | Type | Usage |\n",
    "|-----------|------|-------|\n",
    "| N/A       | N/A  | N/A   |\n",
    " \n",
    "### Request Body\n",
    "Not required.\n",
    " \n",
    "## RESPONSE\n",
    "To be documented.\n",
    " \n",
    "## EXAMPLES\n",
    "#### Get statistics for one trending video\n",
    "HTTP request\n",
    "```\n",
    "GET https://www.tiktok.com/api/item_list/?appId=1233&sourceType=12&id=1&secUid=&count=1&maxCursor=0&minCursor=0\n",
    "```\n",
    "Query parameters in JSON\n",
    "```json\n",
    "{\n",
    "    \"appId\": 1233,\n",
    "    \"sourceType\": 12,\n",
    "    \"id\": 1,\n",
    "    \"secUid\": \"\",\n",
    "    \"count\": 1,\n",
    "    \"maxCursor\": 0,\n",
    "    \"minCursor\": 0\n",
    "}\n",
    "```\n",
    "\n",
    "----\n",
    "\n",
    "** Platforms with API access will be prioritized during the data collection process. \n"
   ],
   "cell_type": "markdown",
   "metadata": {}
  },
  {
   "cell_type": "markdown",
   "metadata": {},
   "source": [
    "# Ethics & Privacy"
   ]
  },
  {
   "cell_type": "markdown",
   "metadata": {},
   "source": [
    "This research conforms to the privacy policies of data providing social media platforms. Because our research question is about social media it encompasses many different people, and while we can estimate a common age range for social media users, even those without one can still view these videos and still contribute to the stats behind those videos (no matter the media platform). These stats are also used to make algorithmic recommendations to everyone who accesses the platform (like youtube), therefore we believe our project scope would include some general internet users in addition to those actually active on social media. Our data would  come from the platform API’s (most likely youtube), which includes the account username for the content creator, but does not include any other personal identifying information about those who view/liked/disliked. We believe that privacy concerns would be minimal with this dataset. One concern we have is about the transparency of the youtube algorithm for its charts or recommendations. We would have to investigate and research further in order to incorporate our data and with the algorithm information in order to conduct a deeper analysis. Because the data we are looking at (likes, dislikes, shares, views, etc.) is readily available from the API, we believe it would not be a problem to continuously update information as time goes on and new data becomes available."
   ]
  },
  {
   "cell_type": "markdown",
   "metadata": {},
   "source": [
    "# Team Expectations "
   ]
  },
  {
   "cell_type": "markdown",
   "metadata": {},
   "source": [
    "- Work on a timely manner and complete individual responsibility according to the schedule\n",
    "- Work collaboratively and inclusively with all team members \n",
    "- Communicate with the whole team regularly to finalize ideas\n",
    "- Attend the scheduled meetings and actively participate"
   ]
  },
  {
   "cell_type": "markdown",
   "metadata": {},
   "source": [
    "# Project Timeline Proposal"
   ]
  },
  {
   "cell_type": "markdown",
   "metadata": {},
   "source": [
    "| Meeting Date | Meeting Time    | Completed Before Meeting                | Discuss at Meeting                            |\n",
    "|--------------|-----------------|-----------------------------------------|-----------------------------------------------|\n",
    "| 2/2          | 6:00 PM         | Project Proposal done                   | Roles, data wrangling                         |\n",
    "| 2/9          | 6:00 PM         | Review feedback, Part of data wrangling | EDA ideas                                     |\n",
    "| 2/16         | 6:00 PM         | Data wrangling and Partial EDA          | Discuss analysis and EDA                      |\n",
    "| 3/2          | 6:00 PM         | Outline of Analysis and EDA             | Continue Analysis                             |\n",
    "| 3/9          | 6:00 PM         | Finish Analysis                         | Ethics, Meeting with TA                       |\n",
    "| 3/16         | 6:00 PM         | Draft done                              | Final review                                  |\n",
    "| 3/19         | Before 11:59 PM | N/A                                     | Turn in Final Project & Group Project Surveys |"
   ]
  }
 ],
 "metadata": {
  "kernelspec": {
   "display_name": "Python 3",
   "language": "python",
   "name": "python3"
  },
  "language_info": {
   "codemirror_mode": {
    "name": "ipython",
    "version": 3
   },
   "file_extension": ".py",
   "mimetype": "text/x-python",
   "name": "python",
   "nbconvert_exporter": "python",
   "pygments_lexer": "ipython3",
   "version": "3.7.9"
  }
 },
 "nbformat": 4,
 "nbformat_minor": 2
}