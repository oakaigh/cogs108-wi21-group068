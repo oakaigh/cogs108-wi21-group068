{
 "cells": [
  {
   "cell_type": "markdown",
   "metadata": {},
   "source": [
    "# COGS 108 - Final Project Proposal"
   ]
  },
  {
   "cell_type": "markdown",
   "metadata": {},
   "source": [
    "# Names\n",
    "\n",
    "- Jared (Ruotian) Chen\n",
    "- Jimin\n",
    "- Kane Gu\n",
    "- Lawrence\n",
    "- Wasp"
   ]
  },
  {
   "cell_type": "markdown",
   "metadata": {},
   "source": [
    "# Research Question"
   ]
  },
  {
   "cell_type": "markdown",
   "metadata": {},
   "source": [
    "*Fill in your research question here*"
   ]
  },
  {
   "cell_type": "markdown",
   "metadata": {},
   "source": [
    "## Background and Prior Work"
   ]
  },
  {
   "cell_type": "markdown",
   "metadata": {},
   "source": [
    "*Fill in your background and prior work here. Be sure to specify which statements are from which references.* \n",
    "\n",
    "References (include links):\n",
    "- 1)\n",
    "- 2)"
   ]
  },
  {
   "cell_type": "markdown",
   "metadata": {},
   "source": [
    "# Hypothesis\n"
   ]
  },
  {
   "cell_type": "markdown",
   "metadata": {},
   "source": [
    "*State and defend your hypotheses here.*"
   ]
  },
  {
   "cell_type": "markdown",
   "metadata": {},
   "source": [
    "# Data"
   ]
  },
  {
   "cell_type": "markdown",
   "metadata": {},
   "source": [
    "*Explain what the ideal dataset you would want to answer this question. (This should include: What variables? How many observations? Who/what/how would these data be collected? How would these data be stored/organized?)*"
   ]
  },
  {
   "source": [
    "The ideal dataset would contain:\n",
    "- Variables: `[\"video_duration\", \"year\", \"statistics\"]`\n",
    "- Observations: At least a 100 observations per year or day ([YouTube’s `videos` API](https://developers.google.com/youtube/v3/docs/videos/list) gives 200 maximum per day)\n",
    "\n",
    "## YouTube\n",
    "For YouTube, data collection will last at least 30 days, assuming that YouTube updates its \"most popular\" chart (`chart=mostPopular`) every 12 hours. By the end of the collection we expect to have at least `30 * 100 = 3000` observations (again, for YouTube) in our dataset.\n",
    "\n",
    "One interesting thing to note is that YouTube's \"most popular\" ranking isn't in direct correlation with view counts. As a matter of fact, none of the \"viral\" videos (e.g. [dQw4w9WgXcQ](https://youtu.be/dQw4w9WgXcQ), [\"yee\"](https://youtu.be/q6EoRBvdVPQ), [Despacito](https://www.youtu.be/kJQP7kiw5Fk)) that we know of are in the dataset provided by YouTube. This poses challenges to our data collection process, because we aren't entirely sure what criteria need to be met for a video to be on the \"chart.\" \n",
    "\n",
    "## TikTok\n",
    "TikTok doesn't expose its statistics API to the public but they use it internally in their app (not website). See documentation below for details.\n",
    "\n",
    "----\n",
    "\n",
    "# YouTube API\n",
    "See [Google's official documentation](https://developers.google.com/youtube/v3/docs/videos/list).\n",
    "## EXAMPLES\n",
    "#### Get statistics for one trending video\n",
    "HTTP request\n",
    "```\n",
    "GET https://youtube.googleapis.com/youtube/v3/videos?part=statistics&part=contentDetails&part=snippet&chart=mostPopular&maxResults=1&key=[YOUTUBE_API_KEY]\n",
    "```\n",
    " \n",
    " \n",
    "# TikTok API\n",
    " \n",
    "## REQUEST\n",
    " \n",
    "### HTTP Request\n",
    "```\n",
    "GET https://www.tiktok.com/api/item_list\n",
    "```\n",
    " \n",
    "### Parameters\n",
    "#### Required parameters\n",
    "| Parameter    | Type      | Usage                                             |\n",
    "|--------------|-----------|---------------------------------------------------|\n",
    "| `sourceType` | `integer` | Source type. In this case, `12` is \"trending.\"    |\n",
    "| `appId`      | `integer` | Set this parameter to `1233`.                     |\n",
    "| `count`      | `integer` | Specify maximum number of results to be returned. |\n",
    "| `id`         | `integer` | Set this parameter to `1`.                        |\n",
    "| `secUid`     | `string`  | Unknown.                                          |\n",
    "| `maxCursor`  | `integer` | Unknown.                                          |\n",
    "| `minCursor`  | `integer` | Unknown.                                          |\n",
    " \n",
    "#### Filters (optional)\n",
    "| Parameter         | Type     | Usage    |\n",
    "|-------------------|----------|----------|\n",
    "| `region`          | `string` | Unknown. |\n",
    "| `priority_region` | `string` | Unknown. |\n",
    "| `language`        | `string` | Unknown. |\n",
    " \n",
    "#### Optional parameters\n",
    "| Parameter    | Type      | Usage                                            |\n",
    "|--------------|-----------|--------------------------------------------------|\n",
    "|              |           |                                                  |\n",
    " \n",
    "### Request Body\n",
    "Not required.\n",
    " \n",
    "## RESPONSE\n",
    "To be documented.\n",
    " \n",
    "## EXAMPLES\n",
    "#### Get statistics for one trending video\n",
    "HTTP request\n",
    "```\n",
    "GET https://www.tiktok.com/api/item_list/?appId=1233&sourceType=12&id=1&secUid=&count=1&maxCursor=0&minCursor=0\n",
    "```\n",
    "Query parameters in JSON\n",
    "```json\n",
    "{\n",
    "    \"appId\": 1233,\n",
    "    \"sourceType\": 12,\n",
    "    \"id\": 1,\n",
    "    \"secUid\": \"\",\n",
    "    \"count\": 1,\n",
    "    \"maxCursor\": 0,\n",
    "    \"minCursor\": 0\n",
    "}\n",
    "```\n",
    " \n",
    "----\n",
    "\n",
    "** Platforms with API access will be prioritized during the data collection process. \n"
   ],
   "cell_type": "markdown",
   "metadata": {}
  },
  {
   "cell_type": "markdown",
   "metadata": {},
   "source": [
    "# Ethics & Privacy"
   ]
  },
  {
   "cell_type": "markdown",
   "metadata": {},
   "source": [
    "*Fill in your ethics & privacy discussion here*"
   ]
  },
  {
   "cell_type": "markdown",
   "metadata": {},
   "source": [
    "# Team Expectations "
   ]
  },
  {
   "cell_type": "markdown",
   "metadata": {},
   "source": [
    "* *Team Expectation 1*\n",
    "* *Team Expectation 2*\n",
    "* *Team Expecation 3*\n",
    "* ..."
   ]
  },
  {
   "cell_type": "markdown",
   "metadata": {},
   "source": [
    "# Project Timeline Proposal"
   ]
  },
  {
   "cell_type": "markdown",
   "metadata": {},
   "source": [
    "| Meeting Date  | Meeting Time| Completed Before Meeting  | Discuss at Meeting |\n",
    "|---|---|---|---|\n",
    "| 1/20  |  1 PM | Read & Think about COGS 108 expectations; brainstorm topics/questions  | Determine best form of communication; Discuss and decide on final project topic; discuss hypothesis; begin background research | \n",
    "| 1/26  |  10 AM |  Do background research on topic | Discuss ideal dataset(s) and ethics; draft project proposal | \n",
    "| 2/1  | 10 AM  | Edit, finalize, and submit proposal; Search for datasets  | Discuss Wrangling and possible analytical approaches; Assign group members to lead each specific part   |\n",
    "| 2/14  | 6 PM  | Import & Wrangle Data (Ant Man); EDA (Hulk) | Review/Edit wrangling/EDA; Discuss Analysis Plan   |\n",
    "| 2/23  | 12 PM  | Finalize wrangling/EDA; Begin Analysis (Iron Man; Thor) | Discuss/edit Analysis; Complete project check-in |\n",
    "| 3/13  | 12 PM  | Complete analysis; Draft results/conclusion/discussion (Wasp)| Discuss/edit full project |\n",
    "| 3/19  | Before 11:59 PM  | NA | Turn in Final Project & Group Project Surveys |"
   ]
  }
 ],
 "metadata": {
  "kernelspec": {
   "display_name": "Python 3",
   "language": "python",
   "name": "python3"
  },
  "language_info": {
   "codemirror_mode": {
    "name": "ipython",
    "version": 3
   },
   "file_extension": ".py",
   "mimetype": "text/x-python",
   "name": "python",
   "nbconvert_exporter": "python",
   "pygments_lexer": "ipython3",
   "version": "3.7.9"
  }
 },
 "nbformat": 4,
 "nbformat_minor": 2
}