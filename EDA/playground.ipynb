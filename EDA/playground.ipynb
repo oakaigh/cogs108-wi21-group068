{
 "metadata": {
  "language_info": {
   "codemirror_mode": {
    "name": "ipython",
    "version": 3
   },
   "file_extension": ".py",
   "mimetype": "text/x-python",
   "name": "python",
   "nbconvert_exporter": "python",
   "pygments_lexer": "ipython3",
   "version": "3.6.8-final"
  },
  "orig_nbformat": 2,
  "kernelspec": {
   "name": "python3",
   "display_name": "Python 3",
   "language": "python"
  }
 },
 "nbformat": 4,
 "nbformat_minor": 2,
 "cells": [
  {
   "source": [
    "# Playground"
   ],
   "cell_type": "markdown",
   "metadata": {}
  },
  {
   "cell_type": "code",
   "execution_count": null,
   "metadata": {},
   "outputs": [],
   "source": [
    "import sys\n",
    "\n",
    "!{sys.executable} -m pip install --quiet --user --upgrade pandas==1.*\n",
    "!{sys.executable} -m pip install --quiet --user --upgrade -r requirements.txt"
   ]
  },
  {
   "cell_type": "code",
   "execution_count": 1,
   "metadata": {},
   "outputs": [],
   "source": [
    "from goodies import *\n",
    "import pandas as pd\n",
    "\n"
   ]
  },
  {
   "cell_type": "code",
   "execution_count": 14,
   "metadata": {},
   "outputs": [
    {
     "output_type": "execute_result",
     "data": {
      "text/plain": [
       "65"
      ]
     },
     "metadata": {},
     "execution_count": 14
    }
   ],
   "source": [
    "df_youtube_trending = df_load_pickle('dsamples/youtube_trending.pkl')\n",
    "\n",
    "\n",
    "#df_youtube_trending[df_youtube_trending.index['id'].duplicated()]\n",
    "#df_youtube_trending = df_youtube_trending[df_youtube_trending.index.get_level_values('id').duplicated()]\n",
    "#df_youtube_trending = df_drop_duplicates(df_youtube_trending, level = 'id', keep = 'last')\n",
    "#df_youtube_trending.head()\n",
    "#df_youtube_trending.describe()\n",
    "\n",
    "\n",
    "#len(set(df_youtube_trending.index.droplevel('id')))#.duplicated() == df_youtube_trending.index.duplicated()\n",
    "\n"
   ]
  },
  {
   "cell_type": "code",
   "execution_count": null,
   "metadata": {},
   "outputs": [],
   "source": []
  }
 ]
}