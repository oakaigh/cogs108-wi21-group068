{
 "cells": [
  {
   "cell_type": "markdown",
   "metadata": {},
   "source": [
    "# Data Sampling"
   ]
  },
  {
   "cell_type": "markdown",
   "metadata": {},
   "source": [
    "## Setup"
   ]
  },
  {
   "cell_type": "code",
   "execution_count": 1,
   "metadata": {},
   "outputs": [],
   "source": [
    "import sys\n",
    "\n",
    "!{sys.executable} -m pip install --quiet --user --upgrade pandas==1.*\n",
    "!{sys.executable} -m pip install --quiet --user --upgrade -r requirements.txt"
   ]
  },
  {
   "cell_type": "code",
   "execution_count": 2,
   "metadata": {},
   "outputs": [],
   "source": [
    "from goodies import *\n",
    "import pandas as pd"
   ]
  },
  {
   "cell_type": "markdown",
   "metadata": {},
   "source": [
    "## Data Collection"
   ]
  },
  {
   "cell_type": "code",
   "execution_count": 3,
   "metadata": {},
   "outputs": [],
   "source": [
    "from dcollect import plugins\n",
    "\n",
    "modules = {'http': plugins.fasthttp()}\n",
    "headers = None"
   ]
  },
  {
   "cell_type": "markdown",
   "metadata": {},
   "source": [
    "### YouTube (United States)"
   ]
  },
  {
   "cell_type": "markdown",
   "metadata": {},
   "source": [
    "Initial setup. Be sure to have your API key ready. For details on how to obtain an API key, read [YouTube Data API Overview, Introduction: Before you start](https://developers.google.com/youtube/v3/getting-started#before-you-start)."
   ]
  },
  {
   "cell_type": "code",
   "execution_count": 4,
   "metadata": {},
   "outputs": [],
   "source": [
    "from dcollect import api_youtube as youtube\n",
    "from dcollect import api_youtubei as youtubei\n",
    "\n",
    "# This key is for testing ONLY. DO NOT release to the public!\n",
    "api_key_testing = None\n",
    "api_key = api_key_testing or input('YouTube Data API Key: ')"
   ]
  },
  {
   "cell_type": "markdown",
   "metadata": {},
   "source": [
    "#### Search"
   ]
  },
  {
   "cell_type": "code",
   "execution_count": 5,
   "metadata": {},
   "outputs": [],
   "source": [
    "count = 200\n",
    "keyword = ''"
   ]
  },
  {
   "cell_type": "markdown",
   "metadata": {},
   "source": [
    "##### STEP 1  API Object Creation"
   ]
  },
  {
   "cell_type": "code",
   "execution_count": 6,
   "metadata": {},
   "outputs": [],
   "source": [
    "# create a YouTube API object\n",
    "youtube_o = youtube.api(\n",
    "    modules = modules,\n",
    "    headers = headers,\n",
    "    key = api_key\n",
    ")\n",
    "\n",
    "# create a YouTube Internals API object\n",
    "youtubei_o = youtubei.api(\n",
    "    modules = modules,\n",
    "    headers = headers\n",
    ")"
   ]
  },
  {
   "cell_type": "markdown",
   "metadata": {},
   "source": [
    "##### STEP 2  Data Collection"
   ]
  },
  {
   "cell_type": "code",
   "execution_count": 7,
   "metadata": {},
   "outputs": [],
   "source": [
    "from dcollect.utils.thread import threading, thread\n",
    "from dcollect.utils.log import log\n",
    "\n",
    "# set logging level\n",
    "log.enable(level = log.levels.WARNING)\n",
    "\n",
    "\n",
    "df_trending = df_from_json(\n",
    "    youtube_o.video.trending(\n",
    "        count = count\n",
    "    )\n",
    ")\n",
    "\n",
    "df_channels = None\n",
    "df_ads = None\n",
    "\n",
    "thread.start([\n",
    "    threading.Thread(\n",
    "        # - channels\n",
    "        target = lambda: \\\n",
    "            globals().update(\n",
    "                df_channels = df_from_json(\n",
    "                    youtube_o.channel.info(\n",
    "                        id = df_trending['creator.id']\n",
    "                    )\n",
    "                )\n",
    "            )\n",
    "    ),\n",
    "    threading.Thread(\n",
    "        # - ad placements\n",
    "        target = lambda: \\\n",
    "            globals().update(\n",
    "                df_ads = df_from_json(\n",
    "                    youtubei_o.ad.placements(\n",
    "                        id = df_trending['id']\n",
    "                    )\n",
    "                )\n",
    "            )\n",
    "    )\n",
    "])\n",
    "thread.join()"
   ]
  },
  {
   "cell_type": "markdown",
   "metadata": {},
   "source": [
    "##### STEP 3  Data Cleaning\n"
   ]
  },
  {
   "cell_type": "code",
   "execution_count": 8,
   "metadata": {},
   "outputs": [],
   "source": [
    "# - ads (filter)\n",
    "def filter_has_ad(ads):\n",
    "    return not ads == None \n",
    "def filter_has_ad_beginning(ads):\n",
    "    if ads == None:\n",
    "        return False\n",
    "    for ad in ads:\n",
    "        if ad['kind'] == youtubei.resource.ad.kinds.START:\n",
    "            return True\n",
    "    return False\n",
    "# - * (filter)\n",
    "def drop_common(df, df_other, *args, **kwargs):\n",
    "    return df.drop(columns = df.columns & df_other.columns, *args, **kwargs)\n",
    "\n",
    "# - search\n",
    "df_trending.set_index(['id', 'creator.id'], inplace = True)\n",
    "# - channels\n",
    "df_channels = df_channels.add_prefix('creator.')\n",
    "df_channels.set_index(['creator.id'], inplace = True)\n",
    "# - ads\n",
    "df_ads.set_index(['id'], inplace = True)\n",
    "df_ads['has_ad'] = df_ads['ads'].apply(filter_has_ad)\n",
    "df_ads['has_ad_at_beginning'] = \\\n",
    "        df_ads['ads'].apply(filter_has_ad_beginning)\n",
    "df_ads.drop('ads', axis = 'columns', inplace = True)"
   ]
  },
  {
   "cell_type": "code",
   "execution_count": 19,
   "metadata": {},
   "outputs": [],
   "source": [
    "# - search (with details)\n",
    "df_trending_details = df_trending.copy()\n",
    "# - ads\n",
    "df_trending_details = df_trending_details.merge(\n",
    "    df_ads, \n",
    "    right_index = True, \n",
    "    left_on = 'id', \n",
    "    copy = False\n",
    ")\n",
    "# - channels\n",
    "df_trending_details_channels = df_channels"
   ]
  },
  {
   "cell_type": "markdown",
   "metadata": {},
   "source": [
    "##### STEP 4  Data Inspection\n"
   ]
  },
  {
   "cell_type": "code",
   "execution_count": 10,
   "metadata": {},
   "outputs": [
    {
     "output_type": "display_data",
     "data": {
      "text/plain": "<IPython.core.display.Markdown object>",
      "text/markdown": "---"
     },
     "metadata": {}
    },
    {
     "output_type": "display_data",
     "data": {
      "text/plain": "<IPython.core.display.Markdown object>",
      "text/markdown": "# Results - Trending"
     },
     "metadata": {}
    },
    {
     "output_type": "display_data",
     "data": {
      "text/plain": "<IPython.core.display.Markdown object>",
      "text/markdown": "## Data Preview"
     },
     "metadata": {}
    },
    {
     "output_type": "display_data",
     "data": {
      "text/plain": "                                                         title  \\\nid          creator.id                                           \nR0R0gSE1jmM UCw1SQ6QRRtfAhrN_cjkrOgA  lazarbeam skin is BROKEN   \n            UCw1SQ6QRRtfAhrN_cjkrOgA  lazarbeam skin is BROKEN   \n            UCw1SQ6QRRtfAhrN_cjkrOgA  lazarbeam skin is BROKEN   \n            UCw1SQ6QRRtfAhrN_cjkrOgA  lazarbeam skin is BROKEN   \ng5TxSM16S6Q UCw1SQ6QRRtfAhrN_cjkrOgA   first game with MY SKIN   \n\n                                                                            description  \\\nid          creator.id                                                                    \nR0R0gSE1jmM UCw1SQ6QRRtfAhrN_cjkrOgA  the lazarbeam skin has a few bugs...\\n\\nCODE L...   \n            UCw1SQ6QRRtfAhrN_cjkrOgA  the lazarbeam skin has a few bugs...\\n\\nCODE L...   \n            UCw1SQ6QRRtfAhrN_cjkrOgA  the lazarbeam skin has a few bugs...\\n\\nCODE L...   \n            UCw1SQ6QRRtfAhrN_cjkrOgA  the lazarbeam skin has a few bugs...\\n\\nCODE L...   \ng5TxSM16S6Q UCw1SQ6QRRtfAhrN_cjkrOgA  LazarBeam X Fortnite MARCH 4TH - CODE LAZAR \\n...   \n\n                                                          time  \\\nid          creator.id                                           \nR0R0gSE1jmM UCw1SQ6QRRtfAhrN_cjkrOgA 2021-03-09 03:06:47+00:00   \n            UCw1SQ6QRRtfAhrN_cjkrOgA 2021-03-09 03:06:47+00:00   \n            UCw1SQ6QRRtfAhrN_cjkrOgA 2021-03-09 03:06:47+00:00   \n            UCw1SQ6QRRtfAhrN_cjkrOgA 2021-03-09 03:06:47+00:00   \ng5TxSM16S6Q UCw1SQ6QRRtfAhrN_cjkrOgA 2021-03-03 12:22:32+00:00   \n\n                                              length                tags  \\\nid          creator.id                                                     \nR0R0gSE1jmM UCw1SQ6QRRtfAhrN_cjkrOgA 0 days 00:08:15            [gaming]   \n            UCw1SQ6QRRtfAhrN_cjkrOgA 0 days 00:08:15            [gaming]   \n            UCw1SQ6QRRtfAhrN_cjkrOgA 0 days 00:08:15            [gaming]   \n            UCw1SQ6QRRtfAhrN_cjkrOgA 0 days 00:08:15            [gaming]   \ng5TxSM16S6Q UCw1SQ6QRRtfAhrN_cjkrOgA 0 days 00:09:59  [gaming, fortnite]   \n\n                                     category  stats.like  stats.dislike  \\\nid          creator.id                                                     \nR0R0gSE1jmM UCw1SQ6QRRtfAhrN_cjkrOgA   Gaming      214199           1559   \n            UCw1SQ6QRRtfAhrN_cjkrOgA   Gaming      214199           1559   \n            UCw1SQ6QRRtfAhrN_cjkrOgA   Gaming      214199           1559   \n            UCw1SQ6QRRtfAhrN_cjkrOgA   Gaming      214199           1559   \ng5TxSM16S6Q UCw1SQ6QRRtfAhrN_cjkrOgA   Gaming      402680           4977   \n\n                                      stats.comment  stats.view video.quality  \\\nid          creator.id                                                          \nR0R0gSE1jmM UCw1SQ6QRRtfAhrN_cjkrOgA        14148.0     3840764            HD   \n            UCw1SQ6QRRtfAhrN_cjkrOgA        14148.0     3840764            HD   \n            UCw1SQ6QRRtfAhrN_cjkrOgA        14148.0     3840764            HD   \n            UCw1SQ6QRRtfAhrN_cjkrOgA        14148.0     3840764            HD   \ng5TxSM16S6Q UCw1SQ6QRRtfAhrN_cjkrOgA        37761.0     8506267            HD   \n\n                                     creator.title  \\\nid          creator.id                               \nR0R0gSE1jmM UCw1SQ6QRRtfAhrN_cjkrOgA     LazarBeam   \n            UCw1SQ6QRRtfAhrN_cjkrOgA     LazarBeam   \n            UCw1SQ6QRRtfAhrN_cjkrOgA     LazarBeam   \n            UCw1SQ6QRRtfAhrN_cjkrOgA     LazarBeam   \ng5TxSM16S6Q UCw1SQ6QRRtfAhrN_cjkrOgA     LazarBeam   \n\n                                                                    creator.description  \\\nid          creator.id                                                                    \nR0R0gSE1jmM UCw1SQ6QRRtfAhrN_cjkrOgA  THIS CHANNEL FEATURES AUSTRALIAN MAN\\nFor Spon...   \n            UCw1SQ6QRRtfAhrN_cjkrOgA  THIS CHANNEL FEATURES AUSTRALIAN MAN\\nFor Spon...   \n            UCw1SQ6QRRtfAhrN_cjkrOgA  THIS CHANNEL FEATURES AUSTRALIAN MAN\\nFor Spon...   \n            UCw1SQ6QRRtfAhrN_cjkrOgA  THIS CHANNEL FEATURES AUSTRALIAN MAN\\nFor Spon...   \ng5TxSM16S6Q UCw1SQ6QRRtfAhrN_cjkrOgA  THIS CHANNEL FEATURES AUSTRALIAN MAN\\nFor Spon...   \n\n                                                  creator.time  \\\nid          creator.id                                           \nR0R0gSE1jmM UCw1SQ6QRRtfAhrN_cjkrOgA 2015-01-04 23:17:08+00:00   \n            UCw1SQ6QRRtfAhrN_cjkrOgA 2015-01-04 23:17:08+00:00   \n            UCw1SQ6QRRtfAhrN_cjkrOgA 2015-01-04 23:17:08+00:00   \n            UCw1SQ6QRRtfAhrN_cjkrOgA 2015-01-04 23:17:08+00:00   \ng5TxSM16S6Q UCw1SQ6QRRtfAhrN_cjkrOgA 2015-01-04 23:17:08+00:00   \n\n                                      creator.stats.follower  \\\nid          creator.id                                         \nR0R0gSE1jmM UCw1SQ6QRRtfAhrN_cjkrOgA                18300000   \n            UCw1SQ6QRRtfAhrN_cjkrOgA                18300000   \n            UCw1SQ6QRRtfAhrN_cjkrOgA                18300000   \n            UCw1SQ6QRRtfAhrN_cjkrOgA                18300000   \ng5TxSM16S6Q UCw1SQ6QRRtfAhrN_cjkrOgA                18300000   \n\n                                      creator.stats.view  creator.stats.post  \\\nid          creator.id                                                         \nR0R0gSE1jmM UCw1SQ6QRRtfAhrN_cjkrOgA          7052999799                1220   \n            UCw1SQ6QRRtfAhrN_cjkrOgA          7052999799                1220   \n            UCw1SQ6QRRtfAhrN_cjkrOgA          7052999799                1220   \n            UCw1SQ6QRRtfAhrN_cjkrOgA          7052999799                1220   \ng5TxSM16S6Q UCw1SQ6QRRtfAhrN_cjkrOgA          7052999799                1220   \n\n                                      has_ad  has_ad_at_beginning  \nid          creator.id                                             \nR0R0gSE1jmM UCw1SQ6QRRtfAhrN_cjkrOgA    True                 True  \n            UCw1SQ6QRRtfAhrN_cjkrOgA    True                 True  \n            UCw1SQ6QRRtfAhrN_cjkrOgA    True                 True  \n            UCw1SQ6QRRtfAhrN_cjkrOgA    True                 True  \ng5TxSM16S6Q UCw1SQ6QRRtfAhrN_cjkrOgA    True                 True  ",
      "text/html": "<div>\n<style scoped>\n    .dataframe tbody tr th:only-of-type {\n        vertical-align: middle;\n    }\n\n    .dataframe tbody tr th {\n        vertical-align: top;\n    }\n\n    .dataframe thead th {\n        text-align: right;\n    }\n</style>\n<table border=\"1\" class=\"dataframe\">\n  <thead>\n    <tr style=\"text-align: right;\">\n      <th></th>\n      <th></th>\n      <th>title</th>\n      <th>description</th>\n      <th>time</th>\n      <th>length</th>\n      <th>tags</th>\n      <th>category</th>\n      <th>stats.like</th>\n      <th>stats.dislike</th>\n      <th>stats.comment</th>\n      <th>stats.view</th>\n      <th>video.quality</th>\n      <th>creator.title</th>\n      <th>creator.description</th>\n      <th>creator.time</th>\n      <th>creator.stats.follower</th>\n      <th>creator.stats.view</th>\n      <th>creator.stats.post</th>\n      <th>has_ad</th>\n      <th>has_ad_at_beginning</th>\n    </tr>\n    <tr>\n      <th>id</th>\n      <th>creator.id</th>\n      <th></th>\n      <th></th>\n      <th></th>\n      <th></th>\n      <th></th>\n      <th></th>\n      <th></th>\n      <th></th>\n      <th></th>\n      <th></th>\n      <th></th>\n      <th></th>\n      <th></th>\n      <th></th>\n      <th></th>\n      <th></th>\n      <th></th>\n      <th></th>\n      <th></th>\n    </tr>\n  </thead>\n  <tbody>\n    <tr>\n      <th rowspan=\"4\" valign=\"top\">R0R0gSE1jmM</th>\n      <th>UCw1SQ6QRRtfAhrN_cjkrOgA</th>\n      <td>lazarbeam skin is BROKEN</td>\n      <td>the lazarbeam skin has a few bugs...\\n\\nCODE L...</td>\n      <td>2021-03-09 03:06:47+00:00</td>\n      <td>0 days 00:08:15</td>\n      <td>[gaming]</td>\n      <td>Gaming</td>\n      <td>214199</td>\n      <td>1559</td>\n      <td>14148.0</td>\n      <td>3840764</td>\n      <td>HD</td>\n      <td>LazarBeam</td>\n      <td>THIS CHANNEL FEATURES AUSTRALIAN MAN\\nFor Spon...</td>\n      <td>2015-01-04 23:17:08+00:00</td>\n      <td>18300000</td>\n      <td>7052999799</td>\n      <td>1220</td>\n      <td>True</td>\n      <td>True</td>\n    </tr>\n    <tr>\n      <th>UCw1SQ6QRRtfAhrN_cjkrOgA</th>\n      <td>lazarbeam skin is BROKEN</td>\n      <td>the lazarbeam skin has a few bugs...\\n\\nCODE L...</td>\n      <td>2021-03-09 03:06:47+00:00</td>\n      <td>0 days 00:08:15</td>\n      <td>[gaming]</td>\n      <td>Gaming</td>\n      <td>214199</td>\n      <td>1559</td>\n      <td>14148.0</td>\n      <td>3840764</td>\n      <td>HD</td>\n      <td>LazarBeam</td>\n      <td>THIS CHANNEL FEATURES AUSTRALIAN MAN\\nFor Spon...</td>\n      <td>2015-01-04 23:17:08+00:00</td>\n      <td>18300000</td>\n      <td>7052999799</td>\n      <td>1220</td>\n      <td>True</td>\n      <td>True</td>\n    </tr>\n    <tr>\n      <th>UCw1SQ6QRRtfAhrN_cjkrOgA</th>\n      <td>lazarbeam skin is BROKEN</td>\n      <td>the lazarbeam skin has a few bugs...\\n\\nCODE L...</td>\n      <td>2021-03-09 03:06:47+00:00</td>\n      <td>0 days 00:08:15</td>\n      <td>[gaming]</td>\n      <td>Gaming</td>\n      <td>214199</td>\n      <td>1559</td>\n      <td>14148.0</td>\n      <td>3840764</td>\n      <td>HD</td>\n      <td>LazarBeam</td>\n      <td>THIS CHANNEL FEATURES AUSTRALIAN MAN\\nFor Spon...</td>\n      <td>2015-01-04 23:17:08+00:00</td>\n      <td>18300000</td>\n      <td>7052999799</td>\n      <td>1220</td>\n      <td>True</td>\n      <td>True</td>\n    </tr>\n    <tr>\n      <th>UCw1SQ6QRRtfAhrN_cjkrOgA</th>\n      <td>lazarbeam skin is BROKEN</td>\n      <td>the lazarbeam skin has a few bugs...\\n\\nCODE L...</td>\n      <td>2021-03-09 03:06:47+00:00</td>\n      <td>0 days 00:08:15</td>\n      <td>[gaming]</td>\n      <td>Gaming</td>\n      <td>214199</td>\n      <td>1559</td>\n      <td>14148.0</td>\n      <td>3840764</td>\n      <td>HD</td>\n      <td>LazarBeam</td>\n      <td>THIS CHANNEL FEATURES AUSTRALIAN MAN\\nFor Spon...</td>\n      <td>2015-01-04 23:17:08+00:00</td>\n      <td>18300000</td>\n      <td>7052999799</td>\n      <td>1220</td>\n      <td>True</td>\n      <td>True</td>\n    </tr>\n    <tr>\n      <th>g5TxSM16S6Q</th>\n      <th>UCw1SQ6QRRtfAhrN_cjkrOgA</th>\n      <td>first game with MY SKIN</td>\n      <td>LazarBeam X Fortnite MARCH 4TH - CODE LAZAR \\n...</td>\n      <td>2021-03-03 12:22:32+00:00</td>\n      <td>0 days 00:09:59</td>\n      <td>[gaming, fortnite]</td>\n      <td>Gaming</td>\n      <td>402680</td>\n      <td>4977</td>\n      <td>37761.0</td>\n      <td>8506267</td>\n      <td>HD</td>\n      <td>LazarBeam</td>\n      <td>THIS CHANNEL FEATURES AUSTRALIAN MAN\\nFor Spon...</td>\n      <td>2015-01-04 23:17:08+00:00</td>\n      <td>18300000</td>\n      <td>7052999799</td>\n      <td>1220</td>\n      <td>True</td>\n      <td>True</td>\n    </tr>\n  </tbody>\n</table>\n</div>"
     },
     "metadata": {}
    },
    {
     "output_type": "display_data",
     "data": {
      "text/plain": "<IPython.core.display.Markdown object>",
      "text/markdown": "## Stats"
     },
     "metadata": {}
    },
    {
     "output_type": "display_data",
     "data": {
      "text/plain": "                          length    stats.like  stats.dislike  stats.comment  \\\ncount                        224  2.240000e+02      224.00000     224.000000   \nmean   0 days 00:09:03.214285714  1.122353e+05     1857.50000   13507.928571   \nstd    0 days 00:08:27.451266582  1.629592e+05     2652.20721   39329.942919   \nmin              0 days 00:00:23  3.787000e+03      110.00000     504.000000   \n25%       0 days 00:03:09.250000  2.378825e+04      392.00000    2114.500000   \n50%       0 days 00:05:58.500000  5.627450e+04      715.00000    4760.500000   \n75%       0 days 00:11:31.750000  1.057530e+05     1564.00000   10137.000000   \nmax              0 days 00:37:48  1.021220e+06    10751.00000  293380.000000   \n\n         stats.view  creator.stats.follower  creator.stats.view  \\\ncount  2.240000e+02            2.240000e+02        2.240000e+02   \nmean   2.466097e+06            5.963271e+06        2.543321e+09   \nstd    3.515777e+06            1.126673e+07        7.772647e+09   \nmin    2.719440e+05            8.150000e+03        7.057505e+06   \n25%    7.449148e+05            8.350000e+05        7.787239e+07   \n50%    1.282617e+06            2.090000e+06        3.019321e+08   \n75%    2.452179e+06            6.627500e+06        1.589453e+09   \nmax    2.089441e+07            7.430000e+07        5.583855e+10   \n\n       creator.stats.post  \ncount          224.000000  \nmean          2299.071429  \nstd           7504.823009  \nmin              6.000000  \n25%             68.500000  \n50%            326.500000  \n75%           1223.500000  \nmax          53319.000000  ",
      "text/html": "<div>\n<style scoped>\n    .dataframe tbody tr th:only-of-type {\n        vertical-align: middle;\n    }\n\n    .dataframe tbody tr th {\n        vertical-align: top;\n    }\n\n    .dataframe thead th {\n        text-align: right;\n    }\n</style>\n<table border=\"1\" class=\"dataframe\">\n  <thead>\n    <tr style=\"text-align: right;\">\n      <th></th>\n      <th>length</th>\n      <th>stats.like</th>\n      <th>stats.dislike</th>\n      <th>stats.comment</th>\n      <th>stats.view</th>\n      <th>creator.stats.follower</th>\n      <th>creator.stats.view</th>\n      <th>creator.stats.post</th>\n    </tr>\n  </thead>\n  <tbody>\n    <tr>\n      <th>count</th>\n      <td>224</td>\n      <td>2.240000e+02</td>\n      <td>224.00000</td>\n      <td>224.000000</td>\n      <td>2.240000e+02</td>\n      <td>2.240000e+02</td>\n      <td>2.240000e+02</td>\n      <td>224.000000</td>\n    </tr>\n    <tr>\n      <th>mean</th>\n      <td>0 days 00:09:03.214285714</td>\n      <td>1.122353e+05</td>\n      <td>1857.50000</td>\n      <td>13507.928571</td>\n      <td>2.466097e+06</td>\n      <td>5.963271e+06</td>\n      <td>2.543321e+09</td>\n      <td>2299.071429</td>\n    </tr>\n    <tr>\n      <th>std</th>\n      <td>0 days 00:08:27.451266582</td>\n      <td>1.629592e+05</td>\n      <td>2652.20721</td>\n      <td>39329.942919</td>\n      <td>3.515777e+06</td>\n      <td>1.126673e+07</td>\n      <td>7.772647e+09</td>\n      <td>7504.823009</td>\n    </tr>\n    <tr>\n      <th>min</th>\n      <td>0 days 00:00:23</td>\n      <td>3.787000e+03</td>\n      <td>110.00000</td>\n      <td>504.000000</td>\n      <td>2.719440e+05</td>\n      <td>8.150000e+03</td>\n      <td>7.057505e+06</td>\n      <td>6.000000</td>\n    </tr>\n    <tr>\n      <th>25%</th>\n      <td>0 days 00:03:09.250000</td>\n      <td>2.378825e+04</td>\n      <td>392.00000</td>\n      <td>2114.500000</td>\n      <td>7.449148e+05</td>\n      <td>8.350000e+05</td>\n      <td>7.787239e+07</td>\n      <td>68.500000</td>\n    </tr>\n    <tr>\n      <th>50%</th>\n      <td>0 days 00:05:58.500000</td>\n      <td>5.627450e+04</td>\n      <td>715.00000</td>\n      <td>4760.500000</td>\n      <td>1.282617e+06</td>\n      <td>2.090000e+06</td>\n      <td>3.019321e+08</td>\n      <td>326.500000</td>\n    </tr>\n    <tr>\n      <th>75%</th>\n      <td>0 days 00:11:31.750000</td>\n      <td>1.057530e+05</td>\n      <td>1564.00000</td>\n      <td>10137.000000</td>\n      <td>2.452179e+06</td>\n      <td>6.627500e+06</td>\n      <td>1.589453e+09</td>\n      <td>1223.500000</td>\n    </tr>\n    <tr>\n      <th>max</th>\n      <td>0 days 00:37:48</td>\n      <td>1.021220e+06</td>\n      <td>10751.00000</td>\n      <td>293380.000000</td>\n      <td>2.089441e+07</td>\n      <td>7.430000e+07</td>\n      <td>5.583855e+10</td>\n      <td>53319.000000</td>\n    </tr>\n  </tbody>\n</table>\n</div>"
     },
     "metadata": {}
    },
    {
     "output_type": "display_data",
     "data": {
      "text/plain": "<IPython.core.display.Markdown object>",
      "text/markdown": "---"
     },
     "metadata": {}
    }
   ],
   "source": [
    "# take a brief look at our data\n",
    "df_report(df_trending_details, name = 'Trending')\n",
    "df_report(df_trending_details_channels, name = 'Trending (Channels)')"
   ]
  },
  {
   "cell_type": "markdown",
   "metadata": {},
   "source": [
    "##### STEP 5  Data Archiving (Cumulative)\n"
   ]
  },
  {
   "cell_type": "code",
   "execution_count": 11,
   "metadata": {},
   "outputs": [
    {
     "output_type": "display_data",
     "data": {
      "text/plain": "<IPython.core.display.Markdown object>",
      "text/markdown": "---"
     },
     "metadata": {}
    },
    {
     "output_type": "display_data",
     "data": {
      "text/plain": "<IPython.core.display.Markdown object>",
      "text/markdown": "# Results - Trending (Verification)"
     },
     "metadata": {}
    },
    {
     "output_type": "display_data",
     "data": {
      "text/plain": "<IPython.core.display.Markdown object>",
      "text/markdown": "## Data Preview"
     },
     "metadata": {}
    },
    {
     "output_type": "display_data",
     "data": {
      "text/plain": "                                                                                  title  \\\nid          creator.id                                                                    \n-hAztPfxZEk UCtj45MepAoKxZoyR_Mnt86Q                FIRST DAY IN OUR NEW HOME! (HECTIC)   \n            UCtj45MepAoKxZoyR_Mnt86Q                FIRST DAY IN OUR NEW HOME! (HECTIC)   \n            UCtj45MepAoKxZoyR_Mnt86Q                FIRST DAY IN OUR NEW HOME! (HECTIC)   \n            UCtj45MepAoKxZoyR_Mnt86Q                FIRST DAY IN OUR NEW HOME! (HECTIC)   \n1XtcaLagLEo UCCj956IF62FbT7Gouszaj9w  Meghan accuses royals of 'perpetuating falseho...   \n\n                                                                            description  \\\nid          creator.id                                                                    \n-hAztPfxZEk UCtj45MepAoKxZoyR_Mnt86Q  LAST VIDEO: \\r\\n\\r\\n*MAKE SURE OUR POST NOTIFI...   \n            UCtj45MepAoKxZoyR_Mnt86Q  LAST VIDEO: \\r\\n\\r\\n*MAKE SURE OUR POST NOTIFI...   \n            UCtj45MepAoKxZoyR_Mnt86Q  LAST VIDEO: \\r\\n\\r\\n*MAKE SURE OUR POST NOTIFI...   \n            UCtj45MepAoKxZoyR_Mnt86Q  LAST VIDEO: \\r\\n\\r\\n*MAKE SURE OUR POST NOTIFI...   \n1XtcaLagLEo UCCj956IF62FbT7Gouszaj9w  Subscribe and 🔔 to OFFICIAL BBC YouTube 👉 http...   \n\n                                                          time  \\\nid          creator.id                                           \n-hAztPfxZEk UCtj45MepAoKxZoyR_Mnt86Q 2021-03-09 03:38:11+00:00   \n            UCtj45MepAoKxZoyR_Mnt86Q 2021-03-09 03:38:11+00:00   \n            UCtj45MepAoKxZoyR_Mnt86Q 2021-03-09 03:38:11+00:00   \n            UCtj45MepAoKxZoyR_Mnt86Q 2021-03-09 03:38:11+00:00   \n1XtcaLagLEo UCCj956IF62FbT7Gouszaj9w 2021-03-04 06:58:02+00:00   \n\n                                              length  \\\nid          creator.id                                 \n-hAztPfxZEk UCtj45MepAoKxZoyR_Mnt86Q 0 days 00:14:23   \n            UCtj45MepAoKxZoyR_Mnt86Q 0 days 00:14:23   \n            UCtj45MepAoKxZoyR_Mnt86Q 0 days 00:14:23   \n            UCtj45MepAoKxZoyR_Mnt86Q 0 days 00:14:23   \n1XtcaLagLEo UCCj956IF62FbT7Gouszaj9w 0 days 00:10:45   \n\n                                                                                   tags  \\\nid          creator.id                                                                    \n-hAztPfxZEk UCtj45MepAoKxZoyR_Mnt86Q  [queen Naija, Medicine, Queen, Royalty Squad, ...   \n            UCtj45MepAoKxZoyR_Mnt86Q  [queen Naija, Medicine, Queen, Royalty Squad, ...   \n            UCtj45MepAoKxZoyR_Mnt86Q  [queen Naija, Medicine, Queen, Royalty Squad, ...   \n            UCtj45MepAoKxZoyR_Mnt86Q  [queen Naija, Medicine, Queen, Royalty Squad, ...   \n1XtcaLagLEo UCCj956IF62FbT7Gouszaj9w  [British TV, British TV Shows, Watch UK TV Onl...   \n\n                                             category  stats.like  \\\nid          creator.id                                              \n-hAztPfxZEk UCtj45MepAoKxZoyR_Mnt86Q    Entertainment     24363.0   \n            UCtj45MepAoKxZoyR_Mnt86Q    Entertainment     24363.0   \n            UCtj45MepAoKxZoyR_Mnt86Q    Entertainment     24363.0   \n            UCtj45MepAoKxZoyR_Mnt86Q    Entertainment     24363.0   \n1XtcaLagLEo UCCj956IF62FbT7Gouszaj9w  News & Politics      2356.0   \n\n                                      stats.dislike  stats.comment  \\\nid          creator.id                                               \n-hAztPfxZEk UCtj45MepAoKxZoyR_Mnt86Q          400.0         1450.0   \n            UCtj45MepAoKxZoyR_Mnt86Q          400.0         1450.0   \n            UCtj45MepAoKxZoyR_Mnt86Q          400.0         1450.0   \n            UCtj45MepAoKxZoyR_Mnt86Q          400.0         1450.0   \n1XtcaLagLEo UCCj956IF62FbT7Gouszaj9w          876.0         2861.0   \n\n                                      stats.view video.quality creator.title  \\\nid          creator.id                                                         \n-hAztPfxZEk UCtj45MepAoKxZoyR_Mnt86Q    360642.0            HD  Royal Family   \n            UCtj45MepAoKxZoyR_Mnt86Q    360642.0            HD  Royal Family   \n            UCtj45MepAoKxZoyR_Mnt86Q    360642.0            HD  Royal Family   \n            UCtj45MepAoKxZoyR_Mnt86Q    360642.0            HD  Royal Family   \n1XtcaLagLEo UCCj956IF62FbT7Gouszaj9w    665451.0            HD           BBC   \n\n                                                                    creator.description  \\\nid          creator.id                                                                    \n-hAztPfxZEk UCtj45MepAoKxZoyR_Mnt86Q                                                NaN   \n            UCtj45MepAoKxZoyR_Mnt86Q                                                NaN   \n            UCtj45MepAoKxZoyR_Mnt86Q                                                NaN   \n            UCtj45MepAoKxZoyR_Mnt86Q                                                NaN   \n1XtcaLagLEo UCCj956IF62FbT7Gouszaj9w  The BBC is the world’s leading public service ...   \n\n                                                  creator.time  \\\nid          creator.id                                           \n-hAztPfxZEk UCtj45MepAoKxZoyR_Mnt86Q 2018-07-08 20:48:12+00:00   \n            UCtj45MepAoKxZoyR_Mnt86Q 2018-07-08 20:48:12+00:00   \n            UCtj45MepAoKxZoyR_Mnt86Q 2018-07-08 20:48:12+00:00   \n            UCtj45MepAoKxZoyR_Mnt86Q 2018-07-08 20:48:12+00:00   \n1XtcaLagLEo UCCj956IF62FbT7Gouszaj9w 2005-11-12 02:36:31+00:00   \n\n                                      creator.stats.follower  \\\nid          creator.id                                         \n-hAztPfxZEk UCtj45MepAoKxZoyR_Mnt86Q               2790000.0   \n            UCtj45MepAoKxZoyR_Mnt86Q               2790000.0   \n            UCtj45MepAoKxZoyR_Mnt86Q               2790000.0   \n            UCtj45MepAoKxZoyR_Mnt86Q               2790000.0   \n1XtcaLagLEo UCCj956IF62FbT7Gouszaj9w              10600000.0   \n\n                                      creator.stats.view  creator.stats.post  \\\nid          creator.id                                                         \n-hAztPfxZEk UCtj45MepAoKxZoyR_Mnt86Q        2.032634e+08               192.0   \n            UCtj45MepAoKxZoyR_Mnt86Q        2.032634e+08               192.0   \n            UCtj45MepAoKxZoyR_Mnt86Q        2.032634e+08               192.0   \n            UCtj45MepAoKxZoyR_Mnt86Q        2.032634e+08               192.0   \n1XtcaLagLEo UCCj956IF62FbT7Gouszaj9w        7.772940e+09             13055.0   \n\n                                     has_ad has_ad_at_beginning  \nid          creator.id                                           \n-hAztPfxZEk UCtj45MepAoKxZoyR_Mnt86Q   True                True  \n            UCtj45MepAoKxZoyR_Mnt86Q   True                True  \n            UCtj45MepAoKxZoyR_Mnt86Q   True                True  \n            UCtj45MepAoKxZoyR_Mnt86Q   True                True  \n1XtcaLagLEo UCCj956IF62FbT7Gouszaj9w  False               False  ",
      "text/html": "<div>\n<style scoped>\n    .dataframe tbody tr th:only-of-type {\n        vertical-align: middle;\n    }\n\n    .dataframe tbody tr th {\n        vertical-align: top;\n    }\n\n    .dataframe thead th {\n        text-align: right;\n    }\n</style>\n<table border=\"1\" class=\"dataframe\">\n  <thead>\n    <tr style=\"text-align: right;\">\n      <th></th>\n      <th></th>\n      <th>title</th>\n      <th>description</th>\n      <th>time</th>\n      <th>length</th>\n      <th>tags</th>\n      <th>category</th>\n      <th>stats.like</th>\n      <th>stats.dislike</th>\n      <th>stats.comment</th>\n      <th>stats.view</th>\n      <th>video.quality</th>\n      <th>creator.title</th>\n      <th>creator.description</th>\n      <th>creator.time</th>\n      <th>creator.stats.follower</th>\n      <th>creator.stats.view</th>\n      <th>creator.stats.post</th>\n      <th>has_ad</th>\n      <th>has_ad_at_beginning</th>\n    </tr>\n    <tr>\n      <th>id</th>\n      <th>creator.id</th>\n      <th></th>\n      <th></th>\n      <th></th>\n      <th></th>\n      <th></th>\n      <th></th>\n      <th></th>\n      <th></th>\n      <th></th>\n      <th></th>\n      <th></th>\n      <th></th>\n      <th></th>\n      <th></th>\n      <th></th>\n      <th></th>\n      <th></th>\n      <th></th>\n      <th></th>\n    </tr>\n  </thead>\n  <tbody>\n    <tr>\n      <th rowspan=\"4\" valign=\"top\">-hAztPfxZEk</th>\n      <th>UCtj45MepAoKxZoyR_Mnt86Q</th>\n      <td>FIRST DAY IN OUR NEW HOME! (HECTIC)</td>\n      <td>LAST VIDEO: \\r\\n\\r\\n*MAKE SURE OUR POST NOTIFI...</td>\n      <td>2021-03-09 03:38:11+00:00</td>\n      <td>0 days 00:14:23</td>\n      <td>[queen Naija, Medicine, Queen, Royalty Squad, ...</td>\n      <td>Entertainment</td>\n      <td>24363.0</td>\n      <td>400.0</td>\n      <td>1450.0</td>\n      <td>360642.0</td>\n      <td>HD</td>\n      <td>Royal Family</td>\n      <td>NaN</td>\n      <td>2018-07-08 20:48:12+00:00</td>\n      <td>2790000.0</td>\n      <td>2.032634e+08</td>\n      <td>192.0</td>\n      <td>True</td>\n      <td>True</td>\n    </tr>\n    <tr>\n      <th>UCtj45MepAoKxZoyR_Mnt86Q</th>\n      <td>FIRST DAY IN OUR NEW HOME! (HECTIC)</td>\n      <td>LAST VIDEO: \\r\\n\\r\\n*MAKE SURE OUR POST NOTIFI...</td>\n      <td>2021-03-09 03:38:11+00:00</td>\n      <td>0 days 00:14:23</td>\n      <td>[queen Naija, Medicine, Queen, Royalty Squad, ...</td>\n      <td>Entertainment</td>\n      <td>24363.0</td>\n      <td>400.0</td>\n      <td>1450.0</td>\n      <td>360642.0</td>\n      <td>HD</td>\n      <td>Royal Family</td>\n      <td>NaN</td>\n      <td>2018-07-08 20:48:12+00:00</td>\n      <td>2790000.0</td>\n      <td>2.032634e+08</td>\n      <td>192.0</td>\n      <td>True</td>\n      <td>True</td>\n    </tr>\n    <tr>\n      <th>UCtj45MepAoKxZoyR_Mnt86Q</th>\n      <td>FIRST DAY IN OUR NEW HOME! (HECTIC)</td>\n      <td>LAST VIDEO: \\r\\n\\r\\n*MAKE SURE OUR POST NOTIFI...</td>\n      <td>2021-03-09 03:38:11+00:00</td>\n      <td>0 days 00:14:23</td>\n      <td>[queen Naija, Medicine, Queen, Royalty Squad, ...</td>\n      <td>Entertainment</td>\n      <td>24363.0</td>\n      <td>400.0</td>\n      <td>1450.0</td>\n      <td>360642.0</td>\n      <td>HD</td>\n      <td>Royal Family</td>\n      <td>NaN</td>\n      <td>2018-07-08 20:48:12+00:00</td>\n      <td>2790000.0</td>\n      <td>2.032634e+08</td>\n      <td>192.0</td>\n      <td>True</td>\n      <td>True</td>\n    </tr>\n    <tr>\n      <th>UCtj45MepAoKxZoyR_Mnt86Q</th>\n      <td>FIRST DAY IN OUR NEW HOME! (HECTIC)</td>\n      <td>LAST VIDEO: \\r\\n\\r\\n*MAKE SURE OUR POST NOTIFI...</td>\n      <td>2021-03-09 03:38:11+00:00</td>\n      <td>0 days 00:14:23</td>\n      <td>[queen Naija, Medicine, Queen, Royalty Squad, ...</td>\n      <td>Entertainment</td>\n      <td>24363.0</td>\n      <td>400.0</td>\n      <td>1450.0</td>\n      <td>360642.0</td>\n      <td>HD</td>\n      <td>Royal Family</td>\n      <td>NaN</td>\n      <td>2018-07-08 20:48:12+00:00</td>\n      <td>2790000.0</td>\n      <td>2.032634e+08</td>\n      <td>192.0</td>\n      <td>True</td>\n      <td>True</td>\n    </tr>\n    <tr>\n      <th>1XtcaLagLEo</th>\n      <th>UCCj956IF62FbT7Gouszaj9w</th>\n      <td>Meghan accuses royals of 'perpetuating falseho...</td>\n      <td>Subscribe and 🔔 to OFFICIAL BBC YouTube 👉 http...</td>\n      <td>2021-03-04 06:58:02+00:00</td>\n      <td>0 days 00:10:45</td>\n      <td>[British TV, British TV Shows, Watch UK TV Onl...</td>\n      <td>News &amp; Politics</td>\n      <td>2356.0</td>\n      <td>876.0</td>\n      <td>2861.0</td>\n      <td>665451.0</td>\n      <td>HD</td>\n      <td>BBC</td>\n      <td>The BBC is the world’s leading public service ...</td>\n      <td>2005-11-12 02:36:31+00:00</td>\n      <td>10600000.0</td>\n      <td>7.772940e+09</td>\n      <td>13055.0</td>\n      <td>False</td>\n      <td>False</td>\n    </tr>\n  </tbody>\n</table>\n</div>"
     },
     "metadata": {}
    },
    {
     "output_type": "display_data",
     "data": {
      "text/plain": "<IPython.core.display.Markdown object>",
      "text/markdown": "## Stats"
     },
     "metadata": {}
    },
    {
     "output_type": "display_data",
     "data": {
      "text/plain": "                          length    stats.like  stats.dislike  stats.comment  \\\ncount                        664  6.640000e+02     664.000000     651.000000   \nmean   0 days 00:09:51.944277108  1.220250e+05    2884.320783   12511.391705   \nstd    0 days 00:09:30.577349023  1.907659e+05   11265.946403   30623.037625   \nmin              0 days 00:00:14  3.260000e+02     110.000000     339.000000   \n25%              0 days 00:03:04  1.732200e+04     356.000000    2182.000000   \n50%              0 days 00:06:11  5.016300e+04     697.000000    4513.000000   \n75%              0 days 00:11:55  1.267690e+05    2705.750000   10029.000000   \nmax              0 days 00:49:23  1.516146e+06  142630.000000  293380.000000   \n\n         stats.view  creator.stats.follower  creator.stats.view  \\\ncount  6.640000e+02            6.640000e+02        6.640000e+02   \nmean   2.516563e+06            5.488461e+06        1.983159e+09   \nstd    3.439644e+06            8.854426e+06        4.958621e+09   \nmin    9.052100e+04            8.150000e+03        7.057505e+06   \n25%    7.029980e+05            7.510000e+05        1.092367e+08   \n50%    1.295399e+06            1.880000e+06        4.881651e+08   \n75%    2.416874e+06            8.370000e+06        1.770375e+09   \nmax    2.089441e+07            7.430000e+07        5.583855e+10   \n\n       creator.stats.post  \ncount          664.000000  \nmean          3718.052711  \nstd           9220.233843  \nmin              6.000000  \n25%            126.000000  \n50%            703.000000  \n75%           1647.000000  \nmax          53319.000000  ",
      "text/html": "<div>\n<style scoped>\n    .dataframe tbody tr th:only-of-type {\n        vertical-align: middle;\n    }\n\n    .dataframe tbody tr th {\n        vertical-align: top;\n    }\n\n    .dataframe thead th {\n        text-align: right;\n    }\n</style>\n<table border=\"1\" class=\"dataframe\">\n  <thead>\n    <tr style=\"text-align: right;\">\n      <th></th>\n      <th>length</th>\n      <th>stats.like</th>\n      <th>stats.dislike</th>\n      <th>stats.comment</th>\n      <th>stats.view</th>\n      <th>creator.stats.follower</th>\n      <th>creator.stats.view</th>\n      <th>creator.stats.post</th>\n    </tr>\n  </thead>\n  <tbody>\n    <tr>\n      <th>count</th>\n      <td>664</td>\n      <td>6.640000e+02</td>\n      <td>664.000000</td>\n      <td>651.000000</td>\n      <td>6.640000e+02</td>\n      <td>6.640000e+02</td>\n      <td>6.640000e+02</td>\n      <td>664.000000</td>\n    </tr>\n    <tr>\n      <th>mean</th>\n      <td>0 days 00:09:51.944277108</td>\n      <td>1.220250e+05</td>\n      <td>2884.320783</td>\n      <td>12511.391705</td>\n      <td>2.516563e+06</td>\n      <td>5.488461e+06</td>\n      <td>1.983159e+09</td>\n      <td>3718.052711</td>\n    </tr>\n    <tr>\n      <th>std</th>\n      <td>0 days 00:09:30.577349023</td>\n      <td>1.907659e+05</td>\n      <td>11265.946403</td>\n      <td>30623.037625</td>\n      <td>3.439644e+06</td>\n      <td>8.854426e+06</td>\n      <td>4.958621e+09</td>\n      <td>9220.233843</td>\n    </tr>\n    <tr>\n      <th>min</th>\n      <td>0 days 00:00:14</td>\n      <td>3.260000e+02</td>\n      <td>110.000000</td>\n      <td>339.000000</td>\n      <td>9.052100e+04</td>\n      <td>8.150000e+03</td>\n      <td>7.057505e+06</td>\n      <td>6.000000</td>\n    </tr>\n    <tr>\n      <th>25%</th>\n      <td>0 days 00:03:04</td>\n      <td>1.732200e+04</td>\n      <td>356.000000</td>\n      <td>2182.000000</td>\n      <td>7.029980e+05</td>\n      <td>7.510000e+05</td>\n      <td>1.092367e+08</td>\n      <td>126.000000</td>\n    </tr>\n    <tr>\n      <th>50%</th>\n      <td>0 days 00:06:11</td>\n      <td>5.016300e+04</td>\n      <td>697.000000</td>\n      <td>4513.000000</td>\n      <td>1.295399e+06</td>\n      <td>1.880000e+06</td>\n      <td>4.881651e+08</td>\n      <td>703.000000</td>\n    </tr>\n    <tr>\n      <th>75%</th>\n      <td>0 days 00:11:55</td>\n      <td>1.267690e+05</td>\n      <td>2705.750000</td>\n      <td>10029.000000</td>\n      <td>2.416874e+06</td>\n      <td>8.370000e+06</td>\n      <td>1.770375e+09</td>\n      <td>1647.000000</td>\n    </tr>\n    <tr>\n      <th>max</th>\n      <td>0 days 00:49:23</td>\n      <td>1.516146e+06</td>\n      <td>142630.000000</td>\n      <td>293380.000000</td>\n      <td>2.089441e+07</td>\n      <td>7.430000e+07</td>\n      <td>5.583855e+10</td>\n      <td>53319.000000</td>\n    </tr>\n  </tbody>\n</table>\n</div>"
     },
     "metadata": {}
    },
    {
     "output_type": "display_data",
     "data": {
      "text/plain": "<IPython.core.display.Markdown object>",
      "text/markdown": "---"
     },
     "metadata": {}
    }
   ],
   "source": [
    "pickle_proto = 3\n",
    "\n",
    "pickle_fname = 'dsamples/youtube_trending.pkl'\n",
    "pickle_fname_channels = 'dsamples/youtube_trending_channels.pkl'\n",
    "\n",
    "df_update_pickle(df_trending_details, pickle_fname, proto = pickle_proto)\n",
    "df_update_pickle(df_trending_details_channels, pickle_fname_channels, proto = pickle_proto)\n",
    "\n",
    "# verify that we saved the correct data\n",
    "df_trending_details_verify = pd.read_pickle(pickle_fname)\n",
    "df_report(df_trending_details_verify, name = 'Trending (Verification)')\n",
    "df_trending_details_channels_verify = pd.read_pickle(pickle_fname)\n",
    "df_report(df_trending_details_channels_verify, name = 'Trending (Channels) (Verification)')"
   ]
  }
 ],
 "metadata": {
  "kernelspec": {
   "display_name": "Python 3",
   "language": "python",
   "name": "python3"
  },
  "language_info": {
   "codemirror_mode": {
    "name": "ipython",
    "version": 3
   },
   "file_extension": ".py",
   "mimetype": "text/x-python",
   "name": "python",
   "nbconvert_exporter": "python",
   "pygments_lexer": "ipython3",
   "version": "3.6.8-final"
  }
 },
 "nbformat": 4,
 "nbformat_minor": 2
}