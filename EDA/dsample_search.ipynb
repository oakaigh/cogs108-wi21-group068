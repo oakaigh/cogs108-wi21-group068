{
 "metadata": {
  "language_info": {
   "codemirror_mode": {
    "name": "ipython",
    "version": 3
   },
   "file_extension": ".py",
   "mimetype": "text/x-python",
   "name": "python",
   "nbconvert_exporter": "python",
   "pygments_lexer": "ipython3",
   "version": "3.6.8-final"
  },
  "orig_nbformat": 2,
  "kernelspec": {
   "name": "python3",
   "display_name": "Python 3",
   "language": "python"
  }
 },
 "nbformat": 4,
 "nbformat_minor": 2,
 "cells": [
  {
   "source": [
    "# Data Sampling"
   ],
   "cell_type": "markdown",
   "metadata": {}
  },
  {
   "source": [
    "## Setup"
   ],
   "cell_type": "markdown",
   "metadata": {}
  },
  {
   "cell_type": "code",
   "execution_count": 1,
   "metadata": {},
   "outputs": [],
   "source": [
    "import sys\n",
    "\n",
    "!{sys.executable} -m pip install --quiet --user --upgrade pandas==1.*\n",
    "!{sys.executable} -m pip install --quiet --user --upgrade -r requirements.txt"
   ]
  },
  {
   "cell_type": "code",
   "execution_count": null,
   "metadata": {},
   "outputs": [],
   "source": [
    "from goodies import *\n",
    "import pandas as pd"
   ]
  },
  {
   "source": [
    "## Data Collection"
   ],
   "cell_type": "markdown",
   "metadata": {}
  },
  {
   "cell_type": "code",
   "execution_count": 4,
   "metadata": {},
   "outputs": [],
   "source": [
    "from dcollect import plugins\n",
    "\n",
    "modules = {'http': plugins.fasthttp()}\n",
    "headers = None"
   ]
  },
  {
   "source": [
    "### YouTube (United States)"
   ],
   "cell_type": "markdown",
   "metadata": {}
  },
  {
   "source": [
    "Initial setup. Be sure to have your API key ready. For details on how to obtain an API key, read [YouTube Data API Overview, Introduction: Before you start](https://developers.google.com/youtube/v3/getting-started#before-you-start)."
   ],
   "cell_type": "markdown",
   "metadata": {}
  },
  {
   "cell_type": "code",
   "execution_count": 5,
   "metadata": {},
   "outputs": [],
   "source": [
    "from dcollect import api_youtube as youtube\n",
    "from dcollect import api_youtubei as youtubei\n",
    "\n",
    "# This key is for testing ONLY. DO NOT release to the public!\n",
    "api_key_testing = None\n",
    "api_key = api_key_testing or input('YouTube Data API Key: ')\n",
    "\n",
    "dataset_id_testing = ''\n",
    "dataset_id = input('Dataset ID for collision avoidance: ') or dataset_id_testing"
   ]
  },
  {
   "source": [
    "#### Search"
   ],
   "cell_type": "markdown",
   "metadata": {}
  },
  {
   "cell_type": "code",
   "execution_count": 6,
   "metadata": {},
   "outputs": [],
   "source": [
    "count = 50\n",
    "keyword = ''"
   ]
  },
  {
   "source": [
    "##### STEP 1  API Object Creation"
   ],
   "cell_type": "markdown",
   "metadata": {}
  },
  {
   "cell_type": "code",
   "execution_count": 7,
   "metadata": {},
   "outputs": [],
   "source": [
    "# create a YouTube API object\n",
    "youtube_o = youtube.api(\n",
    "    modules = modules,\n",
    "    headers = headers,\n",
    "    key = api_key\n",
    ")\n",
    "\n",
    "# create a YouTube Internals API object\n",
    "youtubei_o = youtubei.api(\n",
    "    modules = modules,\n",
    "    headers = headers\n",
    ")"
   ]
  },
  {
   "source": [
    "##### STEP 2  Data Collection"
   ],
   "cell_type": "markdown",
   "metadata": {}
  },
  {
   "cell_type": "code",
   "execution_count": 8,
   "metadata": {},
   "outputs": [
    {
     "output_type": "stream",
     "name": "stderr",
     "text": [
      "WARNING:root:[api] less data returned than expected. expected 20 but was 19\n"
     ]
    }
   ],
   "source": [
    "from dcollect.utils.thread import threading, thread\n",
    "from dcollect.utils.log import log\n",
    "\n",
    "# set logging level\n",
    "log.enable(level = log.levels.WARNING)\n",
    "\n",
    "\n",
    "df_search = df_from_json(\n",
    "    youtube_o.video.search(\n",
    "        count = count,\n",
    "        keyword = keyword,\n",
    "        safesearch = youtube.resource.safesearch.NONE\n",
    "    )\n",
    ")\n",
    "\n",
    "df_info = None\n",
    "df_channels = None\n",
    "df_ads = None\n",
    "\n",
    "thread.start([\n",
    "    threading.Thread(\n",
    "        # - info\n",
    "        target = lambda: \\\n",
    "            globals().update(\n",
    "                df_info = df_from_json(\n",
    "                    youtube_o.video.info(\n",
    "                        id = df_search['id']\n",
    "                    )\n",
    "                )\n",
    "            )\n",
    "    ),\n",
    "    threading.Thread(\n",
    "        # - channels\n",
    "        target = lambda: \\\n",
    "            globals().update(\n",
    "                df_channels = df_from_json(\n",
    "                    youtube_o.channel.info(\n",
    "                        id = df_search['creator.id']\n",
    "                    )\n",
    "                )\n",
    "            )\n",
    "    ),\n",
    "    threading.Thread(\n",
    "        # - ad placements\n",
    "        target = lambda: \\\n",
    "            globals().update(\n",
    "                df_ads = df_from_json(\n",
    "                    youtubei_o.ad.placements(\n",
    "                        id = df_search['id']\n",
    "                    )\n",
    "                )\n",
    "            )\n",
    "    )\n",
    "])\n",
    "thread.join()"
   ]
  },
  {
   "source": [
    "##### STEP 3  Data Cleaning\n"
   ],
   "cell_type": "markdown",
   "metadata": {}
  },
  {
   "cell_type": "code",
   "execution_count": 9,
   "metadata": {},
   "outputs": [],
   "source": [
    "# - ads (filter)\n",
    "def filter_has_ad(ads):\n",
    "    return not ads == None \n",
    "def filter_has_ad_beginning(ads):\n",
    "    if ads == None:\n",
    "        return False\n",
    "    for ad in ads:\n",
    "        if ad['kind'] == youtubei.resource.ad.kinds.START:\n",
    "            return True\n",
    "    return False\n",
    "# - * (filter)\n",
    "def drop_common(df, df_other, *args, **kwargs):\n",
    "    return df.drop(columns = df.columns & df_other.columns, *args, **kwargs)\n",
    "\n",
    "# - search\n",
    "df_search.set_index(['id', 'creator.id'], inplace = True)\n",
    "# - info\n",
    "df_info.set_index(['id', 'creator.id'], inplace = True)\n",
    "# - channels\n",
    "df_channels = df_channels.add_prefix('creator.')\n",
    "df_channels.set_index(['creator.id'], inplace = True)\n",
    "# - ads\n",
    "df_ads.set_index(['id'], inplace = True)\n",
    "df_ads['has_ad'] = df_ads['ads'].apply(filter_has_ad)\n",
    "df_ads['has_ad_at_beginning'] = \\\n",
    "        df_ads['ads'].apply(filter_has_ad_beginning)\n",
    "df_ads.drop('ads', axis = 'columns', inplace = True)\n",
    "\n",
    "# drop common columns to avoid clashing\n",
    "# in this case, only `df_search` and `df_info` have merging conflicts\n",
    "drop_common(df_search, df_info, inplace = True)"
   ]
  },
  {
   "cell_type": "code",
   "execution_count": 10,
   "metadata": {},
   "outputs": [],
   "source": [
    "# - search (with details)\n",
    "df_search_details = df_search.copy()\n",
    "# - info\n",
    "df_search_details = df_search_details.merge(\n",
    "    df_info, \n",
    "    right_index = True, \n",
    "    left_on = ['id', 'creator.id'], \n",
    "    copy = False\n",
    ")\n",
    "# - ads\n",
    "df_search_details = df_search_details.merge(\n",
    "    df_ads, \n",
    "    right_index = True, \n",
    "    left_on = 'id', \n",
    "    copy = False\n",
    ")\n",
    "# - channels\n",
    "df_search_details_channels = df_channels"
   ]
  },
  {
   "source": [
    "##### STEP 4  Data Inspection\n"
   ],
   "cell_type": "markdown",
   "metadata": {}
  },
  {
   "cell_type": "code",
   "execution_count": 11,
   "metadata": {},
   "outputs": [
    {
     "output_type": "display_data",
     "data": {
      "text/plain": "<IPython.core.display.Markdown object>",
      "text/markdown": "---"
     },
     "metadata": {}
    },
    {
     "output_type": "display_data",
     "data": {
      "text/plain": "<IPython.core.display.Markdown object>",
      "text/markdown": "# Results - Search Results"
     },
     "metadata": {}
    },
    {
     "output_type": "display_data",
     "data": {
      "text/plain": "<IPython.core.display.Markdown object>",
      "text/markdown": "## Data Preview"
     },
     "metadata": {}
    },
    {
     "output_type": "display_data",
     "data": {
      "text/plain": "                                                                                  title  \\\nid          creator.id                                                                    \n6bGpGQ08gQs UCF4Wxdo3inmxP-Y59wXDsFw    피로 물든 미얀마…무차별 발포에 30명 사망 (2021.03.01/뉴스데스크/MBC)   \nHs-mgG2uEjA UCNAf1k0yIjyGu3k9BwAg3lg  Keane and Redknapp get HEATED over \"average\" S...   \ndKJh3_OnPZ8 UCBJeMCIeLQos7wacox4hmLQ  Roma 1-2 Milan | Milan keep the pressure on In...   \nw1B-NvBVtrw UC9-OpMMVoNP5o10_Iyq7Ndw  Giannis Antetokounmpo Throws Down Monster Slam...   \neYO7Ccj1Iok UCDkl5M0WVaddTWE4rr2cSeA  DES MEILLEURES AMIES ECHANGENT LEURS VIES PEND...   \n\n                                                                            description  \\\nid          creator.id                                                                    \n6bGpGQ08gQs UCF4Wxdo3inmxP-Y59wXDsFw  미얀마 군부가 쿠데타를 일으킨지 한 달 째, 미얀마에선 '피의 일요일'이 반복되고 ...   \nHs-mgG2uEjA UCNAf1k0yIjyGu3k9BwAg3lg  SUBSCRIBE ► http://bit.ly/SSFootballSub\\nPREMI...   \ndKJh3_OnPZ8 UCBJeMCIeLQos7wacox4hmLQ  Rebic scored the winner for Milan, as they kee...   \nw1B-NvBVtrw UC9-OpMMVoNP5o10_Iyq7Ndw  GREEK FREAK CALLED GAME. \\n\\r\\nSubscribe: http...   \neYO7Ccj1Iok UCDkl5M0WVaddTWE4rr2cSeA  Je connais ma meilleure amie Solene depuis 22 ...   \n\n                                                          time  \\\nid          creator.id                                           \n6bGpGQ08gQs UCF4Wxdo3inmxP-Y59wXDsFw 2021-03-01 11:24:24+00:00   \nHs-mgG2uEjA UCNAf1k0yIjyGu3k9BwAg3lg 2021-02-28 14:07:11+00:00   \ndKJh3_OnPZ8 UCBJeMCIeLQos7wacox4hmLQ 2021-02-28 22:43:51+00:00   \nw1B-NvBVtrw UC9-OpMMVoNP5o10_Iyq7Ndw 2021-02-28 23:11:18+00:00   \neYO7Ccj1Iok UCDkl5M0WVaddTWE4rr2cSeA 2021-02-28 20:13:20+00:00   \n\n                                              length  \\\nid          creator.id                                 \n6bGpGQ08gQs UCF4Wxdo3inmxP-Y59wXDsFw 0 days 00:02:31   \nHs-mgG2uEjA UCNAf1k0yIjyGu3k9BwAg3lg 0 days 00:07:15   \ndKJh3_OnPZ8 UCBJeMCIeLQos7wacox4hmLQ 0 days 00:04:14   \nw1B-NvBVtrw UC9-OpMMVoNP5o10_Iyq7Ndw 0 days 00:00:52   \neYO7Ccj1Iok UCDkl5M0WVaddTWE4rr2cSeA 0 days 00:23:29   \n\n                                                                                   tags  \\\nid          creator.id                                                                    \n6bGpGQ08gQs UCF4Wxdo3inmxP-Y59wXDsFw  [MBC, MBC뉴스, 뉴스데스크, newsdesk, 뉴스투데이, newstoday...   \nHs-mgG2uEjA UCNAf1k0yIjyGu3k9BwAg3lg  [sky sports, sky sports football, premier leag...   \ndKJh3_OnPZ8 UCBJeMCIeLQos7wacox4hmLQ  [Ronaldo, Serie A, Dybala, highlights, Juventu...   \nw1B-NvBVtrw UC9-OpMMVoNP5o10_Iyq7Ndw  [bleacher report, br, nba, giannis antetokounm...   \neYO7Ccj1Iok UCDkl5M0WVaddTWE4rr2cSeA  [lena situations, lena, lena situation, situat...   \n\n                                             category  stats.like  \\\nid          creator.id                                              \n6bGpGQ08gQs UCF4Wxdo3inmxP-Y59wXDsFw  News & Politics        4210   \nHs-mgG2uEjA UCNAf1k0yIjyGu3k9BwAg3lg           Sports       24995   \ndKJh3_OnPZ8 UCBJeMCIeLQos7wacox4hmLQ           Sports       35514   \nw1B-NvBVtrw UC9-OpMMVoNP5o10_Iyq7Ndw           Sports        4951   \neYO7Ccj1Iok UCDkl5M0WVaddTWE4rr2cSeA   People & Blogs      112683   \n\n                                      stats.dislike  stats.comment  \\\nid          creator.id                                               \n6bGpGQ08gQs UCF4Wxdo3inmxP-Y59wXDsFw            123         4224.0   \nHs-mgG2uEjA UCNAf1k0yIjyGu3k9BwAg3lg            388         6973.0   \ndKJh3_OnPZ8 UCBJeMCIeLQos7wacox4hmLQ            908         1794.0   \nw1B-NvBVtrw UC9-OpMMVoNP5o10_Iyq7Ndw             93         1582.0   \neYO7Ccj1Iok UCDkl5M0WVaddTWE4rr2cSeA            518         2077.0   \n\n                                      stats.view video.quality  \\\nid          creator.id                                           \n6bGpGQ08gQs UCF4Wxdo3inmxP-Y59wXDsFw      553619            HD   \nHs-mgG2uEjA UCNAf1k0yIjyGu3k9BwAg3lg     1377277            HD   \ndKJh3_OnPZ8 UCBJeMCIeLQos7wacox4hmLQ     2272038            HD   \nw1B-NvBVtrw UC9-OpMMVoNP5o10_Iyq7Ndw      437520            HD   \neYO7Ccj1Iok UCDkl5M0WVaddTWE4rr2cSeA     1391601            HD   \n\n                                            creator.title  \\\nid          creator.id                                      \n6bGpGQ08gQs UCF4Wxdo3inmxP-Y59wXDsFw              MBCNEWS   \nHs-mgG2uEjA UCNAf1k0yIjyGu3k9BwAg3lg  Sky Sports Football   \ndKJh3_OnPZ8 UCBJeMCIeLQos7wacox4hmLQ              Serie A   \nw1B-NvBVtrw UC9-OpMMVoNP5o10_Iyq7Ndw      Bleacher Report   \neYO7Ccj1Iok UCDkl5M0WVaddTWE4rr2cSeA      Léna Situations   \n\n                                                                    creator.description  \\\nid          creator.id                                                                    \n6bGpGQ08gQs UCF4Wxdo3inmxP-Y59wXDsFw  MBC 뉴스 공식 유튜브 채널입니다. 시청자 여러분의 의견과 제보를 항상 기다립니다...   \nHs-mgG2uEjA UCNAf1k0yIjyGu3k9BwAg3lg  Sky Sports Football is the home of Sky Sports'...   \ndKJh3_OnPZ8 UCBJeMCIeLQos7wacox4hmLQ  Welcome to the Official Serie A channel. Over ...   \nw1B-NvBVtrw UC9-OpMMVoNP5o10_Iyq7Ndw  The official YouTube page of Bleacher Report. ...   \neYO7Ccj1Iok UCDkl5M0WVaddTWE4rr2cSeA        désolée je suis nulle pour les descriptions   \n\n                                                  creator.time  \\\nid          creator.id                                           \n6bGpGQ08gQs UCF4Wxdo3inmxP-Y59wXDsFw 2006-11-05 21:58:51+00:00   \nHs-mgG2uEjA UCNAf1k0yIjyGu3k9BwAg3lg 2015-07-06 11:11:54+00:00   \ndKJh3_OnPZ8 UCBJeMCIeLQos7wacox4hmLQ 2012-10-30 13:54:30+00:00   \nw1B-NvBVtrw UC9-OpMMVoNP5o10_Iyq7Ndw 2007-09-14 18:23:54+00:00   \neYO7Ccj1Iok UCDkl5M0WVaddTWE4rr2cSeA 2013-01-14 17:22:41+00:00   \n\n                                      creator.stats.follower  \\\nid          creator.id                                         \n6bGpGQ08gQs UCF4Wxdo3inmxP-Y59wXDsFw                 1140000   \nHs-mgG2uEjA UCNAf1k0yIjyGu3k9BwAg3lg                 2780000   \ndKJh3_OnPZ8 UCBJeMCIeLQos7wacox4hmLQ                 6540000   \nw1B-NvBVtrw UC9-OpMMVoNP5o10_Iyq7Ndw                 2180000   \neYO7Ccj1Iok UCDkl5M0WVaddTWE4rr2cSeA                 1810000   \n\n                                      creator.stats.view  creator.stats.post  \\\nid          creator.id                                                         \n6bGpGQ08gQs UCF4Wxdo3inmxP-Y59wXDsFw          2169439928              101323   \nHs-mgG2uEjA UCNAf1k0yIjyGu3k9BwAg3lg          1654548702                4818   \ndKJh3_OnPZ8 UCBJeMCIeLQos7wacox4hmLQ          2175901252               20042   \nw1B-NvBVtrw UC9-OpMMVoNP5o10_Iyq7Ndw          1056524145                4622   \neYO7Ccj1Iok UCDkl5M0WVaddTWE4rr2cSeA           263268098                 296   \n\n                                      has_ad  has_ad_at_beginning  \nid          creator.id                                             \n6bGpGQ08gQs UCF4Wxdo3inmxP-Y59wXDsFw    True                 True  \nHs-mgG2uEjA UCNAf1k0yIjyGu3k9BwAg3lg    True                 True  \ndKJh3_OnPZ8 UCBJeMCIeLQos7wacox4hmLQ    True                 True  \nw1B-NvBVtrw UC9-OpMMVoNP5o10_Iyq7Ndw    True                 True  \neYO7Ccj1Iok UCDkl5M0WVaddTWE4rr2cSeA    True                 True  ",
      "text/html": "<div>\n<style scoped>\n    .dataframe tbody tr th:only-of-type {\n        vertical-align: middle;\n    }\n\n    .dataframe tbody tr th {\n        vertical-align: top;\n    }\n\n    .dataframe thead th {\n        text-align: right;\n    }\n</style>\n<table border=\"1\" class=\"dataframe\">\n  <thead>\n    <tr style=\"text-align: right;\">\n      <th></th>\n      <th></th>\n      <th>title</th>\n      <th>description</th>\n      <th>time</th>\n      <th>length</th>\n      <th>tags</th>\n      <th>category</th>\n      <th>stats.like</th>\n      <th>stats.dislike</th>\n      <th>stats.comment</th>\n      <th>stats.view</th>\n      <th>video.quality</th>\n      <th>creator.title</th>\n      <th>creator.description</th>\n      <th>creator.time</th>\n      <th>creator.stats.follower</th>\n      <th>creator.stats.view</th>\n      <th>creator.stats.post</th>\n      <th>has_ad</th>\n      <th>has_ad_at_beginning</th>\n    </tr>\n    <tr>\n      <th>id</th>\n      <th>creator.id</th>\n      <th></th>\n      <th></th>\n      <th></th>\n      <th></th>\n      <th></th>\n      <th></th>\n      <th></th>\n      <th></th>\n      <th></th>\n      <th></th>\n      <th></th>\n      <th></th>\n      <th></th>\n      <th></th>\n      <th></th>\n      <th></th>\n      <th></th>\n      <th></th>\n      <th></th>\n    </tr>\n  </thead>\n  <tbody>\n    <tr>\n      <th>6bGpGQ08gQs</th>\n      <th>UCF4Wxdo3inmxP-Y59wXDsFw</th>\n      <td>피로 물든 미얀마…무차별 발포에 30명 사망 (2021.03.01/뉴스데스크/MBC)</td>\n      <td>미얀마 군부가 쿠데타를 일으킨지 한 달 째, 미얀마에선 '피의 일요일'이 반복되고 ...</td>\n      <td>2021-03-01 11:24:24+00:00</td>\n      <td>0 days 00:02:31</td>\n      <td>[MBC, MBC뉴스, 뉴스데스크, newsdesk, 뉴스투데이, newstoday...</td>\n      <td>News &amp; Politics</td>\n      <td>4210</td>\n      <td>123</td>\n      <td>4224.0</td>\n      <td>553619</td>\n      <td>HD</td>\n      <td>MBCNEWS</td>\n      <td>MBC 뉴스 공식 유튜브 채널입니다. 시청자 여러분의 의견과 제보를 항상 기다립니다...</td>\n      <td>2006-11-05 21:58:51+00:00</td>\n      <td>1140000</td>\n      <td>2169439928</td>\n      <td>101323</td>\n      <td>True</td>\n      <td>True</td>\n    </tr>\n    <tr>\n      <th>Hs-mgG2uEjA</th>\n      <th>UCNAf1k0yIjyGu3k9BwAg3lg</th>\n      <td>Keane and Redknapp get HEATED over \"average\" S...</td>\n      <td>SUBSCRIBE ► http://bit.ly/SSFootballSub\\nPREMI...</td>\n      <td>2021-02-28 14:07:11+00:00</td>\n      <td>0 days 00:07:15</td>\n      <td>[sky sports, sky sports football, premier leag...</td>\n      <td>Sports</td>\n      <td>24995</td>\n      <td>388</td>\n      <td>6973.0</td>\n      <td>1377277</td>\n      <td>HD</td>\n      <td>Sky Sports Football</td>\n      <td>Sky Sports Football is the home of Sky Sports'...</td>\n      <td>2015-07-06 11:11:54+00:00</td>\n      <td>2780000</td>\n      <td>1654548702</td>\n      <td>4818</td>\n      <td>True</td>\n      <td>True</td>\n    </tr>\n    <tr>\n      <th>dKJh3_OnPZ8</th>\n      <th>UCBJeMCIeLQos7wacox4hmLQ</th>\n      <td>Roma 1-2 Milan | Milan keep the pressure on In...</td>\n      <td>Rebic scored the winner for Milan, as they kee...</td>\n      <td>2021-02-28 22:43:51+00:00</td>\n      <td>0 days 00:04:14</td>\n      <td>[Ronaldo, Serie A, Dybala, highlights, Juventu...</td>\n      <td>Sports</td>\n      <td>35514</td>\n      <td>908</td>\n      <td>1794.0</td>\n      <td>2272038</td>\n      <td>HD</td>\n      <td>Serie A</td>\n      <td>Welcome to the Official Serie A channel. Over ...</td>\n      <td>2012-10-30 13:54:30+00:00</td>\n      <td>6540000</td>\n      <td>2175901252</td>\n      <td>20042</td>\n      <td>True</td>\n      <td>True</td>\n    </tr>\n    <tr>\n      <th>w1B-NvBVtrw</th>\n      <th>UC9-OpMMVoNP5o10_Iyq7Ndw</th>\n      <td>Giannis Antetokounmpo Throws Down Monster Slam...</td>\n      <td>GREEK FREAK CALLED GAME. \\n\\r\\nSubscribe: http...</td>\n      <td>2021-02-28 23:11:18+00:00</td>\n      <td>0 days 00:00:52</td>\n      <td>[bleacher report, br, nba, giannis antetokounm...</td>\n      <td>Sports</td>\n      <td>4951</td>\n      <td>93</td>\n      <td>1582.0</td>\n      <td>437520</td>\n      <td>HD</td>\n      <td>Bleacher Report</td>\n      <td>The official YouTube page of Bleacher Report. ...</td>\n      <td>2007-09-14 18:23:54+00:00</td>\n      <td>2180000</td>\n      <td>1056524145</td>\n      <td>4622</td>\n      <td>True</td>\n      <td>True</td>\n    </tr>\n    <tr>\n      <th>eYO7Ccj1Iok</th>\n      <th>UCDkl5M0WVaddTWE4rr2cSeA</th>\n      <td>DES MEILLEURES AMIES ECHANGENT LEURS VIES PEND...</td>\n      <td>Je connais ma meilleure amie Solene depuis 22 ...</td>\n      <td>2021-02-28 20:13:20+00:00</td>\n      <td>0 days 00:23:29</td>\n      <td>[lena situations, lena, lena situation, situat...</td>\n      <td>People &amp; Blogs</td>\n      <td>112683</td>\n      <td>518</td>\n      <td>2077.0</td>\n      <td>1391601</td>\n      <td>HD</td>\n      <td>Léna Situations</td>\n      <td>désolée je suis nulle pour les descriptions</td>\n      <td>2013-01-14 17:22:41+00:00</td>\n      <td>1810000</td>\n      <td>263268098</td>\n      <td>296</td>\n      <td>True</td>\n      <td>True</td>\n    </tr>\n  </tbody>\n</table>\n</div>"
     },
     "metadata": {}
    },
    {
     "output_type": "display_data",
     "data": {
      "text/plain": "<IPython.core.display.Markdown object>",
      "text/markdown": "## Stats"
     },
     "metadata": {}
    },
    {
     "output_type": "display_data",
     "data": {
      "text/plain": "                          length     stats.like  stats.dislike  stats.comment  \\\ncount                         20      20.000000      20.000000      19.000000   \nmean      0 days 00:09:17.850000   21240.450000     545.850000    1642.631579   \nstd    0 days 00:11:17.421758931   25947.217241     678.091228    1912.237003   \nmin              0 days 00:00:52    2347.000000      66.000000      65.000000   \n25%       0 days 00:03:10.750000    5027.500000     194.750000     324.500000   \n50%       0 days 00:05:08.500000    9690.000000     349.000000     756.000000   \n75%       0 days 00:08:49.750000   27624.750000     607.750000    1935.500000   \nmax              0 days 00:46:59  112683.000000    3154.000000    6973.000000   \n\n         stats.view  creator.stats.follower  creator.stats.view  \\\ncount  2.000000e+01            2.000000e+01        2.000000e+01   \nmean   9.858279e+05            1.421800e+07        1.158647e+10   \nstd    7.453541e+05            2.396714e+07        2.105210e+10   \nmin    9.464400e+04            4.670000e+05        1.308057e+08   \n25%    4.593428e+05            1.642500e+06        8.310468e+08   \n50%    6.929960e+05            3.045000e+06        1.931002e+09   \n75%    1.380858e+06            1.510000e+07        8.150189e+09   \nmax    2.820763e+06            9.800000e+07        8.064688e+10   \n\n       creator.stats.post  \ncount            20.00000  \nmean          30655.10000  \nstd           35430.73451  \nmin             177.00000  \n25%            1071.75000  \n50%           20513.50000  \n75%           51529.50000  \nmax          105638.00000  ",
      "text/html": "<div>\n<style scoped>\n    .dataframe tbody tr th:only-of-type {\n        vertical-align: middle;\n    }\n\n    .dataframe tbody tr th {\n        vertical-align: top;\n    }\n\n    .dataframe thead th {\n        text-align: right;\n    }\n</style>\n<table border=\"1\" class=\"dataframe\">\n  <thead>\n    <tr style=\"text-align: right;\">\n      <th></th>\n      <th>length</th>\n      <th>stats.like</th>\n      <th>stats.dislike</th>\n      <th>stats.comment</th>\n      <th>stats.view</th>\n      <th>creator.stats.follower</th>\n      <th>creator.stats.view</th>\n      <th>creator.stats.post</th>\n    </tr>\n  </thead>\n  <tbody>\n    <tr>\n      <th>count</th>\n      <td>20</td>\n      <td>20.000000</td>\n      <td>20.000000</td>\n      <td>19.000000</td>\n      <td>2.000000e+01</td>\n      <td>2.000000e+01</td>\n      <td>2.000000e+01</td>\n      <td>20.00000</td>\n    </tr>\n    <tr>\n      <th>mean</th>\n      <td>0 days 00:09:17.850000</td>\n      <td>21240.450000</td>\n      <td>545.850000</td>\n      <td>1642.631579</td>\n      <td>9.858279e+05</td>\n      <td>1.421800e+07</td>\n      <td>1.158647e+10</td>\n      <td>30655.10000</td>\n    </tr>\n    <tr>\n      <th>std</th>\n      <td>0 days 00:11:17.421758931</td>\n      <td>25947.217241</td>\n      <td>678.091228</td>\n      <td>1912.237003</td>\n      <td>7.453541e+05</td>\n      <td>2.396714e+07</td>\n      <td>2.105210e+10</td>\n      <td>35430.73451</td>\n    </tr>\n    <tr>\n      <th>min</th>\n      <td>0 days 00:00:52</td>\n      <td>2347.000000</td>\n      <td>66.000000</td>\n      <td>65.000000</td>\n      <td>9.464400e+04</td>\n      <td>4.670000e+05</td>\n      <td>1.308057e+08</td>\n      <td>177.00000</td>\n    </tr>\n    <tr>\n      <th>25%</th>\n      <td>0 days 00:03:10.750000</td>\n      <td>5027.500000</td>\n      <td>194.750000</td>\n      <td>324.500000</td>\n      <td>4.593428e+05</td>\n      <td>1.642500e+06</td>\n      <td>8.310468e+08</td>\n      <td>1071.75000</td>\n    </tr>\n    <tr>\n      <th>50%</th>\n      <td>0 days 00:05:08.500000</td>\n      <td>9690.000000</td>\n      <td>349.000000</td>\n      <td>756.000000</td>\n      <td>6.929960e+05</td>\n      <td>3.045000e+06</td>\n      <td>1.931002e+09</td>\n      <td>20513.50000</td>\n    </tr>\n    <tr>\n      <th>75%</th>\n      <td>0 days 00:08:49.750000</td>\n      <td>27624.750000</td>\n      <td>607.750000</td>\n      <td>1935.500000</td>\n      <td>1.380858e+06</td>\n      <td>1.510000e+07</td>\n      <td>8.150189e+09</td>\n      <td>51529.50000</td>\n    </tr>\n    <tr>\n      <th>max</th>\n      <td>0 days 00:46:59</td>\n      <td>112683.000000</td>\n      <td>3154.000000</td>\n      <td>6973.000000</td>\n      <td>2.820763e+06</td>\n      <td>9.800000e+07</td>\n      <td>8.064688e+10</td>\n      <td>105638.00000</td>\n    </tr>\n  </tbody>\n</table>\n</div>"
     },
     "metadata": {}
    },
    {
     "output_type": "display_data",
     "data": {
      "text/plain": "<IPython.core.display.Markdown object>",
      "text/markdown": "---"
     },
     "metadata": {}
    }
   ],
   "source": [
    "# take a brief look at our data\n",
    "df_report(df_search_details, name = 'Search Result')\n",
    "df_report(df_search_details_channels, name = 'Search Result (Channels)')"
   ]
  },
  {
   "source": [
    "##### STEP 5  Data Archiving\n"
   ],
   "cell_type": "markdown",
   "metadata": {}
  },
  {
   "cell_type": "code",
   "execution_count": 12,
   "metadata": {},
   "outputs": [
    {
     "output_type": "display_data",
     "data": {
      "text/plain": "<IPython.core.display.Markdown object>",
      "text/markdown": "---"
     },
     "metadata": {}
    },
    {
     "output_type": "display_data",
     "data": {
      "text/plain": "<IPython.core.display.Markdown object>",
      "text/markdown": "# Results - Search Results (Verification)"
     },
     "metadata": {}
    },
    {
     "output_type": "display_data",
     "data": {
      "text/plain": "<IPython.core.display.Markdown object>",
      "text/markdown": "## Data Preview"
     },
     "metadata": {}
    },
    {
     "output_type": "display_data",
     "data": {
      "text/plain": "                                                                                  title  \\\nid          creator.id                                                                    \n6bGpGQ08gQs UCF4Wxdo3inmxP-Y59wXDsFw    피로 물든 미얀마…무차별 발포에 30명 사망 (2021.03.01/뉴스데스크/MBC)   \nHs-mgG2uEjA UCNAf1k0yIjyGu3k9BwAg3lg  Keane and Redknapp get HEATED over \"average\" S...   \ndKJh3_OnPZ8 UCBJeMCIeLQos7wacox4hmLQ  Roma 1-2 Milan | Milan keep the pressure on In...   \nw1B-NvBVtrw UC9-OpMMVoNP5o10_Iyq7Ndw  Giannis Antetokounmpo Throws Down Monster Slam...   \neYO7Ccj1Iok UCDkl5M0WVaddTWE4rr2cSeA  DES MEILLEURES AMIES ECHANGENT LEURS VIES PEND...   \n\n                                                                            description  \\\nid          creator.id                                                                    \n6bGpGQ08gQs UCF4Wxdo3inmxP-Y59wXDsFw  미얀마 군부가 쿠데타를 일으킨지 한 달 째, 미얀마에선 '피의 일요일'이 반복되고 ...   \nHs-mgG2uEjA UCNAf1k0yIjyGu3k9BwAg3lg  SUBSCRIBE ► http://bit.ly/SSFootballSub\\nPREMI...   \ndKJh3_OnPZ8 UCBJeMCIeLQos7wacox4hmLQ  Rebic scored the winner for Milan, as they kee...   \nw1B-NvBVtrw UC9-OpMMVoNP5o10_Iyq7Ndw  GREEK FREAK CALLED GAME. \\n\\r\\nSubscribe: http...   \neYO7Ccj1Iok UCDkl5M0WVaddTWE4rr2cSeA  Je connais ma meilleure amie Solene depuis 22 ...   \n\n                                                          time  \\\nid          creator.id                                           \n6bGpGQ08gQs UCF4Wxdo3inmxP-Y59wXDsFw 2021-03-01 11:24:24+00:00   \nHs-mgG2uEjA UCNAf1k0yIjyGu3k9BwAg3lg 2021-02-28 14:07:11+00:00   \ndKJh3_OnPZ8 UCBJeMCIeLQos7wacox4hmLQ 2021-02-28 22:43:51+00:00   \nw1B-NvBVtrw UC9-OpMMVoNP5o10_Iyq7Ndw 2021-02-28 23:11:18+00:00   \neYO7Ccj1Iok UCDkl5M0WVaddTWE4rr2cSeA 2021-02-28 20:13:20+00:00   \n\n                                              length  \\\nid          creator.id                                 \n6bGpGQ08gQs UCF4Wxdo3inmxP-Y59wXDsFw 0 days 00:02:31   \nHs-mgG2uEjA UCNAf1k0yIjyGu3k9BwAg3lg 0 days 00:07:15   \ndKJh3_OnPZ8 UCBJeMCIeLQos7wacox4hmLQ 0 days 00:04:14   \nw1B-NvBVtrw UC9-OpMMVoNP5o10_Iyq7Ndw 0 days 00:00:52   \neYO7Ccj1Iok UCDkl5M0WVaddTWE4rr2cSeA 0 days 00:23:29   \n\n                                                                                   tags  \\\nid          creator.id                                                                    \n6bGpGQ08gQs UCF4Wxdo3inmxP-Y59wXDsFw  [MBC, MBC뉴스, 뉴스데스크, newsdesk, 뉴스투데이, newstoday...   \nHs-mgG2uEjA UCNAf1k0yIjyGu3k9BwAg3lg  [sky sports, sky sports football, premier leag...   \ndKJh3_OnPZ8 UCBJeMCIeLQos7wacox4hmLQ  [Ronaldo, Serie A, Dybala, highlights, Juventu...   \nw1B-NvBVtrw UC9-OpMMVoNP5o10_Iyq7Ndw  [bleacher report, br, nba, giannis antetokounm...   \neYO7Ccj1Iok UCDkl5M0WVaddTWE4rr2cSeA  [lena situations, lena, lena situation, situat...   \n\n                                             category  stats.like  \\\nid          creator.id                                              \n6bGpGQ08gQs UCF4Wxdo3inmxP-Y59wXDsFw  News & Politics        4210   \nHs-mgG2uEjA UCNAf1k0yIjyGu3k9BwAg3lg           Sports       24995   \ndKJh3_OnPZ8 UCBJeMCIeLQos7wacox4hmLQ           Sports       35514   \nw1B-NvBVtrw UC9-OpMMVoNP5o10_Iyq7Ndw           Sports        4951   \neYO7Ccj1Iok UCDkl5M0WVaddTWE4rr2cSeA   People & Blogs      112683   \n\n                                      stats.dislike  stats.comment  \\\nid          creator.id                                               \n6bGpGQ08gQs UCF4Wxdo3inmxP-Y59wXDsFw            123         4224.0   \nHs-mgG2uEjA UCNAf1k0yIjyGu3k9BwAg3lg            388         6973.0   \ndKJh3_OnPZ8 UCBJeMCIeLQos7wacox4hmLQ            908         1794.0   \nw1B-NvBVtrw UC9-OpMMVoNP5o10_Iyq7Ndw             93         1582.0   \neYO7Ccj1Iok UCDkl5M0WVaddTWE4rr2cSeA            518         2077.0   \n\n                                      stats.view video.quality  \\\nid          creator.id                                           \n6bGpGQ08gQs UCF4Wxdo3inmxP-Y59wXDsFw      553619            HD   \nHs-mgG2uEjA UCNAf1k0yIjyGu3k9BwAg3lg     1377277            HD   \ndKJh3_OnPZ8 UCBJeMCIeLQos7wacox4hmLQ     2272038            HD   \nw1B-NvBVtrw UC9-OpMMVoNP5o10_Iyq7Ndw      437520            HD   \neYO7Ccj1Iok UCDkl5M0WVaddTWE4rr2cSeA     1391601            HD   \n\n                                            creator.title  \\\nid          creator.id                                      \n6bGpGQ08gQs UCF4Wxdo3inmxP-Y59wXDsFw              MBCNEWS   \nHs-mgG2uEjA UCNAf1k0yIjyGu3k9BwAg3lg  Sky Sports Football   \ndKJh3_OnPZ8 UCBJeMCIeLQos7wacox4hmLQ              Serie A   \nw1B-NvBVtrw UC9-OpMMVoNP5o10_Iyq7Ndw      Bleacher Report   \neYO7Ccj1Iok UCDkl5M0WVaddTWE4rr2cSeA      Léna Situations   \n\n                                                                    creator.description  \\\nid          creator.id                                                                    \n6bGpGQ08gQs UCF4Wxdo3inmxP-Y59wXDsFw  MBC 뉴스 공식 유튜브 채널입니다. 시청자 여러분의 의견과 제보를 항상 기다립니다...   \nHs-mgG2uEjA UCNAf1k0yIjyGu3k9BwAg3lg  Sky Sports Football is the home of Sky Sports'...   \ndKJh3_OnPZ8 UCBJeMCIeLQos7wacox4hmLQ  Welcome to the Official Serie A channel. Over ...   \nw1B-NvBVtrw UC9-OpMMVoNP5o10_Iyq7Ndw  The official YouTube page of Bleacher Report. ...   \neYO7Ccj1Iok UCDkl5M0WVaddTWE4rr2cSeA        désolée je suis nulle pour les descriptions   \n\n                                                  creator.time  \\\nid          creator.id                                           \n6bGpGQ08gQs UCF4Wxdo3inmxP-Y59wXDsFw 2006-11-05 21:58:51+00:00   \nHs-mgG2uEjA UCNAf1k0yIjyGu3k9BwAg3lg 2015-07-06 11:11:54+00:00   \ndKJh3_OnPZ8 UCBJeMCIeLQos7wacox4hmLQ 2012-10-30 13:54:30+00:00   \nw1B-NvBVtrw UC9-OpMMVoNP5o10_Iyq7Ndw 2007-09-14 18:23:54+00:00   \neYO7Ccj1Iok UCDkl5M0WVaddTWE4rr2cSeA 2013-01-14 17:22:41+00:00   \n\n                                      creator.stats.follower  \\\nid          creator.id                                         \n6bGpGQ08gQs UCF4Wxdo3inmxP-Y59wXDsFw                 1140000   \nHs-mgG2uEjA UCNAf1k0yIjyGu3k9BwAg3lg                 2780000   \ndKJh3_OnPZ8 UCBJeMCIeLQos7wacox4hmLQ                 6540000   \nw1B-NvBVtrw UC9-OpMMVoNP5o10_Iyq7Ndw                 2180000   \neYO7Ccj1Iok UCDkl5M0WVaddTWE4rr2cSeA                 1810000   \n\n                                      creator.stats.view  creator.stats.post  \\\nid          creator.id                                                         \n6bGpGQ08gQs UCF4Wxdo3inmxP-Y59wXDsFw          2169439928              101323   \nHs-mgG2uEjA UCNAf1k0yIjyGu3k9BwAg3lg          1654548702                4818   \ndKJh3_OnPZ8 UCBJeMCIeLQos7wacox4hmLQ          2175901252               20042   \nw1B-NvBVtrw UC9-OpMMVoNP5o10_Iyq7Ndw          1056524145                4622   \neYO7Ccj1Iok UCDkl5M0WVaddTWE4rr2cSeA           263268098                 296   \n\n                                      has_ad  has_ad_at_beginning  \nid          creator.id                                             \n6bGpGQ08gQs UCF4Wxdo3inmxP-Y59wXDsFw    True                 True  \nHs-mgG2uEjA UCNAf1k0yIjyGu3k9BwAg3lg    True                 True  \ndKJh3_OnPZ8 UCBJeMCIeLQos7wacox4hmLQ    True                 True  \nw1B-NvBVtrw UC9-OpMMVoNP5o10_Iyq7Ndw    True                 True  \neYO7Ccj1Iok UCDkl5M0WVaddTWE4rr2cSeA    True                 True  ",
      "text/html": "<div>\n<style scoped>\n    .dataframe tbody tr th:only-of-type {\n        vertical-align: middle;\n    }\n\n    .dataframe tbody tr th {\n        vertical-align: top;\n    }\n\n    .dataframe thead th {\n        text-align: right;\n    }\n</style>\n<table border=\"1\" class=\"dataframe\">\n  <thead>\n    <tr style=\"text-align: right;\">\n      <th></th>\n      <th></th>\n      <th>title</th>\n      <th>description</th>\n      <th>time</th>\n      <th>length</th>\n      <th>tags</th>\n      <th>category</th>\n      <th>stats.like</th>\n      <th>stats.dislike</th>\n      <th>stats.comment</th>\n      <th>stats.view</th>\n      <th>video.quality</th>\n      <th>creator.title</th>\n      <th>creator.description</th>\n      <th>creator.time</th>\n      <th>creator.stats.follower</th>\n      <th>creator.stats.view</th>\n      <th>creator.stats.post</th>\n      <th>has_ad</th>\n      <th>has_ad_at_beginning</th>\n    </tr>\n    <tr>\n      <th>id</th>\n      <th>creator.id</th>\n      <th></th>\n      <th></th>\n      <th></th>\n      <th></th>\n      <th></th>\n      <th></th>\n      <th></th>\n      <th></th>\n      <th></th>\n      <th></th>\n      <th></th>\n      <th></th>\n      <th></th>\n      <th></th>\n      <th></th>\n      <th></th>\n      <th></th>\n      <th></th>\n      <th></th>\n    </tr>\n  </thead>\n  <tbody>\n    <tr>\n      <th>6bGpGQ08gQs</th>\n      <th>UCF4Wxdo3inmxP-Y59wXDsFw</th>\n      <td>피로 물든 미얀마…무차별 발포에 30명 사망 (2021.03.01/뉴스데스크/MBC)</td>\n      <td>미얀마 군부가 쿠데타를 일으킨지 한 달 째, 미얀마에선 '피의 일요일'이 반복되고 ...</td>\n      <td>2021-03-01 11:24:24+00:00</td>\n      <td>0 days 00:02:31</td>\n      <td>[MBC, MBC뉴스, 뉴스데스크, newsdesk, 뉴스투데이, newstoday...</td>\n      <td>News &amp; Politics</td>\n      <td>4210</td>\n      <td>123</td>\n      <td>4224.0</td>\n      <td>553619</td>\n      <td>HD</td>\n      <td>MBCNEWS</td>\n      <td>MBC 뉴스 공식 유튜브 채널입니다. 시청자 여러분의 의견과 제보를 항상 기다립니다...</td>\n      <td>2006-11-05 21:58:51+00:00</td>\n      <td>1140000</td>\n      <td>2169439928</td>\n      <td>101323</td>\n      <td>True</td>\n      <td>True</td>\n    </tr>\n    <tr>\n      <th>Hs-mgG2uEjA</th>\n      <th>UCNAf1k0yIjyGu3k9BwAg3lg</th>\n      <td>Keane and Redknapp get HEATED over \"average\" S...</td>\n      <td>SUBSCRIBE ► http://bit.ly/SSFootballSub\\nPREMI...</td>\n      <td>2021-02-28 14:07:11+00:00</td>\n      <td>0 days 00:07:15</td>\n      <td>[sky sports, sky sports football, premier leag...</td>\n      <td>Sports</td>\n      <td>24995</td>\n      <td>388</td>\n      <td>6973.0</td>\n      <td>1377277</td>\n      <td>HD</td>\n      <td>Sky Sports Football</td>\n      <td>Sky Sports Football is the home of Sky Sports'...</td>\n      <td>2015-07-06 11:11:54+00:00</td>\n      <td>2780000</td>\n      <td>1654548702</td>\n      <td>4818</td>\n      <td>True</td>\n      <td>True</td>\n    </tr>\n    <tr>\n      <th>dKJh3_OnPZ8</th>\n      <th>UCBJeMCIeLQos7wacox4hmLQ</th>\n      <td>Roma 1-2 Milan | Milan keep the pressure on In...</td>\n      <td>Rebic scored the winner for Milan, as they kee...</td>\n      <td>2021-02-28 22:43:51+00:00</td>\n      <td>0 days 00:04:14</td>\n      <td>[Ronaldo, Serie A, Dybala, highlights, Juventu...</td>\n      <td>Sports</td>\n      <td>35514</td>\n      <td>908</td>\n      <td>1794.0</td>\n      <td>2272038</td>\n      <td>HD</td>\n      <td>Serie A</td>\n      <td>Welcome to the Official Serie A channel. Over ...</td>\n      <td>2012-10-30 13:54:30+00:00</td>\n      <td>6540000</td>\n      <td>2175901252</td>\n      <td>20042</td>\n      <td>True</td>\n      <td>True</td>\n    </tr>\n    <tr>\n      <th>w1B-NvBVtrw</th>\n      <th>UC9-OpMMVoNP5o10_Iyq7Ndw</th>\n      <td>Giannis Antetokounmpo Throws Down Monster Slam...</td>\n      <td>GREEK FREAK CALLED GAME. \\n\\r\\nSubscribe: http...</td>\n      <td>2021-02-28 23:11:18+00:00</td>\n      <td>0 days 00:00:52</td>\n      <td>[bleacher report, br, nba, giannis antetokounm...</td>\n      <td>Sports</td>\n      <td>4951</td>\n      <td>93</td>\n      <td>1582.0</td>\n      <td>437520</td>\n      <td>HD</td>\n      <td>Bleacher Report</td>\n      <td>The official YouTube page of Bleacher Report. ...</td>\n      <td>2007-09-14 18:23:54+00:00</td>\n      <td>2180000</td>\n      <td>1056524145</td>\n      <td>4622</td>\n      <td>True</td>\n      <td>True</td>\n    </tr>\n    <tr>\n      <th>eYO7Ccj1Iok</th>\n      <th>UCDkl5M0WVaddTWE4rr2cSeA</th>\n      <td>DES MEILLEURES AMIES ECHANGENT LEURS VIES PEND...</td>\n      <td>Je connais ma meilleure amie Solene depuis 22 ...</td>\n      <td>2021-02-28 20:13:20+00:00</td>\n      <td>0 days 00:23:29</td>\n      <td>[lena situations, lena, lena situation, situat...</td>\n      <td>People &amp; Blogs</td>\n      <td>112683</td>\n      <td>518</td>\n      <td>2077.0</td>\n      <td>1391601</td>\n      <td>HD</td>\n      <td>Léna Situations</td>\n      <td>désolée je suis nulle pour les descriptions</td>\n      <td>2013-01-14 17:22:41+00:00</td>\n      <td>1810000</td>\n      <td>263268098</td>\n      <td>296</td>\n      <td>True</td>\n      <td>True</td>\n    </tr>\n  </tbody>\n</table>\n</div>"
     },
     "metadata": {}
    },
    {
     "output_type": "display_data",
     "data": {
      "text/plain": "<IPython.core.display.Markdown object>",
      "text/markdown": "## Stats"
     },
     "metadata": {}
    },
    {
     "output_type": "display_data",
     "data": {
      "text/plain": "                          length     stats.like  stats.dislike  stats.comment  \\\ncount                         20      20.000000      20.000000      19.000000   \nmean      0 days 00:09:17.850000   21240.450000     545.850000    1642.631579   \nstd    0 days 00:11:17.421758931   25947.217241     678.091228    1912.237003   \nmin              0 days 00:00:52    2347.000000      66.000000      65.000000   \n25%       0 days 00:03:10.750000    5027.500000     194.750000     324.500000   \n50%       0 days 00:05:08.500000    9690.000000     349.000000     756.000000   \n75%       0 days 00:08:49.750000   27624.750000     607.750000    1935.500000   \nmax              0 days 00:46:59  112683.000000    3154.000000    6973.000000   \n\n         stats.view  creator.stats.follower  creator.stats.view  \\\ncount  2.000000e+01            2.000000e+01        2.000000e+01   \nmean   9.858279e+05            1.421800e+07        1.158647e+10   \nstd    7.453541e+05            2.396714e+07        2.105210e+10   \nmin    9.464400e+04            4.670000e+05        1.308057e+08   \n25%    4.593428e+05            1.642500e+06        8.310468e+08   \n50%    6.929960e+05            3.045000e+06        1.931002e+09   \n75%    1.380858e+06            1.510000e+07        8.150189e+09   \nmax    2.820763e+06            9.800000e+07        8.064688e+10   \n\n       creator.stats.post  \ncount            20.00000  \nmean          30655.10000  \nstd           35430.73451  \nmin             177.00000  \n25%            1071.75000  \n50%           20513.50000  \n75%           51529.50000  \nmax          105638.00000  ",
      "text/html": "<div>\n<style scoped>\n    .dataframe tbody tr th:only-of-type {\n        vertical-align: middle;\n    }\n\n    .dataframe tbody tr th {\n        vertical-align: top;\n    }\n\n    .dataframe thead th {\n        text-align: right;\n    }\n</style>\n<table border=\"1\" class=\"dataframe\">\n  <thead>\n    <tr style=\"text-align: right;\">\n      <th></th>\n      <th>length</th>\n      <th>stats.like</th>\n      <th>stats.dislike</th>\n      <th>stats.comment</th>\n      <th>stats.view</th>\n      <th>creator.stats.follower</th>\n      <th>creator.stats.view</th>\n      <th>creator.stats.post</th>\n    </tr>\n  </thead>\n  <tbody>\n    <tr>\n      <th>count</th>\n      <td>20</td>\n      <td>20.000000</td>\n      <td>20.000000</td>\n      <td>19.000000</td>\n      <td>2.000000e+01</td>\n      <td>2.000000e+01</td>\n      <td>2.000000e+01</td>\n      <td>20.00000</td>\n    </tr>\n    <tr>\n      <th>mean</th>\n      <td>0 days 00:09:17.850000</td>\n      <td>21240.450000</td>\n      <td>545.850000</td>\n      <td>1642.631579</td>\n      <td>9.858279e+05</td>\n      <td>1.421800e+07</td>\n      <td>1.158647e+10</td>\n      <td>30655.10000</td>\n    </tr>\n    <tr>\n      <th>std</th>\n      <td>0 days 00:11:17.421758931</td>\n      <td>25947.217241</td>\n      <td>678.091228</td>\n      <td>1912.237003</td>\n      <td>7.453541e+05</td>\n      <td>2.396714e+07</td>\n      <td>2.105210e+10</td>\n      <td>35430.73451</td>\n    </tr>\n    <tr>\n      <th>min</th>\n      <td>0 days 00:00:52</td>\n      <td>2347.000000</td>\n      <td>66.000000</td>\n      <td>65.000000</td>\n      <td>9.464400e+04</td>\n      <td>4.670000e+05</td>\n      <td>1.308057e+08</td>\n      <td>177.00000</td>\n    </tr>\n    <tr>\n      <th>25%</th>\n      <td>0 days 00:03:10.750000</td>\n      <td>5027.500000</td>\n      <td>194.750000</td>\n      <td>324.500000</td>\n      <td>4.593428e+05</td>\n      <td>1.642500e+06</td>\n      <td>8.310468e+08</td>\n      <td>1071.75000</td>\n    </tr>\n    <tr>\n      <th>50%</th>\n      <td>0 days 00:05:08.500000</td>\n      <td>9690.000000</td>\n      <td>349.000000</td>\n      <td>756.000000</td>\n      <td>6.929960e+05</td>\n      <td>3.045000e+06</td>\n      <td>1.931002e+09</td>\n      <td>20513.50000</td>\n    </tr>\n    <tr>\n      <th>75%</th>\n      <td>0 days 00:08:49.750000</td>\n      <td>27624.750000</td>\n      <td>607.750000</td>\n      <td>1935.500000</td>\n      <td>1.380858e+06</td>\n      <td>1.510000e+07</td>\n      <td>8.150189e+09</td>\n      <td>51529.50000</td>\n    </tr>\n    <tr>\n      <th>max</th>\n      <td>0 days 00:46:59</td>\n      <td>112683.000000</td>\n      <td>3154.000000</td>\n      <td>6973.000000</td>\n      <td>2.820763e+06</td>\n      <td>9.800000e+07</td>\n      <td>8.064688e+10</td>\n      <td>105638.00000</td>\n    </tr>\n  </tbody>\n</table>\n</div>"
     },
     "metadata": {}
    },
    {
     "output_type": "display_data",
     "data": {
      "text/plain": "<IPython.core.display.Markdown object>",
      "text/markdown": "---"
     },
     "metadata": {}
    }
   ],
   "source": [
    "pickle_proto = 3\n",
    "\n",
    "pickle_fname = f'dsamples/youtube_search_{as_fname(keyword)}_{dataset_id}.pkl'\n",
    "pickle_fname_channels = f'dsamples/youtube_search_channels_{as_fname(keyword)}_{dataset_id}.pkl'\n",
    "\n",
    "df_search_details.attrs['_search_keyword'] = keyword\n",
    "\n",
    "df_update_pickle(df_search_details, pickle_fname, protocol = pickle_proto)\n",
    "df_update_pickle(df_search_details_channels, pickle_fname, protocol = pickle_proto)\n",
    "\n",
    "# verify that we saved the correct data\n",
    "df_search_details_verify = pd.read_pickle(pickle_fname)\n",
    "df_report(df_search_details_verify, name = 'Search Result (Verification)')\n",
    "df_search_details_channels_verify = pd.read_pickle(pickle_fname_channels)\n",
    "df_report(df_search_details_channels_verify, name = 'Search Result (Channels) (Verification)')"
   ]
  }
 ]
}