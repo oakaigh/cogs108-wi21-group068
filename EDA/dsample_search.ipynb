{
 "cells": [
  {
   "cell_type": "markdown",
   "metadata": {},
   "source": [
    "# Data Sampling"
   ]
  },
  {
   "cell_type": "markdown",
   "metadata": {},
   "source": [
    "## Setup"
   ]
  },
  {
   "cell_type": "code",
   "execution_count": 1,
   "metadata": {},
   "outputs": [],
   "source": [
    "import sys\n",
    "\n",
    "!{sys.executable} -m pip install --quiet --user --upgrade pandas==1.*\n",
    "!{sys.executable} -m pip install --quiet --user --upgrade -r requirements.txt"
   ]
  },
  {
   "cell_type": "code",
   "execution_count": 2,
   "metadata": {},
   "outputs": [],
   "source": [
    "from goodies import *\n",
    "import pandas as pd\n",
    "import os"
   ]
  },
  {
   "cell_type": "markdown",
   "metadata": {},
   "source": [
    "## Data Collection"
   ]
  },
  {
   "cell_type": "code",
   "execution_count": 3,
   "metadata": {},
   "outputs": [],
   "source": [
    "from dcollect import plugins\n",
    "\n",
    "modules = {'http': plugins.fasthttp()}\n",
    "headers = None"
   ]
  },
  {
   "cell_type": "markdown",
   "metadata": {},
   "source": [
    "### YouTube (United States)"
   ]
  },
  {
   "cell_type": "markdown",
   "metadata": {},
   "source": [
    "Initial setup. Be sure to have your API key ready. For details on how to obtain an API key, read [YouTube Data API Overview, Introduction: Before you start](https://developers.google.com/youtube/v3/getting-started#before-you-start)."
   ]
  },
  {
   "cell_type": "code",
   "execution_count": 4,
   "metadata": {},
   "outputs": [],
   "source": [
    "from dcollect import api_youtube as youtube\n",
    "from dcollect import api_youtubei as youtubei\n",
    "\n",
    "# This key is for testing ONLY. DO NOT release to the public!\n",
    "api_experiment = False\n",
    "api_key_testing = None\n",
    "api_key = os.environ.get('YOUTUBE_API_KEY') or api_key_testing\n",
    "\n",
    "if not api_key:\n",
    "    api_key = os.environ.get('YOUTUBE_EXPLORER_API_KEY')\n",
    "    if api_key: \n",
    "        api_experiment = True\n",
    "    else: \n",
    "        api_key = input('YouTube Data API Key: ')\n",
    "        api_experiment = (input('Is this an explorer key? [Y/N]: ') == 'Y')\n",
    "\n",
    "dataset_id = os.environ.get('DATASET_NAME')\n",
    "if dataset_id == None:\n",
    "    dataset_id = input('Dataset Name: ')\n",
    "    \n",
    "sample_size_per_query_default = 1000000\n",
    "sample_size_per_query = os.environ.get('SAMPLE_SIZE_PER_QUERY')    \n",
    "if sample_size_per_query == None:\n",
    "    sample_size_per_query = input('Sample size per query: ') or sample_size_per_query_default\n",
    "    \n",
    "sample_size_per_query = int(sample_size_per_query)"
   ]
  },
  {
   "cell_type": "markdown",
   "metadata": {},
   "source": [
    "#### Search"
   ]
  },
  {
   "cell_type": "markdown",
   "metadata": {},
   "source": [
    "##### STEP 1  Data Collection"
   ]
  },
  {
   "cell_type": "code",
   "execution_count": 5,
   "metadata": {},
   "outputs": [],
   "source": [
    "# create a YouTube API object\n",
    "youtube_o = youtube.api(\n",
    "    modules = modules,\n",
    "    headers = headers,\n",
    "    key = api_key,\n",
    "    experiment = api_experiment\n",
    ")\n",
    "\n",
    "# create a YouTube Internals API object\n",
    "youtubei_o = youtubei.api(\n",
    "    modules = modules,\n",
    "    headers = headers\n",
    ")"
   ]
  },
  {
   "cell_type": "code",
   "execution_count": 6,
   "metadata": {},
   "outputs": [],
   "source": [
    "def df_search_gen(*args, **kwargs):\n",
    "    from dcollect.utils.log import log\n",
    "    log.enable(level = log.levels.WARNING)\n",
    "    import concurrent.futures\n",
    "\n",
    "    df_search = None\n",
    "    df_info = None\n",
    "    df_channels = None\n",
    "    df_ads = None\n",
    "    \n",
    "    def worker_df_search(*args, **kwargs):\n",
    "        nonlocal df_search\n",
    "        df_search = df_from_json(\n",
    "            youtube_o.video.search(\n",
    "                *args, **kwargs\n",
    "            )\n",
    "        )\n",
    "        \n",
    "    def worker_df_info():\n",
    "        nonlocal df_info\n",
    "        df_info = df_from_json(\n",
    "            youtube_o.video.info(\n",
    "                id = df_search['id']\n",
    "            )\n",
    "        )\n",
    "            \n",
    "    def worker_df_ads():\n",
    "        nonlocal df_ads\n",
    "        df_ads = df_from_json(\n",
    "            youtubei_o.ad.placements(\n",
    "                id = df_search['id'],\n",
    "                throttle_size = None\n",
    "            )\n",
    "        )\n",
    "            \n",
    "    def worker_df_channels():\n",
    "        nonlocal df_channels\n",
    "        df_channels = df_from_json(\n",
    "            youtube_o.channel.info(\n",
    "                id = df_search['creator.id']\n",
    "            )\n",
    "        )\n",
    "            \n",
    "    # - search\n",
    "    worker_df_search(*args, **kwargs)\n",
    "    \n",
    "    with concurrent.futures.ThreadPoolExecutor() as executor:\n",
    "        for worker in worker_df_info, worker_df_ads, worker_df_channels:\n",
    "            executor.submit(worker)\n",
    "        executor.shutdown(wait = True)\n",
    "                \n",
    "    return df_search, df_info, df_channels, df_ads"
   ]
  },
  {
   "cell_type": "code",
   "execution_count": 7,
   "metadata": {},
   "outputs": [],
   "source": [
    "def df_search_gen_bulk(paramlist: list):\n",
    "    import concurrent.futures\n",
    "    \n",
    "    results = []\n",
    "    with concurrent.futures.ThreadPoolExecutor() as executor:\n",
    "        futures = [executor.submit(df_search_gen, **param) for param in paramlist]\n",
    "        results = [f.result() for f in concurrent.futures.as_completed(futures)]\n",
    "        \n",
    "    return results"
   ]
  },
  {
   "cell_type": "code",
   "execution_count": 8,
   "metadata": {},
   "outputs": [
    {
     "name": "stderr",
     "output_type": "stream",
     "text": [
      "WARNING:root:[api] ?: ?\n",
      "WARNING:root:[api] less data returned than expected. expected 1000000 but was 448\n",
      "WARNING:root:[api] ?: ?\n",
      "WARNING:root:[api] less data returned than expected. expected 1000000 but was 464\n",
      "WARNING:root:[api] ?: ?\n",
      "WARNING:root:[api] less data returned than expected. expected 1000000 but was 463\n",
      "WARNING:root:[api] ?: ?\n",
      "WARNING:root:[api] less data returned than expected. expected 1000000 but was 464\n",
      "WARNING:root:[api] ?: ?\n",
      "WARNING:root:[api] less data returned than expected. expected 1000000 but was 455\n",
      "WARNING:root:[api] ?: ?\n",
      "WARNING:root:[api] less data returned than expected. expected 1000000 but was 427\n",
      "WARNING:root:[api] ?: ?\n",
      "WARNING:root:[api] less data returned than expected. expected 1000000 but was 495\n",
      "WARNING:root:[api] ?: ?\n",
      "WARNING:root:[api] less data returned than expected. expected 1000000 but was 466\n",
      "WARNING:root:[api] ?: ?\n",
      "WARNING:root:[api] less data returned than expected. expected 1000000 but was 490\n",
      "WARNING:root:[api] ?: ?\n",
      "WARNING:root:[api] less data returned than expected. expected 1000000 but was 450\n",
      "WARNING:root:[api] ?: ?\n",
      "WARNING:root:[api] less data returned than expected. expected 1000000 but was 447\n",
      "WARNING:root:[api] ?: ?\n",
      "WARNING:root:[api] less data returned than expected. expected 1000000 but was 491\n",
      "WARNING:root:[api] ?: ?\n",
      "WARNING:root:[api] less data returned than expected. expected 1000000 but was 448\n",
      "WARNING:root:[api] ?: ?\n",
      "WARNING:root:[api] less data returned than expected. expected 1000000 but was 514\n",
      "WARNING:root:[api] ?: ?\n",
      "WARNING:root:[api] less data returned than expected. expected 1000000 but was 474\n",
      "WARNING:root:[api] ?: ?\n",
      "WARNING:root:[api] less data returned than expected. expected 1000000 but was 470\n",
      "WARNING:root:[api] ?: ?\n",
      "WARNING:root:[api] less data returned than expected. expected 1000000 but was 532\n",
      "WARNING:root:[api] ?: ?\n",
      "WARNING:root:[api] less data returned than expected. expected 1000000 but was 550\n",
      "WARNING:root:[api] ?: ?\n",
      "WARNING:root:[api] less data returned than expected. expected 1000000 but was 522\n",
      "WARNING:root:[api] ?: ?\n",
      "WARNING:root:[api] less data returned than expected. expected 1000000 but was 523\n",
      "WARNING:root:[api] ?: ?\n",
      "WARNING:root:[api] less data returned than expected. expected 1000000 but was 432\n",
      "WARNING:root:[api] ?: ?\n",
      "WARNING:root:[api] less data returned than expected. expected 1000000 but was 447\n",
      "WARNING:root:[api] ?: ?\n",
      "WARNING:root:[api] less data returned than expected. expected 1000000 but was 444\n",
      "WARNING:root:[api] ?: ?\n",
      "WARNING:root:[api] less data returned than expected. expected 1000000 but was 431\n",
      "WARNING:root:[api] ?: ?\n",
      "WARNING:root:[api] less data returned than expected. expected 1000000 but was 484\n",
      "WARNING:root:[api] ?: ?\n",
      "WARNING:root:[api] less data returned than expected. expected 1000000 but was 500\n"
     ]
    }
   ],
   "source": [
    "import string\n",
    "\n",
    "param_default = {\n",
    "    'count': sample_size_per_query\n",
    "}\n",
    "\n",
    "paramlist = []\n",
    "for c in string.ascii_lowercase:\n",
    "    param = dict(param_default)\n",
    "    param.update({\n",
    "        'keyword': c\n",
    "    })\n",
    "    paramlist.append(param)\n",
    "    \n",
    "df_search = pd.DataFrame()\n",
    "df_info = pd.DataFrame()\n",
    "df_channels = pd.DataFrame()\n",
    "df_ads = pd.DataFrame()\n",
    "\n",
    "results = df_search_gen_bulk(paramlist)"
   ]
  },
  {
   "cell_type": "code",
   "execution_count": 9,
   "metadata": {},
   "outputs": [
    {
     "name": "stderr",
     "output_type": "stream",
     "text": [
      "/home/jared/lab/group068_wi21/EDA/goodies.py:57: FutureWarning: Treating datetime data as categorical rather than numeric in `.describe` is deprecated and will be removed in a future version of pandas. Specify `datetime_is_numeric=True` to silence this warning and adopt the future behavior now.\n",
      "  df.describe()\n"
     ]
    },
    {
     "data": {
      "text/markdown": [
       "---"
      ],
      "text/plain": [
       "<IPython.core.display.Markdown object>"
      ]
     },
     "metadata": {},
     "output_type": "display_data"
    },
    {
     "data": {
      "text/markdown": [
       "# Results - "
      ],
      "text/plain": [
       "<IPython.core.display.Markdown object>"
      ]
     },
     "metadata": {},
     "output_type": "display_data"
    },
    {
     "data": {
      "text/markdown": [
       "## Data Preview"
      ],
      "text/plain": [
       "<IPython.core.display.Markdown object>"
      ]
     },
     "metadata": {},
     "output_type": "display_data"
    },
    {
     "data": {
      "text/html": [
       "<div>\n",
       "<style scoped>\n",
       "    .dataframe tbody tr th:only-of-type {\n",
       "        vertical-align: middle;\n",
       "    }\n",
       "\n",
       "    .dataframe tbody tr th {\n",
       "        vertical-align: top;\n",
       "    }\n",
       "\n",
       "    .dataframe thead th {\n",
       "        text-align: right;\n",
       "    }\n",
       "</style>\n",
       "<table border=\"1\" class=\"dataframe\">\n",
       "  <thead>\n",
       "    <tr style=\"text-align: right;\">\n",
       "      <th></th>\n",
       "      <th>id</th>\n",
       "      <th>title</th>\n",
       "      <th>description</th>\n",
       "      <th>time</th>\n",
       "      <th>tags</th>\n",
       "      <th>creator.id</th>\n",
       "    </tr>\n",
       "  </thead>\n",
       "  <tbody>\n",
       "    <tr>\n",
       "      <th>0</th>\n",
       "      <td>DruYNHN4FYY</td>\n",
       "      <td>Yes Yes Vegetables Song + More Nursery Rhymes ...</td>\n",
       "      <td>Watch your favorite song by clicking a title b...</td>\n",
       "      <td>2018-09-07 07:00:03+00:00</td>\n",
       "      <td>None</td>\n",
       "      <td>UCbCmjCuTUZos6Inko4u57UQ</td>\n",
       "    </tr>\n",
       "    <tr>\n",
       "      <th>1</th>\n",
       "      <td>k9-t3uOrhs4</td>\n",
       "      <td>UNTV: C-NEWS | March 11, 2021</td>\n",
       "      <td>Publiko, pinapayuhang magdoble ingat vs. COVID...</td>\n",
       "      <td>2021-03-11 05:30:04+00:00</td>\n",
       "      <td>None</td>\n",
       "      <td>UC3XaG-7UVi2vD8ZZEMNnnpw</td>\n",
       "    </tr>\n",
       "    <tr>\n",
       "      <th>2</th>\n",
       "      <td>npjKVpGBQW8</td>\n",
       "      <td>Still Fresh? Oddly Satisfying Cleaning Out OLD...</td>\n",
       "      <td>Twitter https://www.twitter.com/cookieswirlc/ ...</td>\n",
       "      <td>2020-08-03 19:02:25+00:00</td>\n",
       "      <td>None</td>\n",
       "      <td>UCelMeixAOTs2OQAAi9wU8-g</td>\n",
       "    </tr>\n",
       "    <tr>\n",
       "      <th>3</th>\n",
       "      <td>eM_KBmA1aw4</td>\n",
       "      <td>ജന ലക്ഷങ്ങൾ സംബന്ധിക്കുന്ന മദനീയം സ്വലാത്ത് | ...</td>\n",
       "      <td>C Media Is YouTube Channels Introduced Islamic...</td>\n",
       "      <td>2021-03-10 19:07:16+00:00</td>\n",
       "      <td>None</td>\n",
       "      <td>UCJpTA2LgMKJEIgCISqYnRWA</td>\n",
       "    </tr>\n",
       "    <tr>\n",
       "      <th>4</th>\n",
       "      <td>KBh_GPoirSQ</td>\n",
       "      <td>Escape The Hospital Roblox Obby</td>\n",
       "      <td>Today in Roblox my cookie fans and I are tryin...</td>\n",
       "      <td>2021-02-27 21:22:16+00:00</td>\n",
       "      <td>None</td>\n",
       "      <td>UCelMeixAOTs2OQAAi9wU8-g</td>\n",
       "    </tr>\n",
       "  </tbody>\n",
       "</table>\n",
       "</div>"
      ],
      "text/plain": [
       "            id                                              title  \\\n",
       "0  DruYNHN4FYY  Yes Yes Vegetables Song + More Nursery Rhymes ...   \n",
       "1  k9-t3uOrhs4                      UNTV: C-NEWS | March 11, 2021   \n",
       "2  npjKVpGBQW8  Still Fresh? Oddly Satisfying Cleaning Out OLD...   \n",
       "3  eM_KBmA1aw4  ജന ലക്ഷങ്ങൾ സംബന്ധിക്കുന്ന മദനീയം സ്വലാത്ത് | ...   \n",
       "4  KBh_GPoirSQ                    Escape The Hospital Roblox Obby   \n",
       "\n",
       "                                         description  \\\n",
       "0  Watch your favorite song by clicking a title b...   \n",
       "1  Publiko, pinapayuhang magdoble ingat vs. COVID...   \n",
       "2  Twitter https://www.twitter.com/cookieswirlc/ ...   \n",
       "3  C Media Is YouTube Channels Introduced Islamic...   \n",
       "4  Today in Roblox my cookie fans and I are tryin...   \n",
       "\n",
       "                       time  tags                creator.id  \n",
       "0 2018-09-07 07:00:03+00:00  None  UCbCmjCuTUZos6Inko4u57UQ  \n",
       "1 2021-03-11 05:30:04+00:00  None  UC3XaG-7UVi2vD8ZZEMNnnpw  \n",
       "2 2020-08-03 19:02:25+00:00  None  UCelMeixAOTs2OQAAi9wU8-g  \n",
       "3 2021-03-10 19:07:16+00:00  None  UCJpTA2LgMKJEIgCISqYnRWA  \n",
       "4 2021-02-27 21:22:16+00:00  None  UCelMeixAOTs2OQAAi9wU8-g  "
      ]
     },
     "metadata": {},
     "output_type": "display_data"
    },
    {
     "data": {
      "text/markdown": [
       "## Stats"
      ],
      "text/plain": [
       "<IPython.core.display.Markdown object>"
      ]
     },
     "metadata": {},
     "output_type": "display_data"
    },
    {
     "data": {
      "text/html": [
       "<div>\n",
       "<style scoped>\n",
       "    .dataframe tbody tr th:only-of-type {\n",
       "        vertical-align: middle;\n",
       "    }\n",
       "\n",
       "    .dataframe tbody tr th {\n",
       "        vertical-align: top;\n",
       "    }\n",
       "\n",
       "    .dataframe thead th {\n",
       "        text-align: right;\n",
       "    }\n",
       "</style>\n",
       "<table border=\"1\" class=\"dataframe\">\n",
       "  <thead>\n",
       "    <tr style=\"text-align: right;\">\n",
       "      <th></th>\n",
       "      <th>id</th>\n",
       "      <th>title</th>\n",
       "      <th>description</th>\n",
       "      <th>time</th>\n",
       "      <th>tags</th>\n",
       "      <th>creator.id</th>\n",
       "    </tr>\n",
       "  </thead>\n",
       "  <tbody>\n",
       "    <tr>\n",
       "      <th>count</th>\n",
       "      <td>12331</td>\n",
       "      <td>12331</td>\n",
       "      <td>12149</td>\n",
       "      <td>12331</td>\n",
       "      <td>0</td>\n",
       "      <td>12331</td>\n",
       "    </tr>\n",
       "    <tr>\n",
       "      <th>unique</th>\n",
       "      <td>11654</td>\n",
       "      <td>11625</td>\n",
       "      <td>10767</td>\n",
       "      <td>11503</td>\n",
       "      <td>0</td>\n",
       "      <td>6662</td>\n",
       "    </tr>\n",
       "    <tr>\n",
       "      <th>top</th>\n",
       "      <td>jtJVAdSJuFQ</td>\n",
       "      <td>Convoy</td>\n",
       "      <td>⭐ゲーム実況やってます！主にスプラトゥーン2の小ネタやうわさを調査しています！他のゲームもど...</td>\n",
       "      <td>2020-11-13 16:46:40+00:00</td>\n",
       "      <td>NaN</td>\n",
       "      <td>UCLqCmbd6bgcLaBVz3aA-68A</td>\n",
       "    </tr>\n",
       "    <tr>\n",
       "      <th>freq</th>\n",
       "      <td>18</td>\n",
       "      <td>18</td>\n",
       "      <td>24</td>\n",
       "      <td>18</td>\n",
       "      <td>NaN</td>\n",
       "      <td>85</td>\n",
       "    </tr>\n",
       "    <tr>\n",
       "      <th>first</th>\n",
       "      <td>NaN</td>\n",
       "      <td>NaN</td>\n",
       "      <td>NaN</td>\n",
       "      <td>2006-05-11 15:59:10+00:00</td>\n",
       "      <td>NaN</td>\n",
       "      <td>NaN</td>\n",
       "    </tr>\n",
       "    <tr>\n",
       "      <th>last</th>\n",
       "      <td>NaN</td>\n",
       "      <td>NaN</td>\n",
       "      <td>NaN</td>\n",
       "      <td>2021-03-11 07:35:05+00:00</td>\n",
       "      <td>NaN</td>\n",
       "      <td>NaN</td>\n",
       "    </tr>\n",
       "  </tbody>\n",
       "</table>\n",
       "</div>"
      ],
      "text/plain": [
       "                 id   title  \\\n",
       "count         12331   12331   \n",
       "unique        11654   11625   \n",
       "top     jtJVAdSJuFQ  Convoy   \n",
       "freq             18      18   \n",
       "first           NaN     NaN   \n",
       "last            NaN     NaN   \n",
       "\n",
       "                                              description  \\\n",
       "count                                               12149   \n",
       "unique                                              10767   \n",
       "top     ⭐ゲーム実況やってます！主にスプラトゥーン2の小ネタやうわさを調査しています！他のゲームもど...   \n",
       "freq                                                   24   \n",
       "first                                                 NaN   \n",
       "last                                                  NaN   \n",
       "\n",
       "                             time tags                creator.id  \n",
       "count                       12331    0                     12331  \n",
       "unique                      11503    0                      6662  \n",
       "top     2020-11-13 16:46:40+00:00  NaN  UCLqCmbd6bgcLaBVz3aA-68A  \n",
       "freq                           18  NaN                        85  \n",
       "first   2006-05-11 15:59:10+00:00  NaN                       NaN  \n",
       "last    2021-03-11 07:35:05+00:00  NaN                       NaN  "
      ]
     },
     "metadata": {},
     "output_type": "display_data"
    },
    {
     "data": {
      "text/markdown": [
       "---"
      ],
      "text/plain": [
       "<IPython.core.display.Markdown object>"
      ]
     },
     "metadata": {},
     "output_type": "display_data"
    },
    {
     "data": {
      "text/markdown": [
       "---"
      ],
      "text/plain": [
       "<IPython.core.display.Markdown object>"
      ]
     },
     "metadata": {},
     "output_type": "display_data"
    },
    {
     "data": {
      "text/markdown": [
       "# Results - "
      ],
      "text/plain": [
       "<IPython.core.display.Markdown object>"
      ]
     },
     "metadata": {},
     "output_type": "display_data"
    },
    {
     "data": {
      "text/markdown": [
       "## Data Preview"
      ],
      "text/plain": [
       "<IPython.core.display.Markdown object>"
      ]
     },
     "metadata": {},
     "output_type": "display_data"
    },
    {
     "data": {
      "text/html": [
       "<div>\n",
       "<style scoped>\n",
       "    .dataframe tbody tr th:only-of-type {\n",
       "        vertical-align: middle;\n",
       "    }\n",
       "\n",
       "    .dataframe tbody tr th {\n",
       "        vertical-align: top;\n",
       "    }\n",
       "\n",
       "    .dataframe thead th {\n",
       "        text-align: right;\n",
       "    }\n",
       "</style>\n",
       "<table border=\"1\" class=\"dataframe\">\n",
       "  <thead>\n",
       "    <tr style=\"text-align: right;\">\n",
       "      <th></th>\n",
       "      <th>id</th>\n",
       "      <th>title</th>\n",
       "      <th>description</th>\n",
       "      <th>time</th>\n",
       "      <th>length</th>\n",
       "      <th>tags</th>\n",
       "      <th>category</th>\n",
       "      <th>creator.id</th>\n",
       "      <th>stats.like</th>\n",
       "      <th>stats.dislike</th>\n",
       "      <th>stats.comment</th>\n",
       "      <th>stats.view</th>\n",
       "      <th>video.quality</th>\n",
       "    </tr>\n",
       "  </thead>\n",
       "  <tbody>\n",
       "    <tr>\n",
       "      <th>0</th>\n",
       "      <td>-P-9GfhgEB4</td>\n",
       "      <td>ஜெபத்தை கேட்கும் தேவன் | Bro. Mohan C. Lazarus</td>\n",
       "      <td>ஜெபத்தை கேட்கும் தேவன் | Bro. Mohan C. Lazarus...</td>\n",
       "      <td>2017-10-08 00:30:01+00:00</td>\n",
       "      <td>0 days 00:26:48</td>\n",
       "      <td>[Mohan, Lazarus, Jesus, Redeems, Ministries, J...</td>\n",
       "      <td>Music</td>\n",
       "      <td>UC_rWBdjwieoenEexvPdh8hg</td>\n",
       "      <td>1259.0</td>\n",
       "      <td>66.0</td>\n",
       "      <td>141.0</td>\n",
       "      <td>70783.0</td>\n",
       "      <td>HD</td>\n",
       "    </tr>\n",
       "    <tr>\n",
       "      <th>1</th>\n",
       "      <td>xt9G1e-euvs</td>\n",
       "      <td>VOU COMER SEU C* NO UNO - CLIPE OFICIAL - MC R...</td>\n",
       "      <td>Inscreva-se em nosso canal:\\nhttp://bit.ly/Rit...</td>\n",
       "      <td>2020-12-04 21:00:12+00:00</td>\n",
       "      <td>0 days 00:02:24</td>\n",
       "      <td>[funk, proibidão 2018, melhor do proibidão, fu...</td>\n",
       "      <td>Music</td>\n",
       "      <td>UCV8vyJ4d_NFtfLBift3Uehg</td>\n",
       "      <td>32397.0</td>\n",
       "      <td>1297.0</td>\n",
       "      <td>970.0</td>\n",
       "      <td>1299810.0</td>\n",
       "      <td>HD</td>\n",
       "    </tr>\n",
       "    <tr>\n",
       "      <th>2</th>\n",
       "      <td>D0UY4yrdGD4</td>\n",
       "      <td>Que c'est triste Venise</td>\n",
       "      <td>(pour celui qui n'a jamais aimé!)</td>\n",
       "      <td>2006-07-30 20:21:38+00:00</td>\n",
       "      <td>0 days 00:02:52</td>\n",
       "      <td>[Venice, Charles, Aznavour, Voyage, travel, mu...</td>\n",
       "      <td>Travel &amp; Events</td>\n",
       "      <td>UCFyA1vs3xPR-XHrr1wnMZYw</td>\n",
       "      <td>266.0</td>\n",
       "      <td>9.0</td>\n",
       "      <td>38.0</td>\n",
       "      <td>191773.0</td>\n",
       "      <td>SD</td>\n",
       "    </tr>\n",
       "    <tr>\n",
       "      <th>3</th>\n",
       "      <td>ltmO9XQVdSg</td>\n",
       "      <td>C. Tangana, Niño de Elche, La Hungara - Tú Me ...</td>\n",
       "      <td>C. Tangana – Tú me dejaste de querer ft La Hún...</td>\n",
       "      <td>2020-11-05 23:00:07+00:00</td>\n",
       "      <td>0 days 00:03:18</td>\n",
       "      <td>[tangana, c. tangana, c tangana, niño de elche...</td>\n",
       "      <td>Music</td>\n",
       "      <td>UCPTQlbt5SZO_SpYvC4Ygl-A</td>\n",
       "      <td>920563.0</td>\n",
       "      <td>24516.0</td>\n",
       "      <td>21667.0</td>\n",
       "      <td>94548080.0</td>\n",
       "      <td>HD</td>\n",
       "    </tr>\n",
       "    <tr>\n",
       "      <th>4</th>\n",
       "      <td>WcBkLnUOouI</td>\n",
       "      <td>C-Kan - Quien Contra Mi</td>\n",
       "      <td>From the album, \"Clasificacion C Vol. 2 \".\\niT...</td>\n",
       "      <td>2015-09-16 12:00:00+00:00</td>\n",
       "      <td>0 days 00:03:20</td>\n",
       "      <td>[C-Kan, Quien, Contra, Mi, Mastered, Trax, C-M...</td>\n",
       "      <td>Music</td>\n",
       "      <td>UCp-_AjOrkH5Xq9Km8T7voMg</td>\n",
       "      <td>281569.0</td>\n",
       "      <td>13041.0</td>\n",
       "      <td>13131.0</td>\n",
       "      <td>49058854.0</td>\n",
       "      <td>HD</td>\n",
       "    </tr>\n",
       "  </tbody>\n",
       "</table>\n",
       "</div>"
      ],
      "text/plain": [
       "            id                                              title  \\\n",
       "0  -P-9GfhgEB4     ஜெபத்தை கேட்கும் தேவன் | Bro. Mohan C. Lazarus   \n",
       "1  xt9G1e-euvs  VOU COMER SEU C* NO UNO - CLIPE OFICIAL - MC R...   \n",
       "2  D0UY4yrdGD4                            Que c'est triste Venise   \n",
       "3  ltmO9XQVdSg  C. Tangana, Niño de Elche, La Hungara - Tú Me ...   \n",
       "4  WcBkLnUOouI                            C-Kan - Quien Contra Mi   \n",
       "\n",
       "                                         description  \\\n",
       "0  ஜெபத்தை கேட்கும் தேவன் | Bro. Mohan C. Lazarus...   \n",
       "1  Inscreva-se em nosso canal:\\nhttp://bit.ly/Rit...   \n",
       "2                  (pour celui qui n'a jamais aimé!)   \n",
       "3  C. Tangana – Tú me dejaste de querer ft La Hún...   \n",
       "4  From the album, \"Clasificacion C Vol. 2 \".\\niT...   \n",
       "\n",
       "                       time          length  \\\n",
       "0 2017-10-08 00:30:01+00:00 0 days 00:26:48   \n",
       "1 2020-12-04 21:00:12+00:00 0 days 00:02:24   \n",
       "2 2006-07-30 20:21:38+00:00 0 days 00:02:52   \n",
       "3 2020-11-05 23:00:07+00:00 0 days 00:03:18   \n",
       "4 2015-09-16 12:00:00+00:00 0 days 00:03:20   \n",
       "\n",
       "                                                tags         category  \\\n",
       "0  [Mohan, Lazarus, Jesus, Redeems, Ministries, J...            Music   \n",
       "1  [funk, proibidão 2018, melhor do proibidão, fu...            Music   \n",
       "2  [Venice, Charles, Aznavour, Voyage, travel, mu...  Travel & Events   \n",
       "3  [tangana, c. tangana, c tangana, niño de elche...            Music   \n",
       "4  [C-Kan, Quien, Contra, Mi, Mastered, Trax, C-M...            Music   \n",
       "\n",
       "                 creator.id  stats.like  stats.dislike  stats.comment  \\\n",
       "0  UC_rWBdjwieoenEexvPdh8hg      1259.0           66.0          141.0   \n",
       "1  UCV8vyJ4d_NFtfLBift3Uehg     32397.0         1297.0          970.0   \n",
       "2  UCFyA1vs3xPR-XHrr1wnMZYw       266.0            9.0           38.0   \n",
       "3  UCPTQlbt5SZO_SpYvC4Ygl-A    920563.0        24516.0        21667.0   \n",
       "4  UCp-_AjOrkH5Xq9Km8T7voMg    281569.0        13041.0        13131.0   \n",
       "\n",
       "   stats.view video.quality  \n",
       "0     70783.0            HD  \n",
       "1   1299810.0            HD  \n",
       "2    191773.0            SD  \n",
       "3  94548080.0            HD  \n",
       "4  49058854.0            HD  "
      ]
     },
     "metadata": {},
     "output_type": "display_data"
    },
    {
     "data": {
      "text/markdown": [
       "## Stats"
      ],
      "text/plain": [
       "<IPython.core.display.Markdown object>"
      ]
     },
     "metadata": {},
     "output_type": "display_data"
    },
    {
     "data": {
      "text/html": [
       "<div>\n",
       "<style scoped>\n",
       "    .dataframe tbody tr th:only-of-type {\n",
       "        vertical-align: middle;\n",
       "    }\n",
       "\n",
       "    .dataframe tbody tr th {\n",
       "        vertical-align: top;\n",
       "    }\n",
       "\n",
       "    .dataframe thead th {\n",
       "        text-align: right;\n",
       "    }\n",
       "</style>\n",
       "<table border=\"1\" class=\"dataframe\">\n",
       "  <thead>\n",
       "    <tr style=\"text-align: right;\">\n",
       "      <th></th>\n",
       "      <th>length</th>\n",
       "      <th>stats.like</th>\n",
       "      <th>stats.dislike</th>\n",
       "      <th>stats.comment</th>\n",
       "      <th>stats.view</th>\n",
       "    </tr>\n",
       "  </thead>\n",
       "  <tbody>\n",
       "    <tr>\n",
       "      <th>count</th>\n",
       "      <td>6302</td>\n",
       "      <td>6.145000e+03</td>\n",
       "      <td>6.145000e+03</td>\n",
       "      <td>5.887000e+03</td>\n",
       "      <td>5.995000e+03</td>\n",
       "    </tr>\n",
       "    <tr>\n",
       "      <th>mean</th>\n",
       "      <td>0 days 00:21:16.993494128</td>\n",
       "      <td>2.402143e+05</td>\n",
       "      <td>2.549036e+04</td>\n",
       "      <td>2.377004e+04</td>\n",
       "      <td>3.991660e+07</td>\n",
       "    </tr>\n",
       "    <tr>\n",
       "      <th>std</th>\n",
       "      <td>0 days 00:35:37.026238505</td>\n",
       "      <td>1.355905e+06</td>\n",
       "      <td>1.771111e+05</td>\n",
       "      <td>2.891550e+05</td>\n",
       "      <td>2.652658e+08</td>\n",
       "    </tr>\n",
       "    <tr>\n",
       "      <th>min</th>\n",
       "      <td>0 days 00:00:01</td>\n",
       "      <td>0.000000e+00</td>\n",
       "      <td>0.000000e+00</td>\n",
       "      <td>0.000000e+00</td>\n",
       "      <td>1.550000e+02</td>\n",
       "    </tr>\n",
       "    <tr>\n",
       "      <th>25%</th>\n",
       "      <td>0 days 00:03:41</td>\n",
       "      <td>1.579000e+03</td>\n",
       "      <td>4.900000e+01</td>\n",
       "      <td>7.800000e+01</td>\n",
       "      <td>9.066000e+04</td>\n",
       "    </tr>\n",
       "    <tr>\n",
       "      <th>50%</th>\n",
       "      <td>0 days 00:07:47</td>\n",
       "      <td>1.614900e+04</td>\n",
       "      <td>5.320000e+02</td>\n",
       "      <td>7.350000e+02</td>\n",
       "      <td>9.762580e+05</td>\n",
       "    </tr>\n",
       "    <tr>\n",
       "      <th>75%</th>\n",
       "      <td>0 days 00:16:41</td>\n",
       "      <td>9.762800e+04</td>\n",
       "      <td>3.760000e+03</td>\n",
       "      <td>4.146000e+03</td>\n",
       "      <td>6.778960e+06</td>\n",
       "    </tr>\n",
       "    <tr>\n",
       "      <th>max</th>\n",
       "      <td>0 days 03:27:28</td>\n",
       "      <td>2.111080e+07</td>\n",
       "      <td>2.711156e+06</td>\n",
       "      <td>5.198249e+06</td>\n",
       "      <td>4.005240e+09</td>\n",
       "    </tr>\n",
       "  </tbody>\n",
       "</table>\n",
       "</div>"
      ],
      "text/plain": [
       "                          length    stats.like  stats.dislike  stats.comment  \\\n",
       "count                       6302  6.145000e+03   6.145000e+03   5.887000e+03   \n",
       "mean   0 days 00:21:16.993494128  2.402143e+05   2.549036e+04   2.377004e+04   \n",
       "std    0 days 00:35:37.026238505  1.355905e+06   1.771111e+05   2.891550e+05   \n",
       "min              0 days 00:00:01  0.000000e+00   0.000000e+00   0.000000e+00   \n",
       "25%              0 days 00:03:41  1.579000e+03   4.900000e+01   7.800000e+01   \n",
       "50%              0 days 00:07:47  1.614900e+04   5.320000e+02   7.350000e+02   \n",
       "75%              0 days 00:16:41  9.762800e+04   3.760000e+03   4.146000e+03   \n",
       "max              0 days 03:27:28  2.111080e+07   2.711156e+06   5.198249e+06   \n",
       "\n",
       "         stats.view  \n",
       "count  5.995000e+03  \n",
       "mean   3.991660e+07  \n",
       "std    2.652658e+08  \n",
       "min    1.550000e+02  \n",
       "25%    9.066000e+04  \n",
       "50%    9.762580e+05  \n",
       "75%    6.778960e+06  \n",
       "max    4.005240e+09  "
      ]
     },
     "metadata": {},
     "output_type": "display_data"
    },
    {
     "data": {
      "text/markdown": [
       "---"
      ],
      "text/plain": [
       "<IPython.core.display.Markdown object>"
      ]
     },
     "metadata": {},
     "output_type": "display_data"
    },
    {
     "data": {
      "text/markdown": [
       "---"
      ],
      "text/plain": [
       "<IPython.core.display.Markdown object>"
      ]
     },
     "metadata": {},
     "output_type": "display_data"
    },
    {
     "data": {
      "text/markdown": [
       "# Results - "
      ],
      "text/plain": [
       "<IPython.core.display.Markdown object>"
      ]
     },
     "metadata": {},
     "output_type": "display_data"
    },
    {
     "data": {
      "text/markdown": [
       "## Data Preview"
      ],
      "text/plain": [
       "<IPython.core.display.Markdown object>"
      ]
     },
     "metadata": {},
     "output_type": "display_data"
    },
    {
     "data": {
      "text/html": [
       "<div>\n",
       "<style scoped>\n",
       "    .dataframe tbody tr th:only-of-type {\n",
       "        vertical-align: middle;\n",
       "    }\n",
       "\n",
       "    .dataframe tbody tr th {\n",
       "        vertical-align: top;\n",
       "    }\n",
       "\n",
       "    .dataframe thead th {\n",
       "        text-align: right;\n",
       "    }\n",
       "</style>\n",
       "<table border=\"1\" class=\"dataframe\">\n",
       "  <thead>\n",
       "    <tr style=\"text-align: right;\">\n",
       "      <th></th>\n",
       "      <th>id</th>\n",
       "      <th>title</th>\n",
       "      <th>description</th>\n",
       "      <th>time</th>\n",
       "      <th>stats.follower</th>\n",
       "      <th>stats.view</th>\n",
       "      <th>stats.post</th>\n",
       "    </tr>\n",
       "  </thead>\n",
       "  <tbody>\n",
       "    <tr>\n",
       "      <th>0</th>\n",
       "      <td>UCgFFMzzYIYYn3T6M-v8Kfsw</td>\n",
       "      <td>Double Bubble</td>\n",
       "      <td>Привет ты на Double Bubble!\\nМеня зовут Аня ;)...</td>\n",
       "      <td>2017-12-18 07:59:38+00:00</td>\n",
       "      <td>2370000.0</td>\n",
       "      <td>998774746</td>\n",
       "      <td>619</td>\n",
       "    </tr>\n",
       "    <tr>\n",
       "      <th>1</th>\n",
       "      <td>UC6yEA7_U_Q4aY9TAwKFLb3g</td>\n",
       "      <td>Alrima Officiel</td>\n",
       "      <td>Bienvenue sur la chaîne officielle d'Alrima</td>\n",
       "      <td>2012-10-28 19:37:08+00:00</td>\n",
       "      <td>1020000.0</td>\n",
       "      <td>249319555</td>\n",
       "      <td>51</td>\n",
       "    </tr>\n",
       "    <tr>\n",
       "      <th>2</th>\n",
       "      <td>UCMtcfSnNybg3uhiljDCYQrA</td>\n",
       "      <td>Mr. Benz</td>\n",
       "      <td>Hey! I am Mr.Benz &amp; I am sharing my passion re...</td>\n",
       "      <td>2017-01-16 19:02:09+00:00</td>\n",
       "      <td>105000.0</td>\n",
       "      <td>25515543</td>\n",
       "      <td>58</td>\n",
       "    </tr>\n",
       "    <tr>\n",
       "      <th>3</th>\n",
       "      <td>UCJpTA2LgMKJEIgCISqYnRWA</td>\n",
       "      <td>Cmedia Live</td>\n",
       "      <td>🔴 C Media Is YouTube Channels Introduced Islam...</td>\n",
       "      <td>2016-10-19 17:56:06+00:00</td>\n",
       "      <td>388000.0</td>\n",
       "      <td>41280092</td>\n",
       "      <td>1848</td>\n",
       "    </tr>\n",
       "    <tr>\n",
       "      <th>4</th>\n",
       "      <td>UC4_AL-HBcYBjCTyNnMw0DOw</td>\n",
       "      <td>자동차읽어주는남자</td>\n",
       "      <td>자동차 읽어주는 남자\\n- 자동차 강의문의 및 차량지원 문의\\n- 이메일 : lsh...</td>\n",
       "      <td>2012-07-15 15:39:59+00:00</td>\n",
       "      <td>66300.0</td>\n",
       "      <td>26489632</td>\n",
       "      <td>475</td>\n",
       "    </tr>\n",
       "  </tbody>\n",
       "</table>\n",
       "</div>"
      ],
      "text/plain": [
       "                         id            title  \\\n",
       "0  UCgFFMzzYIYYn3T6M-v8Kfsw    Double Bubble   \n",
       "1  UC6yEA7_U_Q4aY9TAwKFLb3g  Alrima Officiel   \n",
       "2  UCMtcfSnNybg3uhiljDCYQrA         Mr. Benz   \n",
       "3  UCJpTA2LgMKJEIgCISqYnRWA      Cmedia Live   \n",
       "4  UC4_AL-HBcYBjCTyNnMw0DOw        자동차읽어주는남자   \n",
       "\n",
       "                                         description  \\\n",
       "0  Привет ты на Double Bubble!\\nМеня зовут Аня ;)...   \n",
       "1        Bienvenue sur la chaîne officielle d'Alrima   \n",
       "2  Hey! I am Mr.Benz & I am sharing my passion re...   \n",
       "3  🔴 C Media Is YouTube Channels Introduced Islam...   \n",
       "4  자동차 읽어주는 남자\\n- 자동차 강의문의 및 차량지원 문의\\n- 이메일 : lsh...   \n",
       "\n",
       "                       time  stats.follower  stats.view  stats.post  \n",
       "0 2017-12-18 07:59:38+00:00       2370000.0   998774746         619  \n",
       "1 2012-10-28 19:37:08+00:00       1020000.0   249319555          51  \n",
       "2 2017-01-16 19:02:09+00:00        105000.0    25515543          58  \n",
       "3 2016-10-19 17:56:06+00:00        388000.0    41280092        1848  \n",
       "4 2012-07-15 15:39:59+00:00         66300.0    26489632         475  "
      ]
     },
     "metadata": {},
     "output_type": "display_data"
    },
    {
     "data": {
      "text/markdown": [
       "## Stats"
      ],
      "text/plain": [
       "<IPython.core.display.Markdown object>"
      ]
     },
     "metadata": {},
     "output_type": "display_data"
    },
    {
     "data": {
      "text/html": [
       "<div>\n",
       "<style scoped>\n",
       "    .dataframe tbody tr th:only-of-type {\n",
       "        vertical-align: middle;\n",
       "    }\n",
       "\n",
       "    .dataframe tbody tr th {\n",
       "        vertical-align: top;\n",
       "    }\n",
       "\n",
       "    .dataframe thead th {\n",
       "        text-align: right;\n",
       "    }\n",
       "</style>\n",
       "<table border=\"1\" class=\"dataframe\">\n",
       "  <thead>\n",
       "    <tr style=\"text-align: right;\">\n",
       "      <th></th>\n",
       "      <th>stats.follower</th>\n",
       "      <th>stats.view</th>\n",
       "      <th>stats.post</th>\n",
       "    </tr>\n",
       "  </thead>\n",
       "  <tbody>\n",
       "    <tr>\n",
       "      <th>count</th>\n",
       "      <td>3.923000e+03</td>\n",
       "      <td>4.383000e+03</td>\n",
       "      <td>4383.000000</td>\n",
       "    </tr>\n",
       "    <tr>\n",
       "      <th>mean</th>\n",
       "      <td>4.885402e+06</td>\n",
       "      <td>2.555694e+09</td>\n",
       "      <td>3482.732603</td>\n",
       "    </tr>\n",
       "    <tr>\n",
       "      <th>std</th>\n",
       "      <td>1.694917e+07</td>\n",
       "      <td>1.256854e+10</td>\n",
       "      <td>16946.381008</td>\n",
       "    </tr>\n",
       "    <tr>\n",
       "      <th>min</th>\n",
       "      <td>4.100000e+01</td>\n",
       "      <td>0.000000e+00</td>\n",
       "      <td>1.000000</td>\n",
       "    </tr>\n",
       "    <tr>\n",
       "      <th>25%</th>\n",
       "      <td>8.750000e+04</td>\n",
       "      <td>1.740609e+07</td>\n",
       "      <td>66.000000</td>\n",
       "    </tr>\n",
       "    <tr>\n",
       "      <th>50%</th>\n",
       "      <td>5.870000e+05</td>\n",
       "      <td>1.478008e+08</td>\n",
       "      <td>284.000000</td>\n",
       "    </tr>\n",
       "    <tr>\n",
       "      <th>75%</th>\n",
       "      <td>2.770000e+06</td>\n",
       "      <td>9.987747e+08</td>\n",
       "      <td>1175.000000</td>\n",
       "    </tr>\n",
       "    <tr>\n",
       "      <th>max</th>\n",
       "      <td>1.750000e+08</td>\n",
       "      <td>1.462732e+11</td>\n",
       "      <td>291948.000000</td>\n",
       "    </tr>\n",
       "  </tbody>\n",
       "</table>\n",
       "</div>"
      ],
      "text/plain": [
       "       stats.follower    stats.view     stats.post\n",
       "count    3.923000e+03  4.383000e+03    4383.000000\n",
       "mean     4.885402e+06  2.555694e+09    3482.732603\n",
       "std      1.694917e+07  1.256854e+10   16946.381008\n",
       "min      4.100000e+01  0.000000e+00       1.000000\n",
       "25%      8.750000e+04  1.740609e+07      66.000000\n",
       "50%      5.870000e+05  1.478008e+08     284.000000\n",
       "75%      2.770000e+06  9.987747e+08    1175.000000\n",
       "max      1.750000e+08  1.462732e+11  291948.000000"
      ]
     },
     "metadata": {},
     "output_type": "display_data"
    },
    {
     "data": {
      "text/markdown": [
       "---"
      ],
      "text/plain": [
       "<IPython.core.display.Markdown object>"
      ]
     },
     "metadata": {},
     "output_type": "display_data"
    },
    {
     "data": {
      "text/markdown": [
       "---"
      ],
      "text/plain": [
       "<IPython.core.display.Markdown object>"
      ]
     },
     "metadata": {},
     "output_type": "display_data"
    },
    {
     "data": {
      "text/markdown": [
       "# Results - "
      ],
      "text/plain": [
       "<IPython.core.display.Markdown object>"
      ]
     },
     "metadata": {},
     "output_type": "display_data"
    },
    {
     "data": {
      "text/markdown": [
       "## Data Preview"
      ],
      "text/plain": [
       "<IPython.core.display.Markdown object>"
      ]
     },
     "metadata": {},
     "output_type": "display_data"
    },
    {
     "data": {
      "text/html": [
       "<div>\n",
       "<style scoped>\n",
       "    .dataframe tbody tr th:only-of-type {\n",
       "        vertical-align: middle;\n",
       "    }\n",
       "\n",
       "    .dataframe tbody tr th {\n",
       "        vertical-align: top;\n",
       "    }\n",
       "\n",
       "    .dataframe thead th {\n",
       "        text-align: right;\n",
       "    }\n",
       "</style>\n",
       "<table border=\"1\" class=\"dataframe\">\n",
       "  <thead>\n",
       "    <tr style=\"text-align: right;\">\n",
       "      <th></th>\n",
       "      <th>id</th>\n",
       "      <th>ads</th>\n",
       "    </tr>\n",
       "  </thead>\n",
       "  <tbody>\n",
       "    <tr>\n",
       "      <th>0</th>\n",
       "      <td>LUpnFNUmfKw</td>\n",
       "      <td>None</td>\n",
       "    </tr>\n",
       "    <tr>\n",
       "      <th>1</th>\n",
       "      <td>Ruesy-2hihs</td>\n",
       "      <td>None</td>\n",
       "    </tr>\n",
       "    <tr>\n",
       "      <th>2</th>\n",
       "      <td>RJFoBfV2w2g</td>\n",
       "      <td>None</td>\n",
       "    </tr>\n",
       "    <tr>\n",
       "      <th>3</th>\n",
       "      <td>i6gyjMecDA8</td>\n",
       "      <td>None</td>\n",
       "    </tr>\n",
       "    <tr>\n",
       "      <th>4</th>\n",
       "      <td>IC25DUOSIpw</td>\n",
       "      <td>[{'kind': 'AD_PLACEMENT_KIND_COMMAND_TRIGGERED...</td>\n",
       "    </tr>\n",
       "  </tbody>\n",
       "</table>\n",
       "</div>"
      ],
      "text/plain": [
       "            id                                                ads\n",
       "0  LUpnFNUmfKw                                               None\n",
       "1  Ruesy-2hihs                                               None\n",
       "2  RJFoBfV2w2g                                               None\n",
       "3  i6gyjMecDA8                                               None\n",
       "4  IC25DUOSIpw  [{'kind': 'AD_PLACEMENT_KIND_COMMAND_TRIGGERED..."
      ]
     },
     "metadata": {},
     "output_type": "display_data"
    },
    {
     "data": {
      "text/markdown": [
       "## Stats"
      ],
      "text/plain": [
       "<IPython.core.display.Markdown object>"
      ]
     },
     "metadata": {},
     "output_type": "display_data"
    },
    {
     "data": {
      "text/html": [
       "<div>\n",
       "<style scoped>\n",
       "    .dataframe tbody tr th:only-of-type {\n",
       "        vertical-align: middle;\n",
       "    }\n",
       "\n",
       "    .dataframe tbody tr th {\n",
       "        vertical-align: top;\n",
       "    }\n",
       "\n",
       "    .dataframe thead th {\n",
       "        text-align: right;\n",
       "    }\n",
       "</style>\n",
       "<table border=\"1\" class=\"dataframe\">\n",
       "  <thead>\n",
       "    <tr style=\"text-align: right;\">\n",
       "      <th></th>\n",
       "      <th>id</th>\n",
       "      <th>ads</th>\n",
       "    </tr>\n",
       "  </thead>\n",
       "  <tbody>\n",
       "    <tr>\n",
       "      <th>count</th>\n",
       "      <td>780</td>\n",
       "      <td>644</td>\n",
       "    </tr>\n",
       "    <tr>\n",
       "      <th>unique</th>\n",
       "      <td>778</td>\n",
       "      <td>301</td>\n",
       "    </tr>\n",
       "    <tr>\n",
       "      <th>top</th>\n",
       "      <td>jtJVAdSJuFQ</td>\n",
       "      <td>[{'kind': 'AD_PLACEMENT_KIND_START', 'offset':...</td>\n",
       "    </tr>\n",
       "    <tr>\n",
       "      <th>freq</th>\n",
       "      <td>2</td>\n",
       "      <td>71</td>\n",
       "    </tr>\n",
       "  </tbody>\n",
       "</table>\n",
       "</div>"
      ],
      "text/plain": [
       "                 id                                                ads\n",
       "count           780                                                644\n",
       "unique          778                                                301\n",
       "top     jtJVAdSJuFQ  [{'kind': 'AD_PLACEMENT_KIND_START', 'offset':...\n",
       "freq              2                                                 71"
      ]
     },
     "metadata": {},
     "output_type": "display_data"
    },
    {
     "data": {
      "text/markdown": [
       "---"
      ],
      "text/plain": [
       "<IPython.core.display.Markdown object>"
      ]
     },
     "metadata": {},
     "output_type": "display_data"
    }
   ],
   "source": [
    "def transpose(l):\n",
    "    return list(map(list, zip(*l)))\n",
    "\n",
    "df_search_res, df_info_res, df_channels_res, df_ads_res = transpose(results)\n",
    "\n",
    "df_search = pd.concat(df_search_res, copy = False)\n",
    "df_info = pd.concat(df_info_res, copy = False)\n",
    "df_channels = pd.concat(df_channels_res, copy = False)\n",
    "df_ads = pd.concat(df_ads_res, copy = False)\n",
    "\n",
    "df_report([df_search, df_info, df_channels, df_ads])"
   ]
  },
  {
   "cell_type": "markdown",
   "metadata": {},
   "source": [
    "##### STEP 2  Data Cleaning"
   ]
  },
  {
   "cell_type": "code",
   "execution_count": 10,
   "metadata": {},
   "outputs": [
    {
     "name": "stderr",
     "output_type": "stream",
     "text": [
      "<ipython-input-10-776a02e81705>:3: FutureWarning: Index.__and__ operating as a set operation is deprecated, in the future this will be a logical operation matching Series.__and__.  Use index.intersection(other) instead\n",
      "  return df.drop(columns = df.columns & df_other.columns, *args, **kwargs)\n"
     ]
    }
   ],
   "source": [
    "# - * (filter)\n",
    "def drop_common(df, df_other, *args, **kwargs):\n",
    "    return df.drop(columns = df.columns & df_other.columns, *args, **kwargs)\n",
    "\n",
    "# - search\n",
    "df_search.set_index(['id'], inplace = True)\n",
    "# - info\n",
    "df_info.set_index(['id'], inplace = True)\n",
    "# - channels\n",
    "df_channels = df_channels.add_prefix('creator.')\n",
    "df_channels.set_index(['creator.id'], inplace = True)\n",
    "# - ads\n",
    "df_ads.set_index(['id'], inplace = True)\n",
    "\n",
    "# drop common columns to avoid clashing\n",
    "# in this case, only `df_search` and `df_info` have merging conflicts\n",
    "drop_common(df_search, df_info, inplace = True)"
   ]
  },
  {
   "cell_type": "code",
   "execution_count": 11,
   "metadata": {},
   "outputs": [],
   "source": [
    "# - search (with details)\n",
    "df_search_details = df_search.copy()\n",
    "# - info\n",
    "df_search_details = df_search_details.merge(\n",
    "    df_info, \n",
    "    right_index = True, \n",
    "    left_on = 'id', \n",
    "    copy = False\n",
    ")\n",
    "# - ads\n",
    "df_search_details = df_search_details.merge(\n",
    "    df_ads, \n",
    "    right_index = True, \n",
    "    left_on = 'id', \n",
    "    copy = False\n",
    ")"
   ]
  },
  {
   "cell_type": "markdown",
   "metadata": {},
   "source": [
    "##### STEP 3  Data Inspection"
   ]
  },
  {
   "cell_type": "code",
   "execution_count": 12,
   "metadata": {},
   "outputs": [
    {
     "data": {
      "text/markdown": [
       "---"
      ],
      "text/plain": [
       "<IPython.core.display.Markdown object>"
      ]
     },
     "metadata": {},
     "output_type": "display_data"
    },
    {
     "data": {
      "text/markdown": [
       "# Results - Search Result"
      ],
      "text/plain": [
       "<IPython.core.display.Markdown object>"
      ]
     },
     "metadata": {},
     "output_type": "display_data"
    },
    {
     "data": {
      "text/markdown": [
       "## Data Preview"
      ],
      "text/plain": [
       "<IPython.core.display.Markdown object>"
      ]
     },
     "metadata": {},
     "output_type": "display_data"
    },
    {
     "data": {
      "text/html": [
       "<div>\n",
       "<style scoped>\n",
       "    .dataframe tbody tr th:only-of-type {\n",
       "        vertical-align: middle;\n",
       "    }\n",
       "\n",
       "    .dataframe tbody tr th {\n",
       "        vertical-align: top;\n",
       "    }\n",
       "\n",
       "    .dataframe thead th {\n",
       "        text-align: right;\n",
       "    }\n",
       "</style>\n",
       "<table border=\"1\" class=\"dataframe\">\n",
       "  <thead>\n",
       "    <tr style=\"text-align: right;\">\n",
       "      <th></th>\n",
       "      <th>title</th>\n",
       "      <th>description</th>\n",
       "      <th>time</th>\n",
       "      <th>length</th>\n",
       "      <th>tags</th>\n",
       "      <th>category</th>\n",
       "      <th>creator.id</th>\n",
       "      <th>stats.like</th>\n",
       "      <th>stats.dislike</th>\n",
       "      <th>stats.comment</th>\n",
       "      <th>stats.view</th>\n",
       "      <th>video.quality</th>\n",
       "      <th>ads</th>\n",
       "    </tr>\n",
       "    <tr>\n",
       "      <th>id</th>\n",
       "      <th></th>\n",
       "      <th></th>\n",
       "      <th></th>\n",
       "      <th></th>\n",
       "      <th></th>\n",
       "      <th></th>\n",
       "      <th></th>\n",
       "      <th></th>\n",
       "      <th></th>\n",
       "      <th></th>\n",
       "      <th></th>\n",
       "      <th></th>\n",
       "      <th></th>\n",
       "    </tr>\n",
       "  </thead>\n",
       "  <tbody>\n",
       "    <tr>\n",
       "      <th>_wjfogsjeyE</th>\n",
       "      <td>Sao Việt b,ật khóc hay tin d,ữ \"kh.ủng kh.iê'p...</td>\n",
       "      <td>Sao Việt b,ật khóc hay tin d,ữ \"kh.ủng kh.iê'p...</td>\n",
       "      <td>2021-03-08 08:55:11+00:00</td>\n",
       "      <td>0 days 00:02:16</td>\n",
       "      <td>[sao việt, sao viet, nghe si, nghệ sĩ, showbiz...</td>\n",
       "      <td>People &amp; Blogs</td>\n",
       "      <td>UCjvdDj9VfzQfpWhkwkjbT4g</td>\n",
       "      <td>139.0</td>\n",
       "      <td>18.0</td>\n",
       "      <td>25.0</td>\n",
       "      <td>34964.0</td>\n",
       "      <td>HD</td>\n",
       "      <td>[{'kind': 'AD_PLACEMENT_KIND_START', 'offset':...</td>\n",
       "    </tr>\n",
       "    <tr>\n",
       "      <th>_wjfogsjeyE</th>\n",
       "      <td>Sao Việt b,ật khóc hay tin d,ữ \"kh.ủng kh.iê'p...</td>\n",
       "      <td>Sao Việt b,ật khóc hay tin d,ữ \"kh.ủng kh.iê'p...</td>\n",
       "      <td>2021-03-08 08:55:11+00:00</td>\n",
       "      <td>0 days 00:02:16</td>\n",
       "      <td>[sao việt, sao viet, nghe si, nghệ sĩ, showbiz...</td>\n",
       "      <td>People &amp; Blogs</td>\n",
       "      <td>UCjvdDj9VfzQfpWhkwkjbT4g</td>\n",
       "      <td>139.0</td>\n",
       "      <td>18.0</td>\n",
       "      <td>25.0</td>\n",
       "      <td>34960.0</td>\n",
       "      <td>HD</td>\n",
       "      <td>[{'kind': 'AD_PLACEMENT_KIND_START', 'offset':...</td>\n",
       "    </tr>\n",
       "    <tr>\n",
       "      <th>_wjfogsjeyE</th>\n",
       "      <td>Sao Việt b,ật khóc hay tin d,ữ \"kh.ủng kh.iê'p...</td>\n",
       "      <td>Sao Việt b,ật khóc hay tin d,ữ \"kh.ủng kh.iê'p...</td>\n",
       "      <td>2021-03-08 08:55:11+00:00</td>\n",
       "      <td>0 days 00:02:16</td>\n",
       "      <td>[sao việt, sao viet, nghe si, nghệ sĩ, showbiz...</td>\n",
       "      <td>People &amp; Blogs</td>\n",
       "      <td>UCjvdDj9VfzQfpWhkwkjbT4g</td>\n",
       "      <td>139.0</td>\n",
       "      <td>18.0</td>\n",
       "      <td>25.0</td>\n",
       "      <td>34960.0</td>\n",
       "      <td>HD</td>\n",
       "      <td>[{'kind': 'AD_PLACEMENT_KIND_START', 'offset':...</td>\n",
       "    </tr>\n",
       "    <tr>\n",
       "      <th>_wjfogsjeyE</th>\n",
       "      <td>Sao Việt b,ật khóc hay tin d,ữ \"kh.ủng kh.iê'p...</td>\n",
       "      <td>Sao Việt b,ật khóc hay tin d,ữ \"kh.ủng kh.iê'p...</td>\n",
       "      <td>2021-03-08 08:55:11+00:00</td>\n",
       "      <td>0 days 00:02:16</td>\n",
       "      <td>[sao việt, sao viet, nghe si, nghệ sĩ, showbiz...</td>\n",
       "      <td>People &amp; Blogs</td>\n",
       "      <td>UCjvdDj9VfzQfpWhkwkjbT4g</td>\n",
       "      <td>139.0</td>\n",
       "      <td>18.0</td>\n",
       "      <td>25.0</td>\n",
       "      <td>34964.0</td>\n",
       "      <td>HD</td>\n",
       "      <td>[{'kind': 'AD_PLACEMENT_KIND_START', 'offset':...</td>\n",
       "    </tr>\n",
       "    <tr>\n",
       "      <th>_wjfogsjeyE</th>\n",
       "      <td>Sao Việt b,ật khóc hay tin d,ữ \"kh.ủng kh.iê'p...</td>\n",
       "      <td>Sao Việt b,ật khóc hay tin d,ữ \"kh.ủng kh.iê'p...</td>\n",
       "      <td>2021-03-08 08:55:11+00:00</td>\n",
       "      <td>0 days 00:02:16</td>\n",
       "      <td>[sao việt, sao viet, nghe si, nghệ sĩ, showbiz...</td>\n",
       "      <td>People &amp; Blogs</td>\n",
       "      <td>UCjvdDj9VfzQfpWhkwkjbT4g</td>\n",
       "      <td>139.0</td>\n",
       "      <td>18.0</td>\n",
       "      <td>25.0</td>\n",
       "      <td>34960.0</td>\n",
       "      <td>HD</td>\n",
       "      <td>[{'kind': 'AD_PLACEMENT_KIND_START', 'offset':...</td>\n",
       "    </tr>\n",
       "  </tbody>\n",
       "</table>\n",
       "</div>"
      ],
      "text/plain": [
       "                                                         title  \\\n",
       "id                                                               \n",
       "_wjfogsjeyE  Sao Việt b,ật khóc hay tin d,ữ \"kh.ủng kh.iê'p...   \n",
       "_wjfogsjeyE  Sao Việt b,ật khóc hay tin d,ữ \"kh.ủng kh.iê'p...   \n",
       "_wjfogsjeyE  Sao Việt b,ật khóc hay tin d,ữ \"kh.ủng kh.iê'p...   \n",
       "_wjfogsjeyE  Sao Việt b,ật khóc hay tin d,ữ \"kh.ủng kh.iê'p...   \n",
       "_wjfogsjeyE  Sao Việt b,ật khóc hay tin d,ữ \"kh.ủng kh.iê'p...   \n",
       "\n",
       "                                                   description  \\\n",
       "id                                                               \n",
       "_wjfogsjeyE  Sao Việt b,ật khóc hay tin d,ữ \"kh.ủng kh.iê'p...   \n",
       "_wjfogsjeyE  Sao Việt b,ật khóc hay tin d,ữ \"kh.ủng kh.iê'p...   \n",
       "_wjfogsjeyE  Sao Việt b,ật khóc hay tin d,ữ \"kh.ủng kh.iê'p...   \n",
       "_wjfogsjeyE  Sao Việt b,ật khóc hay tin d,ữ \"kh.ủng kh.iê'p...   \n",
       "_wjfogsjeyE  Sao Việt b,ật khóc hay tin d,ữ \"kh.ủng kh.iê'p...   \n",
       "\n",
       "                                 time          length  \\\n",
       "id                                                      \n",
       "_wjfogsjeyE 2021-03-08 08:55:11+00:00 0 days 00:02:16   \n",
       "_wjfogsjeyE 2021-03-08 08:55:11+00:00 0 days 00:02:16   \n",
       "_wjfogsjeyE 2021-03-08 08:55:11+00:00 0 days 00:02:16   \n",
       "_wjfogsjeyE 2021-03-08 08:55:11+00:00 0 days 00:02:16   \n",
       "_wjfogsjeyE 2021-03-08 08:55:11+00:00 0 days 00:02:16   \n",
       "\n",
       "                                                          tags  \\\n",
       "id                                                               \n",
       "_wjfogsjeyE  [sao việt, sao viet, nghe si, nghệ sĩ, showbiz...   \n",
       "_wjfogsjeyE  [sao việt, sao viet, nghe si, nghệ sĩ, showbiz...   \n",
       "_wjfogsjeyE  [sao việt, sao viet, nghe si, nghệ sĩ, showbiz...   \n",
       "_wjfogsjeyE  [sao việt, sao viet, nghe si, nghệ sĩ, showbiz...   \n",
       "_wjfogsjeyE  [sao việt, sao viet, nghe si, nghệ sĩ, showbiz...   \n",
       "\n",
       "                   category                creator.id  stats.like  \\\n",
       "id                                                                  \n",
       "_wjfogsjeyE  People & Blogs  UCjvdDj9VfzQfpWhkwkjbT4g       139.0   \n",
       "_wjfogsjeyE  People & Blogs  UCjvdDj9VfzQfpWhkwkjbT4g       139.0   \n",
       "_wjfogsjeyE  People & Blogs  UCjvdDj9VfzQfpWhkwkjbT4g       139.0   \n",
       "_wjfogsjeyE  People & Blogs  UCjvdDj9VfzQfpWhkwkjbT4g       139.0   \n",
       "_wjfogsjeyE  People & Blogs  UCjvdDj9VfzQfpWhkwkjbT4g       139.0   \n",
       "\n",
       "             stats.dislike  stats.comment  stats.view video.quality  \\\n",
       "id                                                                    \n",
       "_wjfogsjeyE           18.0           25.0     34964.0            HD   \n",
       "_wjfogsjeyE           18.0           25.0     34960.0            HD   \n",
       "_wjfogsjeyE           18.0           25.0     34960.0            HD   \n",
       "_wjfogsjeyE           18.0           25.0     34964.0            HD   \n",
       "_wjfogsjeyE           18.0           25.0     34960.0            HD   \n",
       "\n",
       "                                                           ads  \n",
       "id                                                              \n",
       "_wjfogsjeyE  [{'kind': 'AD_PLACEMENT_KIND_START', 'offset':...  \n",
       "_wjfogsjeyE  [{'kind': 'AD_PLACEMENT_KIND_START', 'offset':...  \n",
       "_wjfogsjeyE  [{'kind': 'AD_PLACEMENT_KIND_START', 'offset':...  \n",
       "_wjfogsjeyE  [{'kind': 'AD_PLACEMENT_KIND_START', 'offset':...  \n",
       "_wjfogsjeyE  [{'kind': 'AD_PLACEMENT_KIND_START', 'offset':...  "
      ]
     },
     "metadata": {},
     "output_type": "display_data"
    },
    {
     "data": {
      "text/markdown": [
       "## Stats"
      ],
      "text/plain": [
       "<IPython.core.display.Markdown object>"
      ]
     },
     "metadata": {},
     "output_type": "display_data"
    },
    {
     "data": {
      "text/html": [
       "<div>\n",
       "<style scoped>\n",
       "    .dataframe tbody tr th:only-of-type {\n",
       "        vertical-align: middle;\n",
       "    }\n",
       "\n",
       "    .dataframe tbody tr th {\n",
       "        vertical-align: top;\n",
       "    }\n",
       "\n",
       "    .dataframe thead th {\n",
       "        text-align: right;\n",
       "    }\n",
       "</style>\n",
       "<table border=\"1\" class=\"dataframe\">\n",
       "  <thead>\n",
       "    <tr style=\"text-align: right;\">\n",
       "      <th></th>\n",
       "      <th>length</th>\n",
       "      <th>stats.like</th>\n",
       "      <th>stats.dislike</th>\n",
       "      <th>stats.comment</th>\n",
       "      <th>stats.view</th>\n",
       "    </tr>\n",
       "  </thead>\n",
       "  <tbody>\n",
       "    <tr>\n",
       "      <th>count</th>\n",
       "      <td>463</td>\n",
       "      <td>454.000000</td>\n",
       "      <td>454.000000</td>\n",
       "      <td>346.000000</td>\n",
       "      <td>4.630000e+02</td>\n",
       "    </tr>\n",
       "    <tr>\n",
       "      <th>mean</th>\n",
       "      <td>0 days 00:14:10.218142548</td>\n",
       "      <td>60824.940529</td>\n",
       "      <td>10165.590308</td>\n",
       "      <td>2618.953757</td>\n",
       "      <td>9.642653e+06</td>\n",
       "    </tr>\n",
       "    <tr>\n",
       "      <th>std</th>\n",
       "      <td>0 days 00:29:21.138966966</td>\n",
       "      <td>121375.506891</td>\n",
       "      <td>27255.373347</td>\n",
       "      <td>6200.009395</td>\n",
       "      <td>2.204710e+07</td>\n",
       "    </tr>\n",
       "    <tr>\n",
       "      <th>min</th>\n",
       "      <td>0 days 00:00:57</td>\n",
       "      <td>5.000000</td>\n",
       "      <td>1.000000</td>\n",
       "      <td>0.000000</td>\n",
       "      <td>9.520000e+02</td>\n",
       "    </tr>\n",
       "    <tr>\n",
       "      <th>25%</th>\n",
       "      <td>0 days 00:03:00</td>\n",
       "      <td>972.000000</td>\n",
       "      <td>41.000000</td>\n",
       "      <td>86.000000</td>\n",
       "      <td>3.708700e+04</td>\n",
       "    </tr>\n",
       "    <tr>\n",
       "      <th>50%</th>\n",
       "      <td>0 days 00:04:21</td>\n",
       "      <td>14212.000000</td>\n",
       "      <td>493.000000</td>\n",
       "      <td>343.000000</td>\n",
       "      <td>6.430270e+05</td>\n",
       "    </tr>\n",
       "    <tr>\n",
       "      <th>75%</th>\n",
       "      <td>0 days 00:14:00</td>\n",
       "      <td>49131.000000</td>\n",
       "      <td>9214.000000</td>\n",
       "      <td>1399.000000</td>\n",
       "      <td>1.036611e+07</td>\n",
       "    </tr>\n",
       "    <tr>\n",
       "      <th>max</th>\n",
       "      <td>0 days 02:49:31</td>\n",
       "      <td>641441.000000</td>\n",
       "      <td>137709.000000</td>\n",
       "      <td>30270.000000</td>\n",
       "      <td>9.400107e+07</td>\n",
       "    </tr>\n",
       "  </tbody>\n",
       "</table>\n",
       "</div>"
      ],
      "text/plain": [
       "                          length     stats.like  stats.dislike  stats.comment  \\\n",
       "count                        463     454.000000     454.000000     346.000000   \n",
       "mean   0 days 00:14:10.218142548   60824.940529   10165.590308    2618.953757   \n",
       "std    0 days 00:29:21.138966966  121375.506891   27255.373347    6200.009395   \n",
       "min              0 days 00:00:57       5.000000       1.000000       0.000000   \n",
       "25%              0 days 00:03:00     972.000000      41.000000      86.000000   \n",
       "50%              0 days 00:04:21   14212.000000     493.000000     343.000000   \n",
       "75%              0 days 00:14:00   49131.000000    9214.000000    1399.000000   \n",
       "max              0 days 02:49:31  641441.000000  137709.000000   30270.000000   \n",
       "\n",
       "         stats.view  \n",
       "count  4.630000e+02  \n",
       "mean   9.642653e+06  \n",
       "std    2.204710e+07  \n",
       "min    9.520000e+02  \n",
       "25%    3.708700e+04  \n",
       "50%    6.430270e+05  \n",
       "75%    1.036611e+07  \n",
       "max    9.400107e+07  "
      ]
     },
     "metadata": {},
     "output_type": "display_data"
    },
    {
     "data": {
      "text/markdown": [
       "---"
      ],
      "text/plain": [
       "<IPython.core.display.Markdown object>"
      ]
     },
     "metadata": {},
     "output_type": "display_data"
    },
    {
     "data": {
      "text/markdown": [
       "---"
      ],
      "text/plain": [
       "<IPython.core.display.Markdown object>"
      ]
     },
     "metadata": {},
     "output_type": "display_data"
    },
    {
     "data": {
      "text/markdown": [
       "# Results - Search Result (Channels)"
      ],
      "text/plain": [
       "<IPython.core.display.Markdown object>"
      ]
     },
     "metadata": {},
     "output_type": "display_data"
    },
    {
     "data": {
      "text/markdown": [
       "## Data Preview"
      ],
      "text/plain": [
       "<IPython.core.display.Markdown object>"
      ]
     },
     "metadata": {},
     "output_type": "display_data"
    },
    {
     "data": {
      "text/html": [
       "<div>\n",
       "<style scoped>\n",
       "    .dataframe tbody tr th:only-of-type {\n",
       "        vertical-align: middle;\n",
       "    }\n",
       "\n",
       "    .dataframe tbody tr th {\n",
       "        vertical-align: top;\n",
       "    }\n",
       "\n",
       "    .dataframe thead th {\n",
       "        text-align: right;\n",
       "    }\n",
       "</style>\n",
       "<table border=\"1\" class=\"dataframe\">\n",
       "  <thead>\n",
       "    <tr style=\"text-align: right;\">\n",
       "      <th></th>\n",
       "      <th>creator.title</th>\n",
       "      <th>creator.description</th>\n",
       "      <th>creator.time</th>\n",
       "      <th>creator.stats.follower</th>\n",
       "      <th>creator.stats.view</th>\n",
       "      <th>creator.stats.post</th>\n",
       "    </tr>\n",
       "    <tr>\n",
       "      <th>creator.id</th>\n",
       "      <th></th>\n",
       "      <th></th>\n",
       "      <th></th>\n",
       "      <th></th>\n",
       "      <th></th>\n",
       "      <th></th>\n",
       "    </tr>\n",
       "  </thead>\n",
       "  <tbody>\n",
       "    <tr>\n",
       "      <th>UCgFFMzzYIYYn3T6M-v8Kfsw</th>\n",
       "      <td>Double Bubble</td>\n",
       "      <td>Привет ты на Double Bubble!\\nМеня зовут Аня ;)...</td>\n",
       "      <td>2017-12-18 07:59:38+00:00</td>\n",
       "      <td>2370000.0</td>\n",
       "      <td>998774746</td>\n",
       "      <td>619</td>\n",
       "    </tr>\n",
       "    <tr>\n",
       "      <th>UC6yEA7_U_Q4aY9TAwKFLb3g</th>\n",
       "      <td>Alrima Officiel</td>\n",
       "      <td>Bienvenue sur la chaîne officielle d'Alrima</td>\n",
       "      <td>2012-10-28 19:37:08+00:00</td>\n",
       "      <td>1020000.0</td>\n",
       "      <td>249319555</td>\n",
       "      <td>51</td>\n",
       "    </tr>\n",
       "    <tr>\n",
       "      <th>UCMtcfSnNybg3uhiljDCYQrA</th>\n",
       "      <td>Mr. Benz</td>\n",
       "      <td>Hey! I am Mr.Benz &amp; I am sharing my passion re...</td>\n",
       "      <td>2017-01-16 19:02:09+00:00</td>\n",
       "      <td>105000.0</td>\n",
       "      <td>25515543</td>\n",
       "      <td>58</td>\n",
       "    </tr>\n",
       "    <tr>\n",
       "      <th>UCJpTA2LgMKJEIgCISqYnRWA</th>\n",
       "      <td>Cmedia Live</td>\n",
       "      <td>🔴 C Media Is YouTube Channels Introduced Islam...</td>\n",
       "      <td>2016-10-19 17:56:06+00:00</td>\n",
       "      <td>388000.0</td>\n",
       "      <td>41280092</td>\n",
       "      <td>1848</td>\n",
       "    </tr>\n",
       "    <tr>\n",
       "      <th>UC4_AL-HBcYBjCTyNnMw0DOw</th>\n",
       "      <td>자동차읽어주는남자</td>\n",
       "      <td>자동차 읽어주는 남자\\n- 자동차 강의문의 및 차량지원 문의\\n- 이메일 : lsh...</td>\n",
       "      <td>2012-07-15 15:39:59+00:00</td>\n",
       "      <td>66300.0</td>\n",
       "      <td>26489632</td>\n",
       "      <td>475</td>\n",
       "    </tr>\n",
       "  </tbody>\n",
       "</table>\n",
       "</div>"
      ],
      "text/plain": [
       "                            creator.title  \\\n",
       "creator.id                                  \n",
       "UCgFFMzzYIYYn3T6M-v8Kfsw    Double Bubble   \n",
       "UC6yEA7_U_Q4aY9TAwKFLb3g  Alrima Officiel   \n",
       "UCMtcfSnNybg3uhiljDCYQrA         Mr. Benz   \n",
       "UCJpTA2LgMKJEIgCISqYnRWA      Cmedia Live   \n",
       "UC4_AL-HBcYBjCTyNnMw0DOw        자동차읽어주는남자   \n",
       "\n",
       "                                                        creator.description  \\\n",
       "creator.id                                                                    \n",
       "UCgFFMzzYIYYn3T6M-v8Kfsw  Привет ты на Double Bubble!\\nМеня зовут Аня ;)...   \n",
       "UC6yEA7_U_Q4aY9TAwKFLb3g        Bienvenue sur la chaîne officielle d'Alrima   \n",
       "UCMtcfSnNybg3uhiljDCYQrA  Hey! I am Mr.Benz & I am sharing my passion re...   \n",
       "UCJpTA2LgMKJEIgCISqYnRWA  🔴 C Media Is YouTube Channels Introduced Islam...   \n",
       "UC4_AL-HBcYBjCTyNnMw0DOw  자동차 읽어주는 남자\\n- 자동차 강의문의 및 차량지원 문의\\n- 이메일 : lsh...   \n",
       "\n",
       "                                      creator.time  creator.stats.follower  \\\n",
       "creator.id                                                                   \n",
       "UCgFFMzzYIYYn3T6M-v8Kfsw 2017-12-18 07:59:38+00:00               2370000.0   \n",
       "UC6yEA7_U_Q4aY9TAwKFLb3g 2012-10-28 19:37:08+00:00               1020000.0   \n",
       "UCMtcfSnNybg3uhiljDCYQrA 2017-01-16 19:02:09+00:00                105000.0   \n",
       "UCJpTA2LgMKJEIgCISqYnRWA 2016-10-19 17:56:06+00:00                388000.0   \n",
       "UC4_AL-HBcYBjCTyNnMw0DOw 2012-07-15 15:39:59+00:00                 66300.0   \n",
       "\n",
       "                          creator.stats.view  creator.stats.post  \n",
       "creator.id                                                        \n",
       "UCgFFMzzYIYYn3T6M-v8Kfsw           998774746                 619  \n",
       "UC6yEA7_U_Q4aY9TAwKFLb3g           249319555                  51  \n",
       "UCMtcfSnNybg3uhiljDCYQrA            25515543                  58  \n",
       "UCJpTA2LgMKJEIgCISqYnRWA            41280092                1848  \n",
       "UC4_AL-HBcYBjCTyNnMw0DOw            26489632                 475  "
      ]
     },
     "metadata": {},
     "output_type": "display_data"
    },
    {
     "data": {
      "text/markdown": [
       "## Stats"
      ],
      "text/plain": [
       "<IPython.core.display.Markdown object>"
      ]
     },
     "metadata": {},
     "output_type": "display_data"
    },
    {
     "data": {
      "text/html": [
       "<div>\n",
       "<style scoped>\n",
       "    .dataframe tbody tr th:only-of-type {\n",
       "        vertical-align: middle;\n",
       "    }\n",
       "\n",
       "    .dataframe tbody tr th {\n",
       "        vertical-align: top;\n",
       "    }\n",
       "\n",
       "    .dataframe thead th {\n",
       "        text-align: right;\n",
       "    }\n",
       "</style>\n",
       "<table border=\"1\" class=\"dataframe\">\n",
       "  <thead>\n",
       "    <tr style=\"text-align: right;\">\n",
       "      <th></th>\n",
       "      <th>creator.stats.follower</th>\n",
       "      <th>creator.stats.view</th>\n",
       "      <th>creator.stats.post</th>\n",
       "    </tr>\n",
       "  </thead>\n",
       "  <tbody>\n",
       "    <tr>\n",
       "      <th>count</th>\n",
       "      <td>3.923000e+03</td>\n",
       "      <td>4.383000e+03</td>\n",
       "      <td>4383.000000</td>\n",
       "    </tr>\n",
       "    <tr>\n",
       "      <th>mean</th>\n",
       "      <td>4.885402e+06</td>\n",
       "      <td>2.555694e+09</td>\n",
       "      <td>3482.732603</td>\n",
       "    </tr>\n",
       "    <tr>\n",
       "      <th>std</th>\n",
       "      <td>1.694917e+07</td>\n",
       "      <td>1.256854e+10</td>\n",
       "      <td>16946.381008</td>\n",
       "    </tr>\n",
       "    <tr>\n",
       "      <th>min</th>\n",
       "      <td>4.100000e+01</td>\n",
       "      <td>0.000000e+00</td>\n",
       "      <td>1.000000</td>\n",
       "    </tr>\n",
       "    <tr>\n",
       "      <th>25%</th>\n",
       "      <td>8.750000e+04</td>\n",
       "      <td>1.740609e+07</td>\n",
       "      <td>66.000000</td>\n",
       "    </tr>\n",
       "    <tr>\n",
       "      <th>50%</th>\n",
       "      <td>5.870000e+05</td>\n",
       "      <td>1.478008e+08</td>\n",
       "      <td>284.000000</td>\n",
       "    </tr>\n",
       "    <tr>\n",
       "      <th>75%</th>\n",
       "      <td>2.770000e+06</td>\n",
       "      <td>9.987747e+08</td>\n",
       "      <td>1175.000000</td>\n",
       "    </tr>\n",
       "    <tr>\n",
       "      <th>max</th>\n",
       "      <td>1.750000e+08</td>\n",
       "      <td>1.462732e+11</td>\n",
       "      <td>291948.000000</td>\n",
       "    </tr>\n",
       "  </tbody>\n",
       "</table>\n",
       "</div>"
      ],
      "text/plain": [
       "       creator.stats.follower  creator.stats.view  creator.stats.post\n",
       "count            3.923000e+03        4.383000e+03         4383.000000\n",
       "mean             4.885402e+06        2.555694e+09         3482.732603\n",
       "std              1.694917e+07        1.256854e+10        16946.381008\n",
       "min              4.100000e+01        0.000000e+00            1.000000\n",
       "25%              8.750000e+04        1.740609e+07           66.000000\n",
       "50%              5.870000e+05        1.478008e+08          284.000000\n",
       "75%              2.770000e+06        9.987747e+08         1175.000000\n",
       "max              1.750000e+08        1.462732e+11       291948.000000"
      ]
     },
     "metadata": {},
     "output_type": "display_data"
    },
    {
     "data": {
      "text/markdown": [
       "---"
      ],
      "text/plain": [
       "<IPython.core.display.Markdown object>"
      ]
     },
     "metadata": {},
     "output_type": "display_data"
    }
   ],
   "source": [
    "# take a brief look at our data\n",
    "df_report(df_search_details, name = 'Search Result')\n",
    "df_report(df_channels, name = 'Search Result (Channels)')"
   ]
  },
  {
   "cell_type": "markdown",
   "metadata": {},
   "source": [
    "##### STEP 4  Data Archiving"
   ]
  },
  {
   "cell_type": "code",
   "execution_count": 13,
   "metadata": {},
   "outputs": [
    {
     "data": {
      "text/markdown": [
       "---"
      ],
      "text/plain": [
       "<IPython.core.display.Markdown object>"
      ]
     },
     "metadata": {},
     "output_type": "display_data"
    },
    {
     "data": {
      "text/markdown": [
       "# Results - Search Result (Verification)"
      ],
      "text/plain": [
       "<IPython.core.display.Markdown object>"
      ]
     },
     "metadata": {},
     "output_type": "display_data"
    },
    {
     "data": {
      "text/markdown": [
       "## Data Preview"
      ],
      "text/plain": [
       "<IPython.core.display.Markdown object>"
      ]
     },
     "metadata": {},
     "output_type": "display_data"
    },
    {
     "data": {
      "text/html": [
       "<div>\n",
       "<style scoped>\n",
       "    .dataframe tbody tr th:only-of-type {\n",
       "        vertical-align: middle;\n",
       "    }\n",
       "\n",
       "    .dataframe tbody tr th {\n",
       "        vertical-align: top;\n",
       "    }\n",
       "\n",
       "    .dataframe thead th {\n",
       "        text-align: right;\n",
       "    }\n",
       "</style>\n",
       "<table border=\"1\" class=\"dataframe\">\n",
       "  <thead>\n",
       "    <tr style=\"text-align: right;\">\n",
       "      <th></th>\n",
       "      <th>title</th>\n",
       "      <th>description</th>\n",
       "      <th>time</th>\n",
       "      <th>length</th>\n",
       "      <th>tags</th>\n",
       "      <th>category</th>\n",
       "      <th>creator.id</th>\n",
       "      <th>stats.like</th>\n",
       "      <th>stats.dislike</th>\n",
       "      <th>stats.comment</th>\n",
       "      <th>stats.view</th>\n",
       "      <th>video.quality</th>\n",
       "      <th>ads</th>\n",
       "    </tr>\n",
       "    <tr>\n",
       "      <th>id</th>\n",
       "      <th></th>\n",
       "      <th></th>\n",
       "      <th></th>\n",
       "      <th></th>\n",
       "      <th></th>\n",
       "      <th></th>\n",
       "      <th></th>\n",
       "      <th></th>\n",
       "      <th></th>\n",
       "      <th></th>\n",
       "      <th></th>\n",
       "      <th></th>\n",
       "      <th></th>\n",
       "    </tr>\n",
       "  </thead>\n",
       "  <tbody>\n",
       "    <tr>\n",
       "      <th>_wjfogsjeyE</th>\n",
       "      <td>Sao Việt b,ật khóc hay tin d,ữ \"kh.ủng kh.iê'p...</td>\n",
       "      <td>Sao Việt b,ật khóc hay tin d,ữ \"kh.ủng kh.iê'p...</td>\n",
       "      <td>2021-03-08 08:55:11+00:00</td>\n",
       "      <td>0 days 00:02:16</td>\n",
       "      <td>[sao việt, sao viet, nghe si, nghệ sĩ, showbiz...</td>\n",
       "      <td>People &amp; Blogs</td>\n",
       "      <td>UCjvdDj9VfzQfpWhkwkjbT4g</td>\n",
       "      <td>139.0</td>\n",
       "      <td>18.0</td>\n",
       "      <td>25.0</td>\n",
       "      <td>34964.0</td>\n",
       "      <td>HD</td>\n",
       "      <td>[{'kind': 'AD_PLACEMENT_KIND_START', 'offset':...</td>\n",
       "    </tr>\n",
       "    <tr>\n",
       "      <th>_wjfogsjeyE</th>\n",
       "      <td>Sao Việt b,ật khóc hay tin d,ữ \"kh.ủng kh.iê'p...</td>\n",
       "      <td>Sao Việt b,ật khóc hay tin d,ữ \"kh.ủng kh.iê'p...</td>\n",
       "      <td>2021-03-08 08:55:11+00:00</td>\n",
       "      <td>0 days 00:02:16</td>\n",
       "      <td>[sao việt, sao viet, nghe si, nghệ sĩ, showbiz...</td>\n",
       "      <td>People &amp; Blogs</td>\n",
       "      <td>UCjvdDj9VfzQfpWhkwkjbT4g</td>\n",
       "      <td>139.0</td>\n",
       "      <td>18.0</td>\n",
       "      <td>25.0</td>\n",
       "      <td>34960.0</td>\n",
       "      <td>HD</td>\n",
       "      <td>[{'kind': 'AD_PLACEMENT_KIND_START', 'offset':...</td>\n",
       "    </tr>\n",
       "    <tr>\n",
       "      <th>_wjfogsjeyE</th>\n",
       "      <td>Sao Việt b,ật khóc hay tin d,ữ \"kh.ủng kh.iê'p...</td>\n",
       "      <td>Sao Việt b,ật khóc hay tin d,ữ \"kh.ủng kh.iê'p...</td>\n",
       "      <td>2021-03-08 08:55:11+00:00</td>\n",
       "      <td>0 days 00:02:16</td>\n",
       "      <td>[sao việt, sao viet, nghe si, nghệ sĩ, showbiz...</td>\n",
       "      <td>People &amp; Blogs</td>\n",
       "      <td>UCjvdDj9VfzQfpWhkwkjbT4g</td>\n",
       "      <td>139.0</td>\n",
       "      <td>18.0</td>\n",
       "      <td>25.0</td>\n",
       "      <td>34960.0</td>\n",
       "      <td>HD</td>\n",
       "      <td>[{'kind': 'AD_PLACEMENT_KIND_START', 'offset':...</td>\n",
       "    </tr>\n",
       "    <tr>\n",
       "      <th>_wjfogsjeyE</th>\n",
       "      <td>Sao Việt b,ật khóc hay tin d,ữ \"kh.ủng kh.iê'p...</td>\n",
       "      <td>Sao Việt b,ật khóc hay tin d,ữ \"kh.ủng kh.iê'p...</td>\n",
       "      <td>2021-03-08 08:55:11+00:00</td>\n",
       "      <td>0 days 00:02:16</td>\n",
       "      <td>[sao việt, sao viet, nghe si, nghệ sĩ, showbiz...</td>\n",
       "      <td>People &amp; Blogs</td>\n",
       "      <td>UCjvdDj9VfzQfpWhkwkjbT4g</td>\n",
       "      <td>139.0</td>\n",
       "      <td>18.0</td>\n",
       "      <td>25.0</td>\n",
       "      <td>34964.0</td>\n",
       "      <td>HD</td>\n",
       "      <td>[{'kind': 'AD_PLACEMENT_KIND_START', 'offset':...</td>\n",
       "    </tr>\n",
       "    <tr>\n",
       "      <th>_wjfogsjeyE</th>\n",
       "      <td>Sao Việt b,ật khóc hay tin d,ữ \"kh.ủng kh.iê'p...</td>\n",
       "      <td>Sao Việt b,ật khóc hay tin d,ữ \"kh.ủng kh.iê'p...</td>\n",
       "      <td>2021-03-08 08:55:11+00:00</td>\n",
       "      <td>0 days 00:02:16</td>\n",
       "      <td>[sao việt, sao viet, nghe si, nghệ sĩ, showbiz...</td>\n",
       "      <td>People &amp; Blogs</td>\n",
       "      <td>UCjvdDj9VfzQfpWhkwkjbT4g</td>\n",
       "      <td>139.0</td>\n",
       "      <td>18.0</td>\n",
       "      <td>25.0</td>\n",
       "      <td>34960.0</td>\n",
       "      <td>HD</td>\n",
       "      <td>[{'kind': 'AD_PLACEMENT_KIND_START', 'offset':...</td>\n",
       "    </tr>\n",
       "  </tbody>\n",
       "</table>\n",
       "</div>"
      ],
      "text/plain": [
       "                                                         title  \\\n",
       "id                                                               \n",
       "_wjfogsjeyE  Sao Việt b,ật khóc hay tin d,ữ \"kh.ủng kh.iê'p...   \n",
       "_wjfogsjeyE  Sao Việt b,ật khóc hay tin d,ữ \"kh.ủng kh.iê'p...   \n",
       "_wjfogsjeyE  Sao Việt b,ật khóc hay tin d,ữ \"kh.ủng kh.iê'p...   \n",
       "_wjfogsjeyE  Sao Việt b,ật khóc hay tin d,ữ \"kh.ủng kh.iê'p...   \n",
       "_wjfogsjeyE  Sao Việt b,ật khóc hay tin d,ữ \"kh.ủng kh.iê'p...   \n",
       "\n",
       "                                                   description  \\\n",
       "id                                                               \n",
       "_wjfogsjeyE  Sao Việt b,ật khóc hay tin d,ữ \"kh.ủng kh.iê'p...   \n",
       "_wjfogsjeyE  Sao Việt b,ật khóc hay tin d,ữ \"kh.ủng kh.iê'p...   \n",
       "_wjfogsjeyE  Sao Việt b,ật khóc hay tin d,ữ \"kh.ủng kh.iê'p...   \n",
       "_wjfogsjeyE  Sao Việt b,ật khóc hay tin d,ữ \"kh.ủng kh.iê'p...   \n",
       "_wjfogsjeyE  Sao Việt b,ật khóc hay tin d,ữ \"kh.ủng kh.iê'p...   \n",
       "\n",
       "                                 time          length  \\\n",
       "id                                                      \n",
       "_wjfogsjeyE 2021-03-08 08:55:11+00:00 0 days 00:02:16   \n",
       "_wjfogsjeyE 2021-03-08 08:55:11+00:00 0 days 00:02:16   \n",
       "_wjfogsjeyE 2021-03-08 08:55:11+00:00 0 days 00:02:16   \n",
       "_wjfogsjeyE 2021-03-08 08:55:11+00:00 0 days 00:02:16   \n",
       "_wjfogsjeyE 2021-03-08 08:55:11+00:00 0 days 00:02:16   \n",
       "\n",
       "                                                          tags  \\\n",
       "id                                                               \n",
       "_wjfogsjeyE  [sao việt, sao viet, nghe si, nghệ sĩ, showbiz...   \n",
       "_wjfogsjeyE  [sao việt, sao viet, nghe si, nghệ sĩ, showbiz...   \n",
       "_wjfogsjeyE  [sao việt, sao viet, nghe si, nghệ sĩ, showbiz...   \n",
       "_wjfogsjeyE  [sao việt, sao viet, nghe si, nghệ sĩ, showbiz...   \n",
       "_wjfogsjeyE  [sao việt, sao viet, nghe si, nghệ sĩ, showbiz...   \n",
       "\n",
       "                   category                creator.id  stats.like  \\\n",
       "id                                                                  \n",
       "_wjfogsjeyE  People & Blogs  UCjvdDj9VfzQfpWhkwkjbT4g       139.0   \n",
       "_wjfogsjeyE  People & Blogs  UCjvdDj9VfzQfpWhkwkjbT4g       139.0   \n",
       "_wjfogsjeyE  People & Blogs  UCjvdDj9VfzQfpWhkwkjbT4g       139.0   \n",
       "_wjfogsjeyE  People & Blogs  UCjvdDj9VfzQfpWhkwkjbT4g       139.0   \n",
       "_wjfogsjeyE  People & Blogs  UCjvdDj9VfzQfpWhkwkjbT4g       139.0   \n",
       "\n",
       "             stats.dislike  stats.comment  stats.view video.quality  \\\n",
       "id                                                                    \n",
       "_wjfogsjeyE           18.0           25.0     34964.0            HD   \n",
       "_wjfogsjeyE           18.0           25.0     34960.0            HD   \n",
       "_wjfogsjeyE           18.0           25.0     34960.0            HD   \n",
       "_wjfogsjeyE           18.0           25.0     34964.0            HD   \n",
       "_wjfogsjeyE           18.0           25.0     34960.0            HD   \n",
       "\n",
       "                                                           ads  \n",
       "id                                                              \n",
       "_wjfogsjeyE  [{'kind': 'AD_PLACEMENT_KIND_START', 'offset':...  \n",
       "_wjfogsjeyE  [{'kind': 'AD_PLACEMENT_KIND_START', 'offset':...  \n",
       "_wjfogsjeyE  [{'kind': 'AD_PLACEMENT_KIND_START', 'offset':...  \n",
       "_wjfogsjeyE  [{'kind': 'AD_PLACEMENT_KIND_START', 'offset':...  \n",
       "_wjfogsjeyE  [{'kind': 'AD_PLACEMENT_KIND_START', 'offset':...  "
      ]
     },
     "metadata": {},
     "output_type": "display_data"
    },
    {
     "data": {
      "text/markdown": [
       "## Stats"
      ],
      "text/plain": [
       "<IPython.core.display.Markdown object>"
      ]
     },
     "metadata": {},
     "output_type": "display_data"
    },
    {
     "data": {
      "text/html": [
       "<div>\n",
       "<style scoped>\n",
       "    .dataframe tbody tr th:only-of-type {\n",
       "        vertical-align: middle;\n",
       "    }\n",
       "\n",
       "    .dataframe tbody tr th {\n",
       "        vertical-align: top;\n",
       "    }\n",
       "\n",
       "    .dataframe thead th {\n",
       "        text-align: right;\n",
       "    }\n",
       "</style>\n",
       "<table border=\"1\" class=\"dataframe\">\n",
       "  <thead>\n",
       "    <tr style=\"text-align: right;\">\n",
       "      <th></th>\n",
       "      <th>length</th>\n",
       "      <th>stats.like</th>\n",
       "      <th>stats.dislike</th>\n",
       "      <th>stats.comment</th>\n",
       "      <th>stats.view</th>\n",
       "    </tr>\n",
       "  </thead>\n",
       "  <tbody>\n",
       "    <tr>\n",
       "      <th>count</th>\n",
       "      <td>463</td>\n",
       "      <td>454.000000</td>\n",
       "      <td>454.000000</td>\n",
       "      <td>346.000000</td>\n",
       "      <td>4.630000e+02</td>\n",
       "    </tr>\n",
       "    <tr>\n",
       "      <th>mean</th>\n",
       "      <td>0 days 00:14:10.218142548</td>\n",
       "      <td>60824.940529</td>\n",
       "      <td>10165.590308</td>\n",
       "      <td>2618.953757</td>\n",
       "      <td>9.642653e+06</td>\n",
       "    </tr>\n",
       "    <tr>\n",
       "      <th>std</th>\n",
       "      <td>0 days 00:29:21.138966966</td>\n",
       "      <td>121375.506891</td>\n",
       "      <td>27255.373347</td>\n",
       "      <td>6200.009395</td>\n",
       "      <td>2.204710e+07</td>\n",
       "    </tr>\n",
       "    <tr>\n",
       "      <th>min</th>\n",
       "      <td>0 days 00:00:57</td>\n",
       "      <td>5.000000</td>\n",
       "      <td>1.000000</td>\n",
       "      <td>0.000000</td>\n",
       "      <td>9.520000e+02</td>\n",
       "    </tr>\n",
       "    <tr>\n",
       "      <th>25%</th>\n",
       "      <td>0 days 00:03:00</td>\n",
       "      <td>972.000000</td>\n",
       "      <td>41.000000</td>\n",
       "      <td>86.000000</td>\n",
       "      <td>3.708700e+04</td>\n",
       "    </tr>\n",
       "    <tr>\n",
       "      <th>50%</th>\n",
       "      <td>0 days 00:04:21</td>\n",
       "      <td>14212.000000</td>\n",
       "      <td>493.000000</td>\n",
       "      <td>343.000000</td>\n",
       "      <td>6.430270e+05</td>\n",
       "    </tr>\n",
       "    <tr>\n",
       "      <th>75%</th>\n",
       "      <td>0 days 00:14:00</td>\n",
       "      <td>49131.000000</td>\n",
       "      <td>9214.000000</td>\n",
       "      <td>1399.000000</td>\n",
       "      <td>1.036611e+07</td>\n",
       "    </tr>\n",
       "    <tr>\n",
       "      <th>max</th>\n",
       "      <td>0 days 02:49:31</td>\n",
       "      <td>641441.000000</td>\n",
       "      <td>137709.000000</td>\n",
       "      <td>30270.000000</td>\n",
       "      <td>9.400107e+07</td>\n",
       "    </tr>\n",
       "  </tbody>\n",
       "</table>\n",
       "</div>"
      ],
      "text/plain": [
       "                          length     stats.like  stats.dislike  stats.comment  \\\n",
       "count                        463     454.000000     454.000000     346.000000   \n",
       "mean   0 days 00:14:10.218142548   60824.940529   10165.590308    2618.953757   \n",
       "std    0 days 00:29:21.138966966  121375.506891   27255.373347    6200.009395   \n",
       "min              0 days 00:00:57       5.000000       1.000000       0.000000   \n",
       "25%              0 days 00:03:00     972.000000      41.000000      86.000000   \n",
       "50%              0 days 00:04:21   14212.000000     493.000000     343.000000   \n",
       "75%              0 days 00:14:00   49131.000000    9214.000000    1399.000000   \n",
       "max              0 days 02:49:31  641441.000000  137709.000000   30270.000000   \n",
       "\n",
       "         stats.view  \n",
       "count  4.630000e+02  \n",
       "mean   9.642653e+06  \n",
       "std    2.204710e+07  \n",
       "min    9.520000e+02  \n",
       "25%    3.708700e+04  \n",
       "50%    6.430270e+05  \n",
       "75%    1.036611e+07  \n",
       "max    9.400107e+07  "
      ]
     },
     "metadata": {},
     "output_type": "display_data"
    },
    {
     "data": {
      "text/markdown": [
       "---"
      ],
      "text/plain": [
       "<IPython.core.display.Markdown object>"
      ]
     },
     "metadata": {},
     "output_type": "display_data"
    },
    {
     "data": {
      "text/markdown": [
       "---"
      ],
      "text/plain": [
       "<IPython.core.display.Markdown object>"
      ]
     },
     "metadata": {},
     "output_type": "display_data"
    },
    {
     "data": {
      "text/markdown": [
       "# Results - Search Result (Channels) (Verification)"
      ],
      "text/plain": [
       "<IPython.core.display.Markdown object>"
      ]
     },
     "metadata": {},
     "output_type": "display_data"
    },
    {
     "data": {
      "text/markdown": [
       "## Data Preview"
      ],
      "text/plain": [
       "<IPython.core.display.Markdown object>"
      ]
     },
     "metadata": {},
     "output_type": "display_data"
    },
    {
     "data": {
      "text/html": [
       "<div>\n",
       "<style scoped>\n",
       "    .dataframe tbody tr th:only-of-type {\n",
       "        vertical-align: middle;\n",
       "    }\n",
       "\n",
       "    .dataframe tbody tr th {\n",
       "        vertical-align: top;\n",
       "    }\n",
       "\n",
       "    .dataframe thead th {\n",
       "        text-align: right;\n",
       "    }\n",
       "</style>\n",
       "<table border=\"1\" class=\"dataframe\">\n",
       "  <thead>\n",
       "    <tr style=\"text-align: right;\">\n",
       "      <th></th>\n",
       "      <th>creator.title</th>\n",
       "      <th>creator.description</th>\n",
       "      <th>creator.time</th>\n",
       "      <th>creator.stats.follower</th>\n",
       "      <th>creator.stats.view</th>\n",
       "      <th>creator.stats.post</th>\n",
       "    </tr>\n",
       "    <tr>\n",
       "      <th>creator.id</th>\n",
       "      <th></th>\n",
       "      <th></th>\n",
       "      <th></th>\n",
       "      <th></th>\n",
       "      <th></th>\n",
       "      <th></th>\n",
       "    </tr>\n",
       "  </thead>\n",
       "  <tbody>\n",
       "    <tr>\n",
       "      <th>UCgFFMzzYIYYn3T6M-v8Kfsw</th>\n",
       "      <td>Double Bubble</td>\n",
       "      <td>Привет ты на Double Bubble!\\nМеня зовут Аня ;)...</td>\n",
       "      <td>2017-12-18 07:59:38+00:00</td>\n",
       "      <td>2370000.0</td>\n",
       "      <td>998774746</td>\n",
       "      <td>619</td>\n",
       "    </tr>\n",
       "    <tr>\n",
       "      <th>UC6yEA7_U_Q4aY9TAwKFLb3g</th>\n",
       "      <td>Alrima Officiel</td>\n",
       "      <td>Bienvenue sur la chaîne officielle d'Alrima</td>\n",
       "      <td>2012-10-28 19:37:08+00:00</td>\n",
       "      <td>1020000.0</td>\n",
       "      <td>249319555</td>\n",
       "      <td>51</td>\n",
       "    </tr>\n",
       "    <tr>\n",
       "      <th>UCMtcfSnNybg3uhiljDCYQrA</th>\n",
       "      <td>Mr. Benz</td>\n",
       "      <td>Hey! I am Mr.Benz &amp; I am sharing my passion re...</td>\n",
       "      <td>2017-01-16 19:02:09+00:00</td>\n",
       "      <td>105000.0</td>\n",
       "      <td>25515543</td>\n",
       "      <td>58</td>\n",
       "    </tr>\n",
       "    <tr>\n",
       "      <th>UCJpTA2LgMKJEIgCISqYnRWA</th>\n",
       "      <td>Cmedia Live</td>\n",
       "      <td>🔴 C Media Is YouTube Channels Introduced Islam...</td>\n",
       "      <td>2016-10-19 17:56:06+00:00</td>\n",
       "      <td>388000.0</td>\n",
       "      <td>41280092</td>\n",
       "      <td>1848</td>\n",
       "    </tr>\n",
       "    <tr>\n",
       "      <th>UC4_AL-HBcYBjCTyNnMw0DOw</th>\n",
       "      <td>자동차읽어주는남자</td>\n",
       "      <td>자동차 읽어주는 남자\\n- 자동차 강의문의 및 차량지원 문의\\n- 이메일 : lsh...</td>\n",
       "      <td>2012-07-15 15:39:59+00:00</td>\n",
       "      <td>66300.0</td>\n",
       "      <td>26489632</td>\n",
       "      <td>475</td>\n",
       "    </tr>\n",
       "  </tbody>\n",
       "</table>\n",
       "</div>"
      ],
      "text/plain": [
       "                            creator.title  \\\n",
       "creator.id                                  \n",
       "UCgFFMzzYIYYn3T6M-v8Kfsw    Double Bubble   \n",
       "UC6yEA7_U_Q4aY9TAwKFLb3g  Alrima Officiel   \n",
       "UCMtcfSnNybg3uhiljDCYQrA         Mr. Benz   \n",
       "UCJpTA2LgMKJEIgCISqYnRWA      Cmedia Live   \n",
       "UC4_AL-HBcYBjCTyNnMw0DOw        자동차읽어주는남자   \n",
       "\n",
       "                                                        creator.description  \\\n",
       "creator.id                                                                    \n",
       "UCgFFMzzYIYYn3T6M-v8Kfsw  Привет ты на Double Bubble!\\nМеня зовут Аня ;)...   \n",
       "UC6yEA7_U_Q4aY9TAwKFLb3g        Bienvenue sur la chaîne officielle d'Alrima   \n",
       "UCMtcfSnNybg3uhiljDCYQrA  Hey! I am Mr.Benz & I am sharing my passion re...   \n",
       "UCJpTA2LgMKJEIgCISqYnRWA  🔴 C Media Is YouTube Channels Introduced Islam...   \n",
       "UC4_AL-HBcYBjCTyNnMw0DOw  자동차 읽어주는 남자\\n- 자동차 강의문의 및 차량지원 문의\\n- 이메일 : lsh...   \n",
       "\n",
       "                                      creator.time  creator.stats.follower  \\\n",
       "creator.id                                                                   \n",
       "UCgFFMzzYIYYn3T6M-v8Kfsw 2017-12-18 07:59:38+00:00               2370000.0   \n",
       "UC6yEA7_U_Q4aY9TAwKFLb3g 2012-10-28 19:37:08+00:00               1020000.0   \n",
       "UCMtcfSnNybg3uhiljDCYQrA 2017-01-16 19:02:09+00:00                105000.0   \n",
       "UCJpTA2LgMKJEIgCISqYnRWA 2016-10-19 17:56:06+00:00                388000.0   \n",
       "UC4_AL-HBcYBjCTyNnMw0DOw 2012-07-15 15:39:59+00:00                 66300.0   \n",
       "\n",
       "                          creator.stats.view  creator.stats.post  \n",
       "creator.id                                                        \n",
       "UCgFFMzzYIYYn3T6M-v8Kfsw           998774746                 619  \n",
       "UC6yEA7_U_Q4aY9TAwKFLb3g           249319555                  51  \n",
       "UCMtcfSnNybg3uhiljDCYQrA            25515543                  58  \n",
       "UCJpTA2LgMKJEIgCISqYnRWA            41280092                1848  \n",
       "UC4_AL-HBcYBjCTyNnMw0DOw            26489632                 475  "
      ]
     },
     "metadata": {},
     "output_type": "display_data"
    },
    {
     "data": {
      "text/markdown": [
       "## Stats"
      ],
      "text/plain": [
       "<IPython.core.display.Markdown object>"
      ]
     },
     "metadata": {},
     "output_type": "display_data"
    },
    {
     "data": {
      "text/html": [
       "<div>\n",
       "<style scoped>\n",
       "    .dataframe tbody tr th:only-of-type {\n",
       "        vertical-align: middle;\n",
       "    }\n",
       "\n",
       "    .dataframe tbody tr th {\n",
       "        vertical-align: top;\n",
       "    }\n",
       "\n",
       "    .dataframe thead th {\n",
       "        text-align: right;\n",
       "    }\n",
       "</style>\n",
       "<table border=\"1\" class=\"dataframe\">\n",
       "  <thead>\n",
       "    <tr style=\"text-align: right;\">\n",
       "      <th></th>\n",
       "      <th>creator.stats.follower</th>\n",
       "      <th>creator.stats.view</th>\n",
       "      <th>creator.stats.post</th>\n",
       "    </tr>\n",
       "  </thead>\n",
       "  <tbody>\n",
       "    <tr>\n",
       "      <th>count</th>\n",
       "      <td>3.923000e+03</td>\n",
       "      <td>4.383000e+03</td>\n",
       "      <td>4383.000000</td>\n",
       "    </tr>\n",
       "    <tr>\n",
       "      <th>mean</th>\n",
       "      <td>4.885402e+06</td>\n",
       "      <td>2.555694e+09</td>\n",
       "      <td>3482.732603</td>\n",
       "    </tr>\n",
       "    <tr>\n",
       "      <th>std</th>\n",
       "      <td>1.694917e+07</td>\n",
       "      <td>1.256854e+10</td>\n",
       "      <td>16946.381008</td>\n",
       "    </tr>\n",
       "    <tr>\n",
       "      <th>min</th>\n",
       "      <td>4.100000e+01</td>\n",
       "      <td>0.000000e+00</td>\n",
       "      <td>1.000000</td>\n",
       "    </tr>\n",
       "    <tr>\n",
       "      <th>25%</th>\n",
       "      <td>8.750000e+04</td>\n",
       "      <td>1.740609e+07</td>\n",
       "      <td>66.000000</td>\n",
       "    </tr>\n",
       "    <tr>\n",
       "      <th>50%</th>\n",
       "      <td>5.870000e+05</td>\n",
       "      <td>1.478008e+08</td>\n",
       "      <td>284.000000</td>\n",
       "    </tr>\n",
       "    <tr>\n",
       "      <th>75%</th>\n",
       "      <td>2.770000e+06</td>\n",
       "      <td>9.987747e+08</td>\n",
       "      <td>1175.000000</td>\n",
       "    </tr>\n",
       "    <tr>\n",
       "      <th>max</th>\n",
       "      <td>1.750000e+08</td>\n",
       "      <td>1.462732e+11</td>\n",
       "      <td>291948.000000</td>\n",
       "    </tr>\n",
       "  </tbody>\n",
       "</table>\n",
       "</div>"
      ],
      "text/plain": [
       "       creator.stats.follower  creator.stats.view  creator.stats.post\n",
       "count            3.923000e+03        4.383000e+03         4383.000000\n",
       "mean             4.885402e+06        2.555694e+09         3482.732603\n",
       "std              1.694917e+07        1.256854e+10        16946.381008\n",
       "min              4.100000e+01        0.000000e+00            1.000000\n",
       "25%              8.750000e+04        1.740609e+07           66.000000\n",
       "50%              5.870000e+05        1.478008e+08          284.000000\n",
       "75%              2.770000e+06        9.987747e+08         1175.000000\n",
       "max              1.750000e+08        1.462732e+11       291948.000000"
      ]
     },
     "metadata": {},
     "output_type": "display_data"
    },
    {
     "data": {
      "text/markdown": [
       "---"
      ],
      "text/plain": [
       "<IPython.core.display.Markdown object>"
      ]
     },
     "metadata": {},
     "output_type": "display_data"
    }
   ],
   "source": [
    "pickle_proto = 3\n",
    "\n",
    "dataset = eda_utils.dataset(f'dsamples/youtube_search_{dataset_id}.dataset')\n",
    "dataset.update('youtube_search.pkl', df_search, proto = pickle_proto)\n",
    "dataset.update('youtube_search_info.pkl', df_ads, proto = pickle_proto)\n",
    "dataset.update('youtube_search_ads.pkl', df_ads, proto = pickle_proto)\n",
    "dataset.update('youtube_search_channels.pkl', df_channels, proto = pickle_proto)\n",
    "dataset.update('youtube_search_details.pkl', df_search_details, proto = pickle_proto)\n",
    "\n",
    "# verify that we saved the correct data\n",
    "df_report(dataset.load('youtube_search_details.pkl'), name = 'Search Result (Verification)')\n",
    "df_report(dataset.load('youtube_search_channels.pkl'), name = 'Search Result (Channels) (Verification)')"
   ]
  }
 ],
 "metadata": {
  "kernelspec": {
   "display_name": "Python 3",
   "language": "python",
   "name": "python3"
  },
  "language_info": {
   "codemirror_mode": {
    "name": "ipython",
    "version": 3
   },
   "file_extension": ".py",
   "mimetype": "text/x-python",
   "name": "python",
   "nbconvert_exporter": "python",
   "pygments_lexer": "ipython3",
   "version": "3.7.6"
  }
 },
 "nbformat": 4,
 "nbformat_minor": 2
}
